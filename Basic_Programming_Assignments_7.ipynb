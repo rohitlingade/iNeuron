{
 "cells": [
  {
   "cell_type": "code",
   "execution_count": 2,
   "id": "61cba0f7",
   "metadata": {},
   "outputs": [
    {
     "data": {
      "text/plain": [
       "742"
      ]
     },
     "execution_count": 2,
     "metadata": {},
     "output_type": "execute_result"
    }
   ],
   "source": [
    "# 1.\tWrite a Python Program to find sum of array?\n",
    "list1=[45,65,34,564,34]\n",
    "sum(list1)"
   ]
  },
  {
   "cell_type": "code",
   "execution_count": 3,
   "id": "8afd8d9c",
   "metadata": {},
   "outputs": [
    {
     "data": {
      "text/plain": [
       "564"
      ]
     },
     "execution_count": 3,
     "metadata": {},
     "output_type": "execute_result"
    }
   ],
   "source": [
    "# 2.\tWrite a Python Program to find largest element in an array?\n",
    "list1=[45,65,34,564,34]\n",
    "max(list1)"
   ]
  },
  {
   "cell_type": "code",
   "execution_count": 4,
   "id": "ae06db86",
   "metadata": {},
   "outputs": [
    {
     "name": "stdout",
     "output_type": "stream",
     "text": [
      "[34, 564, 34, 45, 65]\n"
     ]
    }
   ],
   "source": [
    "# 3.\tWrite a Python Program for array rotation?\n",
    "n = 3\n",
    "list1 = [45,65,34,564,34]\n",
    "list1 = (list1[len(list1) - n:len(list1)]\n",
    "                 + list1[0:len(list1) - n])\n",
    "print(list1)"
   ]
  },
  {
   "cell_type": "code",
   "execution_count": 12,
   "id": "e5d78d96",
   "metadata": {},
   "outputs": [
    {
     "name": "stdout",
     "output_type": "stream",
     "text": [
      "Enter number less than 5: 3\n"
     ]
    },
    {
     "data": {
      "text/plain": [
       "[564, 34, 45, 65, 34]"
      ]
     },
     "execution_count": 12,
     "metadata": {},
     "output_type": "execute_result"
    }
   ],
   "source": [
    "# 4.\tWrite a Python Program to Split the array and add the first part to the end?\n",
    "list1=[45,65,34,564,34]\n",
    "num=int(input(\"Enter number less than {}: \".format(len(list1))))\n",
    "def splitList(list1,num):\n",
    "    lst1,lst2=list1[:num],list1[num:]\n",
    "    return lst1,lst2\n",
    "lst1,lst2=splitList(list1,num)\n",
    "lst2+lst1"
   ]
  },
  {
   "cell_type": "code",
   "execution_count": 27,
   "id": "8869378b",
   "metadata": {},
   "outputs": [
    {
     "name": "stdout",
     "output_type": "stream",
     "text": [
      "Enter number of elements : 5\n",
      "\n",
      "Enter the numbers : 34 23 14 43 342\n"
     ]
    },
    {
     "data": {
      "text/plain": [
       "False"
      ]
     },
     "execution_count": 27,
     "metadata": {},
     "output_type": "execute_result"
    }
   ],
   "source": [
    "# 5.\tWrite a Python Program to check if given array is Monotonic?\n",
    "n = int(input(\"Enter number of elements : \"))\n",
    "a = list(map(int,input(\"\\nEnter the numbers : \").strip().split()))[:n]\n",
    "def isMonotonic(lst):\n",
    "    return (all(lst[i] <= lst[i + 1] for i in range(len(lst) - 1)) or\n",
    "            all(lst[i] >= lst[i + 1] for i in range(len(lst) - 1)))\n",
    "isMonotonic(a)"
   ]
  }
 ],
 "metadata": {
  "kernelspec": {
   "display_name": "Python 3",
   "language": "python",
   "name": "python3"
  },
  "language_info": {
   "codemirror_mode": {
    "name": "ipython",
    "version": 3
   },
   "file_extension": ".py",
   "mimetype": "text/x-python",
   "name": "python",
   "nbconvert_exporter": "python",
   "pygments_lexer": "ipython3",
   "version": "3.8.8"
  }
 },
 "nbformat": 4,
 "nbformat_minor": 5
}
