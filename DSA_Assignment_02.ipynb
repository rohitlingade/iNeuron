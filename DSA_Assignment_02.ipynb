{
 "cells": [
  {
   "cell_type": "markdown",
   "id": "dcf978fb",
   "metadata": {},
   "source": [
    "Q1. Use examples to explain the sorting algorithms.\n",
    "\n",
    "ANS:\n",
    "\n",
    "Sorting is the process of placing elements from a collection in some kind of order. For example, a list of words could be sorted alphabetically or by length. A list of cities could be sorted by population, by area, or by zip code."
   ]
  },
  {
   "cell_type": "markdown",
   "id": "b8834c6e",
   "metadata": {},
   "source": [
    "Q2. What Are the Benefits of Stacks?\n",
    "\n",
    "ANS:\n",
    "\n",
    "Advantages of using Stack:\n",
    "When a function is called the local variables are stored in a stack, and it is automatically destroyed once returned. A stack is used when a variable is not used outside that function. It allows you to control how memory is allocated and deallocated. Stack automatically cleans up the object."
   ]
  },
  {
   "cell_type": "markdown",
   "id": "bf19e05f",
   "metadata": {},
   "source": [
    "Q3. What is the difference between a stack and a queue?\n",
    "\n",
    "ANS:\n",
    "\n",
    "A stack is an ordered list of elements where all insertions and deletions are made at the same end, whereas a queue is exactly the opposite of a stack which is open at both the ends meaning one end is used to insert data while the other to remove data. The main difference between the two is their working mechanism."
   ]
  },
  {
   "cell_type": "markdown",
   "id": "c058c51e",
   "metadata": {},
   "source": [
    "Q4. What are the different forms of queues?\n",
    "\n",
    "ANS:\n",
    "\n",
    "There are four different types of queues:\n",
    "1. Simple Queue.\n",
    "2. Circular Queue.\n",
    "3. Priority Queue.\n",
    "4. Double Ended Queue."
   ]
  },
  {
   "cell_type": "markdown",
   "id": "df667492",
   "metadata": {},
   "source": [
    "Q5. Why should I use Stack or Queue data structures instead of Arrays or Lists, and when should I use them?\n",
    "\n",
    "ANS:\n",
    "\n",
    "Use a queue when you want to get things out in the order that you put them in. Use a stack when you want to get things out in the reverse order than you put them in. Use a list when you want to get anything out, regardless of when you put them in (and when you don't want them to automatically be removed)."
   ]
  },
  {
   "cell_type": "markdown",
   "id": "61fa564a",
   "metadata": {},
   "source": [
    "Q6. What is the significance of Stack being a recursive data structure?\n",
    "\n",
    "ANS:\n",
    "\n",
    "Many programming languages implement recursion by means of stacks. Generally, whenever a function (caller) calls another function (callee) or itself as callee, the caller function transfers execution control to the callee. ... For this purpose, an activation record (or stack frame) is created for the caller function."
   ]
  }
 ],
 "metadata": {
  "kernelspec": {
   "display_name": "Python 3",
   "language": "python",
   "name": "python3"
  },
  "language_info": {
   "codemirror_mode": {
    "name": "ipython",
    "version": 3
   },
   "file_extension": ".py",
   "mimetype": "text/x-python",
   "name": "python",
   "nbconvert_exporter": "python",
   "pygments_lexer": "ipython3",
   "version": "3.8.8"
  }
 },
 "nbformat": 4,
 "nbformat_minor": 5
}
