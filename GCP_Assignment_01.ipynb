{
 "cells": [
  {
   "cell_type": "markdown",
   "id": "42b37be4",
   "metadata": {},
   "source": [
    "Q1. What is the GCP project quota? If necessary, how GCP quota can be increased?\n",
    "\n",
    "ANS:\n",
    "\n",
    "Project quotas protect Google Cloud users from unforeseen spikes in usage. However, as your usage of Google Cloud Platform increases, you can request an increase in your project quota. To request an increase to your quota, contact the Support team.\n",
    "If you need quota for more VM instances, request more CPUs because having more CPUs increases VM instance quota. The quota applies to both running and non-running VMs, and to normal and preemptible instances. Choose Limit Name: VM instances. To see a list of your VM instance quotas by region, click All Quotas."
   ]
  },
  {
   "cell_type": "markdown",
   "id": "8b135eeb",
   "metadata": {},
   "source": [
    "Q2. What is the definition of a virtual machine? Virtual machine types are offered in GCP. How to create a virtual computer in Google Cloud Platform.\n",
    "\n",
    "ANS:\n",
    "\n",
    "A Virtual Machine (VM) is a compute resource that uses software instead of a physical computer to run programs and deploy apps. One or more virtual “guest” machines run on a physical “host” machine.\n",
    "\n",
    "In the Google Cloud Console, go to the VM instances page.\n",
    "\n",
    "1. Go to VM instances\n",
    "2. Select your project and click Continue.\n",
    "3. Click Create instance.\n",
    "4. Specify a Name for your VM. For more information, see Resource naming convention.\n",
    "5. Optional: Change the Zone for this VM. Compute Engine randomizes the list of zones within each region to encourage use across multiple zones.\n",
    "6. Select a Machine configuration for your VM.\n",
    "7. In the Boot disk section, click Change, and then do the following:\n",
    "\n",
    "    On the Public images tab, choose the following:\n",
    "        -Operating system\n",
    "        -OS version\n",
    "        -Boot disk type\n",
    "        -Boot disk size\n",
    "    Optional: For advanced configuration options, click Show advanced configuration.\n",
    "    To confirm your boot disk options, click Select.\n",
    "    (Note: Unless you explicitly choose a different boot disk, if the name of the new VM matches the name of an         existing persistent disk, then the existing persistent disk automatically attaches to the new VM as the boot       disk.)\n",
    "8. In the Firewall section, to permit HTTP or HTTPS traffic to the VM, select Allow HTTP traffic or Allow HTTPS traffic. When you select one of these, Compute Engine adds a network tag to your VM, which associates the firewall rule with the VM. Then, Compute Engine creates the corresponding ingress firewall rule that allows all incoming traffic on tcp:80 (HTTP) or tcp:443 (HTTPS).\n",
    "9. Optional: If you chose an OS image that supports Shielded VM features, you can modify the Shielded VM settings. To modify shielded VM settings, expand the Security section in the Networking, disks, security, management, sole tenancy section and do the following, as required:\n",
    "\n",
    "    -To turn on Secure Boot, select Turn on Secure Boot. Secure Boot is disabled by default.\n",
    "    -To turn off vTPM, clear the Turn on vTPM checkbox. vTPM is enabled by default. Disabling vTPM also disables           integrity monitoring because integrity monitoring relies on data gathered by Measured Boot.\n",
    "    -To turn off integrity monitoring, clear the Turn on Integrity Monitoring checkbox. Integrity monitoring is           enabled by default.\n",
    "10. To create and start the VM, click Create."
   ]
  },
  {
   "cell_type": "markdown",
   "id": "ae732fc0",
   "metadata": {},
   "source": [
    "Q3. What is Google Big Query, and how does it work? Replicate certain instances to demonstrate a use case.\n",
    "\n",
    "ANS:\n",
    "\n",
    "BigQuery stores data using a columnar storage format that is optimized for analytical queries. BigQuery presents data in tables, rows, and columns and provides full support for database transaction semantics (ACID). BigQuery storage is automatically replicated across multiple locations to provide high availability."
   ]
  },
  {
   "cell_type": "markdown",
   "id": "84b89c2c",
   "metadata": {},
   "source": [
    "Q4. What exactly is the Google Cloud SDK? List the numerous Google cloud SDK installation options.\n",
    "\n",
    "ANS:\n",
    "\n",
    "Google Cloud SDK (Software Development Kit), in simple terms, is a set of tools that are used to manage applications and resources that are hosted on the Google Cloud Platform. It is composed of the gsutil, gcloud, and bqcommand line tools.\n",
    "\n",
    "Depending on your setup, you can choose other installation methods: If you use Snap on your system, you can install Cloud SDK as a snap package. If you're using an instance on Compute Engine, Cloud SDK is installed by default."
   ]
  },
  {
   "cell_type": "markdown",
   "id": "d3224d3b",
   "metadata": {},
   "source": [
    "Q5. List the many cloud computing deployment models.\n",
    "\n",
    "ANS:\n",
    "\n",
    "There are four cloud deployment models: public, private, community, and hybrid."
   ]
  },
  {
   "cell_type": "markdown",
   "id": "9c9bffb9",
   "metadata": {},
   "source": [
    "Q6. Describe the Google cloud platform's security features.\n",
    "\n",
    "ANS:\n",
    "\n",
    "Google Cloud Platform Infrastructure Security Features Include: Data at-rest storage security using encryption against unauthorized access and distribution for reliability. An entire hardware infrastructure created, built, controlled, and secured by Google including servers, networking equipment, and security chips"
   ]
  },
  {
   "cell_type": "markdown",
   "id": "f8a74d78",
   "metadata": {},
   "source": [
    "Q7. What exactly is vertex AI? With some usage scenarios, implement vertex AI.\n",
    " \n",
    "ANS:\n",
    "\n",
    "Vertex AI Workbench is the single environment for data scientists to complete all of their ML work, from experimentation, to deployment, to managing and monitoring models. It is a Jupyter-based fully managed, scalable, enterprise-ready compute infrastructure with security controls and user management capabilities.\n",
    "Some of the steps to implement it:\n",
    "1. Setting up your project and environment.\n",
    "2. Training a custom image classification model.\n",
    "3. Serving predictions from a custom image classification model.\n",
    "4. Cleaning up your project."
   ]
  }
 ],
 "metadata": {
  "kernelspec": {
   "display_name": "Python 3",
   "language": "python",
   "name": "python3"
  },
  "language_info": {
   "codemirror_mode": {
    "name": "ipython",
    "version": 3
   },
   "file_extension": ".py",
   "mimetype": "text/x-python",
   "name": "python",
   "nbconvert_exporter": "python",
   "pygments_lexer": "ipython3",
   "version": "3.8.8"
  }
 },
 "nbformat": 4,
 "nbformat_minor": 5
}
