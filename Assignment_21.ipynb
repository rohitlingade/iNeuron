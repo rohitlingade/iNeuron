{
 "cells": [
  {
   "cell_type": "markdown",
   "id": "ae9a2b78",
   "metadata": {},
   "source": [
    "Q1. Add the current date to the text file today.txt as a string.\n"
   ]
  },
  {
   "cell_type": "code",
   "execution_count": 1,
   "id": "106d3321",
   "metadata": {},
   "outputs": [
    {
     "name": "stdout",
     "output_type": "stream",
     "text": [
      "04-02-2022\n"
     ]
    }
   ],
   "source": [
    "import datetime\n",
    "# Code to Add current date to the today.txt file\n",
    "file = open('today.txt','w')\n",
    "file.write(datetime.datetime.now().strftime(\"%d-%m-%Y\"))\n",
    "file.close()\n",
    "# Code to Read current date from today.txt file\n",
    "file = open('today.txt','r')\n",
    "print(file.read())\n",
    "file.close()"
   ]
  },
  {
   "cell_type": "markdown",
   "id": "3cd7b486",
   "metadata": {},
   "source": [
    "Q2. Read the text file today.txt into the string today_string\n"
   ]
  },
  {
   "cell_type": "code",
   "execution_count": 2,
   "id": "d9ba0c28",
   "metadata": {},
   "outputs": [
    {
     "name": "stdout",
     "output_type": "stream",
     "text": [
      "04-02-2022\n"
     ]
    }
   ],
   "source": [
    "file = open('today.txt','r')\n",
    "today_string = file.read()\n",
    "print(today_string)"
   ]
  },
  {
   "cell_type": "markdown",
   "id": "76a0aa59",
   "metadata": {},
   "source": [
    "Q3. Parse the date from today_string.\n"
   ]
  },
  {
   "cell_type": "code",
   "execution_count": 3,
   "id": "7bcb07ae",
   "metadata": {},
   "outputs": [
    {
     "name": "stdout",
     "output_type": "stream",
     "text": [
      "2022-02-04 00:00:00\n"
     ]
    }
   ],
   "source": [
    "from datetime import datetime\n",
    "parsed_data = datetime.strptime(today_string, '%d-%m-%Y')\n",
    "print(parsed_data)"
   ]
  },
  {
   "cell_type": "markdown",
   "id": "8fce47bb",
   "metadata": {},
   "source": [
    "Q4. List the files in your current directory\n"
   ]
  },
  {
   "cell_type": "code",
   "execution_count": 4,
   "id": "50c4a530",
   "metadata": {},
   "outputs": [
    {
     "name": "stdout",
     "output_type": "stream",
     "text": [
      "Assignment_24.docx\n",
      "Assignment_2.ipynb\n",
      "Assignment_13.ipynb\n",
      "Assignment_5.docx\n",
      "Assignment_11.ipynb\n",
      "Assignment_9.docx\n",
      "Assignment_12.docx\n",
      "Assignment_4.ipynb\n",
      "Assignment_13.docx\n",
      "Assignment_8.docx\n",
      "Assignment_15.ipynb\n",
      "Assignment_17.ipynb\n",
      "Assignment_4.docx\n",
      "Assignment_6.ipynb\n",
      "Assignment_25.docx\n",
      "Assignment_10.ipynb\n",
      "~$signment_21.docx\n",
      "today.txt\n",
      "Assignment_14.docx\n",
      "Assignment_1.ipynb\n",
      "Assignment_22.docx\n",
      "Assignment_3.ipynb\n",
      "Assignment_18.docx\n",
      "Assignment_3.docx\n",
      "Assignment_12.ipynb\n",
      "Assignment_16.ipynb\n",
      "Assignment_2.docx\n",
      "Assignment_19.docx\n",
      "Assignment_7.ipynb\n",
      "Assignment_23.docx\n",
      "Assignment_15.docx\n",
      "Assignment_5.ipynb\n",
      "~$signment_20.docx\n",
      "Assignment_14.ipynb\n",
      "~$signment_19.docx\n",
      "Assignment_16.docx\n",
      "Assignment_18.ipynb\n",
      "Assignment_9.ipynb\n",
      "Assignment_1.docx\n",
      "books.csv\n",
      "Assignment_20.docx\n",
      "Assignment_21.docx\n",
      "Assignment_21.ipynb\n",
      "Assignment_17.docx\n",
      "test.txt\n",
      "Assignment_7.docx\n",
      "Assignment_19.ipynb\n",
      "Assignment_10.docx\n",
      "Assignment_8.ipynb\n",
      "books.db\n",
      "Assignment_11.docx\n",
      "Assignment_20.ipynb\n",
      "Assignment_6.docx\n",
      "Assignment_21-checkpoint.ipynb\n",
      "Assignment_4-checkpoint.ipynb\n",
      "Assignment_14-checkpoint.ipynb\n",
      "Assignment_10-checkpoint.ipynb\n",
      "Assignment_20-checkpoint.ipynb\n",
      "Assignment_15-checkpoint.ipynb\n",
      "Assignment_5-checkpoint.ipynb\n",
      "Assignment_1-checkpoint.ipynb\n",
      "Assignment_11-checkpoint.ipynb\n",
      "Assignment_16-checkpoint.ipynb\n",
      "Assignment_6-checkpoint.ipynb\n",
      "Assignment_9-checkpoint.ipynb\n",
      "Assignment_19-checkpoint.ipynb\n",
      "Assignment_2-checkpoint.ipynb\n",
      "Assignment_12-checkpoint.ipynb\n",
      "Assignment_7-checkpoint.ipynb\n",
      "Assignment_17-checkpoint.ipynb\n",
      "Assignment_18-checkpoint.ipynb\n",
      "Assignment_8-checkpoint.ipynb\n",
      "Assignment_13-checkpoint.ipynb\n",
      "Assignment_3-checkpoint.ipynb\n"
     ]
    }
   ],
   "source": [
    "import os\n",
    "for folders, subfolders, files in os.walk(os.getcwd()):\n",
    "    for file in files:\n",
    "        print(file)"
   ]
  },
  {
   "cell_type": "markdown",
   "id": "711ff008",
   "metadata": {},
   "source": [
    "Q5. Create a list of all of the files in your parent directory (minimum five files should be available).\n"
   ]
  },
  {
   "cell_type": "code",
   "execution_count": 5,
   "id": "b211ce09",
   "metadata": {},
   "outputs": [
    {
     "data": {
      "text/plain": [
       "['Assignment_24.docx',\n",
       " 'Assignment_2.ipynb',\n",
       " 'Assignment_13.ipynb',\n",
       " 'Assignment_5.docx',\n",
       " 'Assignment_11.ipynb',\n",
       " 'Assignment_9.docx',\n",
       " 'Assignment_12.docx',\n",
       " 'Assignment_4.ipynb',\n",
       " 'Assignment_13.docx',\n",
       " 'Assignment_8.docx',\n",
       " 'Assignment_15.ipynb',\n",
       " 'Assignment_17.ipynb',\n",
       " 'Assignment_4.docx',\n",
       " 'Assignment_6.ipynb',\n",
       " 'Assignment_25.docx',\n",
       " 'Assignment_10.ipynb',\n",
       " '~$signment_21.docx',\n",
       " 'today.txt',\n",
       " 'Assignment_14.docx',\n",
       " 'Assignment_1.ipynb',\n",
       " 'Assignment_22.docx',\n",
       " 'Assignment_3.ipynb',\n",
       " 'Assignment_18.docx',\n",
       " 'Assignment_3.docx',\n",
       " 'Assignment_12.ipynb',\n",
       " 'Assignment_16.ipynb',\n",
       " 'Assignment_2.docx',\n",
       " 'Assignment_19.docx',\n",
       " 'Assignment_7.ipynb',\n",
       " 'Assignment_23.docx',\n",
       " 'Assignment_15.docx',\n",
       " 'Assignment_5.ipynb',\n",
       " '~$signment_20.docx',\n",
       " 'Assignment_14.ipynb',\n",
       " '~$signment_19.docx',\n",
       " 'Assignment_16.docx',\n",
       " 'Assignment_18.ipynb',\n",
       " 'Assignment_9.ipynb',\n",
       " 'Assignment_1.docx',\n",
       " 'books.csv',\n",
       " 'Assignment_20.docx',\n",
       " 'Assignment_21.docx',\n",
       " 'Assignment_21.ipynb',\n",
       " 'Assignment_17.docx',\n",
       " 'test.txt',\n",
       " '.ipynb_checkpoints',\n",
       " 'Assignment_7.docx',\n",
       " 'Assignment_19.ipynb',\n",
       " 'Assignment_10.docx',\n",
       " 'Assignment_8.ipynb',\n",
       " 'books.db',\n",
       " 'Assignment_11.docx',\n",
       " 'Assignment_20.ipynb',\n",
       " 'Assignment_6.docx']"
      ]
     },
     "execution_count": 5,
     "metadata": {},
     "output_type": "execute_result"
    }
   ],
   "source": [
    "import os \n",
    "os.listdir()"
   ]
  },
  {
   "cell_type": "markdown",
   "id": "054a7a9d",
   "metadata": {},
   "source": [
    "Q6. Use multiprocessing to create three separate processes. Make each one wait a random number of seconds between one and five, print the current time, and then exit.\n"
   ]
  },
  {
   "cell_type": "code",
   "execution_count": 6,
   "id": "34b8ad7f",
   "metadata": {},
   "outputs": [],
   "source": [
    "import multiprocessing\n",
    "import time \n",
    "import random\n",
    "import datetime\n",
    "\n",
    "def procOne():\n",
    "    print(f'Proc_one_Starttime -> {datetime.datetime.now()}')\n",
    "    time.sleep(random.randint(1,5))\n",
    "    print(f'Proc_one_Endtime -> {datetime.datetime.now()}')\n",
    "    \n",
    "def procTwo():\n",
    "    print(f'Proc_two_Starttime -> {datetime.datetime.now()}')\n",
    "    time.sleep(random.randint(1,5))\n",
    "    print(f'Proc_two_Endtime -> {datetime.datetime.now()}')\n",
    "\n",
    "def procThree():\n",
    "    print(f'Proc_two_Starttime -> {datetime.datetime.now()}')\n",
    "    time.sleep(random.randint(1,5))\n",
    "    print(f'Proc_two_Endtime -> {datetime.datetime.now()}')\n",
    "    \n",
    "if __name__ == \"__main__\":    \n",
    "    p1 = multiprocessing.Process(target=procOne)\n",
    "    p2 = multiprocessing.Process(target=procTwo)\n",
    "    p3 = multiprocessing.Process(target=procThree)\n",
    "\n",
    "    p1.start()\n",
    "    p2.start()\n",
    "    p3.start()\n",
    "\n",
    "    p1.join()\n",
    "    p2.join()\n",
    "    p3.join()"
   ]
  },
  {
   "cell_type": "markdown",
   "id": "e537164e",
   "metadata": {},
   "source": [
    "ANS:\n",
    "\n",
    "Proc_one_Starttime -> 2022-02-04 08:10:24.381290\n",
    "Proc_two_Starttime -> 2022-02-04 08:10:24.383162\n",
    "Proc_three_Starttime -> 2022-02-04 08:10:24.384107\n",
    "Proc_three_Endtime -> 2022-02-04 08:10:25.385390\n",
    "Proc_one_Endtime -> 2022-02-04 08:10:28.385619\n",
    "Proc_two_Endtime -> 2022-02-04 08:10:28.387392"
   ]
  },
  {
   "cell_type": "markdown",
   "id": "1a6d95f9",
   "metadata": {},
   "source": [
    "Q7. Create a date object of your day of birth.\n"
   ]
  },
  {
   "cell_type": "code",
   "execution_count": 10,
   "id": "11b75be6",
   "metadata": {},
   "outputs": [
    {
     "name": "stdout",
     "output_type": "stream",
     "text": [
      "1994-07-14 00:00:00 <class 'datetime.datetime'>\n"
     ]
    }
   ],
   "source": [
    "from datetime import datetime\n",
    "my_dob = datetime.strptime('14/07/1994','%d/%m/%Y')\n",
    "print(my_dob, type(my_dob))"
   ]
  },
  {
   "cell_type": "markdown",
   "id": "2448fa10",
   "metadata": {},
   "source": [
    "Q8. What day of the week was your day of birth?\n"
   ]
  },
  {
   "cell_type": "code",
   "execution_count": 11,
   "id": "1d0e9d3e",
   "metadata": {},
   "outputs": [
    {
     "data": {
      "text/plain": [
       "'Thursday'"
      ]
     },
     "execution_count": 11,
     "metadata": {},
     "output_type": "execute_result"
    }
   ],
   "source": [
    "from datetime import datetime\n",
    "my_dob = datetime(1994,7,14)\n",
    "my_dob.strftime(\"%A\")"
   ]
  },
  {
   "cell_type": "markdown",
   "id": "36280d93",
   "metadata": {},
   "source": [
    "Q9. When will you be (or when were you) 10,000 days old?\n"
   ]
  },
  {
   "cell_type": "code",
   "execution_count": 13,
   "id": "dfe1b043",
   "metadata": {},
   "outputs": [
    {
     "data": {
      "text/plain": [
       "datetime.datetime(2021, 11, 29, 0, 0)"
      ]
     },
     "execution_count": 13,
     "metadata": {},
     "output_type": "execute_result"
    }
   ],
   "source": [
    "from datetime import datetime, timedelta\n",
    "my_dob = datetime.strptime(\"14/07/1994\",'%d/%m/%Y')\n",
    "future_date = my_dob+timedelta(10000)\n",
    "future_date"
   ]
  }
 ],
 "metadata": {
  "kernelspec": {
   "display_name": "Python 3",
   "language": "python",
   "name": "python3"
  },
  "language_info": {
   "codemirror_mode": {
    "name": "ipython",
    "version": 3
   },
   "file_extension": ".py",
   "mimetype": "text/x-python",
   "name": "python",
   "nbconvert_exporter": "python",
   "pygments_lexer": "ipython3",
   "version": "3.8.8"
  }
 },
 "nbformat": 4,
 "nbformat_minor": 5
}
