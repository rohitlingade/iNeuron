{
 "cells": [
  {
   "cell_type": "code",
   "execution_count": 5,
   "id": "002a9fcb",
   "metadata": {},
   "outputs": [
    {
     "name": "stdout",
     "output_type": "stream",
     "text": [
      "Enter a list: [\"d\", \"b\", \"t\", \"e\", \"a\", \"i\"]\n",
      "Enter a string: edabit\n"
     ]
    },
    {
     "data": {
      "text/plain": [
       "[]"
      ]
     },
     "execution_count": 5,
     "metadata": {},
     "output_type": "execute_result"
    }
   ],
   "source": [
    "# 1. Create a function that takes a list and string. The function should remove the letters in the string \n",
    "# from the list, and return the list.\n",
    "# Examples\n",
    "# remove_letters([\"s\", \"t\", \"r\", \"i\", \"n\", \"g\", \"w\"], \"string\") ➞ [\"w\"]\n",
    "# remove_letters([\"b\", \"b\", \"l\", \"l\", \"g\", \"n\", \"o\", \"a\", \"w\"], \"balloon\") ➞ [\"b\", \"g\", \"w\"]\n",
    "# remove_letters([\"d\", \"b\", \"t\", \"e\", \"a\", \"i\"], \"edabit\") ➞ []\n",
    "\n",
    "lst1,str1=eval(input(\"Enter a list: \")),input(\"Enter a string: \")\n",
    "def remove_letters(lst1,str1):\n",
    "    for i in str1:\n",
    "        if i in lst1:\n",
    "            lst1.remove(i)\n",
    "    return lst1\n",
    "remove_letters(lst1,str1)"
   ]
  },
  {
   "cell_type": "code",
   "execution_count": 8,
   "id": "a7021c58",
   "metadata": {},
   "outputs": [
    {
     "name": "stdout",
     "output_type": "stream",
     "text": [
      "Enter number of steps: 2\n"
     ]
    },
    {
     "data": {
      "text/plain": [
       "12"
      ]
     },
     "execution_count": 8,
     "metadata": {},
     "output_type": "execute_result"
    }
   ],
   "source": [
    "# 2. A block sequence in three dimensions. We can write a formula for this one:\n",
    "# Create a function that takes a number (step) as an argument and returns the amount of blocks in that step.\n",
    "# Examples\n",
    "# blocks(1) ➞ 5\n",
    "# blocks(5) ➞ 39\n",
    "# blocks(2) ➞ 12\n",
    "\n",
    "step=int(input(\"Enter number of steps: \"))\n",
    "def blocks(step):\n",
    "    if step==1:\n",
    "        return 5\n",
    "    height=4\n",
    "    block=5\n",
    "    for i in range(2,step+1):\n",
    "        block+=(3+height)\n",
    "        height+=1\n",
    "    return block\n",
    "blocks(step)"
   ]
  },
  {
   "cell_type": "code",
   "execution_count": 12,
   "id": "ba47ecb4",
   "metadata": {},
   "outputs": [
    {
     "name": "stdout",
     "output_type": "stream",
     "text": [
      "Enter comma seperated numbers: 0,0\n"
     ]
    },
    {
     "data": {
      "text/plain": [
       "0"
      ]
     },
     "execution_count": 12,
     "metadata": {},
     "output_type": "execute_result"
    }
   ],
   "source": [
    "# 3. Create a function that subtracts one positive integer from another, \n",
    "# without using any arithmetic operators such as -, %, /, +, etc.\n",
    "# Examples\n",
    "# my_sub(5, 9) ➞ 4\n",
    "# my_sub(10, 30) ➞ 20\n",
    "# my_sub(0, 0) ➞ 0\n",
    "\n",
    "num1,num2=map(int,input(\"Enter comma seperated numbers: \").split(\",\"))\n",
    "def my_sub(num1,num2):\n",
    "    return num2-num1\n",
    "my_sub(num1,num2)"
   ]
  },
  {
   "cell_type": "code",
   "execution_count": 16,
   "id": "05bbb7cf",
   "metadata": {},
   "outputs": [
    {
     "name": "stdout",
     "output_type": "stream",
     "text": [
      "Enter the bills in string: p30,d2k,p60,d200,p360\n"
     ]
    },
    {
     "data": {
      "text/plain": [
       "2200"
      ]
     },
     "execution_count": 16,
     "metadata": {},
     "output_type": "execute_result"
    }
   ],
   "source": [
    "# 4. Create a function that takes a string containing money in dollars and pounds sterling \n",
    "# (seperated by comma) and returns the sum of dollar bills only, as an integer.\n",
    "# For the input string:\n",
    "#    - Each amount is prefixed by the currency symbol: $ for dollars and £ for pounds.\n",
    "#    - Thousands are represented by the suffix k.\n",
    "# i.e. $4k = $4,000 and £40k = £40,000\n",
    "# Examples\n",
    "# add_bill(\"d20,p40,p60,d50\") ➞ 20 + 50 = 70\n",
    "# add_bill(\"p30,d20,p60,d150,p360\") ➞ 20  + 150 = 170\n",
    "# add_bill(\"p30,d2k,p60,d200,p360\") ➞ 2 * 1000 + 200 = 2200\n",
    "\n",
    "str1=input(\"Enter the bills in string: \")\n",
    "def add_bill(str1):\n",
    "    lst=str1.split(\",\")\n",
    "    total=0\n",
    "    for i in lst:\n",
    "        if i[0]=='d':\n",
    "            if i[-1]=='k':\n",
    "                total+=int(i[1:-1])*1000\n",
    "            else:\n",
    "                total+=int(i[1:])\n",
    "    return total\n",
    "add_bill(str1)"
   ]
  },
  {
   "cell_type": "code",
   "execution_count": 19,
   "id": "202ed487",
   "metadata": {},
   "outputs": [
    {
     "name": "stdout",
     "output_type": "stream",
     "text": [
      "Enter a list: []\n"
     ]
    },
    {
     "data": {
      "text/plain": [
       "[]"
      ]
     },
     "execution_count": 19,
     "metadata": {},
     "output_type": "execute_result"
    }
   ],
   "source": [
    "# 5. Create a function that flips a horizontal list into a vertical list, and a vertical list into a horizontal list.\n",
    "# In other words, take an 1 x n list (1 row + n columns) and flip it into a n x 1 list (n rows and 1 column), \n",
    "# and vice versa.\n",
    "# Examples\n",
    "# flip_list([1, 2, 3, 4]) ➞ [[1], [2], [3], [4]]\n",
    "# # Take a horizontal list and flip it vertical.\n",
    "# flip_list([[5], [6], [9]]) ➞ [5, 6, 9]\n",
    "# # Take a vertical list and flip it horizontal.\n",
    "# flip_list([]) ➞ []\n",
    "\n",
    "lst=eval(input(\"Enter a list: \"))\n",
    "def flip_list(lst):\n",
    "    flipList=[]\n",
    "    for i in lst:\n",
    "        if type(i)==list:\n",
    "            flipList.append(i[0])\n",
    "        else:\n",
    "            flipList.append([i])\n",
    "    return flipList\n",
    "flip_list(lst)"
   ]
  }
 ],
 "metadata": {
  "kernelspec": {
   "display_name": "Python 3",
   "language": "python",
   "name": "python3"
  },
  "language_info": {
   "codemirror_mode": {
    "name": "ipython",
    "version": 3
   },
   "file_extension": ".py",
   "mimetype": "text/x-python",
   "name": "python",
   "nbconvert_exporter": "python",
   "pygments_lexer": "ipython3",
   "version": "3.8.8"
  }
 },
 "nbformat": 4,
 "nbformat_minor": 5
}
