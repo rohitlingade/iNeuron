{
 "cells": [
  {
   "cell_type": "markdown",
   "id": "4225ba3a",
   "metadata": {},
   "source": [
    "Q1. In what modes should the PdfFileReader() and PdfFileWriter() File objects will be opened?\n",
    "\n",
    "ANS:\n",
    "\n",
    "PdfFileReader used to perform all the operations related to reading a file.\n",
    "PdfFileWriter is used to perform write operations on pdf."
   ]
  },
  {
   "cell_type": "markdown",
   "id": "b49986fe",
   "metadata": {},
   "source": [
    "Q2. From a PdfFileReader object, how do you get a Page object for page 5?\n",
    "\n",
    "ANS:\n",
    "\n",
    "\n",
    "import PyPDF2\n",
    "pdfFileObj = open('example.pdf', 'rb')\n",
    "pdfReader = PyPDF2.PdfFileReader(pdfFileObj)\n",
    "pageObj = pdfReader.getPage(4) ----> Page object for page 5"
   ]
  },
  {
   "cell_type": "markdown",
   "id": "28638209",
   "metadata": {},
   "source": [
    "Q3. What PdfFileReader variable stores the number of pages in the PDF document?\n",
    "\n",
    "ANS:\n",
    "\n",
    "pdfReader.numPages"
   ]
  },
  {
   "cell_type": "markdown",
   "id": "d18a9a19",
   "metadata": {},
   "source": [
    "Q4. If a PdfFileReader object’s PDF is encrypted with the password swordfish, what must you do before you \n",
    "can obtain Page objects from it?\n",
    "\n",
    "ANS:\n",
    "\n"
   ]
  },
  {
   "cell_type": "markdown",
   "id": "37010d7d",
   "metadata": {},
   "source": [
    "Q5. What methods do you use to rotate a page?\n",
    "\n",
    "ANS:\n",
    "\n",
    "pageObj.rotateClockwise(rotation) ---> rotation in degrees\n",
    "OR\n",
    "pageObj.rotateCounterClockwise(rotation)"
   ]
  },
  {
   "cell_type": "markdown",
   "id": "f2316714",
   "metadata": {},
   "source": [
    "Q6. What is the difference between a Run object and a Paragraph object?\n",
    "\n",
    "ANS:\n",
    "\n"
   ]
  },
  {
   "cell_type": "markdown",
   "id": "2af48537",
   "metadata": {},
   "source": [
    "Q7. How do you obtain a list of Paragraph objects for a Document object that’s stored in a variable named doc?\n"
   ]
  },
  {
   "cell_type": "markdown",
   "id": "a9dda6ce",
   "metadata": {},
   "source": [
    "Q8. What type of object has bold, underline, italic, strike, and outline variables?\n"
   ]
  },
  {
   "cell_type": "markdown",
   "id": "1ac35ae0",
   "metadata": {},
   "source": [
    "Q9. What is the difference between False, True, and None for the bold variable?\n"
   ]
  },
  {
   "cell_type": "markdown",
   "id": "88ea6e8c",
   "metadata": {},
   "source": [
    "Q10. How do you create a Document object for a new Word document?\n"
   ]
  },
  {
   "cell_type": "markdown",
   "id": "957256bb",
   "metadata": {},
   "source": [
    "Q11. How do you add a paragraph with the text 'Hello, there!' to a Document object stored in a variable named doc?\n"
   ]
  },
  {
   "cell_type": "markdown",
   "id": "6d649229",
   "metadata": {},
   "source": [
    "Q12. What integers represent the levels of headings available in Word documents?\n"
   ]
  }
 ],
 "metadata": {
  "kernelspec": {
   "display_name": "Python 3",
   "language": "python",
   "name": "python3"
  },
  "language_info": {
   "codemirror_mode": {
    "name": "ipython",
    "version": 3
   },
   "file_extension": ".py",
   "mimetype": "text/x-python",
   "name": "python",
   "nbconvert_exporter": "python",
   "pygments_lexer": "ipython3",
   "version": "3.8.8"
  }
 },
 "nbformat": 4,
 "nbformat_minor": 5
}
