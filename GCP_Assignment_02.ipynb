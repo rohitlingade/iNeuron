{
 "cells": [
  {
   "cell_type": "markdown",
   "id": "b67272d1",
   "metadata": {},
   "source": [
    "Q1. What is cloud computing, and how does it work?\n",
    "\n",
    "ANS:\n",
    "\n",
    "Cloud computing is an application-based software infrastructure that stores data on remote serves, which can be accessed through the internet. It uses a software, middleware, to ensure seamless connectivity between devices/computers linked via cloud computing."
   ]
  },
  {
   "cell_type": "markdown",
   "id": "6bfd6799",
   "metadata": {},
   "source": [
    "Q2. List all of the GCP deployment services available.\n",
    " \n",
    "ANS:\n",
    "\n",
    "The Google Cloud Platform (GCP) is a platform that delivers over 90 information technology services (aka products), which businesses, IT professionals, and developers can leverage to work more efficiently, gain more flexibility, and/or enable a strategic advantage."
   ]
  },
  {
   "cell_type": "markdown",
   "id": "afee6e77",
   "metadata": {},
   "source": [
    "Q3. What is the GCP pub-sub with examples?\n",
    "\n",
    "ANS:\n",
    "\n",
    "Pub-Sub is a real-time messaging service by google cloud for applications to publish and subscribe to the events. One can publish the message manually or watch the changes in the Gmail using Gmail API and notify the user application on a realtime basis.\n",
    "Topic: A resource to which messages are sent by publishers."
   ]
  },
  {
   "cell_type": "markdown",
   "id": "3c0a3033",
   "metadata": {},
   "source": [
    "Q4. Make a script to manage files stored on Google Drive.\n",
    "\n",
    "ANS:\n",
    "\n",
    "To create and run a script in Drive, follow these steps:\n",
    "1. Create/open a Google Doc or Sheet. From Tools menu, select Script editor.\n",
    "2. Remove existing code and add your code. ...\n",
    "3. To execute, click ►, or from the Run menu, select a function. ...\n",
    "4. A yellow bar will appear at the centre-top, to indicate that the script is running."
   ]
  },
  {
   "cell_type": "markdown",
   "id": "df97e9b3",
   "metadata": {},
   "source": [
    "Q5. Explain how Google's cloud billing system works?\n",
    "\n",
    "ANS:\n",
    "\n",
    "A Cloud Billing account defines who pays for a given set of Google Cloud resources. To use Google Cloud services, you must have a valid Cloud Billing account, and must link it to your Google Cloud projects. Your project's Google Cloud usage is charged to the linked Cloud Billing account."
   ]
  },
  {
   "cell_type": "markdown",
   "id": "243523b0",
   "metadata": {},
   "source": [
    "Q6. What are the different parts of the Google Cloud Platform?\n",
    "\n",
    "ANS:\n",
    "\n",
    "Google Cloud Platform Components\n",
    "1. Compute. The compute service enables compute and hosting the cloud.\n",
    "2. Storage and Database.\n",
    "3. Networking.\n",
    "4. Big Data.\n",
    "5. Developer Tools.\n",
    "6. Identity and Security.\n",
    "7. Internet of Things(IoT).\n",
    "8. Cloud AI. etc"
   ]
  },
  {
   "cell_type": "markdown",
   "id": "0ad387c6",
   "metadata": {},
   "source": [
    "Q7. What is Google Cloud App Engine, and how does it work? What is Google Cloud App Engine's purpose?\n",
    "\n",
    "ANS:\n",
    "\n",
    "App Engine is a fully managed, serverless platform for developing and hosting web applications at scale. You can choose from several popular languages, libraries, and frameworks to develop your apps, and then let App Engine take care of provisioning servers and scaling your app instances based on demand."
   ]
  },
  {
   "cell_type": "markdown",
   "id": "967a5a9e",
   "metadata": {},
   "source": [
    "Q8. Use an example to demonstrate how to use Google Cloud App Engine.\n",
    "\n",
    "ANS:\n",
    "\n",
    "How to use Google App Engine:\n",
    "1. Overview. Google App Engine applications are easy to create, easy to maintain, and easy to scale as your traffic and data storage needs change.\n",
    "2. Setup and requirements.\n",
    "3. Write the web app.\n",
    "4. Define the dependencies.\n",
    "5. Configure the deployment.\n",
    "6. Deploy the web app.\n",
    "7. Test the web app.\n",
    "8. Update the web app."
   ]
  }
 ],
 "metadata": {
  "kernelspec": {
   "display_name": "Python 3",
   "language": "python",
   "name": "python3"
  },
  "language_info": {
   "codemirror_mode": {
    "name": "ipython",
    "version": 3
   },
   "file_extension": ".py",
   "mimetype": "text/x-python",
   "name": "python",
   "nbconvert_exporter": "python",
   "pygments_lexer": "ipython3",
   "version": "3.8.8"
  }
 },
 "nbformat": 4,
 "nbformat_minor": 5
}
