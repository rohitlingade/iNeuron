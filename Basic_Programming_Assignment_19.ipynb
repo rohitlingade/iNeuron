{
 "cells": [
  {
   "cell_type": "code",
   "execution_count": 6,
   "id": "ee9f63fc",
   "metadata": {},
   "outputs": [
    {
     "name": "stdout",
     "output_type": "stream",
     "text": [
      "Enter a string: 1234!_ \n"
     ]
    },
    {
     "data": {
      "text/plain": [
       "'11223344!!__  '"
      ]
     },
     "execution_count": 6,
     "metadata": {},
     "output_type": "execute_result"
    }
   ],
   "source": [
    "# Question1\n",
    "# Create a function that takes a string and returns a string in which each character is repeated once.\n",
    "# Examples\n",
    "# double_char(\"String\") ➞ \"SSttrriinngg\"\n",
    "\n",
    "# double_char(\"Hello World!\") ➞ \"HHeelllloo  WWoorrlldd!!\"\n",
    "\n",
    "# double_char(\"1234!_ \") ➞ \"11223344!!__  \"\n",
    "\n",
    "str1=input(\"Enter a string: \")\n",
    "def double_char(str1):\n",
    "    double_str=\"\"\n",
    "    for i in str1:\n",
    "        double_str+=i*2\n",
    "    return double_str\n",
    "double_char(str1)"
   ]
  },
  {
   "cell_type": "code",
   "execution_count": 16,
   "id": "b909fe6b",
   "metadata": {},
   "outputs": [
    {
     "name": "stdout",
     "output_type": "stream",
     "text": [
      "Enter a value: None\n"
     ]
    },
    {
     "data": {
      "text/plain": [
       "'boolean expected'"
      ]
     },
     "execution_count": 16,
     "metadata": {},
     "output_type": "execute_result"
    }
   ],
   "source": [
    "# Question2\n",
    "# Create a function that reverses a boolean value and returns the string \"boolean expected\" if another variable \n",
    "# type is given.\n",
    "# Examples\n",
    "# reverse(True) ➞ False\n",
    "\n",
    "# reverse(False) ➞ True\n",
    "\n",
    "# reverse(0) ➞ \"boolean expected\"\n",
    "\n",
    "# reverse(None) ➞ \"boolean expected\"\n",
    "\n",
    "value=eval(input(\"Enter a value: \"))\n",
    "def reverse(value):\n",
    "    if type(value)==bool:\n",
    "        return not value\n",
    "    return \"boolean expected\"\n",
    "reverse(value)"
   ]
  },
  {
   "cell_type": "code",
   "execution_count": 19,
   "id": "0b150a27",
   "metadata": {},
   "outputs": [
    {
     "name": "stdout",
     "output_type": "stream",
     "text": [
      "Enter number of folds: 21\n"
     ]
    },
    {
     "data": {
      "text/plain": [
       "'1048.576m'"
      ]
     },
     "execution_count": 19,
     "metadata": {},
     "output_type": "execute_result"
    }
   ],
   "source": [
    "# Question3\n",
    "# Create a function that returns the thickness (in meters) of a piece of paper after folding it n number of times. \n",
    "# The paper starts off with a thickness of 0.5mm.\n",
    "# Examples\n",
    "# num_layers(1) ➞ \"0.001m\"\n",
    "# # Paper folded once is 1mm (equal to 0.001m)\n",
    "\n",
    "# num_layers(4) ➞ \"0.008m\"\n",
    "# # Paper folded 4 times is 8mm (equal to 0.008m)\n",
    "\n",
    "# num_layers(21) ➞ \"1048.576m\"\n",
    "# # Paper folded 21 times is 1048576mm (equal to 1048.576m)\n",
    "\n",
    "\n",
    "folds=int(input(\"Enter number of folds: \"))\n",
    "def num_layers(folds):\n",
    "    return str(2**folds*0.0005)+\"m\"\n",
    "num_layers(folds)"
   ]
  },
  {
   "cell_type": "code",
   "execution_count": 24,
   "id": "a922e854",
   "metadata": {},
   "outputs": [
    {
     "name": "stdout",
     "output_type": "stream",
     "text": [
      "Enter a string: sUn\n"
     ]
    },
    {
     "data": {
      "text/plain": [
       "[1]"
      ]
     },
     "execution_count": 24,
     "metadata": {},
     "output_type": "execute_result"
    }
   ],
   "source": [
    "# Question4\n",
    "# Create a function that takes a single string as argument and returns an ordered list containing the \n",
    "# indices of all capital letters in the string.\n",
    "# Examples\n",
    "# index_of_caps(\"eDaBiT\") ➞ [1, 3, 5]\n",
    "\n",
    "# index_of_caps(\"eQuINoX\") ➞ [1, 3, 4, 6]\n",
    "\n",
    "# index_of_caps(\"determine\") ➞ []\n",
    "\n",
    "# index_of_caps(\"STRIKE\") ➞ [0, 1, 2, 3, 4, 5]\n",
    "\n",
    "# index_of_caps(\"sUn\") ➞ [1]\n",
    "\n",
    "str1=input(\"Enter a string: \")\n",
    "def index_of_caps(str1):\n",
    "    indices=[]\n",
    "    for i in range(len(str1)):\n",
    "        if str1[i].isupper():\n",
    "            indices.append(i)\n",
    "    return indices\n",
    "index_of_caps(str1)"
   ]
  },
  {
   "cell_type": "code",
   "execution_count": 3,
   "id": "6f331f99",
   "metadata": {},
   "outputs": [
    {
     "name": "stdout",
     "output_type": "stream",
     "text": [
      "Enter a number: 2\n"
     ]
    },
    {
     "data": {
      "text/plain": [
       "[2]"
      ]
     },
     "execution_count": 3,
     "metadata": {},
     "output_type": "execute_result"
    }
   ],
   "source": [
    "# Question5\n",
    "# Using list comprehensions, create a function that finds all even numbers from 1 to the given number.\n",
    "# Examples\n",
    "# find_even_nums(8) ➞ [2, 4, 6, 8]\n",
    "\n",
    "# find_even_nums(4) ➞ [2, 4]\n",
    "\n",
    "# find_even_nums(2) ➞ [2]\n",
    "\n",
    "num=int(input(\"Enter a number: \"))\n",
    "def find_even_nums(num):\n",
    "    return [i for i in range(1,num+1) if i%2==0]\n",
    "find_even_nums(num)"
   ]
  },
  {
   "cell_type": "code",
   "execution_count": null,
   "id": "6f0277d3",
   "metadata": {},
   "outputs": [],
   "source": []
  }
 ],
 "metadata": {
  "kernelspec": {
   "display_name": "Python 3",
   "language": "python",
   "name": "python3"
  },
  "language_info": {
   "codemirror_mode": {
    "name": "ipython",
    "version": 3
   },
   "file_extension": ".py",
   "mimetype": "text/x-python",
   "name": "python",
   "nbconvert_exporter": "python",
   "pygments_lexer": "ipython3",
   "version": "3.8.8"
  }
 },
 "nbformat": 4,
 "nbformat_minor": 5
}
