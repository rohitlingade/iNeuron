{
 "cells": [
  {
   "cell_type": "markdown",
   "id": "d1704281",
   "metadata": {},
   "source": [
    "Q1. What are escape characters, and how do you use them?\n",
    "\n",
    "ANS:\n",
    "\n",
    "Escape characters are used to insert characters that are not allowed in a string. Some of the escape characters are \"\\t\" for tab, \"\\n\" for newline, \"\\r\" for carriage return."
   ]
  },
  {
   "cell_type": "markdown",
   "id": "f61ab90a",
   "metadata": {},
   "source": [
    "Q2. What do the escape characters n and t stand for?\n",
    "\n",
    "ANS:\n",
    "    \n",
    "\"\\n\" for newline, \"\\t\" for tab"
   ]
  },
  {
   "cell_type": "markdown",
   "id": "3fb214d9",
   "metadata": {},
   "source": [
    "Q3. What is the way to include backslash characters in a string?\n",
    "\n",
    "ANS:\n",
    "\n",
    "t = \"\\\\t is used for tab\"\n",
    "r = r\"\\n is used for newline\""
   ]
  },
  {
   "cell_type": "markdown",
   "id": "e45d3985",
   "metadata": {},
   "source": [
    "Q4. The string \"Howl's Moving Castle\" is a correct value. Why isn't the single quote character in the word Howl's not escaped a problem?\n",
    "\n",
    "ANS:\n",
    "    \n",
    "As the string is in double quote and its an apostrophe (') which will not create the conflict for the interpreter."
   ]
  },
  {
   "cell_type": "markdown",
   "id": "fe39037f",
   "metadata": {},
   "source": [
    "Q5. How do you write a string of newlines if you don't want to use the n character?\n",
    "\n",
    "ANS:\n",
    "\n",
    "\"\"\" Hi, I am Rohit\n",
    "    I have joined Ineuron.\"\"\""
   ]
  },
  {
   "cell_type": "markdown",
   "id": "6619ffd3",
   "metadata": {},
   "source": [
    "Q6. What are the values of the given expressions?\n",
    "'Hello, world!'[1]\n",
    "'Hello, world!'[0:5]\n",
    "'Hello, world!'[:5]\n",
    "'Hello, world!'[3:]\n",
    "\n",
    "ANS:\n",
    "\n",
    "'Hello, world!'[1]   --->'e'\n",
    "'Hello, world!'[0:5] --->'Hello'\n",
    "'Hello, world!'[:5]  --->'Hello'\n",
    "'Hello, world!'[3:]  --->'lo, world!'"
   ]
  },
  {
   "cell_type": "markdown",
   "id": "92e4c443",
   "metadata": {},
   "source": [
    "Q7. What are the values of the following expressions?\n",
    "'Hello'.upper()\n",
    "'Hello'.upper().isupper()\n",
    "'Hello'.upper().lower()\n",
    "\n",
    "ANS:\n",
    "\n",
    "'Hello'.upper()           --->'HELLO'\n",
    "'Hello'.upper().isupper() --->True\n",
    "'Hello'.upper().lower()   --->'hello'"
   ]
  },
  {
   "cell_type": "markdown",
   "id": "eabb2e5f",
   "metadata": {},
   "source": [
    "Q8. What are the values of the following expressions?\n",
    "'Remember, remember, the fifth of July.'.split()\n",
    "'-'.join('There can only one.'.split())\n",
    "\n",
    "ANS:\n",
    "    \n",
    "'Remember, remember, the fifth of July.'.split() ---> ['Remember,', 'remember,', 'the', 'fifth', 'of', 'July.']\n",
    "'-'.join('There can only one.'.split())          ---> 'There-can-only-one.'"
   ]
  },
  {
   "cell_type": "markdown",
   "id": "11604bc5",
   "metadata": {},
   "source": [
    "Q9. What are the methods for right-justifying, left-justifying, and centering a string?\n",
    "\n",
    "ANS:\n",
    "\n",
    "str1 = \"I am in Ineuron\"\n",
    "print (\"Center aligned string with fillchr: \")\n",
    "print (str1.center(40, '#'))                    ---> ############I am in Ineuron#############\n",
    "\n",
    "print (\"The left aligned string is : \")\n",
    "print (str1.ljust(40, '-'))                     ---> I am in Ineuron-------------------------\n",
    "\n",
    "print (\"The right aligned string is : \")\n",
    "print (str1.rjust(40, '-'))                     ---> -------------------------I am in Ineuron"
   ]
  },
  {
   "cell_type": "markdown",
   "id": "d0f770f5",
   "metadata": {},
   "source": [
    "Q10. What is the best way to remove whitespace characters from the start or end?\n",
    "\n",
    "ANS:\n",
    "    \n",
    "to remove the whitespace characters from the start or end, use .strip() functions.\n",
    "\n",
    ".lstrip() ---> to remove spaces at the start of the string \n",
    ".rstrip() ---> to remove spaces at the end of the string\n",
    ".strip()  ---> to remove spaces at the start and end of the string"
   ]
  }
 ],
 "metadata": {
  "kernelspec": {
   "display_name": "Python 3",
   "language": "python",
   "name": "python3"
  },
  "language_info": {
   "codemirror_mode": {
    "name": "ipython",
    "version": 3
   },
   "file_extension": ".py",
   "mimetype": "text/x-python",
   "name": "python",
   "nbconvert_exporter": "python",
   "pygments_lexer": "ipython3",
   "version": "3.8.8"
  }
 },
 "nbformat": 4,
 "nbformat_minor": 5
}
