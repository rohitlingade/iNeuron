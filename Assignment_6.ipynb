{
 "cells": [
  {
   "cell_type": "raw",
   "id": "2c800e5a",
   "metadata": {},
   "source": [
    "1. What are escape characters, and how do you use them?\n",
    "\n",
    "ANS:\n",
    "\n",
    "Escape characters are used to insert characters that are not allowed in a string. Some of the escape characters are \"\\t\" for tab, \"\\n\" for newline, \"\\r\" for carriage return."
   ]
  },
  {
   "cell_type": "raw",
   "id": "2f972ee7",
   "metadata": {},
   "source": [
    "2. What do the escape characters n and t stand for?\n",
    "\n",
    "ANS:\n",
    "    \n",
    "\"\\n\" for newline, \"\\t\" for tab"
   ]
  },
  {
   "cell_type": "raw",
   "id": "b1b4209b",
   "metadata": {},
   "source": [
    "3. What is the way to include backslash characters in a string?\n",
    "\n",
    "ANS:\n",
    "\n",
    "t = \"\\\\t is used for tab\"\n",
    "r = r\"\\n is used for newline\""
   ]
  },
  {
   "cell_type": "raw",
   "id": "a93b1915",
   "metadata": {},
   "source": [
    "4. The string \"Howl's Moving Castle\" is a correct value. Why isn't the single quote character in the word Howl's not escaped a problem?\n",
    "\n",
    "ANS:\n",
    "    \n",
    "As the string is in double quote and its an apostrophe (') which will not create the conflict for the interpreter."
   ]
  },
  {
   "cell_type": "raw",
   "id": "837d776b",
   "metadata": {},
   "source": [
    "5. How do you write a string of newlines if you don't want to use the n character?\n",
    "\n",
    "ANS:\n",
    "\n",
    "\"\"\" Hi, I am Rohit\n",
    "    I have joined Ineuron.\"\"\""
   ]
  },
  {
   "cell_type": "raw",
   "id": "8357d5bf",
   "metadata": {},
   "source": [
    "6. What are the values of the given expressions?\n",
    "'Hello, world!'[1]\n",
    "'Hello, world!'[0:5]\n",
    "'Hello, world!'[:5]\n",
    "'Hello, world!'[3:]\n",
    "\n",
    "ANS:\n",
    "\n",
    "'Hello, world!'[1]   --->'e'\n",
    "'Hello, world!'[0:5] --->'Hello'\n",
    "'Hello, world!'[:5]  --->'Hello'\n",
    "'Hello, world!'[3:]  --->'lo, world!'"
   ]
  },
  {
   "cell_type": "raw",
   "id": "7a4066d8",
   "metadata": {},
   "source": [
    "7. What are the values of the following expressions?\n",
    "'Hello'.upper()\n",
    "'Hello'.upper().isupper()\n",
    "'Hello'.upper().lower()\n",
    "\n",
    "ANS:\n",
    "\n",
    "'Hello'.upper()           --->'HELLO'\n",
    "'Hello'.upper().isupper() --->True\n",
    "'Hello'.upper().lower()   --->'hello'"
   ]
  },
  {
   "cell_type": "raw",
   "id": "7dde243d",
   "metadata": {},
   "source": [
    "8. What are the values of the following expressions?\n",
    "'Remember, remember, the fifth of July.'.split()\n",
    "'-'.join('There can only one.'.split())\n",
    "\n",
    "ANS:\n",
    "    \n",
    "'Remember, remember, the fifth of July.'.split() ---> ['Remember,', 'remember,', 'the', 'fifth', 'of', 'July.']\n",
    "'-'.join('There can only one.'.split())          ---> 'There-can-only-one.'"
   ]
  },
  {
   "cell_type": "raw",
   "id": "0cfc6867",
   "metadata": {},
   "source": [
    "9. What are the methods for right-justifying, left-justifying, and centering a string?\n",
    "\n",
    "ANS:\n",
    "\n",
    "str1 = \"I am in Ineuron\"\n",
    "print (\"Center aligned string with fillchr: \")\n",
    "print (str1.center(40, '#'))                    ---> ############I am in Ineuron#############\n",
    "\n",
    "print (\"The left aligned string is : \")\n",
    "print (str1.ljust(40, '-'))                     ---> I am in Ineuron-------------------------\n",
    "\n",
    "print (\"The right aligned string is : \")\n",
    "print (str1.rjust(40, '-'))                     ---> -------------------------I am in Ineuron"
   ]
  },
  {
   "cell_type": "raw",
   "id": "1073a9ed",
   "metadata": {},
   "source": [
    "10. What is the best way to remove whitespace characters from the start or end?\n",
    "\n",
    "ANS:\n",
    "    \n",
    "to remove the whitespace characters from the start or end, use .strip() functions.\n",
    "\n",
    ".lstrip() ---> to remove spaces at the start of the string \n",
    ".rstrip() ---> to remove spaces at the end of the string\n",
    ".strip()  ---> to remove spaces at the start and end of the string"
   ]
  }
 ],
 "metadata": {
  "kernelspec": {
   "display_name": "Python 3",
   "language": "python",
   "name": "python3"
  },
  "language_info": {
   "codemirror_mode": {
    "name": "ipython",
    "version": 3
   },
   "file_extension": ".py",
   "mimetype": "text/x-python",
   "name": "python",
   "nbconvert_exporter": "python",
   "pygments_lexer": "ipython3",
   "version": "3.8.8"
  }
 },
 "nbformat": 4,
 "nbformat_minor": 5
}
