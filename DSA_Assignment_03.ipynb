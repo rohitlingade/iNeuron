{
 "cells": [
  {
   "cell_type": "markdown",
   "id": "ee4a201e",
   "metadata": {},
   "source": [
    "Q1. What is a linked list?\n",
    "\n",
    "ANS:\n",
    "    \n",
    "linked list is a sequence of data structures, which are connected together via links. Linked List is a sequence of links which contains items.\n",
    "Link − Each link of a linked list can store a data called an element. \n",
    "Next − Each link of a linked list contains a link to the next link called Next."
   ]
  },
  {
   "cell_type": "markdown",
   "id": "6c6ac958",
   "metadata": {},
   "source": [
    "Q2. What are the different forms of linked lists?\n",
    "\n",
    "ANS:\n",
    "\n",
    "There are three common types of Linked List.\n",
    "1. Singly Linked List.\n",
    "2. Doubly Linked List.\n",
    "3. Circular Linked List."
   ]
  },
  {
   "cell_type": "markdown",
   "id": "fc04a9c8",
   "metadata": {},
   "source": [
    "Q3. What is a linked list's purpose?\n",
    "\n",
    "ANS:\n",
    "\n",
    "Linked lists are linear data structures that hold data in individual objects called nodes.\n",
    "Linked lists are often used because of their efficient insertion and deletion. They can be used to implement stacks, queues, and other abstract data types."
   ]
  },
  {
   "cell_type": "markdown",
   "id": "d76cfcb4",
   "metadata": {},
   "source": [
    "Q4. What are the advantages of linked lists over arrays? \n",
    "\n",
    "ANS:\n",
    "\n",
    "Advantages of Linked List over Array\n",
    "1. Dynamic Data Structure:\n",
    "2. No Memory Wastage:\n",
    "3. Implementation:\n",
    "4. Insertion and Deletion Operation:\n",
    "5. Memory Usage:\n",
    "6. Random Access:\n",
    "7. Reverse Traversal:"
   ]
  },
  {
   "cell_type": "markdown",
   "id": "15381fa8",
   "metadata": {},
   "source": [
    "Q5. What is the purpose of a circular linked list?\n",
    "\n",
    "ANS:\n",
    "\n",
    "Circular lists are used in applications where the entire list is accessed one-by-one in a loop. It is also used by the Operating system to share time for different users, generally uses a Round-Robin time-sharing mechanism. Multiplayer games use a circular list to swap between players in a loop."
   ]
  },
  {
   "cell_type": "markdown",
   "id": "39ea627e",
   "metadata": {},
   "source": [
    "Q6. How will you explain Circular Linked List?\n",
    "\n",
    "ANS:\n",
    "\n",
    "A circular linked list is a sequence of elements in which every element has a link to its next element in the sequence and the last element has a link to the first element. That means circular linked list is similar to the single linked list except that the last node points to the first node in the list."
   ]
  }
 ],
 "metadata": {
  "kernelspec": {
   "display_name": "Python 3",
   "language": "python",
   "name": "python3"
  },
  "language_info": {
   "codemirror_mode": {
    "name": "ipython",
    "version": 3
   },
   "file_extension": ".py",
   "mimetype": "text/x-python",
   "name": "python",
   "nbconvert_exporter": "python",
   "pygments_lexer": "ipython3",
   "version": "3.8.8"
  }
 },
 "nbformat": 4,
 "nbformat_minor": 5
}
