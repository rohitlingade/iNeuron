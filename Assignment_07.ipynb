{
 "cells": [
  {
   "cell_type": "markdown",
   "id": "8a747527",
   "metadata": {},
   "source": [
    "Q1. Write an SQL query to show only odd rows from a table.\n",
    "\n",
    "ANS:\n",
    "\n",
    "SELECT * FROM(SELECT FIRST_NAME,SALARY,DEPARTMENT,ROWNUM RN FROM WORKERS ORDER BY ID) WHERE MOD(RN, 2) <> 0;"
   ]
  },
  {
   "cell_type": "markdown",
   "id": "d2ccb132",
   "metadata": {},
   "source": [
    "Q2. Write an SQL query to clone a new table from another table.\n",
    "\n",
    "ANS:\n",
    "\n",
    "CREATE TABLE new_table LIKE original_table;"
   ]
  }
 ],
 "metadata": {
  "kernelspec": {
   "display_name": "Python 3",
   "language": "python",
   "name": "python3"
  },
  "language_info": {
   "codemirror_mode": {
    "name": "ipython",
    "version": 3
   },
   "file_extension": ".py",
   "mimetype": "text/x-python",
   "name": "python",
   "nbconvert_exporter": "python",
   "pygments_lexer": "ipython3",
   "version": "3.8.8"
  }
 },
 "nbformat": 4,
 "nbformat_minor": 5
}
