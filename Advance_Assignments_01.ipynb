{
 "cells": [
  {
   "cell_type": "markdown",
   "id": "3fbd7125",
   "metadata": {},
   "source": [
    "Q1. What is the purpose of Python's OOP?\n",
    "\n",
    "ANS:\n",
    "\n",
    "OOPs makes code more reusable and makes it easier to work with larger programs. OOP programs prevent you from repeating code because a class can be defined once and reused many times."
   ]
  },
  {
   "cell_type": "markdown",
   "id": "e7d92fb1",
   "metadata": {},
   "source": [
    "Q2. Where does an inheritance search look for an attribute?\n",
    "\n",
    "ANS:\n",
    "\n",
    "In inheritance, it looks for the attribute first in the child class then the parent classes mentioned in parent classes in order of reference."
   ]
  },
  {
   "cell_type": "markdown",
   "id": "9389c8df",
   "metadata": {},
   "source": [
    "Q3. How do you distinguish between a class object and an instance object?\n",
    "\n",
    "ANS:\n",
    "\n",
    "Class : It represents any entity and its methods and are not tangiable or in general objects.\n",
    "Instance : Every instance object belongs to the class."
   ]
  },
  {
   "cell_type": "markdown",
   "id": "5b382322",
   "metadata": {},
   "source": [
    "Q4. What makes the first argument in a class’s method function special?\n",
    "\n",
    "ANS:\n",
    "    \n",
    "the first argument in the class's method referring the class as an object. Mostly \"self\" is used to refer."
   ]
  },
  {
   "cell_type": "markdown",
   "id": "05346843",
   "metadata": {},
   "source": [
    "Q5. What is the purpose of the __init__ method?\n",
    "\n",
    "ANS:\n",
    "\n",
    "The __init__ method is similar to constructors in C++ and Java. Constructors are used to initialize \n",
    "the object’s state. The task of constructors is to initialize(assign values) to the data members of the \n",
    "class when an object of class is created. Like methods, a constructor also contains collection of statements\n",
    "(i.e. instructions) that are executed at time of Object creation. It is run as soon as an object of a class \n",
    "is instantiated. The method is useful to do any initialization you want to do with your object."
   ]
  },
  {
   "cell_type": "markdown",
   "id": "881f4a18",
   "metadata": {},
   "source": [
    "Q6. What is the process for creating a class instance?\n",
    "\n",
    "ANS:\n",
    "\n",
    "Class iNeuron:\n",
    "    pass\n",
    "\n",
    "instance=iNeuron()"
   ]
  },
  {
   "cell_type": "markdown",
   "id": "09f39334",
   "metadata": {},
   "source": [
    "Q7. What is the process for creating a class?\n",
    "\n",
    "ANS:\n",
    "\n",
    "Class iNeuron:\n",
    "    def __init__(self):\n",
    "        print(\"This will execute when you create the instance of an object.\")"
   ]
  },
  {
   "cell_type": "markdown",
   "id": "02a26363",
   "metadata": {},
   "source": [
    "Q8. How would you define the superclasses of a class?\n",
    "\n",
    "ANS:\n",
    "\n",
    "Class mobile:\n",
    "    def __init__(self):\n",
    "        self.battery=4000\n",
    "        self.camera=24\n",
    "  \n",
    "Class smartphone(mobile):\n",
    "    def __init__(self):\n",
    "        self.battery=5000\n",
    "        self.camera=64\n",
    "        \n",
    "Here class smartphone is child class and mobile is a parent class or superclass."
   ]
  }
 ],
 "metadata": {
  "kernelspec": {
   "display_name": "Python 3",
   "language": "python",
   "name": "python3"
  },
  "language_info": {
   "codemirror_mode": {
    "name": "ipython",
    "version": 3
   },
   "file_extension": ".py",
   "mimetype": "text/x-python",
   "name": "python",
   "nbconvert_exporter": "python",
   "pygments_lexer": "ipython3",
   "version": "3.8.8"
  }
 },
 "nbformat": 4,
 "nbformat_minor": 5
}
