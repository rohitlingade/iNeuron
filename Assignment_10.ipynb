{
 "cells": [
  {
   "cell_type": "markdown",
   "id": "6d61b356",
   "metadata": {},
   "source": [
    "Q1. How do you distinguish between shutil.copy() and shutil.copytree()?\n",
    "\n",
    "ANS:\n",
    "\n",
    "shutil.copy()     : used to copy the current file to the destination folder path.\n",
    "\n",
    "shutil.copytree() : shutil module used to copy the directory recursively."
   ]
  },
  {
   "cell_type": "markdown",
   "id": "284c41bf",
   "metadata": {},
   "source": [
    "Q2. What function is used to rename files??\n",
    "\n",
    "ANS:\n",
    "\n",
    "os.rename() : used to rename the files."
   ]
  },
  {
   "cell_type": "markdown",
   "id": "4191449f",
   "metadata": {},
   "source": [
    "Q3. What is the difference between the delete functions in the send2trash and shutil modules?\n",
    "\n",
    "ANS:\n",
    "\n",
    "delete functions : These function delete files permenently.\n",
    "\n",
    "send2trash       : Send2Trash is a small package that sends files to the Trash (or Recycle Bin) natively and on all                    platforms."
   ]
  },
  {
   "cell_type": "markdown",
   "id": "152bf974",
   "metadata": {},
   "source": [
    "Q4.ZipFile objects have a close() method just like File objects’ close() method. What ZipFile method is \n",
    "equivalent to File objects’ open() method?\n",
    "\n",
    "ANS:\n",
    "\n",
    "for zip file, ZipFile() function is available to read or write in it."
   ]
  },
  {
   "cell_type": "markdown",
   "id": "9b5a8b8b",
   "metadata": {},
   "source": [
    "Q5. Create a programme that searches a folder tree for files with a certain file extension (such as .pdf or .jpg). \n",
    "Copy these files from whatever location they are in to a new folder.\n",
    "\n",
    "ANS:\n",
    "\n",
    "shutil.copytree() method recursively copies an entire directory tree rooted at source (src) to the destination directory\n",
    "\n",
    "\n",
    "import shutil,os\n",
    "\n",
    "src=\"/Users/rohitshridharlingade/Desktop/iNeuron\"\n",
    "\n",
    "dest=\"/Users/rohitshridharlingade/Desktop/Coursera\"\n",
    "\n",
    "shutil.copytree(src,dest)\n",
    "\n",
    "for file in os.listdir():\n",
    "\n",
    "    if file.endswith(\".pdf\") and file.endswith(\".jpg\"):\n",
    "    \n",
    "        file_path=f\"{src}/{file}\"\n",
    "        \n",
    "        shutil.copy(file_path,dest)\n",
    "\n"
   ]
  }
 ],
 "metadata": {
  "kernelspec": {
   "display_name": "Python 3",
   "language": "python",
   "name": "python3"
  },
  "language_info": {
   "codemirror_mode": {
    "name": "ipython",
    "version": 3
   },
   "file_extension": ".py",
   "mimetype": "text/x-python",
   "name": "python",
   "nbconvert_exporter": "python",
   "pygments_lexer": "ipython3",
   "version": "3.8.8"
  }
 },
 "nbformat": 4,
 "nbformat_minor": 5
}
