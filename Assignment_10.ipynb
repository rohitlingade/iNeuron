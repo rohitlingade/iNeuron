{
 "cells": [
  {
   "cell_type": "markdown",
   "id": "ec42a115",
   "metadata": {},
   "source": [
    "Q1. Write an SQL query to determine the 5th highest salary without using TOP or limit method.\n",
    "\n",
    "ANS:\n",
    "\n",
    "SELECT * FROM (SELECT FIRST_NAME, SALARY OVER(ORDER BY SALARY DESC)R FROM WORKERS) WHERE R=&n;"
   ]
  },
  {
   "cell_type": "markdown",
   "id": "f1701598",
   "metadata": {},
   "source": [
    "Q2. Write an SQL query to fetch the list of employees with the same salary.\n",
    "\n",
    "ANS:\n",
    "\n",
    "SELECT W1.FIRST_NAME, W1.SALARY FROM WORKERS W1 JOIN WORKERS W2 ON W1.SALARY = W2.SALARY AND \n",
    "W1.FIRST_NAME <> W2.FIRST_NAME"
   ]
  }
 ],
 "metadata": {
  "kernelspec": {
   "display_name": "Python 3",
   "language": "python",
   "name": "python3"
  },
  "language_info": {
   "codemirror_mode": {
    "name": "ipython",
    "version": 3
   },
   "file_extension": ".py",
   "mimetype": "text/x-python",
   "name": "python",
   "nbconvert_exporter": "python",
   "pygments_lexer": "ipython3",
   "version": "3.8.8"
  }
 },
 "nbformat": 4,
 "nbformat_minor": 5
}
