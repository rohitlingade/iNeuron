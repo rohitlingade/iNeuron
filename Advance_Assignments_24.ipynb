{
 "cells": [
  {
   "cell_type": "markdown",
   "id": "1beacb06",
   "metadata": {},
   "source": [
    "Q1. Is it permissible to use several import statements to import the same module? What would the goal be? Can you think of a situation where it would be beneficial?\n",
    "\n",
    "ANS:\n",
    "\n",
    "Yes, it is permissible to use several import statements to import the same module. It is used in case when we have to import multiple functions from same module."
   ]
  },
  {
   "cell_type": "markdown",
   "id": "b2362d17",
   "metadata": {},
   "source": [
    "Q2. What are some of a module's characteristics? (Name at least one.)\n",
    "\n",
    "ANS:\n",
    "\n",
    "The following are some of a module's characteristics:\n",
    "\n",
    "1.__name__ : It returns the name of the module\n",
    "2.__doc__ : It denotes the documentation string line written in a module code.\n",
    "3.__file__ : It holds the name and path of the module file from which it is loaded\n",
    "4.__dict__ : It return a dictionary object of module attributes, functions and other definitions and their                      respective values"
   ]
  },
  {
   "cell_type": "markdown",
   "id": "442d72b8",
   "metadata": {},
   "source": [
    "Q3. Circular importing, such as when two modules import each other, can lead to dependencies and bugs that aren't visible. How can you go about creating a program that avoids mutual importing?\n",
    "\n",
    "ANS:\n",
    "\n",
    "Circular importing means importing the two modules in each other. If suppose we are wokring in MOD1.py file and it is importing some function say F2() from some other module say MOD2.PY file or we can do vice-versa. What will happen is: This will give an import error.\n",
    "\n",
    "This is because when we import F2() function from module MOD2.py, then this will execute MOD2.py file. And in MOD2.py file there is an another statement of importing MOD1.py module.\n",
    "\n",
    "This will result in endless loop. To avoid this error just do one thingWe can use if __name__ == '__main__'\n",
    "\n",
    "In the function, you can't directly refer to the function in the program. The addition of this sentence avoids the endless loop of the program ."
   ]
  },
  {
   "cell_type": "markdown",
   "id": "9be1c199",
   "metadata": {},
   "source": [
    "Q4. Why is  _ _all_ _ in Python?\n",
    "\n",
    "ANS:\n",
    "\n",
    "It provides list of all modules present in a library."
   ]
  },
  {
   "cell_type": "markdown",
   "id": "d431bc38",
   "metadata": {},
   "source": [
    "Q5. In what situation is it useful to refer to the _ _name_ _ attribute or the string '_ _main_ _'?\n",
    "\n",
    "ANS:\n",
    "\n",
    "During the time of execution of the code if we want to refer the module in which we are working on then we uses name attribute. In that case it will return the module in which we are working on. Suppose if that moudle is being imported from some other module then name will have the name of that moudle from where the current module has been imported. The current module in which we are working is refer to the string __main __."
   ]
  },
  {
   "cell_type": "markdown",
   "id": "e460a395",
   "metadata": {},
   "source": [
    "Q6. What are some of the benefits of attaching a program counter to the RPN interpreter application, which interprets an RPN script line by line?\n",
    "\n",
    "ANS:\n",
    "\n",
    "Reverse Polish notation (also known as postfix notation) is one of multiple notations for representing mathematical expressions. Most of us are familiar with infix notation, but there are also the less popular prefix and postfix notations.\n",
    "The most obvious difference among these lie in the position of operators in the expression.\n",
    "1.Infix: operators are “in” between the operands\n",
    "2.Prefix: operators are before (pre) the operands\n",
    "3.Postfix: operators are after (post) the operands\n",
    "Other differences include the significance of space as a separator (prefix and postfix are space sensitive while infix is not) and the way order of operations is expressed. The order of operation is inherent in the expression structure in prefix and postfix notations while the infix notation requires the use of parentheses to make the order of operations explicit.\n",
    "\n",
    "#Ambiguity in order of operations for infix notation\n",
    "1 + 2 + 3\n",
    "(1 + 2) + 3\n",
    "1 + (2 + 3)\n",
    "#No ambiguity in prefix and postfix (using postfix as an example)\n",
    "#The structure tells us that 1 and 2 are added first, then 3\n",
    "1 2 + 3 +\n",
    "\n",
    "#Example 1\n",
    "1 10 30 + *\n",
    "1 40 *\n",
    "40\n",
    "#Example 2\n",
    "1 2 + 3 +\n",
    "3 3 +\n",
    "6\n",
    "#Example 3\n",
    "1 2 - 2 +\n",
    "-1 2 +\n",
    "1\n",
    "#Example 4\n",
    "1 2 /\n",
    "0.5"
   ]
  },
  {
   "cell_type": "markdown",
   "id": "bc328fb9",
   "metadata": {},
   "source": [
    "Q7. What are the minimum expressions or statements (or both) that you'd need to render a basic programming language like RPN primitive but complete— that is, capable of carrying out any computerised task theoretically possible?\n",
    "\n",
    "ANS:\n",
    "\n",
    "To make the basic programming for RPN primitive, we have to make stack, by which we have to solve the RPN problem using python list operations like pop() and append()."
   ]
  }
 ],
 "metadata": {
  "kernelspec": {
   "display_name": "Python 3",
   "language": "python",
   "name": "python3"
  },
  "language_info": {
   "codemirror_mode": {
    "name": "ipython",
    "version": 3
   },
   "file_extension": ".py",
   "mimetype": "text/x-python",
   "name": "python",
   "nbconvert_exporter": "python",
   "pygments_lexer": "ipython3",
   "version": "3.8.8"
  }
 },
 "nbformat": 4,
 "nbformat_minor": 5
}
