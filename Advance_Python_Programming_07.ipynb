{
 "cells": [
  {
   "cell_type": "code",
   "execution_count": 7,
   "id": "2e1bca18",
   "metadata": {},
   "outputs": [
    {
     "name": "stdout",
     "output_type": "stream",
     "text": [
      "Enter a list: [\"AAAAAAAAAAA\",    \"AABBBBBBBAA\",    \"AABCCCCCBAA\",    \"AABCAAACBAA\",    \"AABCADACBAA\",    \"AABCAAACBAA\",    \"AABCCCCCBAA\", \"AABBBBBBBAA\", \"AAAAAAAAAAA\"]\n"
     ]
    },
    {
     "data": {
      "text/plain": [
       "5"
      ]
     },
     "execution_count": 7,
     "metadata": {},
     "output_type": "execute_result"
    }
   ],
   "source": [
    "# 1. Write a function that counts how many concentric layers a rug.\n",
    "# Examples\n",
    "# count_layers([\n",
    "#   \"AAAA\",\n",
    "#   \"ABBA\",\n",
    "#   \"AAAA\"\n",
    "# ]) ➞ 2\n",
    "\n",
    "# count_layers([\n",
    "#   \"AAAAAAAAA\",\n",
    "#   \"ABBBBBBBA\",\n",
    "#   \"ABBAAABBA\",\n",
    "#   \"ABBBBBBBA\",\n",
    "#   \"AAAAAAAAA\"\n",
    "# ]) ➞ 3\n",
    "\n",
    "# count_layers([\n",
    "#   \"AAAAAAAAAAA\",\n",
    "#   \"AABBBBBBBAA\",\n",
    "#   \"AABCCCCCBAA\",\n",
    "#   \"AABCAAACBAA\",\n",
    "#   \"AABCADACBAA\",\n",
    "#   \"AABCAAACBAA\",\n",
    "#   \"AABCCCCCBAA\",\n",
    "#   \"AABBBBBBBAA\",\n",
    "#   \"AAAAAAAAAAA\"\n",
    "# ]) ➞ 5\n",
    "\n",
    "lst1=eval(input(\"Enter a list: \"))\n",
    "def count_layers(lst1):\n",
    "    midLayer=lst1[len(lst1)//2]\n",
    "    count=1\n",
    "    for i in range(len(midLayer)//2):\n",
    "        if midLayer[i] != midLayer[i+1]:\n",
    "            count+=1\n",
    "    return count\n",
    "count_layers(lst1)"
   ]
  },
  {
   "cell_type": "code",
   "execution_count": 11,
   "id": "272c076d",
   "metadata": {},
   "outputs": [
    {
     "name": "stdout",
     "output_type": "stream",
     "text": [
      "Enter a list: [  \"Soul\",  \"House,Folk\",  \"Trance,Downtempo,Big Beat,House\",    \"Deep House\",    \"Soul\"  ]\n"
     ]
    },
    {
     "data": {
      "text/plain": [
       "7"
      ]
     },
     "execution_count": 11,
     "metadata": {},
     "output_type": "execute_result"
    }
   ],
   "source": [
    "# 2. There are many different styles of music and many albums exhibit multiple styles. \n",
    "# Create a function that takes a list of musical styles from albums and returns how many styles are unique.\n",
    "# Examples\n",
    "\n",
    "# unique_styles([\n",
    "#   \"Dub,Dancehall\",\n",
    "#   \"Industrial,Heavy Metal\",\n",
    "#   \"Techno,Dubstep\",\n",
    "#   \"Synth-pop,Euro-Disco\",\n",
    "#   \"Industrial,Techno,Minimal\"\n",
    "# ]) ➞ 9\n",
    "\n",
    "# unique_styles([\n",
    "#   \"Soul\",\n",
    "#   \"House,Folk\",\n",
    "#   \"Trance,Downtempo,Big Beat,House\",\n",
    "#   \"Deep House\",\n",
    "#   \"Soul\"\n",
    "# ]) ➞ 7\n",
    "\n",
    "albumList=eval(input(\"Enter a list: \"))\n",
    "def unique_styles(albumList):\n",
    "    flatlist=[]\n",
    "    for i in albumList:\n",
    "        flatlist.extend(i.split(\",\"))\n",
    "    return len(set(flatlist))\n",
    "unique_styles(albumList)"
   ]
  },
  {
   "cell_type": "code",
   "execution_count": 35,
   "id": "c7044138",
   "metadata": {},
   "outputs": [
    {
     "name": "stdout",
     "output_type": "stream",
     "text": [
      "Enter a number: 67\n"
     ]
    },
    {
     "data": {
      "text/plain": [
       "'yes'"
      ]
     },
     "execution_count": 35,
     "metadata": {},
     "output_type": "execute_result"
    }
   ],
   "source": [
    "# 3. Create a function that finds a target number in a list of prime numbers. Implement a binary search algorithm \n",
    "# in your function. The target number will be from 2 through 97. If the target is prime then return \"yes\" else \n",
    "# return \"no\".\n",
    "# Examples\n",
    "# primes = [2, 3, 5, 7, 11, 13, 17, 19, 23, 29, 31, 37, 41, 43, 47, 53, 59, 61, 67, 71, 73, 79, 83, 89, 97]\n",
    "# is_prime(primes, 3) ➞ \"yes\"\n",
    "# is_prime(primes, 4) ➞ \"no\"\n",
    "# is_prime(primes, 67) ➞ \"yes\"\n",
    "# is_prime(primes, 36) ➞ \"no\"\n",
    "\n",
    "primes = [2, 3, 5, 7, 11, 13, 17, 19, 23, 29, 31, 37, 41, 43, 47, 53, 59, 61, 67, 71, 73, 79, 83, 89, 97]\n",
    "num=int(input(\"Enter a number: \"))\n",
    "def is_prime(primes,num):\n",
    "    first,last=0,len(primes)-1\n",
    "    while first < last:\n",
    "        mid=(first+last-1)//2\n",
    "        if primes[mid]==num:\n",
    "            return \"yes\"\n",
    "        elif primes[mid]>num:\n",
    "            last=mid-1\n",
    "        else:\n",
    "            first=mid+1\n",
    "    else:\n",
    "        return \"no\"\n",
    "is_prime(primes,num)"
   ]
  },
  {
   "cell_type": "code",
   "execution_count": 45,
   "id": "62d7c363",
   "metadata": {},
   "outputs": [
    {
     "name": "stdout",
     "output_type": "stream",
     "text": [
      "Enter number and range limits: 4,250,1300\n"
     ]
    },
    {
     "data": {
      "text/plain": [
       "3"
      ]
     },
     "execution_count": 45,
     "metadata": {},
     "output_type": "execute_result"
    }
   ],
   "source": [
    "# 4. Create a function that takes in n, a, b and returns the number of positive values raised to the nth power that \n",
    "# lie in the range [a, b], inclusive.\n",
    "# Examples\n",
    "# power_ranger(2, 49, 65) ➞ 2\n",
    "# # 2 squares (n^2) lie between 49 and 65, 49 (7^2) and 64 (8^2)\n",
    "# power_ranger(3, 1, 27) ➞ 3\n",
    "# # 3 cubes (n^3) lie between 1 and 27, 1 (1^3), 8 (2^3) and 27 (3^3)\n",
    "# power_ranger(10, 1, 5) ➞ 1\n",
    "# # 1 value raised to the 10th power lies between 1 and 5, 1 (1^10)\n",
    "# power_ranger(5, 31, 33) ➞ 1\n",
    "# power_ranger(4, 250, 1300) ➞ 3\n",
    "\n",
    "n,a,b=map(int,input(\"Enter number and range limits: \").split(\",\"))\n",
    "def power_ranger(n,a,b):\n",
    "    count=0\n",
    "    for i in range(b):\n",
    "        if i**n in range(a,b+1):\n",
    "            count+=1\n",
    "        elif i**n> b:\n",
    "            break\n",
    "    return count\n",
    "power_ranger(n,a,b)"
   ]
  },
  {
   "cell_type": "code",
   "execution_count": 39,
   "id": "54cdf151",
   "metadata": {},
   "outputs": [
    {
     "name": "stdout",
     "output_type": "stream",
     "text": [
      "Enter a number: 90010\n"
     ]
    },
    {
     "data": {
      "text/plain": [
       "90981"
      ]
     },
     "execution_count": 39,
     "metadata": {},
     "output_type": "execute_result"
    }
   ],
   "source": [
    "# 5. Given a number, return the difference between the maximum and minimum numbers that can be formed \n",
    "# when the digits are rearranged.\n",
    "# Examples\n",
    "# rearranged_difference(972882) ➞ 760833\n",
    "# # 988722 - 227889 = 760833\n",
    "# rearranged_difference(3320707) ➞ 7709823\n",
    "# # 7733200 - 23377 = 7709823\n",
    "# rearranged_difference(90010) ➞ 90981\n",
    "# # 91000 - 19 = 90981\n",
    "\n",
    "num=int(input(\"Enter a number: \"))\n",
    "def rearranged_difference(num):\n",
    "    strNum=str(num)\n",
    "    return int(\"\".join(sorted(strNum,reverse=True))) - int(\"\".join(sorted(strNum)))\n",
    "rearranged_difference(num)"
   ]
  }
 ],
 "metadata": {
  "kernelspec": {
   "display_name": "Python 3",
   "language": "python",
   "name": "python3"
  },
  "language_info": {
   "codemirror_mode": {
    "name": "ipython",
    "version": 3
   },
   "file_extension": ".py",
   "mimetype": "text/x-python",
   "name": "python",
   "nbconvert_exporter": "python",
   "pygments_lexer": "ipython3",
   "version": "3.8.8"
  }
 },
 "nbformat": 4,
 "nbformat_minor": 5
}
