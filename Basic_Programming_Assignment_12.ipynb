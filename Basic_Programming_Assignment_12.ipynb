{
 "cells": [
  {
   "cell_type": "code",
   "execution_count": 2,
   "id": "24a26d59",
   "metadata": {},
   "outputs": [
    {
     "data": {
      "text/plain": [
       "{(1.6783, 2.7485, 3.94774), 34, 'Akshay', 'Rohit'}"
      ]
     },
     "execution_count": 2,
     "metadata": {},
     "output_type": "execute_result"
    }
   ],
   "source": [
    "# 1.\tWrite a Python program to Extract Unique values dictionary values?\n",
    "d={\"a\":\"Akshay\",\"b\":34,\"c\":\"Rohit\",\"d\":(1.6783,2.7485,3.94774),\"e\":\"Rohit\"}\n",
    "set(d.values())"
   ]
  },
  {
   "cell_type": "code",
   "execution_count": 3,
   "id": "2019cb03",
   "metadata": {},
   "outputs": [
    {
     "data": {
      "text/plain": [
       "600"
      ]
     },
     "execution_count": 3,
     "metadata": {},
     "output_type": "execute_result"
    }
   ],
   "source": [
    "# 2.\tWrite a Python program to find the sum of all items in a dictionary?\n",
    "d = {'a': 100, 'b':200, 'c':300}\n",
    "sum(d.values())"
   ]
  },
  {
   "cell_type": "code",
   "execution_count": 4,
   "id": "de310100",
   "metadata": {},
   "outputs": [
    {
     "data": {
      "text/plain": [
       "{'a': 100, 'b': 200, 'c': 300, 'd': (1.6783, 2.7485, 3.94774), 'e': 'Rohit'}"
      ]
     },
     "execution_count": 4,
     "metadata": {},
     "output_type": "execute_result"
    }
   ],
   "source": [
    "# 3.\tWrite a Python program to Merging two Dictionaries?\n",
    "d = {\"a\":\"Akshay\",\"b\":34,\"c\":\"Rohit\",\"d\":(1.6783,2.7485,3.94774),\"e\":\"Rohit\"}\n",
    "d1 = {'a': 100, 'b':200, 'c':300}\n",
    "d.update(d1)\n",
    "d"
   ]
  },
  {
   "cell_type": "code",
   "execution_count": 6,
   "id": "b89bfffc",
   "metadata": {},
   "outputs": [
    {
     "data": {
      "text/plain": [
       "{'a': 100, 'b': 200, 'c': 300, 'd': (1.6783, 2.7485, 3.94774), 'e': 'Rohit'}"
      ]
     },
     "execution_count": 6,
     "metadata": {},
     "output_type": "execute_result"
    }
   ],
   "source": [
    "# 4.\tWrite a Python program to convert key-values list to flat dictionary?\n",
    "key=[\"a\",\"b\",\"c\",\"d\",\"e\"]\n",
    "values=[100,200,300,(1.6783, 2.7485, 3.94774),\"Rohit\"]\n",
    "d3=dict(zip(key,values))\n",
    "d3"
   ]
  },
  {
   "cell_type": "code",
   "execution_count": 9,
   "id": "ba5c291b",
   "metadata": {},
   "outputs": [
    {
     "data": {
      "text/plain": [
       "OrderedDict([('D', 400), ('A', '100'), ('B', '200'), ('C', '300')])"
      ]
     },
     "execution_count": 9,
     "metadata": {},
     "output_type": "execute_result"
    }
   ],
   "source": [
    "# 5.\tWrite a Python program to insertion at the beginning in OrderedDict?\n",
    "from collections import OrderedDict  \n",
    "d1 = OrderedDict([('A', '100'), ('B', '200'), ('C', '300')])\n",
    "d1.update({\"D\":400})\n",
    "d1.move_to_end(\"D\",last=False)\n",
    "d1"
   ]
  },
  {
   "cell_type": "code",
   "execution_count": 16,
   "id": "3ca914cd",
   "metadata": {},
   "outputs": [
    {
     "name": "stdout",
     "output_type": "stream",
     "text": [
      "True\n"
     ]
    }
   ],
   "source": [
    "# 6.\tWrite a Python program to check order of character in string using OrderedDict()?\n",
    "from collections import OrderedDict \n",
    "  \n",
    "def checkOrder(input, pattern): \n",
    "    dict = OrderedDict.fromkeys(input) \n",
    "    count = 0\n",
    "    for key,value in dict.items(): \n",
    "        if (key == pattern[count]): \n",
    "            count+=1\n",
    "        if (count == (len(pattern))): \n",
    "            return True\n",
    "    return False\n",
    "if __name__ == \"__main__\": \n",
    "    input = 'eineuron'\n",
    "    pattern = 'ino'\n",
    "    print (checkOrder(input,pattern)) "
   ]
  },
  {
   "cell_type": "code",
   "execution_count": 26,
   "id": "e6955e81",
   "metadata": {},
   "outputs": [
    {
     "name": "stdout",
     "output_type": "stream",
     "text": [
      "Dictionery Items:  [('Tom', 67), ('Tina', 54), ('Akbar', 87), ('Kane', 43), ('Divya', 73)]\n",
      "Sorted Dictionery with Keys:  [('Akbar', 87), ('Divya', 73), ('Kane', 43), ('Tina', 54), ('Tom', 67)]\n",
      "Sorted Dictionery with Values:  [('Kane', 43), ('Tina', 54), ('Tom', 67), ('Divya', 73), ('Akbar', 87)]\n"
     ]
    }
   ],
   "source": [
    "# 7.\tWrite a Python program to sort Python Dictionaries by Key or Value?\n",
    "dict1={\"Tom\":67, \"Tina\": 54, \"Akbar\": 87, \"Kane\": 43, \"Divya\":73}\n",
    "lst=list(dict1.items())\n",
    "print(\"Dictionery Items: \",lst)\n",
    "lst.sort(key=lambda x:x[0])\n",
    "print(\"Sorted Dictionery with Keys: \",lst)\n",
    "lst.sort(key=lambda x:x[1])\n",
    "print(\"Sorted Dictionery with Values: \",lst)"
   ]
  },
  {
   "cell_type": "code",
   "execution_count": null,
   "id": "bde22b02",
   "metadata": {},
   "outputs": [],
   "source": []
  }
 ],
 "metadata": {
  "kernelspec": {
   "display_name": "Python 3",
   "language": "python",
   "name": "python3"
  },
  "language_info": {
   "codemirror_mode": {
    "name": "ipython",
    "version": 3
   },
   "file_extension": ".py",
   "mimetype": "text/x-python",
   "name": "python",
   "nbconvert_exporter": "python",
   "pygments_lexer": "ipython3",
   "version": "3.8.8"
  }
 },
 "nbformat": 4,
 "nbformat_minor": 5
}
