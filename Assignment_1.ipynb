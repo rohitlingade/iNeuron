{
 "cells": [
  {
   "cell_type": "markdown",
   "id": "a720d971",
   "metadata": {},
   "source": [
    "1. In the below elements which of them are values or an expression? eg:- values can be integer or string and expressions will be mathematical operators.\n",
    "\n",
    "ANS:\n",
    "\n",
    "*        ---->  Expression \n",
    "'hello'  ---->  Value\n",
    "-87.8    ---->  Value\n",
    "-        ---->  Expression\n",
    "/        ---->  Expression\n",
    "+\t     ---->  Expression\n",
    "6        ---->  Value\n"
   ]
  },
  {
   "cell_type": "markdown",
   "id": "c41e3b42",
   "metadata": {},
   "source": [
    "2. What is the difference between string and variable?\n",
    "\n",
    "ANS:\n",
    "\n",
    "String is a data type, generally enclosed in single or double quotes and Variable is generally the pointer or address for any data type object. Variable contains alpha-numeric values and underscore (A-z, 0-9, and _ ).\n",
    "\n",
    "eg:\n",
    "string    ---> \"Rohit\"\n",
    "variable  --->  Rohit"
   ]
  },
  {
   "cell_type": "markdown",
   "id": "e6fb2852",
   "metadata": {},
   "source": [
    "3. Describe three different data types.\n",
    "\n",
    "ANS: \n",
    "\n",
    "1. Numeric --->  This data type represents the numeric values which incldes Integer, float number and also complex                  numbers. Numeric data types are immutable.\n",
    "                 a. Int : this data type represents Int class\n",
    "                    eg : 3,54,342\n",
    "                 b. float : this data type represents float class\n",
    "                    eg : 3.42,5.321\n",
    "                 c. complex : this data type represents complex class\n",
    "                    eg : 5+6j,j\n",
    "                    \n",
    "2. String ----> This data type represents the sequence of characters which are enclosed in quotes.\n",
    "                String data types are immutable.\n",
    "                eg : \"rohit\", \"Rohit\", \"1_rohit\", \"_rohit\"\n",
    "                \n",
    "3. Boolean ---> This data type represents only truthy and falsy values which are generally represent by True and                   False respectively.\n",
    "                Values apart from 0,\"\",[],{},False,(),set() are truthy values.\n",
    "                \n",
    "Apart from these data types, there are some other data types like List, Tuple, Dictionery, Set."
   ]
  },
  {
   "cell_type": "markdown",
   "id": "5101cc6f",
   "metadata": {},
   "source": [
    "4. What is an expression made up of? What do all expressions do\n",
    "\n",
    "ANS:\n",
    "\n",
    "Expression is a combination of operator and operands which performs some operation and produces some other values.\n",
    "eg : 2+3, 3+4.5, 5/6"
   ]
  },
  {
   "cell_type": "markdown",
   "id": "3ea42936",
   "metadata": {},
   "source": [
    "5. This assignment statements, like spam = 10. What is the difference between an expression and a statement?\n",
    "\n",
    "ANS:\n",
    "\n",
    "Assignment statement : eg. spam = 10, name = \"Rohit\"\n",
    "Expression           : eg. 10 + 10\n",
    "\n",
    "In assignment, one object with any data type is assigned to the variable name which is left side of the assignment operator '='.\n",
    "\n",
    "In expression, we perform any operations with the help of operator and operands. In above case, '+' is a operator and 10 is a operand, which produces any other values with compatible data type. "
   ]
  },
  {
   "cell_type": "markdown",
   "id": "e390bfe2",
   "metadata": {},
   "source": [
    "6. After running the following code, what does the variable bacon contain?\n",
    "bacon = 22\n",
    "bacon + 1\n",
    "\n",
    "ANS: \n",
    "\n",
    "bacon = 22 ---> this is an assignment operation so the value 22 is assigned to bacon\n",
    "bacon + 1  ---> this is an expression which rodeuces value 23 but it is not assigned to the avriable bacon agian,                   so the value of bacon is still 22.\n",
    "                If the expression is like bacon = bacon + 1, then the value of bacon will be 23"
   ]
  },
  {
   "cell_type": "markdown",
   "id": "2a3e23c4",
   "metadata": {},
   "source": [
    "7. What should the values of the following two terms be?\n",
    "'spam' + 'spamspam'\n",
    "'spam' * 3\n",
    "\n",
    "ANS:\n",
    "\n",
    "'spam' + 'spamspam' ---> 'spamspamspam'   (String Concatenation)\n",
    "'spam' * 3          ---> 'spamspamspam'   (String Multiplication)"
   ]
  },
  {
   "cell_type": "markdown",
   "id": "3494f7b0",
   "metadata": {},
   "source": [
    "8. Why is eggs a valid variable name while 100 is invalid?\n",
    "\n",
    "ANS:\n",
    "\n",
    "There are some rules for creating the variable name and are:\n",
    "A variable name must start with a letter or the underscore character.\n",
    "A variable name cannot start with a number.\n",
    "\n",
    "so, according to the above rules eggs is a valid variable name but 100 is an invalid variable name.\n"
   ]
  },
  {
   "cell_type": "markdown",
   "id": "df3c6729",
   "metadata": {},
   "source": [
    "9. What three functions can be used to get the integer, floating-point number, or string version of a value?\n",
    "\n",
    "ANS:\n",
    "\n",
    "+\n",
    "*\n",
    "min()\n",
    "max()"
   ]
  },
  {
   "cell_type": "markdown",
   "id": "e8f50b04",
   "metadata": {},
   "source": [
    "10. Why does this expression cause an error? How can you fix it?\n",
    "'I have eaten ' + 99 + ' burritos.'\n",
    "\n",
    "ANS:\n",
    "\n",
    "'I have eaten ' + 99 + ' burritos.' ---> This expression trying to add two different data types i.e. string and int                                          which is not possible, so if we want to fix it, we have to convert int to                                          string.\n",
    "\n",
    "so the corrected expression is:  'I have eaten ' + '99' + ' burritos.'\n",
    "\n"
   ]
  }
 ],
 "metadata": {
  "kernelspec": {
   "display_name": "Python 3",
   "language": "python",
   "name": "python3"
  },
  "language_info": {
   "codemirror_mode": {
    "name": "ipython",
    "version": 3
   },
   "file_extension": ".py",
   "mimetype": "text/x-python",
   "name": "python",
   "nbconvert_exporter": "python",
   "pygments_lexer": "ipython3",
   "version": "3.8.8"
  }
 },
 "nbformat": 4,
 "nbformat_minor": 5
}
