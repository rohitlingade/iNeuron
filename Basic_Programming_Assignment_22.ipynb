{
 "cells": [
  {
   "cell_type": "code",
   "execution_count": 3,
   "id": "da769e1e",
   "metadata": {},
   "outputs": [
    {
     "name": "stdout",
     "output_type": "stream",
     "text": [
      "Enter comma seperated x, y,z values: 15,20,7\n"
     ]
    },
    {
     "data": {
      "text/plain": [
       "[]"
      ]
     },
     "execution_count": 3,
     "metadata": {},
     "output_type": "execute_result"
    }
   ],
   "source": [
    "# Question1\n",
    "# Create a function that takes three parameters where:\n",
    "# •\tx is the start of the range (inclusive).\n",
    "# •\ty is the end of the range (inclusive).\n",
    "# •\tn is the divisor to be checked against.\n",
    "# Return an ordered list with numbers in the range that are divisible by the third parameter n. \n",
    "# Return an empty list if there are no numbers that are divisible by n.\n",
    "# Examples\n",
    "# list_operation(1, 10, 3) ➞ [3, 6, 9]\n",
    "# list_operation(7, 9, 2) ➞ [8]\n",
    "# list_operation(15, 20, 7) ➞ []\n",
    "\n",
    "x,y,n=tuple(map(int,input(\"Enter comma seperated x, y,z values: \").split(\",\")))\n",
    "def list_operation(x,y,n):\n",
    "    return [i for i in range(x,y+1) if i%n ==0]\n",
    "list_operation(x,y,n)"
   ]
  },
  {
   "cell_type": "code",
   "execution_count": 8,
   "id": "3f89006e",
   "metadata": {},
   "outputs": [
    {
     "name": "stdout",
     "output_type": "stream",
     "text": [
      "Enter two comma seperated lists of equal length: [1, 2, 3, 4, 5]\n",
      "Enter two comma seperated lists of equal length: [5, 5, 1, 2, 3]\n"
     ]
    },
    {
     "data": {
      "text/plain": [
       "False"
      ]
     },
     "execution_count": 8,
     "metadata": {},
     "output_type": "execute_result"
    }
   ],
   "source": [
    "# Question2\n",
    "# Create a function that takes in two lists and returns True if the second list follows the first list by one \n",
    "# element, and False otherwise. In other words, determine if the second list is the first list shifted to the \n",
    "# right by 1.\n",
    "# Examples\n",
    "# simon_says([1, 2], [5, 1]) ➞ True\n",
    "# simon_says([1, 2], [5, 5]) ➞ False\n",
    "# simon_says([1, 2, 3, 4, 5], [0, 1, 2, 3, 4]) ➞ True\n",
    "# simon_says([1, 2, 3, 4, 5], [5, 5, 1, 2, 3]) ➞ False\n",
    "# Notes\n",
    "# •\tBoth input lists will be of the same length, and will have a minimum length of 2.\n",
    "# •\tThe values of the 0-indexed element in the second list and the n-1th indexed element in the \n",
    "# first list do not matter.\n",
    "\n",
    "lst1,lst2=eval(input(\"Enter two comma seperated lists of equal length: \")),\\\n",
    "          eval(input(\"Enter two comma seperated lists of equal length: \"))\n",
    "def simon_says(lst1,lst2):\n",
    "    return lst1[:-1]==lst2[1:]\n",
    "simon_says(lst1,lst2)"
   ]
  },
  {
   "cell_type": "code",
   "execution_count": 12,
   "id": "b07df590",
   "metadata": {},
   "outputs": [
    {
     "name": "stdout",
     "output_type": "stream",
     "text": [
      "Enter a list: [\"Phoebe\", \"Chandler\", \"Rachel\", \"Ross\", \"Monica\", \"Joey\"]\n"
     ]
    },
    {
     "data": {
      "text/plain": [
       "'CJMPRR'"
      ]
     },
     "execution_count": 12,
     "metadata": {},
     "output_type": "execute_result"
    }
   ],
   "source": [
    "# Question3\n",
    "# A group of friends have decided to start a secret society. The name will be the first letter of each of their \n",
    "# names, sorted in alphabetical order.\n",
    "# Create a function that takes in a list of names and returns the name of the secret society.\n",
    "# Examples\n",
    "# society_name([\"Adam\", \"Sarah\", \"Malcolm\"]) ➞ \"AMS\"\n",
    "# society_name([\"Harry\", \"Newt\", \"Luna\", \"Cho\"]) ➞ \"CHLN\"\n",
    "# society_name([\"Phoebe\", \"Chandler\", \"Rachel\", \"Ross\", \"Monica\", \"Joey\"])\n",
    "\n",
    "lst=eval(input(\"Enter a list: \"))\n",
    "def society_name(lst):\n",
    "    name=\"\"\n",
    "    for i in sorted(lst):\n",
    "        name+=i[0]\n",
    "    return name\n",
    "society_name(lst)"
   ]
  },
  {
   "cell_type": "code",
   "execution_count": 17,
   "id": "3d476347",
   "metadata": {},
   "outputs": [
    {
     "name": "stdout",
     "output_type": "stream",
     "text": [
      "Enter a string: Consecutive\n"
     ]
    },
    {
     "data": {
      "text/plain": [
       "False"
      ]
     },
     "execution_count": 17,
     "metadata": {},
     "output_type": "execute_result"
    }
   ],
   "source": [
    "# Question4\n",
    "# An isogram is a word that has no duplicate letters. Create a function that takes a string and \n",
    "# returns either True or False depending on whether or not it's an \"isogram\".\n",
    "# Examples\n",
    "# is_isogram(\"Algorism\") ➞ True\n",
    "# is_isogram(\"PasSword\") ➞ False\n",
    "# # Not case sensitive.\n",
    "# is_isogram(\"Consecutive\") ➞ False\n",
    "# Notes\n",
    "# •\tIgnore letter case (should not be case sensitive).\n",
    "# •\tAll test cases contain valid one word strings.\n",
    "\n",
    "str1=input(\"Enter a string: \")\n",
    "def is_isogram(str1):\n",
    "    return len(list(str1))==len((set(list(str1))))\n",
    "is_isogram(str1.lower())"
   ]
  },
  {
   "cell_type": "code",
   "execution_count": 21,
   "id": "2e4df15c",
   "metadata": {},
   "outputs": [
    {
     "name": "stdout",
     "output_type": "stream",
     "text": [
      "Enter a string: xyzz\n"
     ]
    },
    {
     "data": {
      "text/plain": [
       "True"
      ]
     },
     "execution_count": 21,
     "metadata": {},
     "output_type": "execute_result"
    }
   ],
   "source": [
    "# Question5\n",
    "# Create a function that takes a string and returns True or False, depending on whether the characters \n",
    "# are in order or not.\n",
    "# Examples\n",
    "# is_in_order(\"abc\") ➞ True\n",
    "# is_in_order(\"edabit\") ➞ False\n",
    "# is_in_order(\"123\") ➞ True\n",
    "# is_in_order(\"xyzz\") ➞ True\n",
    "# Notes\n",
    "# You don't have to handle empty strings.\n",
    "\n",
    "str1=input(\"Enter a string: \")\n",
    "def is_in_order(str1):\n",
    "    l=list(str1)\n",
    "    return all(l[i] <= l[i+1] for i in range(len(l)-1))\n",
    "is_in_order(str1)"
   ]
  }
 ],
 "metadata": {
  "kernelspec": {
   "display_name": "Python 3",
   "language": "python",
   "name": "python3"
  },
  "language_info": {
   "codemirror_mode": {
    "name": "ipython",
    "version": 3
   },
   "file_extension": ".py",
   "mimetype": "text/x-python",
   "name": "python",
   "nbconvert_exporter": "python",
   "pygments_lexer": "ipython3",
   "version": "3.8.8"
  }
 },
 "nbformat": 4,
 "nbformat_minor": 5
}
