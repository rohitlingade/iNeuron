{
 "cells": [
  {
   "cell_type": "code",
   "execution_count": 27,
   "id": "29f1aa4a",
   "metadata": {},
   "outputs": [
    {
     "data": {
      "text/plain": [
       "[0,\n",
       " 7,\n",
       " 14,\n",
       " 21,\n",
       " 28,\n",
       " 35,\n",
       " 42,\n",
       " 49,\n",
       " 56,\n",
       " 63,\n",
       " 70,\n",
       " 77,\n",
       " 84,\n",
       " 91,\n",
       " 98,\n",
       " 105,\n",
       " 112,\n",
       " 119,\n",
       " 126,\n",
       " 133,\n",
       " 140]"
      ]
     },
     "execution_count": 27,
     "metadata": {},
     "output_type": "execute_result"
    }
   ],
   "source": [
    "# Question 1:\n",
    "\n",
    "# Define a class with a generator which can iterate the numbers, which are divisible by 7, between a \n",
    "# given range 0 and n.\n",
    "\n",
    "class Generator:\n",
    "    def generator(self,n):\n",
    "        for i in range(0,n+1):\n",
    "            if i%7==0:\n",
    "                yield i\n",
    "gen=Generator()       \n",
    "iterator=list(gen.generator(140))\n",
    "iterator"
   ]
  },
  {
   "cell_type": "code",
   "execution_count": 23,
   "id": "181ebfb2",
   "metadata": {},
   "outputs": [
    {
     "name": "stdout",
     "output_type": "stream",
     "text": [
      "Enter the string: New to Python or choosing between Python 2 and Python 3? Read Python 2 or Python 3.\n"
     ]
    },
    {
     "data": {
      "text/plain": [
       "{'2': 2,\n",
       " '3.': 1,\n",
       " '3?': 1,\n",
       " 'New': 1,\n",
       " 'Python': 5,\n",
       " 'Read': 1,\n",
       " 'and': 1,\n",
       " 'between': 1,\n",
       " 'choosing': 1,\n",
       " 'or': 2,\n",
       " 'to': 1}"
      ]
     },
     "execution_count": 23,
     "metadata": {},
     "output_type": "execute_result"
    }
   ],
   "source": [
    "# Question 2:\n",
    "# Write a program to compute the frequency of the words from the input. The output should output after\n",
    "# sorting the key alphanumerically. \n",
    "\n",
    "# Suppose the following input is supplied to the program:\n",
    "\n",
    "# New to Python or choosing between Python 2 and Python 3? Read Python 2 or Python 3.\n",
    "\n",
    "# Then, the output should be:\n",
    "\n",
    "# 2:2\n",
    "\n",
    "# 3.:1\n",
    "\n",
    "# 3?:1\n",
    "\n",
    "# New:1\n",
    "\n",
    "# Python:5\n",
    "\n",
    "# Read:1\n",
    "\n",
    "# and:1\n",
    "\n",
    "# between:1\n",
    "\n",
    "# choosing:1\n",
    "\n",
    "# or:2\n",
    "\n",
    "# to:1\n",
    "\n",
    "sentence=input(\"Enter the string: \")\n",
    "words=sentence.split()\n",
    "\n",
    "word_dict={}\n",
    "for i in sorted(words):\n",
    "    if i in word_dict:\n",
    "        word_dict[i]+=1\n",
    "    else:\n",
    "        word_dict[i]=1\n",
    "word_dict"
   ]
  },
  {
   "cell_type": "code",
   "execution_count": 33,
   "id": "0051da37",
   "metadata": {},
   "outputs": [
    {
     "name": "stdout",
     "output_type": "stream",
     "text": [
      "male\n",
      "male\n",
      "female\n"
     ]
    }
   ],
   "source": [
    "# Question 3:\n",
    "# Define a class Person and its two child classes: Male and Female. All classes have a method \"getGender\" \n",
    "# which can print \"Male\" for Male class and \"Female\" for Female class.\n",
    "\n",
    "\n",
    "class Person:\n",
    "    def __init__(self,gender):\n",
    "        self.gender=gender\n",
    "    def getGender(self):\n",
    "        pass\n",
    "class Male(Person):\n",
    "    def getGender(self):\n",
    "        return self.gender\n",
    "class Female(Person):\n",
    "    def getGender(self):\n",
    "        return self.gender\n",
    "person=Person(\"male\")\n",
    "print(male.getGender())\n",
    "male=Male(\"male\")\n",
    "print(male.getGender())\n",
    "male=Male(\"female\")\n",
    "print(male.getGender())"
   ]
  },
  {
   "cell_type": "code",
   "execution_count": 38,
   "id": "67f778ec",
   "metadata": {},
   "outputs": [
    {
     "data": {
      "text/plain": [
       "['I Play Hockey',\n",
       " 'I Play HockeyFootball',\n",
       " 'I Play HockeyFootball Love Hockey',\n",
       " 'I Play HockeyFootball Love HockeyFootball',\n",
       " 'You Play Hockey',\n",
       " 'You Play HockeyFootball',\n",
       " 'You Play HockeyFootball Love Hockey',\n",
       " 'You Play HockeyFootball Love HockeyFootball']"
      ]
     },
     "execution_count": 38,
     "metadata": {},
     "output_type": "execute_result"
    }
   ],
   "source": [
    "# Question 4:\n",
    "# Please write a program to generate all sentences where subject is in [\"I\", \"You\"] and verb is in [\"Play\", \"Love\"]\n",
    "# and the object is in [\"Hockey\",\"Football\"].\n",
    "\n",
    "subject=[\"I\", \"You\"]\n",
    "verb=[\"Play\", \"Love\"]\n",
    "objects=[\"Hockey\",\"Football\"]\n",
    "sentences=[]\n",
    "for i in subject:\n",
    "    sen=\"\"\n",
    "    sen=i\n",
    "    for j in verb:\n",
    "        sen=sen+\" \"+j+\" \"\n",
    "        for k in objects:\n",
    "            sen+=k\n",
    "            sentences.append(sen)\n",
    "sentences\n"
   ]
  },
  {
   "cell_type": "code",
   "execution_count": 44,
   "id": "0c37cfc9",
   "metadata": {},
   "outputs": [
    {
     "name": "stdout",
     "output_type": "stream",
     "text": [
      "Compressed String :  b'x\\x9c\\xcbH\\xcd\\xc9\\xc9W(\\xcf/\\xcaIQ\\xcc \\x82\\r\\x00\\xbd[\\x11\\xf5'\n",
      "Decompressed String :  b'hello world!hello world!hello world!hello world!'\n"
     ]
    }
   ],
   "source": [
    "# Question 5:\n",
    "# Please write a program to compress and decompress the string \"hello world!hello world!hello world!hello world!\".\n",
    "\n",
    "import zlib\n",
    "\n",
    "str1 = b\"hello world!hello world!hello world!hello world!\"\n",
    "a=zlib.compress(str1)\n",
    "print(\"Compressed String : \",a)\n",
    "print(\"Decompressed String : \",zlib.decompress(a))"
   ]
  },
  {
   "cell_type": "code",
   "execution_count": 52,
   "id": "7302b9b2",
   "metadata": {},
   "outputs": [
    {
     "name": "stdout",
     "output_type": "stream",
     "text": [
      "4\n"
     ]
    }
   ],
   "source": [
    "# Question 6:\n",
    "# Please write a binary search function which searches an item in a sorted list.\n",
    "# The function should return the index of element to be searched in the list.\n",
    "\n",
    "def binarySearch(lst,num):\n",
    "    lst.sort()\n",
    "    first,last=0,len(lst)-1\n",
    "    while first<=last:\n",
    "        mid=(first+last)//2\n",
    "        if lst[mid]==num:\n",
    "            return mid\n",
    "        elif lst[mid]<num:\n",
    "            first=mid+1\n",
    "        else:\n",
    "            last=mid-1\n",
    "            \n",
    "lst=[234,244,23,354,324]\n",
    "print(binarySearch(lst,354))"
   ]
  },
  {
   "cell_type": "code",
   "execution_count": null,
   "id": "5f991463",
   "metadata": {},
   "outputs": [],
   "source": []
  }
 ],
 "metadata": {
  "kernelspec": {
   "display_name": "Python 3",
   "language": "python",
   "name": "python3"
  },
  "language_info": {
   "codemirror_mode": {
    "name": "ipython",
    "version": 3
   },
   "file_extension": ".py",
   "mimetype": "text/x-python",
   "name": "python",
   "nbconvert_exporter": "python",
   "pygments_lexer": "ipython3",
   "version": "3.8.8"
  }
 },
 "nbformat": 4,
 "nbformat_minor": 5
}
