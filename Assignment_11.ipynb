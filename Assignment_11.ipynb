{
 "cells": [
  {
   "cell_type": "markdown",
   "id": "5846d4eb",
   "metadata": {},
   "source": [
    "Q1. Create an assert statement that throws an AssertionError if the variable spam is a negative integer.\n",
    "\n",
    "ANS:\n",
    "\n",
    "spam = 10\n",
    "assert spam >= 0,f'{spam} is a negative number.'"
   ]
  },
  {
   "cell_type": "markdown",
   "id": "1945bc45",
   "metadata": {},
   "source": [
    "Q2. Write an assert statement that triggers an AssertionError if the variables eggs and bacon contain \n",
    "strings that are the same as each other, even if their cases are different \n",
    "(that is, 'hello' and 'hello' are considered the same, and 'goodbye' and 'GOODbye' are also considered the same).\n",
    "\n",
    "ANS:\n",
    "\n",
    "eggs,bacon='Hello','hello'\n",
    "assert eggs.lower()==bacon.lower(),f'{eggs} and {bacon} are not same.'"
   ]
  },
  {
   "cell_type": "markdown",
   "id": "00742627",
   "metadata": {},
   "source": [
    "Q3. Create an assert statement that throws an AssertionError every time.\n",
    "\n",
    "ANS:\n",
    "\n",
    "assert False,f'This is a assertion'"
   ]
  },
  {
   "cell_type": "markdown",
   "id": "37d96732",
   "metadata": {},
   "source": [
    "Q4. What are the two lines that must be present in your software in order to call logging.debug()?\n",
    "\n",
    "ANS:\n",
    "\n",
    "import logging \n",
    "logging.basicConfig(level=logging.DEBUG, format=' %(asctime)s - %(levelname)s - %(message)s')"
   ]
  },
  {
   "cell_type": "markdown",
   "id": "d0f3e116",
   "metadata": {},
   "source": [
    "Q5. What are the two lines that your program must have in order to have logging.debug() \n",
    "send a logging message to a file named programLog.txt?\n",
    "\n",
    "ANS:\n",
    "\n",
    "import logging \n",
    "logging.basicConfig(filename='programLog.txt', level=logging.DEBUG, format=' %(asctime)s - %(levelname)s - %(message)s')\n",
    "logging.debug()"
   ]
  },
  {
   "cell_type": "markdown",
   "id": "a03ef68c",
   "metadata": {},
   "source": [
    "Q6. What are the five levels of logging?\n",
    "\n",
    "ANS:\n",
    "\n",
    "Info, Warning, Debug, Error and Critical are the five levels of debugging."
   ]
  },
  {
   "cell_type": "markdown",
   "id": "8ca03053",
   "metadata": {},
   "source": [
    "Q7. What line of code would you add to your software to disable all logging messages?\n",
    "\n",
    "ANS:\n",
    "\n",
    "logging.disable(logging.CRITICAL)"
   ]
  },
  {
   "cell_type": "markdown",
   "id": "b1c787b3",
   "metadata": {},
   "source": [
    "Q8.Why is using logging messages better than using print() to display the same message?\n",
    "\n",
    "ANS:\n",
    "\n",
    "To define basic logging needs, several lines of code are needed. Including additional logging information is not easy. The print() statement only displays messages on the console. Recording logging data inside a file or sending it over the internet needs additional works and is done only with logging."
   ]
  },
  {
   "cell_type": "markdown",
   "id": "a735b733",
   "metadata": {},
   "source": [
    "Q9. What are the differences between the Step Over, Step In, and Step Out buttons in the debugger?\n",
    "\n",
    "ANS:\n",
    "\n",
    "Step Over command: This command lets the application execute the next action. If the action involves a call to an                      operation, it does not step into its implementation (it steps over it instead).\n",
    "Step Into command: This command lets the application execute the next action. If the action involves a call to an                      operation, it steps into its implementation and breaks the execution on the first action of that                    implementation.\n",
    "Step Out command: This command lets the application execute until the currently executed operation implementation                     is returned."
   ]
  },
  {
   "cell_type": "markdown",
   "id": "d159ed6c",
   "metadata": {},
   "source": [
    "Q10.After you click Continue, when will the debugger stop ?\n",
    "\n",
    "ANS:\n",
    "\n",
    "Continue execution until the current function returns. Continue execution, only stop when a breakpoint is encountered."
   ]
  },
  {
   "cell_type": "markdown",
   "id": "19102ec5",
   "metadata": {},
   "source": [
    "Q11. What is the concept of a breakpoint?\n",
    "\n",
    "ANS:\n",
    "\n",
    "breakpoint() is a tool that allows to set points in code at which a debugger is called. By default, this function results in an instantiation of Python's native debugger class"
   ]
  }
 ],
 "metadata": {
  "kernelspec": {
   "display_name": "Python 3",
   "language": "python",
   "name": "python3"
  },
  "language_info": {
   "codemirror_mode": {
    "name": "ipython",
    "version": 3
   },
   "file_extension": ".py",
   "mimetype": "text/x-python",
   "name": "python",
   "nbconvert_exporter": "python",
   "pygments_lexer": "ipython3",
   "version": "3.8.8"
  }
 },
 "nbformat": 4,
 "nbformat_minor": 5
}
