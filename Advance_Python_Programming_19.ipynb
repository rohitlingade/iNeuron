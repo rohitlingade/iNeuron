{
 "cells": [
  {
   "cell_type": "code",
   "execution_count": 20,
   "id": "7c8c1f91",
   "metadata": {},
   "outputs": [
    {
     "name": "stdout",
     "output_type": "stream",
     "text": [
      "Enter size of board: 4\n",
      "Enter comma seperated two elements: c,d\n"
     ]
    },
    {
     "data": {
      "text/plain": [
       "[['c', 'd', 'c', 'd'],\n",
       " ['d', 'c', 'd', 'c'],\n",
       " ['c', 'd', 'c', 'd'],\n",
       " ['d', 'c', 'd', 'c']]"
      ]
     },
     "execution_count": 20,
     "metadata": {},
     "output_type": "execute_result"
    }
   ],
   "source": [
    "# 1. Create a checker board generator, which takes as inputs n and 2 elements to generate an n x n \n",
    "# checkerboard with those two elements as alternating squares.\n",
    "# Examples\n",
    "# checker_board(2, 7, 6) ➞ [\n",
    "#   [7, 6],\n",
    "#   [6, 7]\n",
    "# ]\n",
    "# checker_board(3, \"A\", \"B\") ➞ [\n",
    "#   [\"A\", \"B\", \"A\"],\n",
    "#   [\"B\", \"A\", \"B\"],\n",
    "#   [\"A\", \"B\", \"A\"]\n",
    "# ]\n",
    "# checker_board(4, \"c\", \"d\") ➞ [\n",
    "#   [\"c\", \"d\", \"c\", \"d\"],\n",
    "#   [\"d\", \"c\", \"d\", \"c\"],\n",
    "#   [\"c\", \"d\", \"c\", \"d\"],\n",
    "#   [\"d\", \"c\", \"d\", \"c\"]\n",
    "# ]\n",
    "# checker_board(4, \"c\", \"c\") ➞ \"invalid\"\n",
    "\n",
    "n=int(input(\"Enter size of board: \"))\n",
    "e1,e2=input(\"Enter comma seperated two elements: \").split(\",\")\n",
    "def checker_board(n,e1,e2):\n",
    "    checker=[]\n",
    "    for i in range(n):\n",
    "        inner=[]\n",
    "        for j in range(n):\n",
    "            if (i+j)%2==0:\n",
    "                inner.append(e1)\n",
    "            else:inner.append(e2)\n",
    "        checker.append(inner)\n",
    "    return checker\n",
    "checker_board(n,e1,e2)"
   ]
  },
  {
   "cell_type": "code",
   "execution_count": 14,
   "id": "2ba79731",
   "metadata": {},
   "outputs": [
    {
     "name": "stdout",
     "output_type": "stream",
     "text": [
      "Enter a string: 1234312\n"
     ]
    },
    {
     "data": {
      "text/plain": [
       "False"
      ]
     },
     "execution_count": 14,
     "metadata": {},
     "output_type": "execute_result"
    }
   ],
   "source": [
    "# 2. A string is an almost-palindrome if, by changing only one character, you can make it a palindrome. \n",
    "# Create a function that returns True if a string is an almost-palindrome and False otherwise.\n",
    "# Examples\n",
    "# almost_palindrome(\"abcdcbg\") ➞ True\n",
    "# # Transformed to \"abcdcba\" by changing \"g\" to \"a\".\n",
    "# almost_palindrome(\"abccia\") ➞ True\n",
    "# # Transformed to \"abccba\" by changing \"i\" to \"b\".\n",
    "# almost_palindrome(\"abcdaaa\") ➞ False\n",
    "# # Can't be transformed to a palindrome in exactly 1 turn.\n",
    "# almost_palindrome(\"1234312\") ➞ False\n",
    "\n",
    "str1=input(\"Enter a string: \")\n",
    "def almost_palindrome(str1):\n",
    "    count=0\n",
    "    for i in range(len(str1)//2+1):\n",
    "        if str1[i]==str1[-(i+1)]:\n",
    "            count+=1\n",
    "    if count==len(str1)//2:\n",
    "        return True\n",
    "    return False\n",
    "almost_palindrome(str1)"
   ]
  },
  {
   "cell_type": "code",
   "execution_count": 24,
   "id": "8569568c",
   "metadata": {},
   "outputs": [
    {
     "name": "stdout",
     "output_type": "stream",
     "text": [
      "Enter a number: 30\n"
     ]
    },
    {
     "data": {
      "text/plain": [
       "10"
      ]
     },
     "execution_count": 24,
     "metadata": {},
     "output_type": "execute_result"
    }
   ],
   "source": [
    "# 3. Create a function that finds how many prime numbers there are, up to the given integer.\n",
    "# Examples\n",
    "# prime_numbers(10) ➞ 4\n",
    "# # 2, 3, 5 and 7\n",
    "# prime_numbers(20) ➞ 8\n",
    "# # 2, 3, 5, 7, 11, 13, 17 and 19\n",
    "# prime_numbers(30) ➞ 10\n",
    "# # 2, 3, 5, 7, 11, 13, 17, 19, 23 and 29\n",
    "\n",
    "num=int(input(\"Enter a number: \"))\n",
    "def isPrime(num):\n",
    "    if num > 1:\n",
    "        for i in range(2, int(num/2)+1):\n",
    "            if (num % i) == 0:\n",
    "                return False\n",
    "        return True\n",
    "    return False\n",
    "def prime_numbers(num):\n",
    "    primes=[]\n",
    "    for i in range(num+1):\n",
    "        if isPrime(i):\n",
    "            primes.append(i)\n",
    "    return len(primes)\n",
    "prime_numbers(num)"
   ]
  },
  {
   "cell_type": "code",
   "execution_count": 33,
   "id": "2d306c66",
   "metadata": {},
   "outputs": [
    {
     "name": "stdout",
     "output_type": "stream",
     "text": [
      "Enter the list of days: [\"Monday\", \"Tuesday\", \"Friday\"]\n",
      "Enter number of days: 1\n"
     ]
    },
    {
     "data": {
      "text/plain": [
       "['Tuesday', 'Wednesday', 'Saturday']"
      ]
     },
     "execution_count": 33,
     "metadata": {},
     "output_type": "execute_result"
    }
   ],
   "source": [
    "# 4. If today was Monday, in two days, it would be Wednesday.\n",
    "# Create a function that takes in a list of days as input and the number of days to increment by. \n",
    "# Return a list of days after n number of days has passed.\n",
    "# Examples\n",
    "# after_n_days([\"Thursday\", \"Monday\"], 4) ➞ [\"Monday\", \"Friday\"]\n",
    "# after_n_days([\"Sunday\", \"Sunday\", \"Sunday\"], 1) ➞ [\"Monday\", \"Monday\", \"Monday\"]\n",
    "# after_n_days([\"Monday\", \"Tuesday\", \"Friday\"], 1) ➞ [\"Tuesday\", \"Wednesday\", \"Saturday\"]\n",
    "\n",
    "days={0:\"Sunday\",1:\"Monday\",2:\"Tuesday\",3:\"Wednesday\",4:\"Thursday\",5:\"Friday\",6:\"Saturday\"}\n",
    "dayL=eval(input(\"Enter the list of days: \"))\n",
    "num=int(input(\"Enter number of days: \"))\n",
    "def after_n_days(dayL,num):\n",
    "    ind=[]\n",
    "    for i in dayL:\n",
    "        if i in days.values():\n",
    "            ind.append(list(days.values()).index(i)+num)\n",
    "    return [days[i%7] for i in ind] \n",
    "after_n_days(dayL,num)"
   ]
  },
  {
   "cell_type": "code",
   "execution_count": 6,
   "id": "7f9d07ca",
   "metadata": {},
   "outputs": [
    {
     "name": "stdout",
     "output_type": "stream",
     "text": [
      "Enter alias lists: [\"Beth T.\"]\n",
      "Enter names lists: [\"Brandishing Mimosa\"]\n"
     ]
    },
    {
     "data": {
      "text/plain": [
       "False"
      ]
     },
     "execution_count": 6,
     "metadata": {},
     "output_type": "execute_result"
    }
   ],
   "source": [
    "# 5. You are in the process of creating a chat application and want to add an anonymous name feature. \n",
    "# This anonymous name feature will create an alias that consists of two capitalized words beginning with \n",
    "# the same letter as the users first name.\n",
    "# Create a function that determines if the list of users is mapped to a list of anonymous names correctly.\n",
    "# Examples\n",
    "# is_correct_aliases([\"Adrian M.\", \"Harriet S.\", \"Mandy T.\"], \n",
    "#                    [\"Amazing Artichoke\", \"Hopeful Hedgehog\", \"Marvelous Mouse\"]) ➞ True\n",
    "# is_correct_aliases([\"Rachel F.\", \"Pam G.\", \"Fred Z.\", \"Nancy K.\"], \n",
    "#                    [\"Reassuring Rat\", \"Peaceful Panda\", \"Fantastic Frog\", \"Notable Nickel\"]) ➞ True\n",
    "# is_correct_aliases([\"Beth T.\"], [\"Brandishing Mimosa\"]) ➞ False\n",
    "# # Both words in \"Brandishing Mimosa\" should begin with a \"B\" - \"Brandishing Beaver\" would do the trick.\n",
    "\n",
    "aliasLst,nameLst=eval(input(\"Enter alias lists: \")),eval(input(\"Enter names lists: \"))\n",
    "def is_correct_aliases(aliasLst,nameLst):\n",
    "    for i in range(len(aliasLst)):\n",
    "        if aliasLst[i][0]!=(nameLst[i].split())[0][0] or aliasLst[i][0]!=(nameLst[i].split())[1][0]:\n",
    "            return False\n",
    "        return True\n",
    "        \n",
    "is_correct_aliases(aliasLst,nameLst)"
   ]
  }
 ],
 "metadata": {
  "kernelspec": {
   "display_name": "Python 3",
   "language": "python",
   "name": "python3"
  },
  "language_info": {
   "codemirror_mode": {
    "name": "ipython",
    "version": 3
   },
   "file_extension": ".py",
   "mimetype": "text/x-python",
   "name": "python",
   "nbconvert_exporter": "python",
   "pygments_lexer": "ipython3",
   "version": "3.8.8"
  }
 },
 "nbformat": 4,
 "nbformat_minor": 5
}
