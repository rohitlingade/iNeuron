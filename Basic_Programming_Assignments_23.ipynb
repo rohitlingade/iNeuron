{
 "cells": [
  {
   "cell_type": "code",
   "execution_count": 5,
   "id": "8e9bdf41",
   "metadata": {},
   "outputs": [
    {
     "name": "stdout",
     "output_type": "stream",
     "text": [
      "Enter a number: 1112111\n"
     ]
    },
    {
     "data": {
      "text/plain": [
       "True"
      ]
     },
     "execution_count": 5,
     "metadata": {},
     "output_type": "execute_result"
    }
   ],
   "source": [
    "# Question 1\n",
    "# Create a function that takes a number as an argument and returns True or False \n",
    "# depending on whether the number is symmetrical or not. A number is symmetrical when it is the same as its reverse.\n",
    "# Examples\n",
    "# is_symmetrical(7227) ➞ True\n",
    "# is_symmetrical(12567) ➞ False\n",
    "# is_symmetrical(44444444) ➞ True\n",
    "# is_symmetrical(9939) ➞ False\n",
    "# is_symmetrical(1112111) ➞ True\n",
    "\n",
    "num=input(\"Enter a number: \")\n",
    "def is_symmetrical(num):\n",
    "    return num==num[::-1]\n",
    "is_symmetrical(num)"
   ]
  },
  {
   "cell_type": "code",
   "execution_count": 9,
   "id": "07908b28",
   "metadata": {},
   "outputs": [
    {
     "name": "stdout",
     "output_type": "stream",
     "text": [
      "Enter comma seperated values: 10,-2\n"
     ]
    },
    {
     "data": {
      "text/plain": [
       "-20"
      ]
     },
     "execution_count": 9,
     "metadata": {},
     "output_type": "execute_result"
    }
   ],
   "source": [
    "# Question 2\n",
    "# Given a string of numbers separated by a comma and space, return the product of the numbers.\n",
    "# Examples\n",
    "# multiply_nums(\"2, 3\") ➞ 6\n",
    "# multiply_nums(\"1, 2, 3, 4\") ➞ 24\n",
    "# multiply_nums(\"54, 75, 453, 0\") ➞ 0\n",
    "# multiply_nums(\"10, -2\") ➞ -20\n",
    "\n",
    "from functools import reduce\n",
    "lst=list(map(int,input(\"Enter comma seperated values: \").split(\",\")))\n",
    "reduce(lambda x,y:x*y ,lst)"
   ]
  },
  {
   "cell_type": "code",
   "execution_count": 12,
   "id": "ef077492",
   "metadata": {},
   "outputs": [
    {
     "name": "stdout",
     "output_type": "stream",
     "text": [
      "Enter a number: 3212\n"
     ]
    },
    {
     "data": {
      "text/plain": [
       "9414"
      ]
     },
     "execution_count": 12,
     "metadata": {},
     "output_type": "execute_result"
    }
   ],
   "source": [
    "# Question 3\n",
    "# Create a function that squares every digit of a number.\n",
    "# Examples\n",
    "# square_digits(9119) ➞ 811181\n",
    "# square_digits(2483) ➞ 416649\n",
    "# square_digits(3212) ➞ 9414\n",
    "# Notes\n",
    "# The function receives an integer and must return an integer.\n",
    "\n",
    "num=int(input(\"Enter a number: \"))\n",
    "def square_digits(num):\n",
    "    str1=\"\"\n",
    "    for i in str(num):\n",
    "        str1+=str(int(i)**2)\n",
    "    return int(str1)\n",
    "square_digits(num)"
   ]
  },
  {
   "cell_type": "code",
   "execution_count": 17,
   "id": "d3406228",
   "metadata": {},
   "outputs": [
    {
     "name": "stdout",
     "output_type": "stream",
     "text": [
      "Enter a list: [3, 3, 3, 2, 1]\n"
     ]
    },
    {
     "data": {
      "text/plain": [
       "[1, 2, 3]"
      ]
     },
     "execution_count": 17,
     "metadata": {},
     "output_type": "execute_result"
    }
   ],
   "source": [
    "# Question 4\n",
    "# Create a function that sorts a list and removes all duplicate items from it.\n",
    "# Examples\n",
    "# setify([1, 3, 3, 5, 5]) ➞ [1, 3, 5]\n",
    "# setify([4, 4, 4, 4]) ➞ [4]\n",
    "# setify([5, 7, 8, 9, 10, 15]) ➞ [5, 7, 8, 9, 10, 15]\n",
    "# setify([3, 3, 3, 2, 1]) ➞ [1, 2, 3]\n",
    "\n",
    "lst=eval(input(\"Enter a list: \"))\n",
    "def setify(lst):\n",
    "    return list(set(lst))\n",
    "setify(lst)"
   ]
  },
  {
   "cell_type": "code",
   "execution_count": 21,
   "id": "8065488c",
   "metadata": {},
   "outputs": [
    {
     "name": "stdout",
     "output_type": "stream",
     "text": [
      "Enter a number: 666\n"
     ]
    },
    {
     "data": {
      "text/plain": [
       "6"
      ]
     },
     "execution_count": 21,
     "metadata": {},
     "output_type": "execute_result"
    }
   ],
   "source": [
    "# Question 5\n",
    "# Create a function that returns the mean of all digits.\n",
    "# Examples\n",
    "# mean(42) ➞ 3\n",
    "# mean(12345) ➞ 3\n",
    "# mean(666) ➞ 6\n",
    "# Notes\n",
    "# •\tThe mean of all digits is the sum of digits / how many digits there are \n",
    "# (e.g. mean of digits in 512 is (5+1+2)/3(number of digits) = 8/3=2).\n",
    "# •\tThe mean will always be an integer.\n",
    "\n",
    "num=input(\"Enter a number: \")\n",
    "def mean(num):\n",
    "    total=0\n",
    "    for i in num:\n",
    "        total+=int(i)\n",
    "    return int(total/len(num))\n",
    "mean(num)"
   ]
  }
 ],
 "metadata": {
  "kernelspec": {
   "display_name": "Python 3",
   "language": "python",
   "name": "python3"
  },
  "language_info": {
   "codemirror_mode": {
    "name": "ipython",
    "version": 3
   },
   "file_extension": ".py",
   "mimetype": "text/x-python",
   "name": "python",
   "nbconvert_exporter": "python",
   "pygments_lexer": "ipython3",
   "version": "3.8.8"
  }
 },
 "nbformat": 4,
 "nbformat_minor": 5
}
