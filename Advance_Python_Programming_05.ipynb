{
 "cells": [
  {
   "cell_type": "code",
   "execution_count": 19,
   "id": "61c74d2f",
   "metadata": {},
   "outputs": [
    {
     "name": "stdout",
     "output_type": "stream",
     "text": [
      "Enter a number: 3\n"
     ]
    },
    {
     "data": {
      "text/plain": [
       "2"
      ]
     },
     "execution_count": 19,
     "metadata": {},
     "output_type": "execute_result"
    }
   ],
   "source": [
    "# 1. Create a function that takes a number n (integer greater than zero) as an argument, \n",
    "# and returns 2 if n is odd and 8 if n is even.\n",
    "# You can only use the following arithmetic operators: addition of numbers +, subtraction of numbers -, \n",
    "# multiplication of number *, division of number /, and exponentiation **.\n",
    "# You are not allowed to use any other methods in this challenge (i.e. no if statements, comparison operators, etc).\n",
    "# Examples\n",
    "# f(1) ➞ 2\n",
    "# f(2) ➞ 8\n",
    "# f(3) ➞ 2\n",
    "\n",
    "num=int(input(\"Enter a number: \"))\n",
    "numDict={0:8,1:2}\n",
    "def f(num):\n",
    "    return numDict[num%2]\n",
    "f(num)"
   ]
  },
  {
   "cell_type": "code",
   "execution_count": 16,
   "id": "6eb2dfc4",
   "metadata": {},
   "outputs": [
    {
     "name": "stdout",
     "output_type": "stream",
     "text": [
      "Enter voting list: [\"A\", \"B\", \"B\", \"A\", \"C\", \"C\"]\n",
      "None\n"
     ]
    }
   ],
   "source": [
    "# 2. Create a function that returns the majority vote in a list. A majority vote is an element that occurs > N/2 \n",
    "# times in a list (where N is the length of the list).\n",
    "# Examples\n",
    "# majority_vote([\"A\", \"A\", \"B\"]) ➞ \"A\"\n",
    "# majority_vote([\"A\", \"A\", \"A\", \"B\", \"C\", \"A\"]) ➞ \"A\"\n",
    "# majority_vote([\"A\", \"B\", \"B\", \"A\", \"C\", \"C\"]) ➞ None\n",
    "\n",
    "votingList=eval(input(\"Enter voting list: \"))\n",
    "def majority_vote(votingList):\n",
    "    for i in set(votingList):\n",
    "        if votingList.count(i) > len(votingList)//2:\n",
    "            return i\n",
    "    return None\n",
    "print(majority_vote(votingList))"
   ]
  },
  {
   "cell_type": "code",
   "execution_count": 35,
   "id": "aeb4f67a",
   "metadata": {},
   "outputs": [
    {
     "name": "stdout",
     "output_type": "stream",
     "text": [
      "Enter a string: Why did the chicken cross the road?\n",
      "Enter a list: [\"Did\", \"chicken\", \"road\"]\n",
      "Enter a char: *\n"
     ]
    },
    {
     "data": {
      "text/plain": [
       "'Why *** the ******* cross the road?'"
      ]
     },
     "execution_count": 35,
     "metadata": {},
     "output_type": "execute_result"
    }
   ],
   "source": [
    "# 3. Create a function that takes a string txt and censors any word from a given list lst. \n",
    "# The text removed must be replaced by the given character char.\n",
    "# Examples\n",
    "# censor_string(\"Today is a Wednesday!\", [\"Today\", \"a\"], \"-\") ➞ \"----- is - Wednesday!\"\n",
    "# censor_string(\"The cow jumped over the moon.\", [\"cow\", \"over\"], \"*\"), \"The *** jumped **** the moon.\")\n",
    "# censor_string(\"Why did the chicken cross the road?\", [\"Did\", \"chicken\", \"road\"], \"*\") ➞ \"Why *** the ******* \n",
    "#                                                                                             cross the ****?\"\n",
    "\n",
    "\n",
    "str1,lst1,char=input(\"Enter a string: \"),eval(input(\"Enter a list: \")),input(\"Enter a char: \")\n",
    "def censor_string(str1,lst1,char):\n",
    "    strList=str1.split()\n",
    "    lst1=[i.lower() for i in lst1]\n",
    "    for i in range(len(strList)):\n",
    "        if strList[i].lower() in lst1:\n",
    "            strList[i]=char*len(strList[i])\n",
    "    return \" \".join(strList)\n",
    "censor_string(str1,lst1,char)"
   ]
  },
  {
   "cell_type": "code",
   "execution_count": 24,
   "id": "d873bf53",
   "metadata": {},
   "outputs": [
    {
     "name": "stdout",
     "output_type": "stream",
     "text": [
      "Enter a number: 123220\n"
     ]
    },
    {
     "data": {
      "text/plain": [
       "False"
      ]
     },
     "execution_count": 24,
     "metadata": {},
     "output_type": "execute_result"
    }
   ],
   "source": [
    "# 4. In mathematics a Polydivisible Number (or magic number) is a number in a given number base with digits abcde... \n",
    "# that has the following properties:\n",
    "# -  Its first digit a is not 0.\n",
    "# - The number formed by its first two digits ab is a multiple of 2.\n",
    "# - The number formed by its first three digits abc is a multiple of 3.\n",
    "# - The number formed by its first four digits abcd is a multiple of 4.\n",
    "# Create a function which takes an integer n and returns True if the given number is a Polydivisible Number \n",
    "# and False otherwise.\n",
    "# Examples\n",
    "# is_polydivisible(1232) ➞ True\n",
    "# # 1     / 1 = 1\n",
    "# # 12    / 2 = 6\n",
    "# # 123   / 3 = 41\n",
    "# # 1232  / 4 = 308\n",
    "\n",
    "# is_polydivisible(123220 ) ➞ False\n",
    "# # 1   / 1 = 1\n",
    "# # 12   / 2 = 6\n",
    "# # 123   / 3 = 41\n",
    "# # 1232   / 4 = 308\n",
    "# # 12322   / 5 = 2464.4         # Not a Whole Number\n",
    "# # 123220   /6 = 220536.333...  # Not a Whole Number\n",
    "\n",
    "num=int(input(\"Enter a number: \"))\n",
    "def is_polydivisible(num):\n",
    "    strNum=str(num)\n",
    "    count=0\n",
    "    for i in range(1,len(strNum)+1):\n",
    "        if (int(strNum[:i])/i).is_integer():\n",
    "            count+=1\n",
    "    return count==len(strNum)\n",
    "            \n",
    "is_polydivisible(num)"
   ]
  },
  {
   "cell_type": "code",
   "execution_count": 9,
   "id": "4c1c8d83",
   "metadata": {},
   "outputs": [
    {
     "name": "stdout",
     "output_type": "stream",
     "text": [
      "Enter a list: [2, 3, 4, 11, 20, 50, 71]\n",
      "87\n"
     ]
    }
   ],
   "source": [
    "# 5. Create a function that takes a list of numbers and returns the sum of all prime numbers in the list.\n",
    "# Examples\n",
    "# sum_primes([1, 2, 3, 4, 5, 6, 7, 8, 9, 10]) ➞ 17\n",
    "# sum_primes([2, 3, 4, 11, 20, 50, 71]) ➞ 87\n",
    "# sum_primes([]) ➞ None\n",
    "\n",
    "lst1=eval(input(\"Enter a list: \"))\n",
    "def is_prime(num):\n",
    "    if num==2:return True\n",
    "    count=0\n",
    "    for i in range(1,num//2+1):\n",
    "        if num%i==0:\n",
    "            count+=1\n",
    "    if count==1:return True\n",
    "    return False\n",
    "def sum_primes(lst1):\n",
    "    total=0\n",
    "    if lst1==[]:\n",
    "        return None\n",
    "    for i in lst1:\n",
    "        if is_prime(i):\n",
    "            total+=i\n",
    "    return total\n",
    "print(sum_primes(lst1))"
   ]
  }
 ],
 "metadata": {
  "kernelspec": {
   "display_name": "Python 3",
   "language": "python",
   "name": "python3"
  },
  "language_info": {
   "codemirror_mode": {
    "name": "ipython",
    "version": 3
   },
   "file_extension": ".py",
   "mimetype": "text/x-python",
   "name": "python",
   "nbconvert_exporter": "python",
   "pygments_lexer": "ipython3",
   "version": "3.8.8"
  }
 },
 "nbformat": 4,
 "nbformat_minor": 5
}
