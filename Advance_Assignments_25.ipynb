{
 "cells": [
  {
   "cell_type": "markdown",
   "id": "80e0425e",
   "metadata": {},
   "source": [
    "Q1. What is the distinction between a numpy array and a pandas data frame? Is there a way to convert between the two if there is?\n",
    "\n",
    "ANS:\n",
    "\n",
    "Numpy Ndarray provides a lot of convenient and optimized methods for performing several mathematical operations on vectors.\n",
    "\n",
    "Pandas Dataframe is an in-memory 2-dimensional tabular representation of data. In simpler words, it can be seen as a spreadsheet having rows and columns.\n",
    "\n",
    "Conversion : Dataframe=pandas.DataFrame(array)"
   ]
  },
  {
   "cell_type": "markdown",
   "id": "df46094a",
   "metadata": {},
   "source": [
    "Q2. What can go wrong when an user enters in a stock-ticker symbol, and how do you handle it?\n",
    "\n",
    "ANS:\n",
    "\n",
    "Issue is that if the user enters a nonexistent stock ticker, the program gives an error and stops working\n",
    "\n",
    "Thus, searching for a portion of that string will do the trick, don't even need to specifiy the exact ticker value:\n",
    "\n",
    "import requests, lxml\n",
    "from bs4 import BeautifulSoup\n",
    "\n",
    "r = requests.get('https://www.bloomberg.com/quote/XYZ:US')\n",
    "soup = BeautifulSoup(r.content, \"lxml\")\n",
    "\n",
    "f = soup.find_all(\"div\", \"premium__message\")\n",
    "\n",
    "if 'produced no matches' in str(f):\n",
    "    # do something"
   ]
  },
  {
   "cell_type": "markdown",
   "id": "30384769",
   "metadata": {},
   "source": [
    "Q3. Identify some of the plotting techniques that are used to produce a stock-market chart.\n",
    "\n",
    "ANS:\n",
    "\n",
    "Bar chart, Line Chart are used for plotting."
   ]
  },
  {
   "cell_type": "markdown",
   "id": "bff2689f",
   "metadata": {},
   "source": [
    "Q4. Why is it essential to print a legend on a stock market chart?\n",
    "\n",
    "ANS:\n",
    "\n",
    "Legend will help comparison between different stocks, so will be essential on a stock market chart"
   ]
  },
  {
   "cell_type": "markdown",
   "id": "44ca8fc5",
   "metadata": {},
   "source": [
    "Q5. What is the best way to limit the length of a pandas data frame to less than a year?\n",
    "\n",
    "ANS:\n",
    "\n",
    "We can use start and end parameters for that. In start we write the date from where we are starting and at the end we write the end date. SO within this span we can restric the duration.Also we can use the parameters like periods for how much times we need the duration and we can also use the frequency parameter."
   ]
  },
  {
   "cell_type": "markdown",
   "id": "8c0d649e",
   "metadata": {},
   "source": [
    "Q6. What is the definition of a 180-day moving average?\n",
    "\n",
    "ANS:\n",
    "\n",
    "The 180-day moving average is represented as a line on charts and represents the average price over the past 180 days. The moving average can give traders a sense regarding whether the trend is up or down, while also identifying potential support or resistance areas."
   ]
  },
  {
   "cell_type": "markdown",
   "id": "f5d52dfe",
   "metadata": {},
   "source": [
    "Q7. Did the chapter's final example use \"indirect\" importing? If so, how exactly do you do it?\n",
    "\n",
    "ANS:\n",
    "\n",
    "While developing proxy_checker, a simple Python script to verify if a list of proxy servers are up and running or not, I ran into an interesting scenario. Out of the box, the extremely popular Requests library supports proxying your requests using HTTP and HTTPS proxies. It also has support for proxying requests via SOCKS proxies but this requires that you install the additional PySocks module. This can be done either by:\n",
    "\n",
    ".installing the requests[socks] module instead of the vanilla requests module\n",
    ".installing the PySocks module\n",
    "\n",
    "The strange [socks] part in the first module is what is referred to as an optional package. setuptools allows you to specify variants of your installation package so that only modules that are needed by a given user are installed instead of it polluting your runtime environment by installing unnecessary modules. These are defined in a project’s setup.py. The request module’s setup.py shows the following:\n",
    "\n",
    "extras_require={\n",
    "    'security': [],\n",
    "    'socks': ['PySocks>=1.5.6, !=1.5.7'],\n",
    "    'socks:sys_platform == \"win32\" and python_version == \"2.7\"': ['win_inet_pton'],\n",
    "    'use_chardet_on_py3': ['chardet>=3.0.2,<5']\n",
    "}\n",
    "\n",
    "The 'namespace' may be a misnomer, module interfaces are 'exposed'to the module that imports it - it's not imported a second time intothe new 'namespace'. The confusion comes about thinking that modules\n",
    "and classes are related.\n",
    "When a module is first imported, an instance is created for the module and the public interfaces/variables are exposed to the module that did the import. When another call to import the same module from somewhere\n",
    "else, Python recognizes that the module has already been imported, so it only creates a reference link to the new module that called import. That is why you get the same ID number for the module function calls.\n",
    "It's similar to classes in that Python keeps track of 'instances' of classes as well as 'instances' of modules, the 'class' instance is based upon variables which can be either the same class (think of a call to a function with a class instance as the input) or a new instance (where the same class is reused, but with different values),\n",
    "whereas modules are based upon executable bytecode where there is only one instance at all times during the program execution."
   ]
  }
 ],
 "metadata": {
  "kernelspec": {
   "display_name": "Python 3",
   "language": "python",
   "name": "python3"
  },
  "language_info": {
   "codemirror_mode": {
    "name": "ipython",
    "version": 3
   },
   "file_extension": ".py",
   "mimetype": "text/x-python",
   "name": "python",
   "nbconvert_exporter": "python",
   "pygments_lexer": "ipython3",
   "version": "3.8.8"
  }
 },
 "nbformat": 4,
 "nbformat_minor": 5
}
