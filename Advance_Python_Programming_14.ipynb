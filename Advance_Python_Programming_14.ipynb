{
 "cells": [
  {
   "cell_type": "code",
   "execution_count": 16,
   "id": "e96b1b45",
   "metadata": {},
   "outputs": [
    {
     "name": "stdout",
     "output_type": "stream",
     "text": [
      "Enter a list: [2,100]\n"
     ]
    },
    {
     "data": {
      "text/plain": [
       "[27.0, 75.0]"
      ]
     },
     "execution_count": 16,
     "metadata": {},
     "output_type": "execute_result"
    }
   ],
   "source": [
    "# 1. Given a list of numbers, create a function that removes 25% from every number in the \n",
    "# list except the smallest number, and adds the total amount removed to the smallest number.\n",
    "# Examples\n",
    "# show_the_love([4, 1, 4]) ➞ [3, 3, 3]\n",
    "# show_the_love([16, 10, 8]) ➞ [12, 7.5, 14.5]\n",
    "# show_the_love([2, 100]) ➞ [27, 75]\n",
    "\n",
    "lst=eval(input(\"Enter a list: \"))\n",
    "def show_the_love(lst):\n",
    "    diff=0\n",
    "    min_ele=min(lst)\n",
    "    for i in range(len(lst)):\n",
    "        if lst[i] != min_ele:\n",
    "            a=lst[i]\n",
    "            lst[i]=(lst[i]*3/4)\n",
    "            diff+=(a-lst[i])\n",
    "    for i in range(len(lst)):\n",
    "        if lst[i] == min_ele:\n",
    "            lst[i]+=diff\n",
    "    return lst\n",
    "show_the_love(lst)"
   ]
  },
  {
   "cell_type": "code",
   "execution_count": 62,
   "id": "5e85c1b9",
   "metadata": {},
   "outputs": [
    {
     "name": "stdout",
     "output_type": "stream",
     "text": [
      "Enter comma seperated two strings: match,ham\n"
     ]
    },
    {
     "data": {
      "text/plain": [
       "['ahm', 'ct', '']"
      ]
     },
     "execution_count": 62,
     "metadata": {},
     "output_type": "execute_result"
    }
   ],
   "source": [
    "# 2. Create a function that takes in two words as input and returns a list of three elements, \n",
    "# in the following order:\n",
    "#    1.Shared letters between two words.\n",
    "#    2.Letters unique to word 1.\n",
    "#    3.Letters unique to word 2.\n",
    "# Each element should have unique letters, and have each letter be alphabetically sorted.\n",
    "# Examples\n",
    "# letters(\"sharp\", \"soap\") ➞ [\"aps\", \"hr\", \"o\"]\n",
    "# letters(\"board\", \"bored\") ➞ [\"bdor\", \"a\", \"e\"]\n",
    "# letters(\"happiness\", \"envelope\") ➞ [\"enp\", \"ahis\", \"lov\"]\n",
    "# letters(\"kerfuffle\", \"fluffy\") ➞ [\"flu\", \"ekr\", \"y\"]\n",
    "# # Even with multiple matching letters (e.g. 3 f's), there should \n",
    "# # only exist a single \"f\" in your first element.\n",
    "# letters(\"match\", \"ham\") ➞ [\"ahm\", \"ct\", \"\"]\n",
    "# # \"ham\" does not contain any letters that are not found already \n",
    "# # in \"match\".\n",
    "\n",
    "str1,str2=input(\"Enter comma seperated two strings: \").split(\",\")\n",
    "def uniq(str1):\n",
    "    uni=''\n",
    "    for i in str1:\n",
    "        if i not in uni:\n",
    "            uni+=i\n",
    "    return uni\n",
    "    \n",
    "def letters(str1,str2):\n",
    "    common,uni1,uni2='',str1,str2\n",
    "    min_len=min(len(str1),len(str2))\n",
    "    for i in uni1:\n",
    "        for j in uni2:\n",
    "            if i==j:\n",
    "                common+=i\n",
    "                uni1=uni1.replace(i,\"\")\n",
    "                uni2=uni2.replace(i,\"\")\n",
    "    common,uni1,uni2=uniq(common),uniq(uni1),uniq(uni2)\n",
    "    return [\"\".join(sorted(common)),\"\".join(sorted(uni1)),\"\".join(sorted(uni2))]\n",
    "letters(str1,str2)"
   ]
  },
  {
   "cell_type": "code",
   "execution_count": 61,
   "id": "8080eed4",
   "metadata": {},
   "outputs": [
    {
     "name": "stdout",
     "output_type": "stream",
     "text": [
      "Enter a list: []\n"
     ]
    },
    {
     "data": {
      "text/plain": [
       "[]"
      ]
     },
     "execution_count": 61,
     "metadata": {},
     "output_type": "execute_result"
    }
   ],
   "source": [
    "# 3. Write a function that pairs the first number in an array with the last, \n",
    "# the second number with the second to last, etc.\n",
    "# Examples\n",
    "# pairs([1, 2, 3, 4, 5, 6, 7]) ➞ [[1, 7], [2, 6], [3, 5], [4, 4]]\n",
    "# pairs([1, 2, 3, 4, 5, 6]) ➞ [[1, 6], [2, 5], [3, 4]]\n",
    "# pairs([5, 9, 8, 1, 2]) ➞ [[5, 2], [9, 1], [8, 8]]\n",
    "# pairs([]) ➞ []\n",
    "import math\n",
    "lst=eval(input(\"Enter a list: \"))\n",
    "def pairs(lst):\n",
    "    pair=[]\n",
    "    for i in range(math.ceil(len(lst)/2)):\n",
    "        pair.append([lst[i],lst[-(i+1)]])\n",
    "    return pair\n",
    "pairs(lst)"
   ]
  },
  {
   "cell_type": "code",
   "execution_count": 51,
   "id": "1a9a5add",
   "metadata": {},
   "outputs": [
    {
     "name": "stdout",
     "output_type": "stream",
     "text": [
      "Enter two comma seperated numbers: 1874682736267235927359283579235789257,32652983572985729\n"
     ]
    },
    {
     "data": {
      "text/plain": [
       "'1874682736267235927391936562808774986'"
      ]
     },
     "execution_count": 51,
     "metadata": {},
     "output_type": "execute_result"
    }
   ],
   "source": [
    "# 4. Write a function that adds two numbers. The catch, however, is that the numbers will be strings.\n",
    "# Examples\n",
    "# add_str_nums(\"4\", \"5\") ➞ \"9\"\n",
    "# add_str_nums(\"abcdefg\", \"3\") ➞ \"-1\"\n",
    "# add_str_nums(\"1\", \"\") ➞ \"1\"\n",
    "# add_str_nums(\"1874682736267235927359283579235789257\", \"32652983572985729\") ➞ \"1874682736267235927391936562808774986\"\n",
    "\n",
    "num1,num2=input(\"Enter two comma seperated numbers: \").split(\",\")\n",
    "def add_str_nums(num1,num2):\n",
    "    if num1.isalpha() or num2.isalpha():\n",
    "        return \"-1\"\n",
    "    if num1==\"\":num1='0'\n",
    "    if num2==\"\":num2='0'\n",
    "    return str(int(num1)+int(num2))\n",
    "add_str_nums(num1,num2)"
   ]
  },
  {
   "cell_type": "code",
   "execution_count": 58,
   "id": "cae81bc9",
   "metadata": {},
   "outputs": [
    {
     "name": "stdout",
     "output_type": "stream",
     "text": [
      "Enter a string: badce\n"
     ]
    },
    {
     "data": {
      "text/plain": [
       "'abcde'"
      ]
     },
     "execution_count": 58,
     "metadata": {},
     "output_type": "execute_result"
    }
   ],
   "source": [
    "# 5. lPaeesh le pemu mnxit ehess rtnisg! Oh, sorry, that was supposed to say: Please help me unmix these strings!\n",
    "# Somehow my strings have all become mixed up; every pair of characters has been swapped. \n",
    "# Help me undo this so I can understand my strings again.\n",
    "# Examples\n",
    "# unmix(\"123456\") ➞ \"214365\"\n",
    "# unmix(\"hTsii  s aimex dpus rtni.g\") ➞ \"This is a mixed up string.\"\n",
    "# unmix(\"badce\") ➞ \"abcde\"\n",
    "\n",
    "str1=input(\"Enter a string: \")\n",
    "def unmix(str1):\n",
    "    op=''\n",
    "    for i in range(1,len(str1),2):\n",
    "        op+=(str1[i]+str1[i-1])\n",
    "    if len(str1)%2==0:return op\n",
    "    else:return op+str1[-1]\n",
    "unmix(str1)"
   ]
  }
 ],
 "metadata": {
  "kernelspec": {
   "display_name": "Python 3",
   "language": "python",
   "name": "python3"
  },
  "language_info": {
   "codemirror_mode": {
    "name": "ipython",
    "version": 3
   },
   "file_extension": ".py",
   "mimetype": "text/x-python",
   "name": "python",
   "nbconvert_exporter": "python",
   "pygments_lexer": "ipython3",
   "version": "3.8.8"
  }
 },
 "nbformat": 4,
 "nbformat_minor": 5
}
