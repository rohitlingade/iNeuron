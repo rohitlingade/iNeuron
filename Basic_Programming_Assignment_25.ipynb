{
 "cells": [
  {
   "cell_type": "code",
   "execution_count": 3,
   "id": "d1eaaf34",
   "metadata": {},
   "outputs": [
    {
     "name": "stdout",
     "output_type": "stream",
     "text": [
      "Enter comma seperated values: 3,4,1\n"
     ]
    },
    {
     "data": {
      "text/plain": [
       "0"
      ]
     },
     "execution_count": 3,
     "metadata": {},
     "output_type": "execute_result"
    }
   ],
   "source": [
    "# Question1\n",
    "# Create a function that takes three integer arguments (a, b, c) and returns the amount of \n",
    "# integers which are of equal value.\n",
    "# Examples\n",
    "# equal(3, 4, 3) ➞ 2\n",
    "# equal(1, 1, 1) ➞ 3\n",
    "# equal(3, 4, 1) ➞ 0 \n",
    "# Notes\n",
    "# Your function must return 0, 2 or 3.\n",
    "\n",
    "num1,num2,num3=tuple(map(int,input(\"Enter comma seperated values: \").split(\",\")))\n",
    "def equal(num1,num2,num3):\n",
    "    lst=[num1,num2,num3]\n",
    "    if len(lst)==len(set(lst)):\n",
    "        return 0\n",
    "    return len(lst)-len(set(lst))+1\n",
    "    \n",
    "equal(num1,num2,num3)"
   ]
  },
  {
   "cell_type": "code",
   "execution_count": 15,
   "id": "639a6dec",
   "metadata": {},
   "outputs": [
    {
     "name": "stdout",
     "output_type": "stream",
     "text": [
      "Enter a dictionery: { \"likes\": 2, \"dislikes\": 3,\"followers\": 10}\n"
     ]
    },
    {
     "data": {
      "text/plain": [
       "[('dislikes', 3), ('followers', 10), ('likes', 2)]"
      ]
     },
     "execution_count": 15,
     "metadata": {},
     "output_type": "execute_result"
    }
   ],
   "source": [
    "# Question2\n",
    "# Write a function that converts a dictionary into a list of keys-values tuples.\n",
    "# Examples\n",
    "# dict_to_list({\n",
    "#   \"D\": 1,\n",
    "#   \"B\": 2,\n",
    "#   \"C\": 3\n",
    "# }) ➞ [(\"B\", 2), (\"C\", 3), (\"D\", 1)]\n",
    "\n",
    "# dict_to_list({\n",
    "#   \"likes\": 2,\n",
    "#   \"dislikes\": 3,\n",
    "#   \"followers\": 10\n",
    "# }) ➞ [(\"dislikes\", 3), (\"followers\", 10), (\"likes\", 2)]\n",
    "# Notes\n",
    "# Return the elements in the list in alphabetical order.\n",
    "\n",
    "dictionery=eval(input(\"Enter a dictionery: \"))\n",
    "def dict_to_list(dictionery):\n",
    "    lst=list(dictionery.items())\n",
    "    lst.sort(key=lambda x:x[0])\n",
    "    return lst\n",
    "dict_to_list(dictionery)"
   ]
  },
  {
   "cell_type": "code",
   "execution_count": 18,
   "id": "865f3b80",
   "metadata": {},
   "outputs": [
    {
     "name": "stdout",
     "output_type": "stream",
     "text": [
      "Enter a list: [\"a\", \"v\", \"y\", \"z\"]\n"
     ]
    },
    {
     "data": {
      "text/plain": [
       "{'a': 'A', 'v': 'V', 'y': 'Y', 'z': 'Z'}"
      ]
     },
     "execution_count": 18,
     "metadata": {},
     "output_type": "execute_result"
    }
   ],
   "source": [
    "# Question3\n",
    "# Write a function that creates a dictionary with each (key, value) pair being the (lower case, upper case) \n",
    "# versions of a letter, respectively.\n",
    "# Examples\n",
    "# mapping([\"p\", \"s\"]) ➞ { \"p\": \"P\", \"s\": \"S\" }\n",
    "# mapping([\"a\", \"b\", \"c\"]) ➞ { \"a\": \"A\", \"b\": \"B\", \"c\": \"C\" }\n",
    "# mapping([\"a\", \"v\", \"y\", \"z\"]) ➞ { \"a\": \"A\", \"v\": \"V\", \"y\": \"Y\", \"z\": \"Z\" }\n",
    "# Notes\n",
    "# All of the letters in the input list will always be lowercase.\n",
    "\n",
    "lst=eval(input(\"Enter a list: \"))\n",
    "def mapping(lst):\n",
    "    dictionery={}\n",
    "    for i in lst:\n",
    "        dictionery[i]=i.upper()\n",
    "    return dictionery\n",
    "mapping(lst)"
   ]
  },
  {
   "cell_type": "code",
   "execution_count": 22,
   "id": "483347a4",
   "metadata": {},
   "outputs": [
    {
     "name": "stdout",
     "output_type": "stream",
     "text": [
      "Enter a sentence: stuffed jalapeno poppers\n",
      "Enter a character: e\n"
     ]
    },
    {
     "data": {
      "text/plain": [
       "'steffed jelepene peppers'"
      ]
     },
     "execution_count": 22,
     "metadata": {},
     "output_type": "execute_result"
    }
   ],
   "source": [
    "# Question4\n",
    "# Write a function, that replaces all vowels in a string with a specified vowel.\n",
    "# Examples\n",
    "# vow_replace(\"apples and bananas\", \"u\") ➞ \"upplus und bununus\"\n",
    "# vow_replace(\"cheese casserole\", \"o\") ➞ \"chooso cossorolo\"\n",
    "# vow_replace(\"stuffed jalapeno poppers\", \"e\") ➞ \"steffed jelepene peppers\"\n",
    "# Notes\n",
    "# All words will be lowercase. Y is not considered a vowel.\n",
    "\n",
    "sentence=input(\"Enter a sentence: \")\n",
    "char=input(\"Enter a character: \")\n",
    "def vow_replace(sentence,char):\n",
    "    vowels=\"aeiou\"\n",
    "    for i in sentence:\n",
    "        if i in vowels:\n",
    "            sentence=sentence.replace(i,char)\n",
    "    return sentence\n",
    "vow_replace(sentence,char)"
   ]
  },
  {
   "cell_type": "code",
   "execution_count": 36,
   "id": "af3032e1",
   "metadata": {},
   "outputs": [
    {
     "name": "stdout",
     "output_type": "stream",
     "text": [
      "Enter a string: Oh what a beautiful morning.\n"
     ]
    },
    {
     "data": {
      "text/plain": [
       "'oH wHaT a BeauTiFuL moRNiNg.'"
      ]
     },
     "execution_count": 36,
     "metadata": {},
     "output_type": "execute_result"
    }
   ],
   "source": [
    "# Question5\n",
    "# Create a function that takes a string as input and capitalizes a letter if its ASCII code is even and \n",
    "# returns its lower case version if its ASCII code is odd.\n",
    "# Examples\n",
    "# ascii_capitalize(\"to be or not to be!\") ➞ \"To Be oR NoT To Be!\"\n",
    "# ascii_capitalize(\"THE LITTLE MERMAID\") ➞ \"THe LiTTLe meRmaiD\"\n",
    "# ascii_capitalize(\"Oh what a beautiful morning.\") ➞ \"oH wHaT a BeauTiFuL moRNiNg.\"\n",
    "\n",
    "str1=input(\"Enter a string: \")\n",
    "def ascii_capitalize(str1):\n",
    "    final_str=\"\"\n",
    "    for i in str1.lower():\n",
    "        if ord(i)%2 == 0:\n",
    "            final_str+=i.upper()\n",
    "            continue\n",
    "        else:\n",
    "            final_str+=i\n",
    "            continue\n",
    "    return final_str\n",
    "ascii_capitalize(str1)"
   ]
  }
 ],
 "metadata": {
  "kernelspec": {
   "display_name": "Python 3",
   "language": "python",
   "name": "python3"
  },
  "language_info": {
   "codemirror_mode": {
    "name": "ipython",
    "version": 3
   },
   "file_extension": ".py",
   "mimetype": "text/x-python",
   "name": "python",
   "nbconvert_exporter": "python",
   "pygments_lexer": "ipython3",
   "version": "3.8.8"
  }
 },
 "nbformat": 4,
 "nbformat_minor": 5
}
