{
 "cells": [
  {
   "cell_type": "code",
   "execution_count": 4,
   "id": "78ec4ebd",
   "metadata": {},
   "outputs": [
    {
     "name": "stdout",
     "output_type": "stream",
     "text": [
      "Enter ist of moves: [\"right 100\", \"right 100\", \"up 500\", \"up 10000\"]\n"
     ]
    },
    {
     "data": {
      "text/plain": [
       "[200, 10500]"
      ]
     },
     "execution_count": 4,
     "metadata": {},
     "output_type": "execute_result"
    }
   ],
   "source": [
    "# 1. A robot has been given a list of movement instructions. Each instruction is either \n",
    "# left, right, up or down, followed by a distance to move. The robot starts at [0, 0]. \n",
    "# You want to calculate where the robot will end up and return its final position as a list.\n",
    "# To illustrate, if the robot is given the following instructions:\n",
    "# [\"right 10\", \"up 50\", \"left 30\", \"down 10\"]\n",
    "# It will end up 20 left and 40 up from where it started, so we return [-20, 40].\n",
    "# Examples\n",
    "# track_robot([\"right 10\", \"up 50\", \"left 30\", \"down 10\"]) ➞ [-20, 40]\n",
    "# track_robot([]) ➞ [0, 0]\n",
    "# //If there are no instrictions, the robot doesn't move.\n",
    "# track_robot([\"right 100\", \"right 100\", \"up 500\", \"up 10000\"]) ➞ [200, 10500]\n",
    "\n",
    "lst=eval(input(\"Enter ist of moves: \"))\n",
    "def track_robot(lst):\n",
    "    if lst==[]:return [0,0]\n",
    "    for i in range(len(lst)):\n",
    "        lst[i]=lst[i].split()\n",
    "    hori,vert=0,0\n",
    "    for i in lst:\n",
    "        if i[0]=='right':\n",
    "            hori+=int(i[1])\n",
    "        elif i[0]=='left':\n",
    "            hori-=int(i[1])\n",
    "        elif i[0]=='up':\n",
    "            vert+=int(i[1])\n",
    "        elif i[0]=='down':\n",
    "            vert-=int(i[1])\n",
    "    return [hori,vert]\n",
    "track_robot(lst)"
   ]
  },
  {
   "cell_type": "code",
   "execution_count": 11,
   "id": "2d0af97d",
   "metadata": {},
   "outputs": [
    {
     "name": "stdout",
     "output_type": "stream",
     "text": [
      "Enter a sentence: 'Strengths' is the longest and most commonly used word that contains only a single vowel.\n"
     ]
    },
    {
     "data": {
      "text/plain": [
       "'Strengths'"
      ]
     },
     "execution_count": 11,
     "metadata": {},
     "output_type": "execute_result"
    }
   ],
   "source": [
    "# 2. Write a function that will return the longest word in a sentence. \n",
    "# In cases where more than one word is found, return the first one.\n",
    "# Examples\n",
    "# find_longest(\"A thing of beauty is a joy forever.\") ➞ \"forever\"\n",
    "# find_longest(\"Forgetfulness is by all means powerless!\") ➞ \"forgetfulness\"\n",
    "# find_longest(\"\\\"Strengths\\\" is the longest and most commonly used word that contains only a single vowel.\") ➞ \n",
    "#                                                                                                     \"strengths\"\n",
    "\n",
    "sent=input(\"Enter a sentence: \")\n",
    "def find_longest(sent):\n",
    "    lst=sent[:-1].split()\n",
    "    maxLen=0\n",
    "    long=''\n",
    "    for i in lst:\n",
    "        if len(i)>maxLen:\n",
    "            maxLen=len(i)\n",
    "            long=i\n",
    "    d,s='\"',\"'\"\n",
    "    for i in range(2):\n",
    "        if s in long:\n",
    "            long=long.replace(s,\"\")\n",
    "        if d in long:\n",
    "            long=long.replace(d,\"\")\n",
    "    return long\n",
    "find_longest(sent)"
   ]
  },
  {
   "cell_type": "code",
   "execution_count": 35,
   "id": "e8c8dfd5",
   "metadata": {},
   "outputs": [
    {
     "name": "stdout",
     "output_type": "stream",
     "text": [
      "Enter list with time: [5, 5, 10, 10, 15, 15, 20, 20]\n",
      "Enter complete time for interview: 130\n"
     ]
    },
    {
     "data": {
      "text/plain": [
       "'disqualified'"
      ]
     },
     "execution_count": 35,
     "metadata": {},
     "output_type": "execute_result"
    }
   ],
   "source": [
    "# 3. Create a function to check if a candidate is qualified in an imaginary coding interview \n",
    "# of an imaginary tech startup.\n",
    "# The criteria for a candidate to be qualified in the coding interview is:\n",
    "#    1. The candidate should have complete all the questions.\n",
    "#    2. The maximum time given to complete the interview is 120 minutes.\n",
    "#    3. The maximum time given for very easy questions is 5 minutes each.\n",
    "#    4. The maximum time given for easy questions is 10 minutes each.\n",
    "#    5. The maximum time given for medium questions is 15 minutes each.\n",
    "#    6. The maximum time given for hard questions is 20 minutes each.\n",
    "# If all the above conditions are satisfied, return \"qualified\", else return \"disqualified\".\n",
    "# You will be given a list of time taken by a candidate to solve a particular question and the total \n",
    "# time taken by the candidate to complete the interview.\n",
    "# Given a list , in a true condition will always be in the format \n",
    "# [very easy, very easy, easy, easy, medium, medium, hard, hard].\n",
    "# The maximum time to complete the interview includes a buffer time of 20 minutes.\n",
    "# Examples\n",
    "# interview([5, 5, 10, 10, 15, 15, 20, 20], 120) ➞ \"qualified\"\n",
    "# interview([2, 3, 8, 6, 5, 12, 10, 18], 64) ➞  \"qualified\"\n",
    "# interview([5, 5, 10, 10, 25, 15, 20, 20], 120) ➞ \"disqualified\"\n",
    "# # Exceeded the time limit for a medium question.\n",
    "# interview([5, 5, 10, 10, 15, 15, 20], 120) ➞ \"disqualified\"\n",
    "# # Did not complete all the questions.\n",
    "# interview([5, 5, 10, 10, 15, 15, 20, 20], 130) ➞ \"disqualified\"\n",
    "# # Solved all the questions in their respected time limits but exceeded the total time limit of the interview.\n",
    "\n",
    "lst=eval(input(\"Enter list with time: \"))\n",
    "time=int(input(\"Enter complete time for interview: \"))\n",
    "def interview(lst,time):\n",
    "    if time>120 or len(lst)<8: return 'disqualified'\n",
    "    mul=1\n",
    "    for i in range(0,len(lst),2):\n",
    "        if lst[i]>mul*5 or lst[i+1]>mul*5:\n",
    "            return 'disqualified'\n",
    "        mul+=1\n",
    "    return 'qualified'\n",
    "interview(lst,time)"
   ]
  },
  {
   "cell_type": "code",
   "execution_count": 18,
   "id": "c6d6665d",
   "metadata": {},
   "outputs": [
    {
     "name": "stdout",
     "output_type": "stream",
     "text": [
      "Enter a list: [2, 3, 4, 5, 6, 7]\n",
      "Enter a number: 7\n"
     ]
    },
    {
     "data": {
      "text/plain": [
       "[[2, 3, 4, 5, 6, 7]]"
      ]
     },
     "execution_count": 18,
     "metadata": {},
     "output_type": "execute_result"
    }
   ],
   "source": [
    "# 4. Write a function that divides a list into chunks of size n, where n is the length of each chunk.\n",
    "# Examples\n",
    "# chunkify([2, 3, 4, 5], 2) ➞ [[2, 3], [4, 5]]\n",
    "# chunkify([2, 3, 4, 5, 6], 2) ➞ [[2, 3], [4, 5], [6]]\n",
    "# chunkify([2, 3, 4, 5, 6, 7], 3) ➞ [[2, 3, 4], [5, 6, 7]]\n",
    "# chunkify([2, 3, 4, 5, 6, 7], 1) ➞ [[2], [3], [4], [5], [6], [7]]\n",
    "# chunkify([2, 3, 4, 5, 6, 7], 7) ➞ [[2, 3, 4, 5, 6, 7]]\n",
    "import math\n",
    "lst=eval(input(\"Enter a list: \"))\n",
    "num=int(input(\"Enter a number: \"))\n",
    "def chunkify(lst,num):\n",
    "    opLst=[]\n",
    "    for i in range(math.ceil(len(lst)/num)):\n",
    "        inLst=[]\n",
    "        for j in range(num):\n",
    "            if len(lst)>0:\n",
    "                inLst.append(lst.pop(0))\n",
    "        opLst.append(inLst)\n",
    "    return opLst\n",
    "chunkify(lst,num)"
   ]
  },
  {
   "cell_type": "code",
   "execution_count": 23,
   "id": "f54db59e",
   "metadata": {},
   "outputs": [
    {
     "name": "stdout",
     "output_type": "stream",
     "text": [
      "Enter a list: [    \"ice cream ($5.99)\",    \"banana ($0.20)\",    \"sandwich ($8.50)\",    \"soup ($1.99)\" ]\n"
     ]
    },
    {
     "data": {
      "text/plain": [
       "[5.99, 0.2, 8.5, 1.99]"
      ]
     },
     "execution_count": 23,
     "metadata": {},
     "output_type": "execute_result"
    }
   ],
   "source": [
    "# 5. You are given a list of strings consisting of grocery items, with prices in parentheses. \n",
    "# Return a list of prices in float format.\n",
    "# Examples\n",
    "# get_prices([\"salad ($4.99)\"]) ➞ [4.99]\n",
    "# get_prices([\n",
    "#   \"artichokes ($1.99)\",\n",
    "#   \"rotiserrie chicken ($5.99)\",\n",
    "#   \"gum ($0.75)\"\n",
    "# ])\n",
    "# ➞ [1.99, 5.99, 0.75]\n",
    "# get_prices([\n",
    "#   \"ice cream ($5.99)\",\n",
    "#   \"banana ($0.20)\",\n",
    "#   \"sandwich ($8.50)\",\n",
    "#   \"soup ($1.99)\"\n",
    "# ])\n",
    "# ➞ [5.99, 0.2, 8.50, 1.99]\n",
    "\n",
    "lst=eval(input(\"Enter a list: \"))\n",
    "def get_prices(lst):\n",
    "    prices=[]\n",
    "    for i in lst:\n",
    "        prices.append(eval(i.split(\"$\")[-1][:-1]))\n",
    "    return prices\n",
    "get_prices(lst)"
   ]
  }
 ],
 "metadata": {
  "kernelspec": {
   "display_name": "Python 3",
   "language": "python",
   "name": "python3"
  },
  "language_info": {
   "codemirror_mode": {
    "name": "ipython",
    "version": 3
   },
   "file_extension": ".py",
   "mimetype": "text/x-python",
   "name": "python",
   "nbconvert_exporter": "python",
   "pygments_lexer": "ipython3",
   "version": "3.8.8"
  }
 },
 "nbformat": 4,
 "nbformat_minor": 5
}
