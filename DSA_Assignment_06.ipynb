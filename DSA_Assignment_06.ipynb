{
 "cells": [
  {
   "cell_type": "markdown",
   "id": "a26b849e",
   "metadata": {},
   "source": [
    "Q1. What is the distinction between a list and an array?\n",
    "\n",
    "ANS:\n",
    "\n",
    "The main difference between these two data types is the operation you can perform on them. Also lists are containers for elements having differing data types but arrays are used as containers for elements of the same data type."
   ]
  },
  {
   "cell_type": "markdown",
   "id": "d62cf6ad",
   "metadata": {},
   "source": [
    "Q2. What are the qualities of a binary tree?\n",
    "\n",
    "ANS:\n",
    "\n",
    "A binary tree consists of a number of nodes that contain the data to be stored (or pointers to the data), and the following structural characteristics : Each node has up to two direct child nodes. There is exactly one node, called the root of the tree, that has no parent node."
   ]
  },
  {
   "cell_type": "markdown",
   "id": "dc0e2919",
   "metadata": {},
   "source": [
    "Q3. What is the best way to combine two balanced binary search trees? \n",
    "\n",
    "ANS:\n",
    "\n",
    "Algorithm to merge two binary search trees\n",
    "1. Store the in-order traversal of both the trees in two arrays, say, arr1 and arr2 respectively.\n",
    "2. Merge arr1 and arr2 to form another array arr, that contains the elements of arr1 and arr2 in sorted form.\n",
    "3. We now use this sorted array(arr) to build a balanced binary search tree, which is a merged version of the given trees.\n",
    "4. The middle element of the array forms the root of the balanced BST and all the elements to the left of the middle element form the left sub-tree and all the elements to the right of the middle element form the right sub-tree.\n",
    "5. Recursively do step 4 for the left subtree and attach it to the left of root.\n",
    "6. Recursively do step 4 for the right subtree and attach it to the right of root.\n",
    "7. Return root."
   ]
  },
  {
   "cell_type": "markdown",
   "id": "9cc1c966",
   "metadata": {},
   "source": [
    "Q4. How would you describe Heap in detail?\n",
    "\n",
    "ANS:\n",
    "\n",
    "In computer science, a heap is a specialized tree-based data structure which is essentially an almost complete tree that satisfies the heap property: in a max heap, for any given node C, if P is a parent node of C, then the key (the value) of P is greater than or equal to the key of C."
   ]
  },
  {
   "cell_type": "markdown",
   "id": "64477568",
   "metadata": {},
   "source": [
    "Q5. In terms of data structure, what is a HashMap?\n",
    "\n",
    "ANS:\n",
    "\n",
    "In the background, a HashMap uses arrays to store its elements. The HashMap class provides us methods to put a pair in the map, replace a pair's value by key, remove a pair by key, check for the existence of a key, and clear the map like we do with a list."
   ]
  },
  {
   "cell_type": "markdown",
   "id": "c5d5a0e2",
   "metadata": {},
   "source": [
    "Q6. How do you explain the complexities of time and space?\n",
    "\n",
    "ANS:\n",
    "\n",
    "Complexity Analysis\n",
    "1. Time complexity is a function describing the amount of time an algorithm takes in terms of the amount of input to the algorithm.\n",
    "2. Space complexity is a function describing the amount of memory (space) an algorithm takes in terms of the amount of input to the algorithm."
   ]
  },
  {
   "cell_type": "code",
   "execution_count": 2,
   "id": "c483024f",
   "metadata": {},
   "outputs": [
    {
     "name": "stdout",
     "output_type": "stream",
     "text": [
      "Stack elements before sorting: \n",
      "-3 14 18 -5 30 \n",
      "\n",
      "Stack elements after sorting: \n",
      "30 18 14 -3 -5 \n"
     ]
    }
   ],
   "source": [
    "# Q7. How do you recursively sort a stack?\n",
    " \n",
    "# ANS:\n",
    "\n",
    "def sortedInsert(s, element):\n",
    "    if len(s) == 0 or element > s[-1]:\n",
    "        s.append(element)\n",
    "        return\n",
    "    else:\n",
    "        temp = s.pop()\n",
    "        sortedInsert(s, element)\n",
    "        s.append(temp)\n",
    "\n",
    "def sortStack(s):\n",
    "    if len(s) != 0:\n",
    "        temp = s.pop()\n",
    "        sortStack(s)\n",
    "        sortedInsert(s, temp)\n",
    "\n",
    "def printStack(s):\n",
    "    for i in s[::-1]:\n",
    "        print(i, end=\" \")\n",
    "    print()\n",
    "\n",
    "if __name__ == '__main__':\n",
    "    s = []\n",
    "    s.append(30)\n",
    "    s.append(-5)\n",
    "    s.append(18)\n",
    "    s.append(14)\n",
    "    s.append(-3)\n",
    " \n",
    "    print(\"Stack elements before sorting: \")\n",
    "    printStack(s)\n",
    " \n",
    "    sortStack(s)\n",
    " \n",
    "    print(\"\\nStack elements after sorting: \")\n",
    "    printStack(s)"
   ]
  }
 ],
 "metadata": {
  "kernelspec": {
   "display_name": "Python 3",
   "language": "python",
   "name": "python3"
  },
  "language_info": {
   "codemirror_mode": {
    "name": "ipython",
    "version": 3
   },
   "file_extension": ".py",
   "mimetype": "text/x-python",
   "name": "python",
   "nbconvert_exporter": "python",
   "pygments_lexer": "ipython3",
   "version": "3.8.8"
  }
 },
 "nbformat": 4,
 "nbformat_minor": 5
}
