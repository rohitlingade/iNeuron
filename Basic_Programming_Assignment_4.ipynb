{
 "cells": [
  {
   "cell_type": "raw",
   "id": "834e666c",
   "metadata": {},
   "source": [
    "1.\tWrite a Python Program to Find the Factorial of a Number?"
   ]
  },
  {
   "cell_type": "code",
   "execution_count": 10,
   "id": "59203a3c",
   "metadata": {},
   "outputs": [
    {
     "data": {
      "text/plain": [
       "720"
      ]
     },
     "execution_count": 10,
     "metadata": {},
     "output_type": "execute_result"
    }
   ],
   "source": [
    "def factorial(num):\n",
    "    if num==0 or num==1:\n",
    "        return 1\n",
    "    fact=1\n",
    "    for i in range(1,num+1):\n",
    "        fact*=i\n",
    "    return fact\n",
    "factorial(6)"
   ]
  },
  {
   "cell_type": "raw",
   "id": "292d9631",
   "metadata": {},
   "source": [
    "2.\tWrite a Python Program to Display the multiplication Table?"
   ]
  },
  {
   "cell_type": "code",
   "execution_count": 12,
   "id": "935216b6",
   "metadata": {},
   "outputs": [
    {
     "name": "stdout",
     "output_type": "stream",
     "text": [
      "Enter number for table: 45\n",
      "45  x  1  =  45\n",
      "45  x  2  =  90\n",
      "45  x  3  =  135\n",
      "45  x  4  =  180\n",
      "45  x  5  =  225\n",
      "45  x  6  =  270\n",
      "45  x  7  =  315\n",
      "45  x  8  =  360\n",
      "45  x  9  =  405\n",
      "45  x  10  =  450\n"
     ]
    }
   ],
   "source": [
    "num= int(input(\"Enter number for table: \"))\n",
    "for i in range(1,11):\n",
    "    print(num,\" x \",i,\" = \",num*i)"
   ]
  },
  {
   "cell_type": "raw",
   "id": "bbd09942",
   "metadata": {},
   "source": [
    "3.\tWrite a Python Program to Print the Fibonacci sequence?"
   ]
  },
  {
   "cell_type": "code",
   "execution_count": 17,
   "id": "886980f6",
   "metadata": {},
   "outputs": [
    {
     "name": "stdout",
     "output_type": "stream",
     "text": [
      "Enter number: 7\n",
      "0 1 1 2 3 5 8 "
     ]
    }
   ],
   "source": [
    "num= int(input(\"Enter number: \"))\n",
    "def fib(num):\n",
    "    a,b=0,1\n",
    "    for i in range(num):\n",
    "        print(a,end=\" \")\n",
    "        a,b=b,a+b\n",
    "fib(num)"
   ]
  },
  {
   "cell_type": "raw",
   "id": "0e123a55",
   "metadata": {},
   "source": [
    "4.\tWrite a Python Program to Check Armstrong Number?"
   ]
  },
  {
   "cell_type": "code",
   "execution_count": 19,
   "id": "85ee49cf",
   "metadata": {},
   "outputs": [
    {
     "name": "stdout",
     "output_type": "stream",
     "text": [
      "Enter number: 123\n"
     ]
    },
    {
     "data": {
      "text/plain": [
       "False"
      ]
     },
     "execution_count": 19,
     "metadata": {},
     "output_type": "execute_result"
    }
   ],
   "source": [
    "num= int(input(\"Enter number: \"))\n",
    "def isArmstrong(num):\n",
    "    strNum =str(num)\n",
    "    total=0\n",
    "    for i in strNum:\n",
    "        total+= int(i)**3\n",
    "    if total==num:\n",
    "        return True\n",
    "    return False\n",
    "isArmstrong(num)"
   ]
  },
  {
   "cell_type": "raw",
   "id": "edf72747",
   "metadata": {},
   "source": [
    "5.\tWrite a Python Program to Find Armstrong Number in an Interval?"
   ]
  },
  {
   "cell_type": "code",
   "execution_count": 20,
   "id": "886dff76",
   "metadata": {},
   "outputs": [
    {
     "name": "stdout",
     "output_type": "stream",
     "text": [
      "Enter start number: 1\n",
      "Enter end number: 1000\n",
      "1 153 370 371 407 "
     ]
    }
   ],
   "source": [
    "num1= int(input(\"Enter start number: \"))\n",
    "num2= int(input(\"Enter end number: \"))\n",
    "for i in range(num1,num2+1):\n",
    "    if isArmstrong(i):\n",
    "        print(i,end=\" \")"
   ]
  },
  {
   "cell_type": "raw",
   "id": "3fb91eac",
   "metadata": {},
   "source": [
    "6.\tWrite a Python Program to Find the Sum of Natural Numbers?"
   ]
  },
  {
   "cell_type": "code",
   "execution_count": 22,
   "id": "4f095555",
   "metadata": {},
   "outputs": [
    {
     "name": "stdout",
     "output_type": "stream",
     "text": [
      "Enter number: 20\n"
     ]
    },
    {
     "data": {
      "text/plain": [
       "210"
      ]
     },
     "execution_count": 22,
     "metadata": {},
     "output_type": "execute_result"
    }
   ],
   "source": [
    "num= int(input(\"Enter number: \"))\n",
    "def sumofNums(num):\n",
    "    total=0\n",
    "    for i in range(1,num+1):\n",
    "        total+=i\n",
    "    return total\n",
    "sumofNums(num)"
   ]
  },
  {
   "cell_type": "code",
   "execution_count": null,
   "id": "56bba26a",
   "metadata": {},
   "outputs": [],
   "source": []
  }
 ],
 "metadata": {
  "kernelspec": {
   "display_name": "Python 3",
   "language": "python",
   "name": "python3"
  },
  "language_info": {
   "codemirror_mode": {
    "name": "ipython",
    "version": 3
   },
   "file_extension": ".py",
   "mimetype": "text/x-python",
   "name": "python",
   "nbconvert_exporter": "python",
   "pygments_lexer": "ipython3",
   "version": "3.8.8"
  }
 },
 "nbformat": 4,
 "nbformat_minor": 5
}
