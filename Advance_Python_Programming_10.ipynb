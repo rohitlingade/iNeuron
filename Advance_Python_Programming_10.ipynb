{
 "cells": [
  {
   "cell_type": "code",
   "execution_count": 51,
   "id": "adf01d99",
   "metadata": {},
   "outputs": [
    {
     "name": "stdout",
     "output_type": "stream",
     "text": [
      "Enter comma seperated width and height: 2,5\n",
      "Enter a character: 0\n"
     ]
    },
    {
     "data": {
      "text/plain": [
       "'invalid'"
      ]
     },
     "execution_count": 51,
     "metadata": {},
     "output_type": "execute_result"
    }
   ],
   "source": [
    "# 1. Create a function that takes the width, height and character and returns a picture frame as a 2D list.\n",
    "# Examples\n",
    "# get_frame(4, 5, \"#\") ➞ [\n",
    "#   [\"####\"],\n",
    "#   [\"#  #\"],\n",
    "#   [\"#  #\"],\n",
    "#   [\"#  #\"],\n",
    "#   [\"####\"]\n",
    "# ]\n",
    "# Frame is 4 characters wide and 5 characters tall.\n",
    "# get_frame(10, 3, \"*\") ➞ [\n",
    "#   [\"**********\"],\n",
    "#   [\"*        *\"],\n",
    "#   [\"**********\"]\n",
    "# ]\n",
    "# Frame is 10 characters and wide and 3 characters tall.\n",
    "# get_frame(2, 5, \"0\") ➞ \"invalid\"\n",
    "# Frame's width is not more than 2.\n",
    "\n",
    "width,height=map(int,input(\"Enter comma seperated width and height: \").split(\",\"))\n",
    "chara=input(\"Enter a character: \")\n",
    "def get_frame(width,height,chara):\n",
    "    if width <= 2:\n",
    "        return 'invalid'\n",
    "    frame=[]\n",
    "    for i in range(height):\n",
    "        if i==0 or i==height-1:\n",
    "            frame.append([chara*width])\n",
    "        else:\n",
    "            frame.append([(chara+(width-2)*\" \"+chara)])\n",
    "    return frame\n",
    "get_frame(width,height,chara)"
   ]
  },
  {
   "cell_type": "code",
   "execution_count": 4,
   "id": "5edc9c04",
   "metadata": {},
   "outputs": [
    {
     "name": "stdout",
     "output_type": "stream",
     "text": [
      "False\n",
      "True\n",
      "False\n"
     ]
    }
   ],
   "source": [
    "# 2. Write three functions:\n",
    "#   1. boolean_and\n",
    "#   2. boolean_or\n",
    "#   3. boolean_xor\n",
    "# These functions should evaluate a list of True and False values, starting from the leftmost element \n",
    "# and evaluating pairwise.\n",
    "# Examples\n",
    "# boolean_and([True, True, False, True]) ➞ False\n",
    "#  [True, True, False, True] => [True, False, True] => [False, True] => False\n",
    "# boolean_or([True, True, False, False]) ➞ True\n",
    "#  [True, True, False, False] => [True, False, False] => [True, False] => True\n",
    "# boolean_xor([True, True, False, False]) ➞ False\n",
    "#  [True, True, False, False] => [False, False, False] => [False, False] => False\n",
    "\n",
    "from functools import reduce\n",
    "\n",
    "def boolean_and(lst1):\n",
    "    return reduce(lambda a,b: a and b,lst1)\n",
    "\n",
    "def boolean_or(lst1):\n",
    "    return reduce(lambda a,b: a or b,lst1)\n",
    "\n",
    "def boolean_xor(lst1):\n",
    "    return reduce(lambda a,b: a^b,lst1)\n",
    "\n",
    "print(boolean_and([True, True, False, True]))\n",
    "print(boolean_or([True, True, False, False]))\n",
    "print(boolean_xor([True, True, False, False]))"
   ]
  },
  {
   "cell_type": "code",
   "execution_count": 11,
   "id": "781be707",
   "metadata": {},
   "outputs": [
    {
     "name": "stdout",
     "output_type": "stream",
     "text": [
      "Enter a number: 1\n"
     ]
    },
    {
     "data": {
      "text/plain": [
       "['#']"
      ]
     },
     "execution_count": 11,
     "metadata": {},
     "output_type": "execute_result"
    }
   ],
   "source": [
    "# 3. Create a function that creates a box based on dimension n.\n",
    "# Examples\n",
    "# make_box(5) ➞ [\n",
    "#   \"#####\",\n",
    "#   \"#   #\",\n",
    "#   \"#   #\",\n",
    "#   \"#   #\",\n",
    "#   \"#####\"\n",
    "# ]\n",
    "# make_box(3) ➞ [\n",
    "#   \"###\",\n",
    "#   \"# #\",\n",
    "#   \"###\"\n",
    "# ]\n",
    "# make_box(2) ➞ [\n",
    "#   \"##\",\n",
    "#   \"##\"\n",
    "# ]\n",
    "# make_box(1) ➞ [\n",
    "#   \"#\"\n",
    "# ]\n",
    "\n",
    "num=int(input(\"Enter a number: \"))\n",
    "def make_box(num):\n",
    "    box=[]\n",
    "    for i in range(num):\n",
    "        if i==0 or i==num-1:\n",
    "            box.append(\"#\"*num)\n",
    "        else:\n",
    "            box.append(\"#\"+\" \"*(num-2)+\"#\")\n",
    "    return box\n",
    "make_box(num)"
   ]
  },
  {
   "cell_type": "code",
   "execution_count": 15,
   "id": "3c944649",
   "metadata": {},
   "outputs": [
    {
     "name": "stdout",
     "output_type": "stream",
     "text": [
      "Enter a string: An apple a day keeps the doctor away.\n"
     ]
    },
    {
     "data": {
      "text/plain": [
       "False"
      ]
     },
     "execution_count": 15,
     "metadata": {},
     "output_type": "execute_result"
    }
   ],
   "source": [
    "# 4. Given a common phrase, return False if any individual word in the phrase contains duplicate letters. \n",
    "# Return True otherwise.\n",
    "# Examples\n",
    "# no_duplicate_letters(\"Fortune favours the bold.\") ➞ True\n",
    "# no_duplicate_letters(\"You can lead a horse to water, but you can't make him drink.\") ➞ True\n",
    "# no_duplicate_letters(\"Look before you leap.\") ➞ False\n",
    "# # Duplicate letters in \"Look\" and \"before\".\n",
    "# no_duplicate_letters(\"An apple a day keeps the doctor away.\") ➞ False\n",
    "# # Duplicate letters in \"apple\", \"keeps\", \"doctor\", and \"away\".\n",
    "\n",
    "str1=input(\"Enter a string: \")\n",
    "def no_duplicate_letters(str1):\n",
    "    lst=str1.split()\n",
    "    for i in lst:\n",
    "        if len(i)!=len(set(i)): return False\n",
    "    return True\n",
    "no_duplicate_letters(str1)"
   ]
  },
  {
   "cell_type": "code",
   "execution_count": 81,
   "id": "cb81cf2c",
   "metadata": {},
   "outputs": [
    {
     "data": {
      "text/plain": [
       "['California', 'Florida']"
      ]
     },
     "execution_count": 81,
     "metadata": {},
     "output_type": "execute_result"
    }
   ],
   "source": [
    "# 5. Write a regular expression that will match the states that voted yes to President Trump's impeachment. \n",
    "# You must use RegEx positive lookahead.\n",
    "# Example\n",
    "# txt = \"Texas = no, California = yes, Florida = yes, Michigan = no\"\n",
    "# pattern = \"yourregularexpressionhere\"\n",
    "# re.findall(pattern, txt) ➞ [\"California\", \"Florida\"]\n",
    "\n",
    "import re\n",
    "txt = \"Texas = no, California = yes, Florida = yes, Michigan = no\"\n",
    "pattern = \"\\w+\\s*\\S(?=\\s*yes)\"\n",
    "[i.rstrip(\" =\") for i in re.findall(pattern, txt)] #➞ [\"California\", \"Florida\"]"
   ]
  }
 ],
 "metadata": {
  "kernelspec": {
   "display_name": "Python 3",
   "language": "python",
   "name": "python3"
  },
  "language_info": {
   "codemirror_mode": {
    "name": "ipython",
    "version": 3
   },
   "file_extension": ".py",
   "mimetype": "text/x-python",
   "name": "python",
   "nbconvert_exporter": "python",
   "pygments_lexer": "ipython3",
   "version": "3.8.8"
  }
 },
 "nbformat": 4,
 "nbformat_minor": 5
}
