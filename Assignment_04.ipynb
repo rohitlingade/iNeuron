{
 "cells": [
  {
   "cell_type": "markdown",
   "id": "3b15cdb8",
   "metadata": {},
   "source": [
    "Q1. Explain the Snowball concept.\n",
    "\n",
    "ANS:\n",
    "\n",
    "Snowball sampling is where research participants recruit other participants for a test or study. It is used where potential participants are hard to find. It's called snowball sampling because (in theory) once you have the ball rolling, it picks up more “snow” along the way and becomes larger and larger."
   ]
  },
  {
   "cell_type": "markdown",
   "id": "5188b1c9",
   "metadata": {},
   "source": [
    "Q2. Make a distinction between NAT Gateways and NAT Instances.\n",
    "\n",
    "ANS:\n",
    "\n",
    "When a connection times out, a NAT gateway returns an RST packet to any resources behind the NAT gateway that attempt to continue the connection (it does not send a FIN packet). When a connection times out, a NAT instance sends a FIN packet to resources behind the NAT instance to close the connection."
   ]
  },
  {
   "cell_type": "markdown",
   "id": "e39e300e",
   "metadata": {},
   "source": [
    "Q3. Describe the essential components of Amazon Web Services (AWS).\n",
    "\n",
    "ANS:\n",
    "\n",
    "AWS Components:\n",
    "\n",
    "1. Data Management and Data Transfer. To run HPC applications in the AWS cloud, you need to move the required data into the cloud.\n",
    "2. Compute & Networking.\n",
    "3. Storage.\n",
    "4. Automation and Orchestration.\n",
    "5. Operations and Management.\n",
    "6. Visualization.\n",
    "7. Security and Compliance."
   ]
  },
  {
   "cell_type": "markdown",
   "id": "dd73152d",
   "metadata": {},
   "source": [
    "Q4. When should you utilize a spin-up server? Use examples to demonstrate your point.\n",
    "\n",
    "ANS:\n",
    "\n",
    "“Spinning up” a server refers to the discs in the hard-drive of a server physically spinning up to speed to serve their contents. When developing a new web application, it can be useful to test how your website is served via HTTP before hosting publicly. This is where localhost comes in.\n",
    "\n",
    "So when a server was started the OS had to boot as well as the HDD all come up to speed before the server was useful. So the term spin up the server refers to the start time, primarily to spin the hard drives to operating speed so it can boot and they are ready to respond."
   ]
  },
  {
   "cell_type": "markdown",
   "id": "f6d646a6",
   "metadata": {},
   "source": [
    "Q5. Explain the concept of outlier car scaling.\n",
    "\n",
    "ANS:\n",
    "\n",
    "AWS Auto Scaling monitors your applications and automatically adjusts capacity to maintain steady, predictable performance at the lowest possible cost. AWS Auto Scaling makes scaling simple with recommendations that allow you to optimize performance, costs, or balance between them."
   ]
  }
 ],
 "metadata": {
  "kernelspec": {
   "display_name": "Python 3",
   "language": "python",
   "name": "python3"
  },
  "language_info": {
   "codemirror_mode": {
    "name": "ipython",
    "version": 3
   },
   "file_extension": ".py",
   "mimetype": "text/x-python",
   "name": "python",
   "nbconvert_exporter": "python",
   "pygments_lexer": "ipython3",
   "version": "3.8.8"
  }
 },
 "nbformat": 4,
 "nbformat_minor": 5
}
