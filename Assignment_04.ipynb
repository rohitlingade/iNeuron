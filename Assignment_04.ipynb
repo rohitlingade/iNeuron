{
 "cells": [
  {
   "cell_type": "markdown",
   "id": "71a49623",
   "metadata": {},
   "source": [
    "Q1. Write an SQL query to print the FIRST_NAME from Worker table after replacing ‘a’ with ‘A’.\n",
    "\n",
    "ANS:\n",
    "\n",
    "SELECT REPLACE(FIRST_NAME,'a','A') AS FIRST_NAME FROM WORKER"
   ]
  },
  {
   "cell_type": "markdown",
   "id": "ab0f20a8",
   "metadata": {},
   "source": [
    "Q2. Write an SQL query to print all Worker details from the Worker table order by FIRST_NAME Ascending \n",
    "     and DEPARTMENT Descending.\n",
    "\n",
    "ANS:\n",
    "\n",
    "SELECT * FROM WORKER ORDER BY FIRST_NAME ASC,DEPARTMENT DESC"
   ]
  },
  {
   "cell_type": "markdown",
   "id": "1e8ca1a1",
   "metadata": {},
   "source": [
    "Q3. Write an SQL query to fetch the names of workers who earn the highest salary.\n",
    "\n",
    "ANS:\n",
    "\n",
    "SELECT FIRST_NAME FROM WORKER WHERE SALARY=MAX(SALARY)"
   ]
  }
 ],
 "metadata": {
  "kernelspec": {
   "display_name": "Python 3",
   "language": "python",
   "name": "python3"
  },
  "language_info": {
   "codemirror_mode": {
    "name": "ipython",
    "version": 3
   },
   "file_extension": ".py",
   "mimetype": "text/x-python",
   "name": "python",
   "nbconvert_exporter": "python",
   "pygments_lexer": "ipython3",
   "version": "3.8.8"
  }
 },
 "nbformat": 4,
 "nbformat_minor": 5
}
