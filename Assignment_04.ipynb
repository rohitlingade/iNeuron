{
 "cells": [
  {
   "cell_type": "markdown",
   "id": "0bbb57c2",
   "metadata": {},
   "source": [
    "Q1. List Features and benefits of ExpressRoute.\n",
    "\n",
    "ANS:\n",
    "\n",
    "ExpressRoute connections don't go over the public Internet. They offer higher security, reliability, and speeds, with lower and consistent latencies than typical connections over the Internet."
   ]
  },
  {
   "cell_type": "markdown",
   "id": "7b732c90",
   "metadata": {},
   "source": [
    "Q2. Explain Azure storage account, disc storage and blob storage.\n",
    "\n",
    "ANS:\n",
    "\n",
    "An Azure managed disk is a virtual hard disk (VHD). You can think of it like a physical disk in an on-premises server but, virtualized. Azure-managed disks are stored as page blobs, which are a random IO storage object in Azure"
   ]
  },
  {
   "cell_type": "markdown",
   "id": "e8541b1a",
   "metadata": {},
   "source": [
    "Q3. List and describe database services that are available on Microsoft Azure.\n",
    "\n",
    "ANS:\n",
    "\n",
    "1. Azure Managed Instance for Apache Cassandra. Cloud Cassandra with flexibility, control and scale.\n",
    "2. Azure Database for MariaDB. Managed MariaDB database service for app developers."
   ]
  },
  {
   "cell_type": "markdown",
   "id": "73a8eecf",
   "metadata": {},
   "source": [
    "Q4. What is the Azure security center?\n",
    "\n",
    "ANS:\n",
    "\n",
    "Azure Security Center by Microsoft is a solution that provides unified security management across hybrid cloud workloads. It offers threat protection for data centers within both cloud workloads and on-premises. The platform also works with hybrid clouds that are not part of the Azure ecosystem."
   ]
  },
  {
   "cell_type": "markdown",
   "id": "bd56d6eb",
   "metadata": {},
   "source": [
    "Q5. How to detect and respond to security in Azure.\n",
    "\n",
    "ANS:\n",
    "\n",
    "Microsoft Sentinel is a cloud-native security information and event manager (SIEM) platform that uses built-in AI to help analyse large volumes of data across an enterprise—fast."
   ]
  },
  {
   "cell_type": "markdown",
   "id": "59d10d48",
   "metadata": {},
   "source": [
    "Q6. What is the Azure key vault? Write its features and advantages.\n",
    "\n",
    "ANS:\n",
    "\n",
    "Azure Key Vault is a cloud service for securely storing and accessing secrets. Key Vault service supports two types of containers: vaults and managed hardware security module(HSM) pools. Vaults support storing software and HSM-backed keys, secrets, and certificates."
   ]
  }
 ],
 "metadata": {
  "kernelspec": {
   "display_name": "Python 3",
   "language": "python",
   "name": "python3"
  },
  "language_info": {
   "codemirror_mode": {
    "name": "ipython",
    "version": 3
   },
   "file_extension": ".py",
   "mimetype": "text/x-python",
   "name": "python",
   "nbconvert_exporter": "python",
   "pygments_lexer": "ipython3",
   "version": "3.8.8"
  }
 },
 "nbformat": 4,
 "nbformat_minor": 5
}
