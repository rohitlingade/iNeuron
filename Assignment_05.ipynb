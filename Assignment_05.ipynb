{
 "cells": [
  {
   "cell_type": "markdown",
   "id": "0cd0f284",
   "metadata": {},
   "source": [
    "Q1. Write an SQL query to print details of workers excluding first names, “Vipul” and “Satish” from Worker table.\n",
    "\n",
    "ANS:\n",
    "\n",
    "SELECT * FROM WORKER WHERE FIRST_NAME<>\"Vipul\" OR FIRST_NAME<>\"Satish\""
   ]
  },
  {
   "cell_type": "markdown",
   "id": "0c956827",
   "metadata": {},
   "source": [
    "Q2. Write an SQL query to print details of the Workers whose FIRST_NAME ends with ‘h’ and contains six alphabets.\n",
    "\n",
    "ANS:\n",
    "\n",
    "SELECT * FROM WORKER WHERE FIRST_NAME LIKE '%h' AND LEN(FIRST_NAME)=6"
   ]
  },
  {
   "cell_type": "markdown",
   "id": "cd1f32b7",
   "metadata": {},
   "source": [
    "Q3. Write a query to validate Email of Employee.\n",
    "\n",
    "ANS:\n",
    "\n",
    "SELECT EMAILID AS ValidEmail\n",
    "FROM WORKER\n",
    "WHERE EMAILID LIKE '%_@__%.__%'\n",
    "        AND PATINDEX('%[^a-z,0-9,@,.,_,\\-]%', EMAILID) = 0;"
   ]
  }
 ],
 "metadata": {
  "kernelspec": {
   "display_name": "Python 3",
   "language": "python",
   "name": "python3"
  },
  "language_info": {
   "codemirror_mode": {
    "name": "ipython",
    "version": 3
   },
   "file_extension": ".py",
   "mimetype": "text/x-python",
   "name": "python",
   "nbconvert_exporter": "python",
   "pygments_lexer": "ipython3",
   "version": "3.8.8"
  }
 },
 "nbformat": 4,
 "nbformat_minor": 5
}
