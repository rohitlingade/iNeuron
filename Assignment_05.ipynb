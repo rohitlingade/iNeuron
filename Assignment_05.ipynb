{
 "cells": [
  {
   "cell_type": "markdown",
   "id": "19dc1a39",
   "metadata": {},
   "source": [
    "Q1. Describe the Amazon C4 instance. \n",
    "\n",
    "ANS:\n",
    "\n",
    "Can now launch C4 instances, the latest generation of Amazon EC2 Compute-optimized instances. ... This feature provides 500 Mbps to 4,000 Mbps of dedicated throughput to EBS above and beyond the general purpose network throughput provided to the instance"
   ]
  },
  {
   "cell_type": "markdown",
   "id": "4ae26598",
   "metadata": {},
   "source": [
    "Q2. What is ElastiCache?\n",
    "\n",
    "ANS:\n",
    "\n",
    "Can use ElastiCache for caching, which accelerates application and database performance, or as a primary data store for use cases that don't require durability like session stores, gaming leaderboards, streaming, and analytics."
   ]
  },
  {
   "cell_type": "markdown",
   "id": "2fc15781",
   "metadata": {},
   "source": [
    "Q3. Explain SimpleDB.\n",
    "\n",
    "ANS:\n",
    "\n",
    "Amazon SimpleDB is a highly available NoSQL data store that offloads the work of database administration. Developers simply store and query data items via web services requests and Amazon SimpleDB does the rest. You can change your data model on the fly, and data is automatically indexed for you."
   ]
  },
  {
   "cell_type": "markdown",
   "id": "5db4be06",
   "metadata": {},
   "source": [
    "Q4. Mention the benefits of WAF.\n",
    "\n",
    "ANS:\n",
    "\n",
    "Benefits Of A Web Application Firewall:\n",
    "\n",
    "1. Prevent attacks, including SQL injections, cross-site scripting (XSS) attacks, and distributed denial of service (DDoS) attacks.\n",
    "2. Stop customer data from being compromised, preserving confidence—and their patronage.\n",
    "3. Ensure compliance with regulations like HIPAA and PCI."
   ]
  },
  {
   "cell_type": "markdown",
   "id": "7cd6433e",
   "metadata": {},
   "source": [
    "Q5. Explain Elastic Block is a store that sells elastic blocks.\n",
    "\n",
    "ANS:\n",
    "\n",
    "Amazon Elastic Block Store (Amazon EBS) provides block level storage volumes for use with EC2 instances. EBS volumes behave like raw, unformatted block devices. You can mount these volumes as devices on your instances. You can dynamically change the configuration of a volume attached to an instance."
   ]
  }
 ],
 "metadata": {
  "kernelspec": {
   "display_name": "Python 3",
   "language": "python",
   "name": "python3"
  },
  "language_info": {
   "codemirror_mode": {
    "name": "ipython",
    "version": 3
   },
   "file_extension": ".py",
   "mimetype": "text/x-python",
   "name": "python",
   "nbconvert_exporter": "python",
   "pygments_lexer": "ipython3",
   "version": "3.8.8"
  }
 },
 "nbformat": 4,
 "nbformat_minor": 5
}
