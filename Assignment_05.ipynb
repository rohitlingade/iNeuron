{
 "cells": [
  {
   "cell_type": "markdown",
   "id": "1ec4b9be",
   "metadata": {},
   "source": [
    "Q1. What is the Azure firewall? How to use the Azure firewall?\n",
    "\n",
    "ANS:\n",
    "\n",
    "Azure Firewall is a cloud-native and intelligent network firewall security service that provides the best of breed threat protection for your cloud workloads running in Azure. It's a fully stateful, firewall as a service with built-in high availability and unrestricted cloud scalability.\n",
    "\n",
    "Deploy the firewall into the VNet:\n",
    "1. On the Azure portal menu or from the Home page, select Create a resource.\n",
    "2. Type firewall in the search box and press Enter.\n",
    "3. Select Firewall and then select Create."
   ]
  },
  {
   "cell_type": "markdown",
   "id": "68026460",
   "metadata": {},
   "source": [
    "Q2. Differentiate authentication and authorization?\n",
    "\n",
    "ANS:\n",
    "\n",
    "Simply put, authentication is the process of verifying who someone is, whereas authorization is the process of verifying what specific applications, files, and data a user has access to."
   ]
  },
  {
   "cell_type": "markdown",
   "id": "a778dae7",
   "metadata": {},
   "source": [
    "Q3. What is Azure Active Directory?\n",
    "\n",
    "ANS:\n",
    "\n",
    "Azure Active Directory (Azure AD) is a cloud-based identity and access management service. This service helps your employees access external resources, such as Microsoft 365, the Azure portal, and thousands of other SaaS applications."
   ]
  },
  {
   "cell_type": "markdown",
   "id": "bd93b4cd",
   "metadata": {},
   "source": [
    "Q4. What are multifactor authentication and conditional access available in Azure?\n",
    "\n",
    "ANS:\n",
    "\n",
    "Azure Active Directory (Azure AD) Multi-Factor Authentication helps safeguard access to data and applications, providing another layer of security by using a second form of authentication. Organizations can enable multifactor authentication (MFA) with Conditional Access to make the solution fit their specific needs."
   ]
  },
  {
   "cell_type": "markdown",
   "id": "3c1bf2f1",
   "metadata": {},
   "source": [
    "Q5. What is resource lock? Describe why resource lock should be used?\n",
    "\n",
    "ANS:\n",
    "\n",
    "As an administrator, you can lock a subscription, resource group, or resource to prevent other users in your organization from accidentally deleting or modifying critical resources. Applying this lock is similar to restricting all authorized users to the permissions granted by the Reader role."
   ]
  },
  {
   "cell_type": "markdown",
   "id": "c4896c4b",
   "metadata": {},
   "source": [
    "Q6. What is Azure policy? Write it Usage.\n",
    "\n",
    "ANS:\n",
    "\n",
    "Azure Policy is a service in Azure which allows you create polices which enforce and control the properties of a resource. When these policies are used they enforce different rules and effects over your resources, so those resources stay compliant with your IT governance standards."
   ]
  },
  {
   "cell_type": "markdown",
   "id": "7a590fec",
   "metadata": {},
   "source": [
    "Q7. What is the Azure government? What is Azure China 21Vianet?\n",
    "\n",
    "ANS:\n",
    "\n",
    "Azure Government is the mission-critical cloud, delivering breakthrough innovation to US government customers and their partners. Only US federal, state, local, and tribal governments and their partners have access to this dedicated instance, with operations controlled by screened US citizens.\n",
    "\n",
    "Microsoft Azure operated by 21Vianet (Azure China) is a physically separated instance of cloud services located in China. It's independently operated and transacted by Shanghai Blue Cloud Technology Co., Ltd. (\"21Vianet\"), a wholly owned subsidiary of Beijing 21Vianet Broadband Data Center Co., Ltd"
   ]
  }
 ],
 "metadata": {
  "kernelspec": {
   "display_name": "Python 3",
   "language": "python",
   "name": "python3"
  },
  "language_info": {
   "codemirror_mode": {
    "name": "ipython",
    "version": 3
   },
   "file_extension": ".py",
   "mimetype": "text/x-python",
   "name": "python",
   "nbconvert_exporter": "python",
   "pygments_lexer": "ipython3",
   "version": "3.8.8"
  }
 },
 "nbformat": 4,
 "nbformat_minor": 5
}
