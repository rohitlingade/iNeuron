{
 "cells": [
  {
   "cell_type": "code",
   "execution_count": 9,
   "id": "e74d55a0",
   "metadata": {},
   "outputs": [
    {
     "name": "stdout",
     "output_type": "stream",
     "text": [
      "Enter a string: p.four.five\n"
     ]
    },
    {
     "data": {
      "text/plain": [
       "\"<p class='four five'></p>\""
      ]
     },
     "execution_count": 9,
     "metadata": {},
     "output_type": "execute_result"
    }
   ],
   "source": [
    "# 1. Create a function based on the input and output. Look at the examples, there is a pattern.\n",
    "# Examples\n",
    "# secret(\"p.one.two.three\") ➞ \"<p class='one two three'></p>\"\n",
    "# secret(\"p.one\") ➞ \"<p class='one'></p>\"\n",
    "# secret(\"p.four.five\") ➞ \"<p class='four five'></p>\"\n",
    "\n",
    "str1=input(\"Enter a string: \")\n",
    "def secret(str1):\n",
    "    s=\"<{} class='\".format(str1[0])\n",
    "    lst=str1[2:].split(\".\")\n",
    "    for i in lst:\n",
    "        s+=i+\" \"\n",
    "    return s.strip()+\"'></p>\"\n",
    "secret(str1)"
   ]
  },
  {
   "cell_type": "code",
   "execution_count": 78,
   "id": "bae987a6",
   "metadata": {},
   "outputs": [
    {
     "name": "stdout",
     "output_type": "stream",
     "text": [
      "Enter a number: 462\n"
     ]
    },
    {
     "data": {
      "text/plain": [
       "0"
      ]
     },
     "execution_count": 78,
     "metadata": {},
     "output_type": "execute_result"
    }
   ],
   "source": [
    "# 2. Create a function which counts how many lone 1s appear in a given number. \n",
    "# Lone means the number doesn't appear twice or more in a row.\n",
    "# Examples\n",
    "# count_lone_ones(101) ➞ 2\n",
    "# count_lone_ones(1191) ➞ 1\n",
    "# count_lone_ones(1111) ➞ 0\n",
    "# count_lone_ones(462) ➞ 0\n",
    "\n",
    "num=input(\"Enter a number: \")\n",
    "def count_lone_ones(num):\n",
    "    i,count=0,0\n",
    "    while i < len(num)-1:\n",
    "        if num[i]=='1' and num[i+1]=='1':\n",
    "            i+=2\n",
    "            continue\n",
    "        if (num[i]=='1' and num[i+1]!='1') or (num[i]!='1' and num[i+1]=='1'):\n",
    "            count+=1\n",
    "            i+=1\n",
    "        else: \n",
    "            i+=1\n",
    "    return count\n",
    "count_lone_ones(num)"
   ]
  },
  {
   "cell_type": "code",
   "execution_count": 31,
   "id": "db4ddc01",
   "metadata": {},
   "outputs": [
    {
     "name": "stdout",
     "output_type": "stream",
     "text": [
      "Enter comma seperated nums: 4,1\n"
     ]
    },
    {
     "data": {
      "text/plain": [
       "[[1], [2], [3], [4]]"
      ]
     },
     "execution_count": 31,
     "metadata": {},
     "output_type": "execute_result"
    }
   ],
   "source": [
    "# 3. Write a method that accepts two integer parameters rows and cols. The output is a 2d array of \n",
    "# numbers displayed in column-major order, meaning the numbers shown increase sequentially down each \n",
    "# column and wrap to the top of the next column to the right once the bottom of the current column is reached.\n",
    "# Examples\n",
    "# printGrid(3, 6) ➞ [\n",
    "#   [1, 4, 7, 10, 13, 16],\n",
    "#   [2, 5, 8, 11, 14, 17],\n",
    "#   [3, 6, 9, 12, 15, 18]\n",
    "# ]\n",
    "# printGrid(5, 3) ➞ [\n",
    "#   [1, 6, 11],\n",
    "#   [2, 7, 12],\n",
    "#   [3, 8, 13],\n",
    "#   [4, 9, 14],\n",
    "#   [5, 10, 15]\n",
    "# ]\n",
    "# printGrid(4, 1) ➞ [\n",
    "#   [1],\n",
    "#   [2],\n",
    "#   [3],\n",
    "#   [4]\n",
    "# ]\n",
    "\n",
    "num1,num2=map(int,input(\"Enter comma seperated nums: \").split(\",\"))\n",
    "def printGrid(num1,num2):\n",
    "    grid=[]\n",
    "    for i in range(1,1+num1):\n",
    "        innerGrid=[i]\n",
    "        for j in range(1,num2):\n",
    "            innerGrid.append(i+j*num1)\n",
    "        grid.append(innerGrid)\n",
    "    return grid\n",
    "printGrid(num1,num2) "
   ]
  },
  {
   "cell_type": "code",
   "execution_count": 43,
   "id": "b9a7f77f",
   "metadata": {},
   "outputs": [
    {
     "name": "stdout",
     "output_type": "stream",
     "text": [
      "Enter a list of integers: [0, 4, 4, -1, 9, 4, 5, 2, 10, 7, 6, 3, 10, 9]\n"
     ]
    },
    {
     "data": {
      "text/plain": [
       "1"
      ]
     },
     "execution_count": 43,
     "metadata": {},
     "output_type": "execute_result"
    }
   ],
   "source": [
    "# 4. Given a list of integers, return the smallest positive integer not present in the list.\n",
    "# Here is a representative example. Consider the list:\n",
    "# [-2, 6, 4, 5, 7, -1, 7, 1, 3, 6, 6, -2, 9, 10, 2, 2]\n",
    "# After reordering, the list becomes:\n",
    "# [-2, -2, -1, 1, 2, 2, 3, 4, 5, 6, 6, 6, 7, 7, 9, 10]\n",
    "# from which we see that the smallest missing positive integer is 8.\n",
    "# Examples\n",
    "# min_miss_pos([-2, 6, 4, 5, 7, -1, 1, 3, 6, -2, 9, 10, 2, 2]) ➞ 8\n",
    "# # After sorting, list becomes [-2, -2, -1, 1, 2, 2, 3, 4, 5, 6, 6, 7, 9, 10]\n",
    "# # So the smallest missing positive integer is 8\n",
    "# min_miss_pos([5, 9, -2, 0, 1, 3, 9, 3, 8, 9]) ➞ 2\n",
    "# # After sorting, list becomes [-2, 0, 1, 3, 3, 5, 8, 9, 9, 9]\n",
    "# # So the smallest missing positive integer is 2\n",
    "# min_miss_pos([0, 4, 4, -1, 9, 4, 5, 2, 10, 7, 6, 3, 10, 9]) ➞ 1\n",
    "# # After sorting, list becomes [-1, 0, 2, 3, 4, 4, 4, 5, 6, 7, 9, 9, 10, 10]\n",
    "# # So the smallest missing positive integer is 1\n",
    "\n",
    "lst=eval(input(\"Enter a list of integers: \"))\n",
    "def min_miss_pos(lst):\n",
    "    lst=list(set(lst))\n",
    "    lst.sort()\n",
    "    lst=[i for i in lst if i>0]\n",
    "    for i in [1,2,3,4,5,6,7,8,9,10]:\n",
    "        if i not in lst:\n",
    "            return i\n",
    "min_miss_pos(lst)"
   ]
  },
  {
   "cell_type": "code",
   "execution_count": 55,
   "id": "83dbb3f2",
   "metadata": {},
   "outputs": [
    {
     "name": "stdout",
     "output_type": "stream",
     "text": [
      "Enter number of orders and price of that order: 5,100\n"
     ]
    },
    {
     "data": {
      "text/plain": [
       "[]"
      ]
     },
     "execution_count": 55,
     "metadata": {},
     "output_type": "execute_result"
    }
   ],
   "source": [
    "# 5. Google is launching a network of autonomous pizza delivery drones and wants you to create a flexible \n",
    "# rewards system (Pizza Points™) that can be tweaked in the future. The rules are simple: if a customer \n",
    "# has made at least N orders of at least Y price, they get a FREE pizza!\n",
    "# Create a function that takes a dictionary of customers, a minimum number of orders and a minimum order price. \n",
    "# Return a list of customers that are eligible for a free pizza.\n",
    "# Examples\n",
    "# customers = {\n",
    "#   \"Batman\": [22, 30, 11, 17, 15, 52, 27, 12],\n",
    "#   \"Spider-Man\": [5, 17, 30, 33, 40, 22, 26, 10, 11, 45]\n",
    "# }\n",
    "#   pizza_points(customers, 5, 20) ➞ [\"Spider-Man\"]\n",
    "#   pizza_points(customers, 3, 10) ➞ [\"Batman\", \"Spider-Man\"]\n",
    "#   pizza_points(customers, 5, 100) ➞ []\n",
    "\n",
    "\n",
    "customers = {\n",
    "  \"Batman\": [22, 30, 11, 17, 15, 52, 27, 12],\n",
    "  \"Spider-Man\": [5, 17, 30, 33, 40, 22, 26, 10, 11, 45]\n",
    "}\n",
    "num,price=map(int,input(\"Enter number of orders and price of that order: \").split(\",\"))\n",
    "def pizza_points(customers,num,price):\n",
    "    names=[]\n",
    "    for i,j in customers.items():\n",
    "        op=list(map(lambda x:x>price,j))\n",
    "        if op.count(True)>=num:\n",
    "            names.append(i)\n",
    "    return names\n",
    "pizza_points(customers,num,price)"
   ]
  }
 ],
 "metadata": {
  "kernelspec": {
   "display_name": "Python 3",
   "language": "python",
   "name": "python3"
  },
  "language_info": {
   "codemirror_mode": {
    "name": "ipython",
    "version": 3
   },
   "file_extension": ".py",
   "mimetype": "text/x-python",
   "name": "python",
   "nbconvert_exporter": "python",
   "pygments_lexer": "ipython3",
   "version": "3.8.8"
  }
 },
 "nbformat": 4,
 "nbformat_minor": 5
}
