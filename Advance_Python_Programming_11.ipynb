{
 "cells": [
  {
   "cell_type": "code",
   "execution_count": 5,
   "id": "7e71a74a",
   "metadata": {},
   "outputs": [
    {
     "name": "stdout",
     "output_type": "stream",
     "text": [
      "Enter a list: [1009, 10, 10, 10, 3, 33, 9, 4, 1, 61, 63, 69, 1087, 1091, 1093, 1097]\n"
     ]
    },
    {
     "data": {
      "text/plain": [
       "[1009, 3, 61, 1087, 1091, 1093, 1097]"
      ]
     },
     "execution_count": 5,
     "metadata": {},
     "output_type": "execute_result"
    }
   ],
   "source": [
    "# 1. Create a function that takes a list and returns a new list containing only prime numbers.\n",
    "# Examples\n",
    "# filter_primes([7, 9, 3, 9, 10, 11, 27]) ➞ [7, 3, 11]\n",
    "# filter_primes([10007, 1009, 1007, 27, 147, 77, 1001, 70]) ➞ [10007, 1009]\n",
    "# filter_primes([1009, 10, 10, 10, 3, 33, 9, 4, 1, 61, 63, 69, 1087, 1091, 1093, 1097]) ➞ \n",
    "#                                                                             [1009, 3, 61, 1087, 1091, 1093, 1097]\n",
    "\n",
    "lst1=eval(input(\"Enter a list: \"))\n",
    "def is_prime(num):\n",
    "    count=0\n",
    "    if num==1:\n",
    "        return False\n",
    "    elif num==2:\n",
    "        return True\n",
    "    for i in range(2,num//2+1):\n",
    "        if num%i==0:\n",
    "            count+=1\n",
    "    if count==0:\n",
    "        return True\n",
    "    return False\n",
    "def filter_primes(lst1):\n",
    "    return [i for i in lst1 if is_prime(i)]\n",
    "filter_primes(lst1)\n",
    "\n"
   ]
  },
  {
   "cell_type": "code",
   "execution_count": 20,
   "id": "11fe4557",
   "metadata": {},
   "outputs": [
    {
     "name": "stdout",
     "output_type": "stream",
     "text": [
      "Enter a list: [0]\n"
     ]
    },
    {
     "data": {
      "text/plain": [
       "[0]"
      ]
     },
     "execution_count": 20,
     "metadata": {},
     "output_type": "execute_result"
    }
   ],
   "source": [
    "# 2. Once a water balloon pops, is soaks the area around it. The ground gets drier the further away you travel \n",
    "# from the balloon.\n",
    "# The effect of a water balloon popping can be modeled using a list. Create a function that takes a list which \n",
    "# takes the pre-pop state and returns the state after the balloon is popped. The pre-pop state will contain \n",
    "# at most a single balloon, whose size is represented by the only non-zero element.\n",
    "# Examples\n",
    "# pop([0, 0, 0, 0, 4, 0, 0, 0, 0]) ➞ [0, 1, 2, 3, 4, 3, 2, 1, 0]\n",
    "# pop([0, 0, 0, 3, 0, 0, 0]) ➞ [0, 1, 2, 3, 2, 1, 0]\n",
    "# pop([0, 0, 2, 0, 0]) ➞ [0, 1, 2, 1, 0]\n",
    "# pop([0]) ➞ [0]\n",
    "\n",
    "lst1=eval(input(\"Enter a list: \"))\n",
    "def pop(lst1):\n",
    "    return [i for i in range(len(lst1)//2+1)]+[i for i in range(len(lst1)//2-1,-1,-1)]\n",
    "pop(lst1)"
   ]
  },
  {
   "cell_type": "code",
   "execution_count": 11,
   "id": "b3df2e22",
   "metadata": {},
   "outputs": [
    {
     "name": "stdout",
     "output_type": "stream",
     "text": [
      "Enter a number: 1\n"
     ]
    },
    {
     "data": {
      "text/plain": [
       "'LOVES ME'"
      ]
     },
     "execution_count": 11,
     "metadata": {},
     "output_type": "execute_result"
    }
   ],
   "source": [
    "# 3. \"Loves me, loves me not\" is a traditional game in which a person plucks off all the petals of a \n",
    "# flower one by one, saying the phrase \"Loves me\" and \"Loves me not\" when determining whether the one that they love,\n",
    "# loves them back.\n",
    "# Given a number of petals, return a string which repeats the phrases \"Loves me\" and \"Loves me not\" for \n",
    "# every alternating petal, and return the last phrase in all caps. Remember to put a comma and space between phrases.\n",
    "# Examples\n",
    "# loves_me(3) ➞ \"Loves me, Loves me not, LOVES ME\"\n",
    "# loves_me(6) ➞ \"Loves me, Loves me not, Loves me, Loves me not, Loves me, LOVES ME NOT\"\n",
    "# loves_me(1) ➞ \"LOVES ME\"\n",
    "\n",
    "num=int(input(\"Enter a number: \"))\n",
    "def loves_me(num):\n",
    "    loves=''\n",
    "    for i in range(num):\n",
    "        if i==num-1:\n",
    "            if i%2 ==0:loves+='Loves me, '.upper()\n",
    "            else:loves+='Loves me not, '.upper()\n",
    "        elif i%2 ==0:loves+='Loves me, '\n",
    "        else:loves+='Loves me not, '\n",
    "    return loves.rstrip(\", \")\n",
    "loves_me(num)"
   ]
  },
  {
   "cell_type": "code",
   "execution_count": 33,
   "id": "fd781b76",
   "metadata": {},
   "outputs": [
    {
     "name": "stdout",
     "output_type": "stream",
     "text": [
      "Enter a list: []\n"
     ]
    },
    {
     "data": {
      "text/plain": [
       "[]"
      ]
     },
     "execution_count": 33,
     "metadata": {},
     "output_type": "execute_result"
    }
   ],
   "source": [
    "# 4. Write a function that sorts each string in a list by the letter in alphabetic ascending order (a-z).\n",
    "# Examples\n",
    "# sort_by_letter([\"932c\", \"832u32\", \"2344b\"])\n",
    "# ➞ [\"2344b\", \"932c\", \"832u32\"]\n",
    "# sort_by_letter([\"99a\", \"78b\", \"c2345\", \"11d\"])\n",
    "# ➞ [\"99a\", \"78b\", \"c2345\", \"11d\"]\n",
    "# sort_by_letter([\"572z\", \"5y5\", \"304q2\"])\n",
    "# ➞ [\"304q2\", \"5y5\", \"572z\"]\n",
    "# sort_by_letter([])\n",
    "# ➞ []\n",
    "lst1=eval(input(\"Enter a list: \"))\n",
    "def sort_by_letter(lst1):\n",
    "    alpha=[]\n",
    "    sort=[]\n",
    "    for i in lst1:\n",
    "        for j in i:\n",
    "            if j.isalpha():\n",
    "                alpha.append(j)\n",
    "    for i in sorted(alpha):\n",
    "        for j in lst1:\n",
    "            if i in j:\n",
    "                sort.append(j)\n",
    "    return sort\n",
    "sort_by_letter(lst1)"
   ]
  },
  {
   "cell_type": "code",
   "execution_count": 14,
   "id": "ac3fb48e",
   "metadata": {},
   "outputs": [
    {
     "name": "stdout",
     "output_type": "stream",
     "text": [
      "Enter a list: [\"AB\", \"CA\", \"AB\"]\n"
     ]
    },
    {
     "data": {
      "text/plain": [
       "'C'"
      ]
     },
     "execution_count": 14,
     "metadata": {},
     "output_type": "execute_result"
    }
   ],
   "source": [
    "# 5. There are three cups on a table, at positions A, B, and C. At the start, there is a ball hidden under \n",
    "# the cup at position B.\n",
    "# However, I perform several swaps on the cups, which is notated as two letters. For example, \n",
    "# if I swap the cups at positions A and B, I could notate this as AB or BA.\n",
    "# Create a function that returns the letter position that the ball is at, once I finish swapping the cups. \n",
    "# The swaps will be given to you as a list.\n",
    "# Example\n",
    "# cup_swapping([\"AB\", \"CA\", \"AB\"]) ➞ \"C\"\n",
    "# Ball begins at position B.\n",
    "# Cups A and B swap, so the ball is at position A.\n",
    "# Cups C and A swap, so the ball is at position C.\n",
    "# Cups A and B swap, but the ball is at position C, so it doesn't move.\n",
    "\n",
    "lst1=eval(input(\"Enter a list: \"))\n",
    "def cup_swapping(lst1):\n",
    "    s=\"B\"\n",
    "    for i in lst1:\n",
    "        if s in i:\n",
    "            s=i.replace(s,'')\n",
    "    return s\n",
    "cup_swapping(lst1)"
   ]
  }
 ],
 "metadata": {
  "kernelspec": {
   "display_name": "Python 3",
   "language": "python",
   "name": "python3"
  },
  "language_info": {
   "codemirror_mode": {
    "name": "ipython",
    "version": 3
   },
   "file_extension": ".py",
   "mimetype": "text/x-python",
   "name": "python",
   "nbconvert_exporter": "python",
   "pygments_lexer": "ipython3",
   "version": "3.8.8"
  }
 },
 "nbformat": 4,
 "nbformat_minor": 5
}
