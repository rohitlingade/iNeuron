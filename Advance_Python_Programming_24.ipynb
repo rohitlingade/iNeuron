{
 "cells": [
  {
   "cell_type": "code",
   "execution_count": 9,
   "id": "ba1fc1d1",
   "metadata": {},
   "outputs": [
    {
     "name": "stdout",
     "output_type": "stream",
     "text": [
      "actual ➞ [1, 1, 2, 1, 1]\n",
      "actual ➞ [1, 4, 6]\n",
      "actual ➞ []\n"
     ]
    }
   ],
   "source": [
    "# 1. Implement a class iterator to flatten a nested list of lists of integers. \n",
    "# Each list element is either an integer or a list. There can be many levels of nested lists in lists.\n",
    "# The class initializes with a nested list. It also has two methods:\n",
    "#   1. next() returns an integer in the order of appearance.\n",
    "#   2. hasNext() returns True / False regarding if all integers have been retrieved or not.\n",
    "# Write the Class implementation for three required methods.\n",
    "# Examples\n",
    "# ni, actual = NestedIterator([[1, 1], 2, [1, 1]]), []\n",
    "# while ni.hasNext():\n",
    "#     actual.append(ni.next())\n",
    "# actual ➞ [1, 1, 2, 1, 1]\n",
    "# ni, actual = NestedIterator([1, [4, [6]]]), []\n",
    "# while ni.hasNext():\n",
    "#     actual.append(ni.next())\n",
    "# actual ➞ [1, 4, 6]\n",
    "# ni, actual = NestedIterator([[[]], []]), []\n",
    "# while ni.hasNext():\n",
    "#     actual.append(ni.next())\n",
    "# actual ➞ []\n",
    "\n",
    "class NestedIterator:\n",
    "    def __init__(self,in_list):\n",
    "        self.list = in_list\n",
    "        self.flatten_list = []\n",
    "        self.test(self.list)\n",
    "    \n",
    "    def test(self,in_list):\n",
    "        for ele in in_list:\n",
    "            if isinstance(ele,int):\n",
    "                self.flatten_list.append(ele)\n",
    "            else:\n",
    "                self.test(ele)\n",
    "                \n",
    "    def hasNext(self):\n",
    "        return True if len(self.flatten_list) > 0 else False\n",
    "    \n",
    "    def next(self):\n",
    "        return self.flatten_list.pop(0)\n",
    "    \n",
    "ni, actual = NestedIterator([[1, 1], 2, [1, 1]]), []\n",
    "while ni.hasNext():\n",
    "    actual.append(ni.next())\n",
    "print(f'actual ➞ {actual}')\n",
    "\n",
    "ni, actual = NestedIterator([1, [4, [6]]]), []\n",
    "while ni.hasNext():\n",
    "    actual.append(ni.next())\n",
    "print(f'actual ➞ {actual}')\n",
    "\n",
    "ni, actual = NestedIterator([[[]], []]), []\n",
    "while ni.hasNext():\n",
    "    actual.append(ni.next())\n",
    "print(f'actual ➞ {actual}')"
   ]
  },
  {
   "cell_type": "code",
   "execution_count": 23,
   "id": "770227d8",
   "metadata": {},
   "outputs": [
    {
     "name": "stdout",
     "output_type": "stream",
     "text": [
      "2.0\n",
      "600.0\n",
      "(2.0, 1.5)\n"
     ]
    }
   ],
   "source": [
    "# 2. Implement the class Shape that receives perimeter and density function into __init__ method. \n",
    "# The list of consecutive corners defines shape of a 2-dimensional object. The density function defines the \n",
    "# mass distribution inside the shape. To compute mass in a certain point m(x, y) = small_square * density(x, y). \n",
    "# The __init__ method calls other internal methods that compute three characteristics of the shape:\n",
    "#    - area\n",
    "#    - total mass\n",
    "#    - center of mass (xc, yc)\n",
    "# The computational grid has distance between two neighboring points as 2 * delta, the distance between a grid \n",
    "# point and the perimeter wall is delta.\n",
    "# Examples\n",
    "# sh_ex1 = Shape([(1, 1), (3, 1), (3, 2), (1, 2)], lambda x, y: 100 + 100 * x)\n",
    "# sh_ex1.area ➞ 2.0\n",
    "# sh_ex1.mass ➞ 600.0\n",
    "# sh_ex1.mass_center ➞ (2.1, 1.5)\n",
    "# The example can be verified via analytical integration. Other shapes in Tests are slightly more \n",
    "# complicated and require numerical integration as illustrated here:\n",
    "import math\n",
    "class Shape:\n",
    "    def __init__(self,perimeter_func,density_func):\n",
    "        self.perimeter_func=perimeter_func\n",
    "        self.density_func=density_func\n",
    "        self.area=self.area()\n",
    "        self.mass=self.mass()\n",
    "        self.mass_center=self.mass_center()\n",
    "        \n",
    "    def area(self):\n",
    "        c=self.perimeter_func\n",
    "        Area=math.sqrt((c[0][0]-c[1][0])**2+(c[0][1]-c[1][1])**2) * math.sqrt((c[1][0]-c[2][0])**2+(c[1][1]-c[2][1])**2)\n",
    "        return Area\n",
    "    \n",
    "    def mass(self):\n",
    "        c=self.perimeter_func\n",
    "        dens=0\n",
    "        for i in c:\n",
    "            dens+=self.density_func(i[0],i[1])\n",
    "        return dens/2\n",
    "        \n",
    "    def mass_center(self):\n",
    "        c=self.perimeter_func\n",
    "        return (c[0][0]+(abs((c[0][0]-c[1][0])/2)),c[0][1]+(abs((c[0][1]-c[-1][1])/2)))\n",
    "    \n",
    "sh_ex1 = Shape([(1, 1), (3, 1), (3, 2), (1, 2)], lambda x, y: 100 + 100 * x)\n",
    "print(sh_ex1.area) #➞ 2.0\n",
    "print(sh_ex1.mass) #➞ 600.0\n",
    "print(sh_ex1.mass_center) #➞ (2.1, 1.5)"
   ]
  },
  {
   "cell_type": "code",
   "execution_count": 10,
   "id": "8f95d2b1",
   "metadata": {},
   "outputs": [
    {
     "name": "stdout",
     "output_type": "stream",
     "text": [
      "tic_tac_toe([['X', 'O', 'X'], ['O', 'X', 'O'], ['O', 'X', 'X']]) ➞ \"X\"\n",
      "tic_tac_toe([['O', 'O', 'O'], ['O', 'X', 'X'], ['E', 'X', 'X']]) ➞ \"O\"\n",
      "tic_tac_toe([['X', 'X', 'O'], ['O', 'O', 'X'], ['X', 'X', 'O']]) ➞ \"Draw\"\n",
      "tic_tac_toe([['X', 'X', 'O'], ['X', 'O', 'X'], ['X', 'O', 'O']]) ➞ \"X\"\n",
      "tic_tac_toe([['O', 'O', 'X'], ['O', 'X', 'O'], ['X', 'O', 'O']]) ➞ \"X\"\n"
     ]
    }
   ],
   "source": [
    "# 3. Given a 3x3 matrix of a completed tic-tac-toe game, create a function that returns whether \n",
    "# the game is a win for \"X\", \"O\", or a \"Draw\", where \"X\" and \"O\" represent themselves on the matrix, \n",
    "# and \"E\" represents an empty spot.\n",
    "# Examples\n",
    "# tic_tac_toe([\n",
    "#   [\"X\", \"O\", \"X\"],\n",
    "#   [\"O\", \"X\",  \"O\"],\n",
    "#   [\"O\", \"X\",  \"X\"]\n",
    "# ]) ➞ \"X\"\n",
    "# tic_tac_toe([\n",
    "#   [\"O\", \"O\", \"O\"],\n",
    "#   [\"O\", \"X\", \"X\"],\n",
    "#   [\"E\", \"X\", \"X\"]\n",
    "# ]) ➞ \"O\"\n",
    "# tic_tac_toe([\n",
    "#   [\"X\", \"X\", \"O\"],\n",
    "#   [\"O\", \"O\", \"X\"],\n",
    "#   [\"X\", \"X\", \"O\"]\n",
    "# ]) ➞ \"Draw\"\n",
    "\n",
    "def tic_tac_toe(in_list):\n",
    "    output = None  \n",
    "    # Case 1 to search for horizontal match\n",
    "    for ele in in_list:\n",
    "        if len(list(set(ele))) == 1:\n",
    "            output = list(set(ele))[0]\n",
    "            break\n",
    "    # Case 2 to search for vertical match   \n",
    "    if output == None:\n",
    "        for i in range(len(in_list)):\n",
    "            temp = []\n",
    "            for j in range(len(in_list)): temp.append(in_list[j][i])\n",
    "            if len(list(set(temp))) == 1: output = list(set(temp))[0]\n",
    "    # Case 3 to search for diagonal match\n",
    "    if output == None:\n",
    "        temp = []\n",
    "        for ele in [0,1,2]:\n",
    "            temp.append(in_list[ele][ele])\n",
    "        if len(list(set(temp))) == 1: output = list(set(temp))[0]\n",
    "    # Case 4 to search for reverse diagonal match\n",
    "    if output == None:\n",
    "        temp = []\n",
    "        for i in [0,1,2]:\n",
    "            for j in [0,1,2]:\n",
    "                if sum([i,j]) == 2: temp.append(in_list[i][j])\n",
    "        if len(list(set(temp))) == 1: output = list(set(temp))[0]\n",
    "    # Case 5 Draw Condition\n",
    "    if output == None: output = 'Draw'\n",
    "    print(f'tic_tac_toe({in_list}) ➞ \"{output}\"')\n",
    "            \n",
    "tic_tac_toe([[\"X\", \"O\", \"X\"],[\"O\", \"X\", \"O\"],[\"O\", \"X\", \"X\"]])\n",
    "tic_tac_toe([[\"O\", \"O\", \"O\"],[\"O\",\"X\", \"X\"],[\"E\", \"X\", \"X\"]])\n",
    "tic_tac_toe([[\"X\", \"X\", \"O\"],[\"O\", \"O\", \"X\"],[\"X\", \"X\", \"O\"]])\n",
    "tic_tac_toe([[\"X\", \"X\", \"O\"],[\"X\", \"O\", \"X\"],[\"X\", \"O\", \"O\"]])\n",
    "tic_tac_toe([[\"O\", \"O\", \"X\"],[\"O\", \"X\", \"O\"],[\"X\", \"O\", \"O\"]])"
   ]
  },
  {
   "cell_type": "code",
   "execution_count": 8,
   "id": "be710646",
   "metadata": {},
   "outputs": [
    {
     "name": "stdout",
     "output_type": "stream",
     "text": [
      "remove_virus(PC Files: spotifysetup.exe, virus.exe, dog.jpg) ➞ \"PC Files: spotifysetup.exe, dog.jpg\"\n",
      "remove_virus(PC Files: antivirus.exe, cat.pdf, lethalmalware.exe, dangerousvirus.exe ) ➞ \"PC Files: antivirus.exe, cat.pdf\"\n",
      "remove_virus(PC Files: notvirus.exe, funnycat.gif) ➞ \"PC Files: notvirus.exe, funnycat.gif\"\n"
     ]
    }
   ],
   "source": [
    "# 4. Your computer might have been infected by a virus! Create a function that finds the viruses in \n",
    "# files and removes them from your computer.\n",
    "# Examples\n",
    "# remove_virus(\"PC Files: spotifysetup.exe, virus.exe, dog.jpg\") ➞ \"PC Files: spotifysetup.exe, dog.jpg\"\n",
    "# remove_virus(\"PC Files: antivirus.exe, cat.pdf, lethalmalware.exe, dangerousvirus.exe \") \n",
    "#                                                     ➞ \"PC Files: antivirus.exe, cat.pdf\"\n",
    "# remove_virus(\"PC Files: notvirus.exe, funnycat.gif\") ➞ \"PC Files: notvirus.exe, funnycat.gif\")\n",
    "\n",
    "import re\n",
    "def remove_virus(in_string):\n",
    "    in_list = [x.strip() for x in re.split(\", \",in_string)]\n",
    "    output = []\n",
    "    for ele in in_list:\n",
    "        if ele not in ['virus.exe','dangerousvirus.exe','lethalmalware.exe']:\n",
    "            output.append(ele)\n",
    "    print(f'remove_virus({in_string}) ➞ \"{\", \".join(output)}\"')\n",
    "    \n",
    "remove_virus(\"PC Files: spotifysetup.exe, virus.exe, dog.jpg\")\n",
    "remove_virus(\"PC Files: antivirus.exe, cat.pdf, lethalmalware.exe, dangerousvirus.exe \")\n",
    "remove_virus(\"PC Files: notvirus.exe, funnycat.gif\")"
   ]
  },
  {
   "cell_type": "code",
   "execution_count": 7,
   "id": "45c1bf29",
   "metadata": {},
   "outputs": [
    {
     "name": "stdout",
     "output_type": "stream",
     "text": [
      "will_hit('y = 2x - 5', (0, 0)) ➞ False\n",
      "will_hit('y = -4x + 6', (1, 2)) ➞ True\n",
      "will_hit('y = 2x + 6', (3, 2)) ➞ False\n"
     ]
    }
   ],
   "source": [
    "# 5. In a video game, a meteor will fall toward the main character's home planet. \n",
    "# Given the meteor's trajectory as a string in the form y = mx + b and the character's position as a tuple \n",
    "# of (x, y), return True if the meteor will hit the character and False if it will not.\n",
    "# Examples\n",
    "# will_hit(\"y = 2x - 5\", (0, 0)) ➞ False\n",
    "# will_hit(\"y = -4x + 6\", (1, 2)) ➞ True\n",
    "# will_hit(\"y = 2x + 6\", (3, 2)) ➞ False\n",
    "\n",
    "def will_hit(in_eq,in_loc):\n",
    "    in_eq_list = in_eq.split(\" \")\n",
    "    temp_list = []\n",
    "    for ele in in_eq_list:\n",
    "        if 'x' in ele or 'y'in ele:\n",
    "            if len(ele) == 1:\n",
    "                temp_list.append(ele.replace('x',str(in_loc[0]))) if 'x' in ele else temp_list.append(ele.replace('y',str(in_loc[1])))\n",
    "            else:\n",
    "                temp_list.append(ele.replace('x',f'*{in_loc[0]}')) if 'x' in ele else temp_list.append(ele.replace('y',f'*{in_loc[1]}'))\n",
    "        else:\n",
    "            temp_list.append(\"==\") if ele == \"=\" else temp_list.append(ele)\n",
    "    print(f'will_hit{in_eq,in_loc} ➞ {eval(\" \".join(temp_list))}')\n",
    "\n",
    "will_hit(\"y = 2x - 5\", (0, 0))\n",
    "will_hit(\"y = -4x + 6\", (1, 2))\n",
    "will_hit(\"y = 2x + 6\", (3, 2))"
   ]
  }
 ],
 "metadata": {
  "kernelspec": {
   "display_name": "Python 3",
   "language": "python",
   "name": "python3"
  },
  "language_info": {
   "codemirror_mode": {
    "name": "ipython",
    "version": 3
   },
   "file_extension": ".py",
   "mimetype": "text/x-python",
   "name": "python",
   "nbconvert_exporter": "python",
   "pygments_lexer": "ipython3",
   "version": "3.8.8"
  }
 },
 "nbformat": 4,
 "nbformat_minor": 5
}
