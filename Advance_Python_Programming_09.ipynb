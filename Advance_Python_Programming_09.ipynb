{
 "cells": [
  {
   "cell_type": "code",
   "execution_count": 47,
   "id": "23426d7c",
   "metadata": {},
   "outputs": [
    {
     "name": "stdout",
     "output_type": "stream",
     "text": [
      "Enter comma seperated duration and speed: 51:20:09,.5\n"
     ]
    },
    {
     "data": {
      "text/plain": [
       "'102:40:18'"
      ]
     },
     "execution_count": 47,
     "metadata": {},
     "output_type": "execute_result"
    }
   ],
   "source": [
    "# 1. YouTube offers different playback speed options for users. \n",
    "# This allows users to increase or decrease the speed of the video content. \n",
    "# Given the actual duration and playback speed of the video, calculate the playback duration of the video.\n",
    "# Examples\n",
    "# playback_duration(\"00:30:00\", 2) ➞ \"00:15:00\"\n",
    "# playback_duration(\"01:20:00\", 1.5) ➞ \"00:53:20\"\n",
    "# playback_duration(\"51:20:09\", 0.5) ➞ \"102:40:18\"\n",
    "\n",
    "dur,speed=map(str,input(\"Enter comma seperated duration and speed: \").split(\",\"))\n",
    "def playback_duration(dur,speed):\n",
    "    speed=eval(speed)\n",
    "    durLst=dur.split(\":\")\n",
    "    total=int(durLst[0])*3600+int(durLst[1])*60+int(durLst[2])\n",
    "    total//=speed\n",
    "    total=int(total)\n",
    "    return str((total//3600)).zfill(2)+\":\"+str(((total%3600)//60)).zfill(2)\\\n",
    "            +\":\"+str(((total%3600)%60)).zfill(2)\n",
    "playback_duration(dur,speed)"
   ]
  },
  {
   "cell_type": "code",
   "execution_count": 28,
   "id": "21076be9",
   "metadata": {},
   "outputs": [
    {
     "name": "stdout",
     "output_type": "stream",
     "text": [
      "Enter a number: 16\n"
     ]
    },
    {
     "data": {
      "text/plain": [
       "'None'"
      ]
     },
     "execution_count": 28,
     "metadata": {},
     "output_type": "execute_result"
    }
   ],
   "source": [
    "# 2. We needs your help to construct a building which will be a pile of n cubes.\n",
    "# The cube at the bottom will have a volume of n^3, the cube above will have volume of (n-1)^3 and \n",
    "# so on until the top which will have a volume of 1^3.\n",
    "# Given the total volume m of the building, can you find the number of cubes n required for the building?\n",
    "# In other words, you have to return an integer n such that:\n",
    "# n^3 + (n-1)^3 + ... + 1^3 == m\n",
    "# Return None if there is no such number.\n",
    "# Examples\n",
    "# pile_of_cubes(1071225) ➞ 45\n",
    "# pile_of_cubes(4183059834009) ➞ 2022\n",
    "# pile_of_cubes(16) ➞ None\n",
    "\n",
    "num=int(input(\"Enter a number: \"))\n",
    "def pile_of_cubes(num):\n",
    "    cubeSum=0\n",
    "    for i in range(1,num//2):\n",
    "        cubeSum+=i**3\n",
    "        if cubeSum==num:\n",
    "            return i\n",
    "        if cubeSum>num:\n",
    "            return 'None'\n",
    "    \n",
    "pile_of_cubes(num)"
   ]
  },
  {
   "cell_type": "code",
   "execution_count": 6,
   "id": "a7911137",
   "metadata": {},
   "outputs": [
    {
     "name": "stdout",
     "output_type": "stream",
     "text": [
      "Enter a list: [8, 8, 8, 8]\n"
     ]
    },
    {
     "data": {
      "text/plain": [
       "-1"
      ]
     },
     "execution_count": 6,
     "metadata": {},
     "output_type": "execute_result"
    }
   ],
   "source": [
    "# 3. A fulcrum of a list is an integer such that all elements to the left of it and all elements \n",
    "# to the right of it sum to the same value. Write a function that finds the fulcrum of a list.\n",
    "# To illustrate:\n",
    "# find_fulcrum([3, 1, 5, 2, 4, 6, -1]) ➞ 2\n",
    "# // Since [3, 1, 5] and [4, 6, -1] both sum to 9\n",
    "# Examples\n",
    "# find_fulcrum([1, 2, 4, 9, 10, -10, -9, 3]) ➞ 4\n",
    "# find_fulcrum([9, 1, 9]) ➞ 1\n",
    "# find_fulcrum([7, -1, 0, -1, 1, 1, 2, 3]) ➞ 0\n",
    "# find_fulcrum([8, 8, 8, 8]) ➞ -1\n",
    "\n",
    "lst=eval(input(\"Enter a list: \"))\n",
    "def find_fulcrum(lst):\n",
    "    for i in range(1,len(lst)-1):\n",
    "        if sum(lst[:i])==sum(lst[i+1:]):\n",
    "            return lst[i]\n",
    "    return -1\n",
    "\n",
    "find_fulcrum(lst)"
   ]
  },
  {
   "cell_type": "code",
   "execution_count": 12,
   "id": "98bdc810",
   "metadata": {},
   "outputs": [
    {
     "name": "stdout",
     "output_type": "stream",
     "text": [
      "Enter a list: []\n"
     ]
    },
    {
     "data": {
      "text/plain": [
       "0"
      ]
     },
     "execution_count": 12,
     "metadata": {},
     "output_type": "execute_result"
    }
   ],
   "source": [
    "# 4. Given a list of integers representing the color of each sock, determine how many pairs of \n",
    "# socks with matching colors there are. For example, there are 7 socks with colors [1, 2, 1, 2, 1, 3, 2]. \n",
    "# There is one pair of color 1 and one of color 2. There are three odd socks left, one of each color. \n",
    "# The number of pairs is 2.\n",
    "# Create a function that returns an integer representing the number of matching pairs of socks that are available.\n",
    "# Examples\n",
    "# sock_merchant([10, 20, 20, 10, 10, 30, 50, 10, 20]) ➞ 3\n",
    "# sock_merchant([50, 20, 30, 90, 30, 20, 50, 20, 90]) ➞ 4\n",
    "# sock_merchant([]) ➞ 0\n",
    "\n",
    "lst=eval(input(\"Enter a list: \"))\n",
    "def sock_merchant(lst):\n",
    "    if lst==[]:\n",
    "        return 0\n",
    "    else:\n",
    "        count=0\n",
    "        for i in set(lst):\n",
    "            if lst.count(i)>=2:\n",
    "                count+=lst.count(i)//2\n",
    "        return count\n",
    "                \n",
    "sock_merchant(lst)"
   ]
  },
  {
   "cell_type": "code",
   "execution_count": 21,
   "id": "c1be2697",
   "metadata": {},
   "outputs": [
    {
     "name": "stdout",
     "output_type": "stream",
     "text": [
      "Enter a string: -12 13%14&-11\n"
     ]
    },
    {
     "data": {
      "text/plain": [
       "-23"
      ]
     },
     "execution_count": 21,
     "metadata": {},
     "output_type": "execute_result"
    }
   ],
   "source": [
    "# 5. Create a function that takes a string containing integers as well as other characters and \n",
    "# return the sum of the negative integers only.\n",
    "# Examples\n",
    "# negative_sum(\"-12 13%14&-11\") ➞ -23\n",
    "# -12 + -11 = -23\n",
    "# negative_sum(\"22 13%14&-11-22 13 12\") ➞ -33\n",
    "# -11 + -22 = -33\n",
    "\n",
    "str1=input(\"Enter a string: \")\n",
    "def negative_sum(str1):\n",
    "    lst=str1.split(\"-\")\n",
    "    lst.pop(0)\n",
    "    if \" \" in lst[-1]:\n",
    "        lst[-1]=lst[-1].split()[0]\n",
    "    if \" \" in lst[0]:\n",
    "        lst[0]=lst[0].split()[0]\n",
    "    return -sum([int(i) for i in lst])\n",
    "negative_sum(str1)"
   ]
  }
 ],
 "metadata": {
  "kernelspec": {
   "display_name": "Python 3",
   "language": "python",
   "name": "python3"
  },
  "language_info": {
   "codemirror_mode": {
    "name": "ipython",
    "version": 3
   },
   "file_extension": ".py",
   "mimetype": "text/x-python",
   "name": "python",
   "nbconvert_exporter": "python",
   "pygments_lexer": "ipython3",
   "version": "3.8.8"
  }
 },
 "nbformat": 4,
 "nbformat_minor": 5
}
