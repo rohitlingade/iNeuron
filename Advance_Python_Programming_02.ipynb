{
 "cells": [
  {
   "cell_type": "code",
   "execution_count": 22,
   "id": "a38e5f5a",
   "metadata": {},
   "outputs": [
    {
     "name": "stdout",
     "output_type": "stream",
     "text": [
      "Enter a num: 8\n"
     ]
    },
    {
     "data": {
      "text/plain": [
       "141"
      ]
     },
     "execution_count": 22,
     "metadata": {},
     "output_type": "execute_result"
    }
   ],
   "source": [
    "# 1. Write a function that takes a positive integer num and calculates how many dots exist in a pentagonal shape \n",
    "# around the center dot on the Nth iteration.\n",
    "# In the image below you can see the first iteration is only a single dot. On the second, there are 6 dots. \n",
    "# On the third, there are 16 dots, and on the fourth there are 31 dots.\n",
    "# Return the number of dots that exist in the whole pentagon on the Nth iteration.\n",
    "# Examples:\n",
    "# pentagonal(1) ➞ 1\n",
    "# pentagonal(2) ➞ 6\n",
    "# pentagonal(3) ➞ 16\n",
    "# pentagonal(8) ➞ 141\n",
    "\n",
    "num=int(input(\"Enter a num: \"))\n",
    "def pentagonal(num):\n",
    "    return (5*num*num - 5*num + 2) // 2\n",
    "pentagonal(num)"
   ]
  },
  {
   "cell_type": "code",
   "execution_count": 7,
   "id": "6e475a36",
   "metadata": {},
   "outputs": [
    {
     "name": "stdout",
     "output_type": "stream",
     "text": [
      "Enter a string: alpaca\n"
     ]
    },
    {
     "data": {
      "text/plain": [
       "'0c0pl0aca'"
      ]
     },
     "execution_count": 7,
     "metadata": {},
     "output_type": "execute_result"
    }
   ],
   "source": [
    "# 2.  Make a function that encrypts a given input with these steps:\n",
    "# Input: \"apple\"\n",
    "# Step 1: Reverse the input: \"elppa\"\n",
    "# Step 2: Replace all vowels using the following chart:\n",
    "# a => 0\n",
    "# e => 1\n",
    "# i => 2\n",
    "# o => 2\n",
    "# u => 3\n",
    "# # \"1lpp0\"\n",
    "# Step 3: Add \"aca\" to the end of the word: \"1lpp0aca\"\n",
    "# Output: \"1lpp0aca\"\n",
    "# Examples\n",
    "# encrypt(\"banana\") ➞ \"0n0n0baca\"\n",
    "# encrypt(\"karaca\") ➞ \"0c0r0kaca\"\n",
    "# encrypt(\"burak\") ➞ \"k0r3baca\"\n",
    "# encrypt(\"alpaca\") ➞ \"0c0pl0aca\"\n",
    "\n",
    "str1=input(\"Enter a string: \")\n",
    "vowel_dict={\"a\":0,\"e\":1,\"i\":2,\"o\":3,\"u\":4}\n",
    "def encrypt(str1):\n",
    "    reverse_str=str1[::-1]\n",
    "    for i in reverse_str:\n",
    "        if i in vowel_dict:\n",
    "            reverse_str=reverse_str.replace(i,str(vowel_dict[i]))\n",
    "    return reverse_str+\"aca\"\n",
    "encrypt(str1)"
   ]
  },
  {
   "cell_type": "code",
   "execution_count": 12,
   "id": "94a90e5a",
   "metadata": {},
   "outputs": [
    {
     "name": "stdout",
     "output_type": "stream",
     "text": [
      "Enter comma seperated month and year: 1,1985\n"
     ]
    },
    {
     "data": {
      "text/plain": [
       "False"
      ]
     },
     "execution_count": 12,
     "metadata": {},
     "output_type": "execute_result"
    }
   ],
   "source": [
    "# 3. Given the month and year as numbers, return whether that month contains a Friday 13th.\n",
    "# (i.e You can check Python's datetime module)\n",
    "# Examples\n",
    "# has_friday_13(3, 2020) ➞ True\n",
    "# has_friday_13(10, 2017) ➞ True\n",
    "# has_friday_13(1, 1985) ➞ False\n",
    "\n",
    "from datetime import datetime\n",
    "import calendar\n",
    "\n",
    "month,year = tuple(map(int,input(\"Enter comma seperated month and year: \").split(\",\")))\n",
    "def has_friday_13(month, year):\n",
    "    date = f'{month} 13 {year}'.format()\n",
    "    day = datetime.strptime(date, '%m %d %Y').weekday()\n",
    "    return (calendar.day_name[day]) == \"Friday\"\n",
    "has_friday_13(month,year)"
   ]
  },
  {
   "cell_type": "code",
   "execution_count": 29,
   "id": "1fe7eb22",
   "metadata": {},
   "outputs": [
    {
     "data": {
      "text/plain": [
       "2"
      ]
     },
     "execution_count": 29,
     "metadata": {},
     "output_type": "execute_result"
    }
   ],
   "source": [
    "# 4. Write a regular expression that will help us count how many bad cookies are produced every day. \n",
    "# You must use RegEx negative lookbehind.\n",
    "# Example\n",
    "# lst = [\"bad cookie\", \"good cookie\", \"bad cookie\", \"good cookie\", \"good cookie\"]\n",
    "# pattern = \"yourregularexpressionhere\"\n",
    "# len(re.findall(pattern, \", \".join(lst))) ➞ 2\n",
    "\n",
    "import re\n",
    "lst = [\"bad cookie\", \"good cookie\", \"bad cookie\", \"good cookie\", \"good cookie\"]\n",
    "pattern = \"bad cookie\"\n",
    "len(re.findall(pattern, \", \".join(lst)))"
   ]
  },
  {
   "cell_type": "code",
   "execution_count": 16,
   "id": "55829f38",
   "metadata": {},
   "outputs": [
    {
     "name": "stdout",
     "output_type": "stream",
     "text": [
      "Enter a list: [\"table\", \"table\", \"table\"]\n"
     ]
    },
    {
     "data": {
      "text/plain": [
       "{'tables'}"
      ]
     },
     "execution_count": 16,
     "metadata": {},
     "output_type": "execute_result"
    }
   ],
   "source": [
    "# 5. Given a list of words in the singular form, return a set of those words in the plural form if they appear \n",
    "# more than once in the list.\n",
    "# Examples\n",
    "# pluralize([\"cow\", \"pig\", \"cow\", \"cow\"]) ➞ { \"cows\", \"pig\" }\n",
    "# pluralize([\"table\", \"table\", \"table\"]) ➞ { \"tables\" }\n",
    "# pluralize([\"chair\", \"pencil\", \"arm\"]) ➞ { \"chair\", \"pencil\", \"arm\" }\n",
    "\n",
    "lst1=eval(input(\"Enter a list: \"))\n",
    "def pluralize(lst1):\n",
    "    output_set=set()\n",
    "    for i in set(lst1):\n",
    "        if lst1.count(i)>1:\n",
    "            output_set.add(i+\"s\")\n",
    "        else:output_set.add(i)\n",
    "    return output_set\n",
    "pluralize(lst1)"
   ]
  }
 ],
 "metadata": {
  "kernelspec": {
   "display_name": "Python 3",
   "language": "python",
   "name": "python3"
  },
  "language_info": {
   "codemirror_mode": {
    "name": "ipython",
    "version": 3
   },
   "file_extension": ".py",
   "mimetype": "text/x-python",
   "name": "python",
   "nbconvert_exporter": "python",
   "pygments_lexer": "ipython3",
   "version": "3.8.8"
  }
 },
 "nbformat": 4,
 "nbformat_minor": 5
}
