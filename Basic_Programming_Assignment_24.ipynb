{
 "cells": [
  {
   "cell_type": "code",
   "execution_count": 9,
   "id": "82f42a98",
   "metadata": {},
   "outputs": [
    {
     "name": "stdout",
     "output_type": "stream",
     "text": [
      "Enter a number: 25\n"
     ]
    },
    {
     "data": {
      "text/plain": [
       "[1,\n",
       " 2,\n",
       " 3,\n",
       " 40,\n",
       " 5,\n",
       " 6,\n",
       " 7,\n",
       " 80,\n",
       " 9,\n",
       " 10,\n",
       " 11,\n",
       " 120,\n",
       " 13,\n",
       " 14,\n",
       " 15,\n",
       " 160,\n",
       " 17,\n",
       " 18,\n",
       " 19,\n",
       " 200,\n",
       " 21,\n",
       " 22,\n",
       " 23,\n",
       " 240,\n",
       " 25]"
      ]
     },
     "execution_count": 9,
     "metadata": {},
     "output_type": "execute_result"
    }
   ],
   "source": [
    "# Question1\n",
    "# Create a function that takes an integer and returns a list from 1 to the given number, where:\n",
    "# 1.\tIf the number can be divided evenly by 4, amplify it by 10 (i.e. return 10 times the number).\n",
    "# 2.\tIf the number cannot be divided evenly by 4, simply return the number.\n",
    "# Examples\n",
    "# amplify(4) ➞ [1, 2, 3, 40]\n",
    "# amplify(3) ➞ [1, 2, 3]\n",
    "# amplify(25) ➞ [1, 2, 3, 40, 5, 6, 7, 80, 9, 10, 11, 120, 13, 14, 15, 160, 17, 18, 19, 200, 21, 22, 23, 240, 25]\n",
    "# Notes\n",
    "# •\tThe given integer will always be equal to or greater than 1.\n",
    "# •\tInclude the number (see example above).\n",
    "# •\tTo perform this problem with its intended purpose, try doing it with list comprehensions. \n",
    "# If that's too difficult, just solve the challenge any way you can.\n",
    "\n",
    "num=int(input(\"Enter a number: \"))\n",
    "def amplify(num):\n",
    "    return [i*10 if i%4== 0 else i for i in range(1,num+1)]\n",
    "amplify(num)"
   ]
  },
  {
   "cell_type": "code",
   "execution_count": 12,
   "id": "1b248b0a",
   "metadata": {},
   "outputs": [
    {
     "name": "stdout",
     "output_type": "stream",
     "text": [
      "Enter a list of numbers: [0, 1, 1, 1, 1, 1, 1, 1]\n"
     ]
    },
    {
     "data": {
      "text/plain": [
       "0"
      ]
     },
     "execution_count": 12,
     "metadata": {},
     "output_type": "execute_result"
    }
   ],
   "source": [
    "# Question2\n",
    "# Create a function that takes a list of numbers and return the number that's unique.\n",
    "# Examples\n",
    "# unique([3, 3, 3, 7, 3, 3]) ➞ 7\n",
    "# unique([0, 0, 0.77, 0, 0]) ➞ 0.77\n",
    "# unique([0, 1, 1, 1, 1, 1, 1, 1]) ➞ 0\n",
    "# Notes\n",
    "# Test cases will always have exactly one unique number while all others are the same.\n",
    "\n",
    "lst=eval(input(\"Enter a list of numbers: \"))\n",
    "def unique(lst):\n",
    "    set1=set(lst)\n",
    "    count=0\n",
    "    for i in set1:\n",
    "        if lst.count(i)==1:\n",
    "            return i\n",
    "unique(lst)"
   ]
  },
  {
   "cell_type": "code",
   "execution_count": 14,
   "id": "0afb6b3b",
   "metadata": {},
   "outputs": [
    {
     "name": "stdout",
     "output_type": "stream",
     "text": [
      "380\n",
      "28\n"
     ]
    }
   ],
   "source": [
    "# Question3\n",
    "# Your task is to create a Circle constructor that creates a circle with a radius provided by an argument. \n",
    "# The circles constructed must have two getters getArea() (PIr^2) and getPerimeter() (2PI*r) which give both \n",
    "# respective areas and perimeter (circumference).\n",
    "# For help with this class, I have provided you with a Rectangle constructor which you can use as a base example.\n",
    "# Examples\n",
    "# circy = Circle(11)\n",
    "# circy.getArea()\n",
    "# # Should return 380.132711084365\n",
    "# circy = Circle(4.44)\n",
    "# circy.getPerimeter()\n",
    "# # Should return 27.897342763877365\n",
    "# Notes\n",
    "# Round results up to the nearest integer.\n",
    "\n",
    "import math\n",
    "class Circle:\n",
    "    def __init__(self,radius):\n",
    "        self.radius=radius\n",
    "    def getArea(self):\n",
    "        return math.pi*self.radius**2\n",
    "    def getPerimeter(self):\n",
    "        return 2*math.pi*self.radius\n",
    "\n",
    "circy = Circle(11)\n",
    "# Notes\n",
    "# Round results up to the nearest integer.\n",
    "print(round(circy.getArea()))\n",
    "circy = Circle(4.44)\n",
    "# Notes\n",
    "# Round results up to the nearest integer.\n",
    "print(round(circy.getPerimeter()))"
   ]
  },
  {
   "cell_type": "code",
   "execution_count": 18,
   "id": "162708a6",
   "metadata": {},
   "outputs": [
    {
     "name": "stdout",
     "output_type": "stream",
     "text": [
      "Enter a list: [\"Turing\", \"Einstein\", \"Jung\"]\n"
     ]
    },
    {
     "data": {
      "text/plain": [
       "['Jung', 'Turing', 'Einstein']"
      ]
     },
     "execution_count": 18,
     "metadata": {},
     "output_type": "execute_result"
    }
   ],
   "source": [
    "# Question4\n",
    "# Create a function that takes a list of strings and return a list, sorted from shortest to longest.\n",
    "# Examples\n",
    "# sort_by_length([\"Google\", \"Apple\", \"Microsoft\"])\n",
    "# ➞ [\"Apple\", \"Google\", \"Microsoft\"]\n",
    "# sort_by_length([\"Leonardo\", \"Michelangelo\", \"Raphael\", \"Donatello\"])\n",
    "# ➞ [\"Raphael\", \"Leonardo\", \"Donatello\", \"Michelangelo\"]\n",
    "# sort_by_length([\"Turing\", \"Einstein\", \"Jung\"])\n",
    "# ➞ [\"Jung\", \"Turing\", \"Einstein\"]\n",
    "# Notes\n",
    "# All test cases contain lists with strings of different lengths, \n",
    "# so you won't have to deal with multiple strings of the same length.\n",
    "# Question5\n",
    "# Create a function that validates whether three given integers form a Pythagorean triplet. \n",
    "# The sum of the squares of the two smallest integers must equal the square of the largest number to be validated.\n",
    "\n",
    "lst=eval(input(\"Enter a list: \"))\n",
    "def sort_by_length(lst):\n",
    "    lst.sort(key=len)\n",
    "    return lst\n",
    "sort_by_length(lst)"
   ]
  },
  {
   "cell_type": "code",
   "execution_count": 26,
   "id": "d8deb258",
   "metadata": {},
   "outputs": [
    {
     "name": "stdout",
     "output_type": "stream",
     "text": [
      "Enter comma seperated values: 1,2,3\n"
     ]
    },
    {
     "data": {
      "text/plain": [
       "False"
      ]
     },
     "execution_count": 26,
     "metadata": {},
     "output_type": "execute_result"
    }
   ],
   "source": [
    "# Examples\n",
    "# is_triplet(3, 4, 5) ➞ True\n",
    "# # 3² + 4² = 25\n",
    "# # 5² = 25\n",
    "# is_triplet(13, 5, 12) ➞ True\n",
    "# # 5² + 12² = 169\n",
    "# # 13² = 169\n",
    "# is_triplet(1, 2, 3) ➞ False\n",
    "# # 1² + 2² = 5\n",
    "# # 3² = 9\n",
    "# Notes\n",
    "# Numbers may not be given in a sorted order.\n",
    "\n",
    "num1,num2,num3=tuple(map(int,input(\"Enter comma seperated values: \").split(\",\")))\n",
    "def is_triplet(num1,num2,num3):\n",
    "    lst=[num1,num2,num3]\n",
    "    maxNum=lst.pop(lst.index(max(lst)))\n",
    "    squareSum=0\n",
    "    for i in lst:\n",
    "        squareSum+=i**2\n",
    "    if squareSum==maxNum**2:\n",
    "        return True\n",
    "    return False\n",
    "is_triplet(num1,num2,num3)"
   ]
  }
 ],
 "metadata": {
  "kernelspec": {
   "display_name": "Python 3",
   "language": "python",
   "name": "python3"
  },
  "language_info": {
   "codemirror_mode": {
    "name": "ipython",
    "version": 3
   },
   "file_extension": ".py",
   "mimetype": "text/x-python",
   "name": "python",
   "nbconvert_exporter": "python",
   "pygments_lexer": "ipython3",
   "version": "3.8.8"
  }
 },
 "nbformat": 4,
 "nbformat_minor": 5
}
