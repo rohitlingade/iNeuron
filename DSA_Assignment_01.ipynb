{
 "cells": [
  {
   "cell_type": "markdown",
   "id": "174acf65",
   "metadata": {},
   "source": [
    "Q1. Describe Python's built-in data structure?\n",
    "\n",
    "ANS:\n",
    "\n",
    "Python has four basic inbuilt data structures namely Lists, Dictionary, Tuple and Set."
   ]
  },
  {
   "cell_type": "markdown",
   "id": "6363dd35",
   "metadata": {},
   "source": [
    "Q2. Describe the Python user data structure?\n",
    "\n",
    "ANS:\n",
    "\n",
    "User-defined data structures: Data structures that aren’t supported by python but can be programmed to reflect the same functionality using concepts supported by python are user-defined data structures. There are many data structure that can be implemented this way:\n",
    "1. Linked list\n",
    "2. Stack\n",
    "3. Queue\n",
    "4. Tree\n",
    "5. Graph\n",
    "6. Hashmap"
   ]
  },
  {
   "cell_type": "markdown",
   "id": "79f11847",
   "metadata": {},
   "source": [
    "Q3. Describe the stages involved in writing an algorithm?\n",
    "\n",
    "ANS:\n",
    "\n",
    "Step 1: Obtain a description of the problem. \n",
    "Step 2: Analyze the problem. \n",
    "Step 3: Develop a high-level algorithm. \n",
    "Step 4: Refine the algorithm by adding more detail."
   ]
  },
  {
   "cell_type": "markdown",
   "id": "05403879",
   "metadata": {},
   "source": [
    "Q4. Outline the components of a good algorithm?\n",
    "\n",
    "ANS:\n",
    "\n",
    "Unambiguous − Algorithm should be clear and unambiguous. \n",
    "Input − An algorithm should have 0 or more well-defined inputs. \n",
    "Output − An algorithm should have 1 or more well-defined outputs, and should match the desired output. \n",
    "Finiteness − Algorithms must terminate after a finite number of steps."
   ]
  },
  {
   "cell_type": "markdown",
   "id": "082bbc27",
   "metadata": {},
   "source": [
    "Q5. Describe the Tree traversal method?\n",
    "\n",
    "ANS:\n",
    "\n",
    "In computer science, tree traversal (also known as tree search and walking the tree) is a form of graph traversal and refers to the process of visiting (e.g. retrieving, updating, or deleting) each node in a tree data structure, exactly once. Such traversals are classified by the order in which the nodes are visited."
   ]
  },
  {
   "cell_type": "markdown",
   "id": "21019c47",
   "metadata": {},
   "source": [
    "Q6. Explain the difference between inorder and postorder tree traversal?\n",
    "\n",
    "ANS:\n",
    "\n",
    "Inorder Traversal (left-current-right) — Visit the current node after visiting all nodes inside left subtree but before visiting any node within the right subtree. \n",
    "Postorder Traversal (left-right-current) — Visit the current node after visiting all the nodes of left and right subtrees."
   ]
  }
 ],
 "metadata": {
  "kernelspec": {
   "display_name": "Python 3",
   "language": "python",
   "name": "python3"
  },
  "language_info": {
   "codemirror_mode": {
    "name": "ipython",
    "version": 3
   },
   "file_extension": ".py",
   "mimetype": "text/x-python",
   "name": "python",
   "nbconvert_exporter": "python",
   "pygments_lexer": "ipython3",
   "version": "3.8.8"
  }
 },
 "nbformat": 4,
 "nbformat_minor": 5
}
