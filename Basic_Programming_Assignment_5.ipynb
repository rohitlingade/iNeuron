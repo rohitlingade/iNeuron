{
 "cells": [
  {
   "cell_type": "raw",
   "id": "6266fd96",
   "metadata": {},
   "source": [
    "1.\tWrite a Python Program to Find LCM?"
   ]
  },
  {
   "cell_type": "code",
   "execution_count": 8,
   "id": "3c1b1d99",
   "metadata": {},
   "outputs": [
    {
     "name": "stdout",
     "output_type": "stream",
     "text": [
      "Enter a number: 15\n",
      "Enter another number: 35\n"
     ]
    },
    {
     "data": {
      "text/plain": [
       "105"
      ]
     },
     "execution_count": 8,
     "metadata": {},
     "output_type": "execute_result"
    }
   ],
   "source": [
    "num1=int(input(\"Enter a number: \"))\n",
    "num2=int(input(\"Enter another number: \"))\n",
    "def LCM(num1,num2):\n",
    "    maxNum=max(num1,num2)\n",
    "    for i in range(maxNum,num1*num2+1):\n",
    "        if i%num1==0 and i%num2==0:\n",
    "            return i\n",
    "            break\n",
    "LCM(num1,num2)\n",
    "    "
   ]
  },
  {
   "cell_type": "raw",
   "id": "c68b8620",
   "metadata": {},
   "source": [
    "2.\tWrite a Python Program to Find HCF?"
   ]
  },
  {
   "cell_type": "code",
   "execution_count": 11,
   "id": "11dba813",
   "metadata": {},
   "outputs": [
    {
     "name": "stdout",
     "output_type": "stream",
     "text": [
      "Enter a number: 7\n",
      "Enter another number: 9\n"
     ]
    },
    {
     "data": {
      "text/plain": [
       "1"
      ]
     },
     "execution_count": 11,
     "metadata": {},
     "output_type": "execute_result"
    }
   ],
   "source": [
    "num1=int(input(\"Enter a number: \"))\n",
    "num2=int(input(\"Enter another number: \"))\n",
    "def HCF(num1,num2):\n",
    "    return int(num1*num2/LCM(num1,num2))\n",
    "HCF(num1,num2)"
   ]
  },
  {
   "cell_type": "raw",
   "id": "bae6ac9c",
   "metadata": {},
   "source": [
    "3.\tWrite a Python Program to Convert Decimal to Binary, Octal and Hexadecimal?"
   ]
  },
  {
   "cell_type": "code",
   "execution_count": 12,
   "id": "c36b8e2d",
   "metadata": {},
   "outputs": [
    {
     "name": "stdout",
     "output_type": "stream",
     "text": [
      "Enter a number: 8\n",
      "Binary number is:  0b1000\n",
      "Octal number is:  0o10\n",
      "HexaDecimal number is:  0x8\n"
     ]
    }
   ],
   "source": [
    "num=int(input(\"Enter a number: \"))\n",
    "print(\"Binary number is: \",bin(num))\n",
    "print(\"Octal number is: \",oct(num))\n",
    "print(\"HexaDecimal number is: \",hex(num))"
   ]
  },
  {
   "cell_type": "raw",
   "id": "8c016af2",
   "metadata": {},
   "source": [
    "4.\tWrite a Python Program To Find ASCII value of a character?"
   ]
  },
  {
   "cell_type": "code",
   "execution_count": 17,
   "id": "9e8f966b",
   "metadata": {},
   "outputs": [
    {
     "name": "stdout",
     "output_type": "stream",
     "text": [
      "Enter a number: p\n",
      "ASCII value is:  112\n"
     ]
    }
   ],
   "source": [
    "num=input(\"Enter a number: \")\n",
    "print(\"ASCII value is: \",ord(num))"
   ]
  },
  {
   "cell_type": "raw",
   "id": "bb008bbc",
   "metadata": {},
   "source": [
    "5.\tWrite a Python Program to Make a Simple Calculator with 4 basic mathematical operations?"
   ]
  },
  {
   "cell_type": "code",
   "execution_count": 20,
   "id": "71aa9d66",
   "metadata": {},
   "outputs": [
    {
     "name": "stdout",
     "output_type": "stream",
     "text": [
      "Choose any operation. \n",
      "1. Addition\n",
      "2. Substraction\n",
      "3. Multiplication\n",
      "4. Division\n",
      "Choose operation (1,2,3,4):1\n",
      "Enter a number: 23\n",
      "Enter another number: 14\n",
      "23  +  14  =  37\n",
      "Let's do next calculation? (yes/no): yes\n",
      "Choose operation (1,2,3,4):2\n",
      "Enter a number: 23\n",
      "Enter another number: 14\n",
      "23  -  14  =  9\n",
      "Let's do next calculation? (yes/no): yes\n",
      "Choose operation (1,2,3,4):3\n",
      "Enter a number: 23\n",
      "Enter another number: 14\n",
      "23  x  14  =  322\n",
      "Let's do next calculation? (yes/no): yes\n",
      "Choose operation (1,2,3,4):4\n",
      "Enter a number: 23\n",
      "Enter another number: 14\n",
      "23  /  14  =  1.6428571428571428\n",
      "Let's do next calculation? (yes/no): no\n"
     ]
    }
   ],
   "source": [
    "def add(a,b):return a+b\n",
    "def substract(a,b):return a-b\n",
    "def multiply(a,b):return a*b\n",
    "def divide(a,b):return a/b\n",
    "print(\"Choose any operation. \")\n",
    "print(\"1. Addition\")\n",
    "print(\"2. Substraction\")\n",
    "print(\"3. Multiplication\")\n",
    "print(\"4. Division\")\n",
    "\n",
    "while True:\n",
    "    response=input(\"Choose operation (1,2,3,4):\")\n",
    "    if response in ('1','2','3','4'):\n",
    "        num1=int(input(\"Enter a number: \"))\n",
    "        num2=int(input(\"Enter another number: \"))\n",
    "        \n",
    "        if response == '1':print(num1,\" + \",num2,\" = \",add(num1,num2))\n",
    "        elif response == '2':print(num1,\" - \",num2,\" = \",substract(num1,num2))\n",
    "        elif response == '3':print(num1,\" x \",num2,\" = \",multiply(num1,num2))\n",
    "        elif response == '4':print(num1,\" / \",num2,\" = \",divide(num1,num2))\n",
    "        \n",
    "        next_calculation = input(\"Let's do next calculation? (yes/no): \")\n",
    "        if next_calculation == \"no\":break\n",
    "    else:print(\"Invalid Input\")"
   ]
  },
  {
   "cell_type": "code",
   "execution_count": null,
   "id": "2a305301",
   "metadata": {},
   "outputs": [],
   "source": []
  }
 ],
 "metadata": {
  "kernelspec": {
   "display_name": "Python 3",
   "language": "python",
   "name": "python3"
  },
  "language_info": {
   "codemirror_mode": {
    "name": "ipython",
    "version": 3
   },
   "file_extension": ".py",
   "mimetype": "text/x-python",
   "name": "python",
   "nbconvert_exporter": "python",
   "pygments_lexer": "ipython3",
   "version": "3.8.8"
  }
 },
 "nbformat": 4,
 "nbformat_minor": 5
}
