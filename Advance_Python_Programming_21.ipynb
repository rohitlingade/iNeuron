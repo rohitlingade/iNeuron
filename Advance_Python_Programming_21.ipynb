{
 "cells": [
  {
   "cell_type": "code",
   "execution_count": 6,
   "id": "597b8a38",
   "metadata": {},
   "outputs": [
    {
     "name": "stdout",
     "output_type": "stream",
     "text": [
      "Enter a sentence: No I am not in a gang.\n"
     ]
    },
    {
     "data": {
      "text/plain": [
       "1"
      ]
     },
     "execution_count": 6,
     "metadata": {},
     "output_type": "execute_result"
    }
   ],
   "source": [
    "# 1. Given a sentence, return the number of words which have the same first and last letter.\n",
    "# Examples\n",
    "# count_same_ends(\"Pop! goes the balloon\") ➞ 1\n",
    "# count_same_ends(\"And the crowd goes wild!\") ➞ 0\n",
    "# count_same_ends(\"No I am not in a gang.\") ➞ 1\n",
    "\n",
    "sentence=input(\"Enter a sentence: \")\n",
    "def count_same_ends(sentence):\n",
    "    count=0\n",
    "    lst=sentence.split()\n",
    "    for i in range(len(lst)):\n",
    "        for j in lst[i]:\n",
    "            if j in \"!.,\":\n",
    "                lst[i]=lst[i].replace(j,\"\")\n",
    "    for i in lst:\n",
    "        if i[0].lower()==i[-1].lower() and len(i)>1:\n",
    "            count+=1\n",
    "    return count\n",
    "count_same_ends(sentence)"
   ]
  },
  {
   "cell_type": "code",
   "execution_count": 11,
   "id": "eeced9f5",
   "metadata": {},
   "outputs": [
    {
     "name": "stdout",
     "output_type": "stream",
     "text": [
      "Enter a string: Christmas is the 25th of December\n"
     ]
    },
    {
     "data": {
      "text/plain": [
       "'Xsirhgnzh rh gsv 25gs lu Wvxvnyvi'"
      ]
     },
     "execution_count": 11,
     "metadata": {},
     "output_type": "execute_result"
    }
   ],
   "source": [
    "# 2. The Atbash cipher is an encryption method in which each letter of a word is replaced with its \"mirror\" \n",
    "# letter in the alphabet: A <=> Z; B <=> Y; C <=> X; etc.\n",
    "# Create a function that takes a string and applies the Atbash cipher to it.\n",
    "# Examples\n",
    "# atbash(\"apple\") ➞ \"zkkov\"\n",
    "# atbash(\"Hello world!\") ➞ \"Svool dliow!\"\n",
    "# atbash(\"Christmas is the 25th of December\") ➞ \"Xsirhgnzh rh gsv 25gs lu Wvxvnyvi\"\n",
    "\n",
    "small='abcdefghijklmnopqrstuvwxyz'\n",
    "caps='ABCDEFGHIJKLMNOPQRSTUVWXYZ'\n",
    "str1=input(\"Enter a string: \")\n",
    "def atbash(str1):\n",
    "    s=''\n",
    "    for i in str1:\n",
    "        if i in small:\n",
    "            s+=small[-(small.index(i)+1)]\n",
    "        elif i in caps:\n",
    "            s+=caps[-(caps.index(i)+1)]\n",
    "        else:\n",
    "            s+=i\n",
    "    return s\n",
    "atbash(str1)"
   ]
  },
  {
   "cell_type": "code",
   "execution_count": 46,
   "id": "c37f2eda",
   "metadata": {},
   "outputs": [
    {
     "name": "stdout",
     "output_type": "stream",
     "text": [
      "John\n",
      "Major\n",
      "178\n",
      "Italian\n"
     ]
    }
   ],
   "source": [
    "# 3. Create a class Employee that will take a full name as argument, as well as a set of none, one or more keywords. \n",
    "# Each instance should have a name and a lastname attributes plus one more attribute for each of the keywords, \n",
    "# if any.\n",
    "# Examples\n",
    "# john = Employee(\"John Doe\")\n",
    "# mary = Employee(\"Mary Major\", salary=120000)\n",
    "# richard = Employee(\"Richard Roe\", salary=110000, height=178)\n",
    "# giancarlo = Employee(\"Giancarlo Rossi\", salary=115000, height=182, nationality=\"Italian\")\n",
    "# john.name ➞ \"John\"\n",
    "# mary.lastname ➞ \"Major\"\n",
    "# richard.height ➞ 178\n",
    "# giancarlo.nationality ➞ \"Italian\"\n",
    "\n",
    "class Employee:\n",
    "    def __init__(self,name,salary=None,height=None,nationality=None):\n",
    "        self.name=name.split()[0]\n",
    "        self.lastname=name.split()[1]\n",
    "        self.salary=salary\n",
    "        self.height=height\n",
    "        self.nationality=nationality\n",
    "    \n",
    "    \n",
    "john = Employee(\"John Doe\")\n",
    "mary = Employee(\"Mary Major\", salary=120000)\n",
    "richard = Employee(\"Richard Roe\", salary=110000, height=178)\n",
    "giancarlo = Employee(\"Giancarlo Rossi\", salary=115000, height=182, nationality=\"Italian\")\n",
    "print(john.name) #➞ \"John\"\n",
    "print(mary.lastname) #➞ \"Major\"\n",
    "print(richard.height) #➞ 178\n",
    "print(giancarlo.nationality) #➞ \"Italian\""
   ]
  },
  {
   "cell_type": "code",
   "execution_count": 27,
   "id": "a16abd5f",
   "metadata": {},
   "outputs": [
    {
     "name": "stdout",
     "output_type": "stream",
     "text": [
      "Enter a matrix: [[1,0,0],[1,1,1],[2,2,2]]\n"
     ]
    },
    {
     "data": {
      "text/plain": [
       "False"
      ]
     },
     "execution_count": 27,
     "metadata": {},
     "output_type": "execute_result"
    }
   ],
   "source": [
    "# 4. Create a function that determines whether each seat can \"see\" the front-stage. \n",
    "# A number can \"see\" the front-stage if it is strictly greater than the number before it.\n",
    "# Everyone can see the front-stage in the example below:\n",
    "# # FRONT STAGE\n",
    "# [[1, 2, 3, 2, 1, 1],\n",
    "# [2, 4, 4, 3, 2, 2],\n",
    "# [5, 5, 5, 5, 4, 4],\n",
    "# [6, 6, 7, 6, 5, 5]]\n",
    "# # Starting from the left, the 6 > 5 > 2 > 1, so all numbers can see.\n",
    "# # 6 > 5 > 4 > 2 - so all numbers can see, etc.\n",
    "# Not everyone can see the front-stage in the example below:\n",
    "# # FRONT STAGE\n",
    "# [[1, 2, 3, 2, 1, 1], \n",
    "# [2, 4, 4, 3, 2, 2], \n",
    "# [5, 5, 5, 10, 4, 4], \n",
    "# [6, 6, 7, 6, 5, 5]]\n",
    "# # The 10 is directly in front of the 6 and blocking its view.\n",
    "# The function should return True if every number can see the front-stage, and False if even a single number cannot.\n",
    "# Examples\n",
    "# can_see_stage([\n",
    "#   [1, 2, 3],\n",
    "#   [4, 5, 6],\n",
    "#   [7, 8, 9]\n",
    "# ]) ➞ True\n",
    "# can_see_stage([\n",
    "#   [0, 0, 0],\n",
    "#   [1, 1, 1],\n",
    "#   [2, 2, 2]\n",
    "# ]) ➞ True\n",
    "# can_see_stage([\n",
    "#   [2, 0, 0], \n",
    "#   [1, 1, 1], \n",
    "#   [2, 2, 2]\n",
    "# ]) ➞ False\n",
    "# can_see_stage([\n",
    "#   [1, 0, 0],\n",
    "#   [1, 1, 1],\n",
    "#   [2, 2, 2]\n",
    "# ]) ➞ False\n",
    "# # Number must be strictly smaller than \n",
    "# # the number directly behind it.\n",
    "\n",
    "mat=eval(input(\"Enter a matrix: \"))\n",
    "def can_see_stage(mat):\n",
    "    for i in range(len(mat)):\n",
    "        temp=mat[0][0]\n",
    "        for j in mat:\n",
    "            if j[i] < temp:\n",
    "                return False\n",
    "            temp=j[i]\n",
    "    return True\n",
    "can_see_stage(mat)"
   ]
  },
  {
   "cell_type": "code",
   "execution_count": 65,
   "id": "6c80c6f9",
   "metadata": {},
   "outputs": [
    {
     "name": "stdout",
     "output_type": "stream",
     "text": [
      "['bacon', 'parmesan', 'ham']\n",
      "['spinach', 'olives', 'mushroom']\n",
      "1\n",
      "2\n"
     ]
    }
   ],
   "source": [
    "# 5. Create a Pizza class with the attributes order_number and ingredients (which is given as a list). \n",
    "# Only the ingredients will be given as input.\n",
    "# You should also make it so that its possible to choose a ready made pizza flavour rather than \n",
    "# typing out the ingredients manually! As well as creating this Pizza class, hard-code the following pizza flavours.\n",
    "# Name\t                    Ingredients\n",
    "# hawaiian\t          ham, pineapple\n",
    "# meat_festival\tbeef, meatball, bacon\n",
    "# garden_feast\tspinach, olives, mushroom\n",
    "# Examples\n",
    "# p1 = Pizza([\"bacon\", \"parmesan\", \"ham\"])    # order 1\n",
    "# p2 = Pizza.garden_feast()                  # order 2\n",
    "# p1.ingredients ➞ [\"bacon\", \"parmesan\", \"ham\"]\n",
    "# p2.ingredients ➞ [\"spinach\", \"olives\", \"mushroom\"]\n",
    "# p1.order_number ➞ 1\n",
    "# p2.order_number ➞ 2\n",
    "\n",
    "class Pizza:\n",
    "    order_number=0\n",
    "    \n",
    "    def __init__(self,ingredients=None):\n",
    "        self.ingredients=ingredients\n",
    "        Pizza.order_number+=1\n",
    "        self.order_number=Pizza.order_number\n",
    "        \n",
    "    def garden_feast(self):\n",
    "        self.ingredients=[\"spinach\", \"olives\", \"mushroom\"]\n",
    "        \n",
    "    def hawaiian(self):\n",
    "        self.ingredients=[\"ham\", \"pineapple\"]\n",
    "        \n",
    "    def meat_festival(self):\n",
    "        self.ingredients=[\"beef\", \"meatball\", \"bacon\"]\n",
    "\n",
    "p1 = Pizza([\"bacon\", \"parmesan\", \"ham\"])    # order 1\n",
    "p2 = Pizza()# order 2\n",
    "p2.garden_feast()#➞ [\"bacon\", \"parmesan\", \"ham\"]\n",
    "print(p1.ingredients)\n",
    "print(p2.ingredients) #➞ [\"spinach\", \"olives\", \"mushroom\"]\n",
    "print(p1.order_number) #➞ 1\n",
    "print(p2.order_number) #➞ 2"
   ]
  }
 ],
 "metadata": {
  "kernelspec": {
   "display_name": "Python 3",
   "language": "python",
   "name": "python3"
  },
  "language_info": {
   "codemirror_mode": {
    "name": "ipython",
    "version": 3
   },
   "file_extension": ".py",
   "mimetype": "text/x-python",
   "name": "python",
   "nbconvert_exporter": "python",
   "pygments_lexer": "ipython3",
   "version": "3.8.8"
  }
 },
 "nbformat": 4,
 "nbformat_minor": 5
}
