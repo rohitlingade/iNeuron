{
 "cells": [
  {
   "cell_type": "markdown",
   "id": "04a0e68a",
   "metadata": {},
   "source": [
    "Q1. Write an SQL query to print details of the Workers who have joined in Feb’2014.\n",
    "\n",
    "ANS:\n",
    "\n",
    "SELECT * FROM WORKERS WHERE HIRE_DATE LIKE '2014-02%' "
   ]
  },
  {
   "cell_type": "markdown",
   "id": "aceb767d",
   "metadata": {},
   "source": [
    "Q2. Write an SQL query to fetch duplicate records having matching data in some fields of a table.\n",
    "\n",
    "ANS:\n",
    "\n",
    "SELECT EMAILID, COUNT(*) FROM WORKERS GROUP BY EMAILID HAVING COUNT(*) > 1"
   ]
  },
  {
   "cell_type": "markdown",
   "id": "aca2d60f",
   "metadata": {},
   "source": [
    "Q3. How to remove duplicate rows from Employees table.\n",
    "\n",
    "ANS:\n",
    "\n",
    "SELECT FirstName, LastName, Country, COUNT(*) AS CNT FROM Employees GROUP BY FirstName, LastName, Country HAVING COUNT(*) > 1;"
   ]
  }
 ],
 "metadata": {
  "kernelspec": {
   "display_name": "Python 3",
   "language": "python",
   "name": "python3"
  },
  "language_info": {
   "codemirror_mode": {
    "name": "ipython",
    "version": 3
   },
   "file_extension": ".py",
   "mimetype": "text/x-python",
   "name": "python",
   "nbconvert_exporter": "python",
   "pygments_lexer": "ipython3",
   "version": "3.8.8"
  }
 },
 "nbformat": 4,
 "nbformat_minor": 5
}
