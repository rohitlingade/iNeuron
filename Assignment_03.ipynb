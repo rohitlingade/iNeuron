{
 "cells": [
  {
   "cell_type": "markdown",
   "id": "6f50b872",
   "metadata": {},
   "source": [
    "Q1. Write an SQL query to print the FIRST_NAME from Worker table after removing white spaces from the right side.\n",
    "\n",
    "ANS:\n",
    "\n",
    "SELECT RTRIM(FIRST_NAME) AS FIRST_NAME FROM WORKER"
   ]
  },
  {
   "cell_type": "markdown",
   "id": "7c013fc2",
   "metadata": {},
   "source": [
    "Q2. Write an SQL query that fetches the unique values of DEPARTMENT from Worker table and prints its length.\n",
    "\n",
    "ANS:\n",
    "    \n",
    "SELECT DISTINCT(DEPARTMENT), LEN(DEPARTMENT) FROM WORKER"
   ]
  },
  {
   "cell_type": "markdown",
   "id": "faacb6ac",
   "metadata": {},
   "source": [
    "Q3. Write an SQL query to fetch nth max salaries from a table.\n",
    "\n",
    "ANS:\n",
    "\n",
    "SELECT * FROM(SELECT FIRST_NAME, SALARY OVER(ORDER BY SALARY DESC)r FROM WORKER) WHERE r=&n;\n"
   ]
  }
 ],
 "metadata": {
  "kernelspec": {
   "display_name": "Python 3",
   "language": "python",
   "name": "python3"
  },
  "language_info": {
   "codemirror_mode": {
    "name": "ipython",
    "version": 3
   },
   "file_extension": ".py",
   "mimetype": "text/x-python",
   "name": "python",
   "nbconvert_exporter": "python",
   "pygments_lexer": "ipython3",
   "version": "3.8.8"
  }
 },
 "nbformat": 4,
 "nbformat_minor": 5
}
