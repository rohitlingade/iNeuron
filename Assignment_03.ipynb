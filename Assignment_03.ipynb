{
 "cells": [
  {
   "cell_type": "markdown",
   "id": "a7e6bb07",
   "metadata": {},
   "source": [
    "Q1. Explain the concept of auto-scaling.\n",
    "\n",
    "ANS:\n",
    "\n",
    "Autoscaling is a cloud computing feature that enables organizations to scale cloud services such as server capacities or virtual machines up or down automatically, based on defined situations such as traffic ir utilization levels."
   ]
  },
  {
   "cell_type": "markdown",
   "id": "5a7a99ee",
   "metadata": {},
   "source": [
    "Q2. Explain Cloud Formation Solution.\n",
    "\n",
    "ANS:\n",
    "\n",
    "AWS CloudFormation is an AWS service that uses template files to automate the setup of AWS resources. You can use CloudFormation to automate the configuration of workloads that run on the most popular AWS services, like the EC2 compute service, the S3 storage service, and the IAM service for configuring access control."
   ]
  },
  {
   "cell_type": "markdown",
   "id": "d6ebd42b",
   "metadata": {},
   "source": [
    "Q3. Mention and explain AWS services that are not specialized to a specific location.\n",
    "\n",
    "ANS:\n",
    "\n",
    "Some services are classed as global services, such as AWS Identity & Access Management (IAM) or Amazon CloudFront, which means that these services are not tied to a specific region."
   ]
  },
  {
   "cell_type": "markdown",
   "id": "e00e6e41",
   "metadata": {},
   "source": [
    "Q4. What's the difference between pausing and terminating an Amazon Elastic Compute Cloud instance?\n",
    "\n",
    "ANS:\n",
    "\n",
    "\n",
    "When an instance is stopped, the instance performs a normal shutdown and then transitions to a stopped state. When an instance is terminated, the instance performs a normal shutdown, then the attached Amazon EBS volumes are deleted unless the volume's deleteOnTermination attribute is set to false."
   ]
  },
  {
   "cell_type": "markdown",
   "id": "651fa6be",
   "metadata": {},
   "source": [
    "Q5. Describe how to set up CloudWatch to recover an EC2 instance.\n",
    "\n",
    "ANS:\n",
    "\n",
    "Steps:\n",
    "\n",
    "1. Open the Amazon EC2 console.\n",
    "2. In the navigation pane, choose Instances.\n",
    "3. Select the instance that you want to configure.\n",
    "4. Choose Actions, and then choose Monitor and troubleshoot. Then, choose Manage CloudWatch alarms.\n",
    "5. Choose Create an alarm.\n",
    "Note: To create an alarm, you must have AWS Identity and Access Management (IAM) permissions to stop and start the associated instance. For more information, see Creating IAM roles.\n",
    "6. For Alarm notification, choose an existing Amazon Simple Notification Service (Amazon SNS) topic. To create a new topic, see Creating an Amazon SNS topic.\n",
    "Note: To receive notifications when an alarm is triggered, you must be subscribed to the SNS topic.\n",
    "7. Toggle on Alarm action, and then choose Recover.\n",
    "8. For Group samples by and Type of data to sample, choose an appropriate statistic and metric for your use case.\n",
    "9. For Consecutive period and Period, specify the evaluation period for the alarm.\n",
    "10. (Optional) Modify the automatically created Alarm name.\n",
    "11. Choose Create."
   ]
  }
 ],
 "metadata": {
  "kernelspec": {
   "display_name": "Python 3",
   "language": "python",
   "name": "python3"
  },
  "language_info": {
   "codemirror_mode": {
    "name": "ipython",
    "version": 3
   },
   "file_extension": ".py",
   "mimetype": "text/x-python",
   "name": "python",
   "nbconvert_exporter": "python",
   "pygments_lexer": "ipython3",
   "version": "3.8.8"
  }
 },
 "nbformat": 4,
 "nbformat_minor": 5
}
