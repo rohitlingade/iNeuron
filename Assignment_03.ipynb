{
 "cells": [
  {
   "cell_type": "markdown",
   "id": "77d11fad",
   "metadata": {},
   "source": [
    "Q1. What is Azure App Service and when to opt for Azure App Service?\n",
    "\n",
    "ANS:\n",
    "\n",
    "Azure App Service is an HTTP-based service for hosting web applications, REST APIs, and mobile back ends. You can develop in your favorite language, be it ."
   ]
  },
  {
   "cell_type": "markdown",
   "id": "13fe206a",
   "metadata": {},
   "source": [
    "Q2. Differentiate Azure Container Instances and Azure Kubernetes Service\n",
    "\n",
    "ANS:\n",
    "\n",
    "Azure Container Instances (ACI) offers an easy way to run containers in the Azure cloud, eliminating the need to manage virtual machines (VMs) or using more complex container orchestration services. AKS manages Kubernetes master nodes, while customers manage and maintain agent nodes. AKS is a free managed service."
   ]
  },
  {
   "cell_type": "markdown",
   "id": "c63cc9ae",
   "metadata": {},
   "source": [
    "Q3. What is the Azure function? Explain in brief.\n",
    "\n",
    "ANS:\n",
    "\n",
    "Azure Functions is a serverless solution that allows you to write less code, maintain less infrastructure, and save on costs. Instead of worrying about deploying and maintaining servers, the cloud infrastructure provides all the up-to-date resources needed to keep your applications running."
   ]
  },
  {
   "cell_type": "markdown",
   "id": "45542662",
   "metadata": {},
   "source": [
    "Q4. What is Azure Virtual Desktop?\n",
    "\n",
    "ANS:\n",
    "\n",
    "Azure Virtual Desktop is a desktop-as-a-service (DaaS) offering that allows customers to run virtual app and desktop services from the Azure public cloud. Admins deploy the solution through the Azure portal and can leverage Azure Active Directory and a host of operating system options to deliver resources to users."
   ]
  },
  {
   "cell_type": "markdown",
   "id": "c7a9167c",
   "metadata": {},
   "source": [
    "Q5. What is Azure virtual networking? Explain in detail.\n",
    "\n",
    "ANS:\n",
    "\n",
    "An Azure Virtual Network (VNet) is a representation of your own network in the cloud. It is a logical isolation of the Azure cloud dedicated to your subscription. When you create a VNet, your services and VMs within your VNet can communicate directly and securely with each other in the cloud."
   ]
  },
  {
   "cell_type": "markdown",
   "id": "c3810512",
   "metadata": {},
   "source": [
    "Q6. Explain Azure VPN gateway.\n",
    "\n",
    "ANS:\n",
    "\n",
    "Azure VPN Gateway is a cloud based network gateway that enables in connecting on-premises networks with Azure using site-to-site VPNs. Azure VPN Gateway provides secure connectivity by using industry standard protocols, IPsec and IKE to secure the connection."
   ]
  }
 ],
 "metadata": {
  "kernelspec": {
   "display_name": "Python 3",
   "language": "python",
   "name": "python3"
  },
  "language_info": {
   "codemirror_mode": {
    "name": "ipython",
    "version": 3
   },
   "file_extension": ".py",
   "mimetype": "text/x-python",
   "name": "python",
   "nbconvert_exporter": "python",
   "pygments_lexer": "ipython3",
   "version": "3.8.8"
  }
 },
 "nbformat": 4,
 "nbformat_minor": 5
}
