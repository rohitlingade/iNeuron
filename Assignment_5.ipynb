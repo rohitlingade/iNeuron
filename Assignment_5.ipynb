{
 "cells": [
  {
   "cell_type": "markdown",
   "id": "cd65f70a",
   "metadata": {},
   "source": [
    "Q1. What does an empty dictionary's code look like?\n",
    "\n",
    "ANS:\n",
    "\n",
    "dict1 = {}\n"
   ]
  },
  {
   "cell_type": "markdown",
   "id": "fea1b0ef",
   "metadata": {},
   "source": [
    "Q2. What is the value of a dictionary value with the key 'foo' and the value 42?\n",
    "\n",
    "ANS:\n",
    "\n",
    "dict1={\"foo\":42}\n",
    "dict1.get(\"foo\")"
   ]
  },
  {
   "cell_type": "markdown",
   "id": "edbcad39",
   "metadata": {},
   "source": [
    "Q3. What is the most significant distinction between a dictionary and a list?\n",
    "\n",
    "ANS:\n",
    "\n",
    "Dictionery: Is the collection of data in key:value pair. Key must be of immutable data type but value can be of any             data type.\n",
    "            eg. {\"foo\":42}\n",
    "List:       List is the collection of hetrogenous data types and is mutable data type.\n",
    "            eg. [\"foo\",42]"
   ]
  },
  {
   "cell_type": "markdown",
   "id": "8cec9be2",
   "metadata": {},
   "source": [
    "Q4. What happens if you try to access spam['foo'] if spam is {'bar': 100}?\n",
    "\n",
    "\n",
    "ANS:\n",
    "\n",
    "eg.spam={'bar': 100}\n",
    "   spam[\"foo\"]\n",
    "---> It will give the KeyError: 'foo'"
   ]
  },
  {
   "cell_type": "markdown",
   "id": "688fde82",
   "metadata": {},
   "source": [
    "Q5. If a dictionary is stored in spam, what is the difference between the expressions 'cat' in spam and 'cat' in spam.keys()?\n",
    "\n",
    "\n",
    "ANS:\n",
    "\n",
    "'cat' in spam and 'cat' in spam.keys() ---> Both the statements are same and check that is 'cat' is present in the                                             keys of that dictionery. It returns Boolean value."
   ]
  },
  {
   "cell_type": "markdown",
   "id": "6589c258",
   "metadata": {},
   "source": [
    "Q6. If a dictionary is stored in spam, what is the difference between the expressions 'cat' in spam and 'cat' in spam.values()?\n",
    "\n",
    "ANS:\n",
    "\n",
    "'cat' in spam          : It checks that 'cat' is in the dictionery or not (in keys).\n",
    "'cat' in spam.values() : It checks that 'cat' is the value of any of the keys in the dictionery or not."
   ]
  },
  {
   "cell_type": "markdown",
   "id": "a6f6b5d4",
   "metadata": {},
   "source": [
    "Q7. What is a shortcut for the following code?\n",
    "if 'color' not in spam:\n",
    "spam['color'] = 'black'\n",
    "\n",
    "ANS:\n",
    "\n",
    "spam['color'] = 'black' ---> if block is not needed, as this assigning statement creates new key:value pair if the                              key is not present and update the value of the key if the key is present in the                                    dictionery."
   ]
  },
  {
   "cell_type": "markdown",
   "id": "3cffe1c2",
   "metadata": {},
   "source": [
    "Q8. How do you \"pretty print\" dictionary values using which module and function?\n",
    "\n",
    "ANS:\n",
    "\n",
    "import pprint\n",
    "\n",
    "dct_arr = [\n",
    "  {'Name': 'Rohit', 'Age': '27', 'Country': 'India'},\n",
    "  {'Name': 'Ineuron', 'Age': '3', 'Country': 'India'}\n",
    "]\n",
    "\n",
    "pprint.pprint(dct_arr)\n",
    "\n",
    "pretty print, prints the output in more readable format."
   ]
  }
 ],
 "metadata": {
  "kernelspec": {
   "display_name": "Python 3",
   "language": "python",
   "name": "python3"
  },
  "language_info": {
   "codemirror_mode": {
    "name": "ipython",
    "version": 3
   },
   "file_extension": ".py",
   "mimetype": "text/x-python",
   "name": "python",
   "nbconvert_exporter": "python",
   "pygments_lexer": "ipython3",
   "version": "3.8.8"
  }
 },
 "nbformat": 4,
 "nbformat_minor": 5
}
