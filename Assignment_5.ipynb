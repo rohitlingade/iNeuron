{
 "cells": [
  {
   "cell_type": "raw",
   "id": "f4de139b",
   "metadata": {},
   "source": [
    "1. What does an empty dictionary's code look like?\n",
    "\n",
    "ANS:\n",
    "\n",
    "dict1 = {}\n"
   ]
  },
  {
   "cell_type": "raw",
   "id": "4744ffdd",
   "metadata": {},
   "source": [
    "2. What is the value of a dictionary value with the key 'foo' and the value 42?\n",
    "\n",
    "ANS:\n",
    "\n",
    "dict1={\"foo\":42}\n",
    "dict1.get(\"foo\")"
   ]
  },
  {
   "cell_type": "raw",
   "id": "6fe97b7d",
   "metadata": {},
   "source": [
    "3. What is the most significant distinction between a dictionary and a list?\n",
    "\n",
    "ANS:\n",
    "\n",
    "Dictionery: Is the collection of data in key:value pair. Key must be of immutable data type but value can be of any             data type.\n",
    "            eg. {\"foo\":42}\n",
    "List:       List is the collection of hetrogenous data types and is mutable data type.\n",
    "            eg. [\"foo\",42]"
   ]
  },
  {
   "cell_type": "raw",
   "id": "991a6fee",
   "metadata": {},
   "source": [
    "4. What happens if you try to access spam['foo'] if spam is {'bar': 100}?\n",
    "\n",
    "\n",
    "ANS:\n",
    "\n",
    "eg.spam={'bar': 100}\n",
    "   spam[\"foo\"]\n",
    "---> It will give the KeyError: 'foo'"
   ]
  },
  {
   "cell_type": "raw",
   "id": "0b6d3320",
   "metadata": {},
   "source": [
    "5. If a dictionary is stored in spam, what is the difference between the expressions 'cat' in spam and 'cat' in spam.keys()?\n",
    "\n",
    "\n",
    "ANS:\n",
    "\n",
    "'cat' in spam and 'cat' in spam.keys() ---> Both the statements are same and check that is 'cat' is present in the                                             keys of that dictionery. It returns Boolean value."
   ]
  },
  {
   "cell_type": "raw",
   "id": "a80118e8",
   "metadata": {},
   "source": [
    "6. If a dictionary is stored in spam, what is the difference between the expressions 'cat' in spam and 'cat' in spam.values()?\n",
    "\n",
    "ANS:\n",
    "\n",
    "'cat' in spam          : It checks that 'cat' is in the dictionery or not (in keys).\n",
    "'cat' in spam.values() : It checks that 'cat' is the value of any of the keys in the dictionery or not."
   ]
  },
  {
   "cell_type": "raw",
   "id": "82873202",
   "metadata": {},
   "source": [
    "7. What is a shortcut for the following code?\n",
    "if 'color' not in spam:\n",
    "spam['color'] = 'black'\n",
    "\n",
    "ANS:\n",
    "\n",
    "spam['color'] = 'black' ---> if block is not needed, as this assigning statement creates new key:value pair if the                              key is not present and update the value of the key if the key is present in the                                    dictionery."
   ]
  },
  {
   "cell_type": "raw",
   "id": "a2a78ab1",
   "metadata": {},
   "source": [
    "8. How do you \"pretty print\" dictionary values using which module and function?\n",
    "\n",
    "ANS:\n",
    "\n",
    "import pprint\n",
    "\n",
    "dct_arr = [\n",
    "  {'Name': 'Rohit', 'Age': '27', 'Country': 'India'},\n",
    "  {'Name': 'Ineuron', 'Age': '3', 'Country': 'India'}\n",
    "]\n",
    "\n",
    "pprint.pprint(dct_arr)\n",
    "\n",
    "pretty print, prints the output in more readable format."
   ]
  }
 ],
 "metadata": {
  "kernelspec": {
   "display_name": "Python 3",
   "language": "python",
   "name": "python3"
  },
  "language_info": {
   "codemirror_mode": {
    "name": "ipython",
    "version": 3
   },
   "file_extension": ".py",
   "mimetype": "text/x-python",
   "name": "python",
   "nbconvert_exporter": "python",
   "pygments_lexer": "ipython3",
   "version": "3.8.8"
  }
 },
 "nbformat": 4,
 "nbformat_minor": 5
}
