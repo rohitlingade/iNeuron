{
 "cells": [
  {
   "cell_type": "markdown",
   "id": "249b9a49",
   "metadata": {},
   "source": [
    "Q1. What is the divide and conquer strategy?\n",
    "\n",
    "ANS:\n",
    "\n",
    "Divide and conquer strategy is as follows: – Divide the problem instance into two or more smaller instances of the same problem, – Solve the smaller instances recursively, and assemble the solutions to form a solution of the original instance."
   ]
  },
  {
   "cell_type": "markdown",
   "id": "6ec43094",
   "metadata": {},
   "source": [
    "Q2. What is binary search and how does it work?\n",
    "\n",
    "ANS:\n",
    "\n",
    "Binary search is an efficient algorithm for finding an item from a sorted list of items. It works by repeatedly dividing in half the portion of the list that could contain the item until you have narrowed down the possible locations to just one.Sort the list or array you have in an ascending order."
   ]
  },
  {
   "cell_type": "markdown",
   "id": "6b157caf",
   "metadata": {},
   "source": [
    "Q3. Explain the distinction between a list and a tuple.\n",
    "\n",
    "ANS:\n",
    "\n",
    "The key difference between the tuples and lists is that while the tuples are immutable objects the lists are mutable. This means that tuples cannot be changed while the lists can be modified. ... If you have data which is not meant to be changed in the first place, you should choose tuple data type over lists."
   ]
  },
  {
   "cell_type": "markdown",
   "id": "7c6dfe01",
   "metadata": {},
   "source": [
    "Q4. Can you explain how Python manages memory?\n",
    "\n",
    "ANS:\n",
    "\n",
    "Memory management in Python involves a private heap containing all Python objects and data structures. ... At the lowest level, a raw memory allocator ensures that there is enough room in the private heap for storing all Python-related data by interacting with the memory manager of the operating system."
   ]
  },
  {
   "cell_type": "markdown",
   "id": "1be3ee8b",
   "metadata": {},
   "source": [
    "Q5. What is the difference between pickling and unpickling? \n",
    "\n",
    "ANS:\n",
    "\n",
    "“Pickling” is the process whereby a Python object hierarchy is converted into a byte stream, and “unpickling” is the inverse operation, whereby a byte stream (from a binary file or bytes-like object) is converted back into an object hierarchy."
   ]
  },
  {
   "cell_type": "markdown",
   "id": "d2af0381",
   "metadata": {},
   "source": [
    "Q6. What are the different types of search algorithms?\n",
    "\n",
    "ANS:\n",
    "\n",
    "Searching Algorithms :\n",
    "1. Linear Search.\n",
    "2. Binary Search.\n",
    "3. Jump Search.\n",
    "4. Interpolation Search.\n",
    "5. Exponential Search.\n",
    "6. Sublist Search (Search a linked list in another list)\n",
    "7. Fibonacci Search.\n",
    "8. The Ubiquitous Binary Search.\n",
    "9. Recursive program to linearly search an element in a given array\n",
    "10. Recursive function to do substring search\n",
    "11. Unbounded Binary Search Example (Find the point where a monotonically increasing function becomes positive first time)"
   ]
  }
 ],
 "metadata": {
  "kernelspec": {
   "display_name": "Python 3",
   "language": "python",
   "name": "python3"
  },
  "language_info": {
   "codemirror_mode": {
    "name": "ipython",
    "version": 3
   },
   "file_extension": ".py",
   "mimetype": "text/x-python",
   "name": "python",
   "nbconvert_exporter": "python",
   "pygments_lexer": "ipython3",
   "version": "3.8.8"
  }
 },
 "nbformat": 4,
 "nbformat_minor": 5
}
