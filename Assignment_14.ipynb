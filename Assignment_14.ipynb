{
 "cells": [
  {
   "cell_type": "markdown",
   "id": "4eb01090",
   "metadata": {},
   "source": [
    "Q1. What is the concept of supervised learning? What is the significance of the name?\n",
    "\n",
    "ANS:\n",
    "\n",
    "Supervised learning, also known as supervised machine learning, is a subcategory of machine learning and artificial intelligence. It is defined by its use of labeled datasets to train algorithms that to classify data or predict outcomes accurately."
   ]
  },
  {
   "cell_type": "markdown",
   "id": "b48c9791",
   "metadata": {},
   "source": [
    "Q2. In the hospital sector, offer an example of supervised learning.\n",
    "\n",
    "ANS:\n",
    "\n",
    "Supervised learning uses a training set to teach models to yield the desired output. This training dataset includes inputs and correct outputs, which allow the model to learn over time. The algorithm measures its accuracy through the loss function, adjusting until the error has been sufficiently minimized."
   ]
  },
  {
   "cell_type": "markdown",
   "id": "ed0c1ec1",
   "metadata": {},
   "source": [
    "Q3. Give three supervised learning examples.\n",
    "\n",
    "ANS:\n",
    "\n",
    "Example of Supervised Learning Algorithms are:\n",
    "\n",
    "1. Linear Regression.\n",
    "2. Nearest Neighbor.\n",
    "3. Gaussian Naive Bayes.\n",
    "4. Decision Trees.\n",
    "5. Support Vector Machine (SVM)\n",
    "6. Random Forest."
   ]
  },
  {
   "cell_type": "markdown",
   "id": "5d124f35",
   "metadata": {},
   "source": [
    "Q4. In supervised learning, what are classification and regression?\n",
    "\n",
    "ANS:\n",
    "\n",
    "Fundamentally, classification is about predicting a label and regression is about predicting a quantity. That classification is the problem of predicting a discrete class label output for an example. That regression is the problem of predicting a continuous quantity output for an example."
   ]
  },
  {
   "cell_type": "markdown",
   "id": "b1702a9d",
   "metadata": {},
   "source": [
    "Q5. Give some popular classification algorithms as examples.\n",
    "\n",
    "ANS:\n",
    "\n",
    "Popular algorithms that can be used for multi-class classification include:\n",
    "\n",
    "1. k-Nearest Neighbors\n",
    "2. Decision Trees.\n",
    "3. Naive Bayes"
   ]
  },
  {
   "cell_type": "markdown",
   "id": "a9efbd5b",
   "metadata": {},
   "source": [
    "Q6. Briefly describe the SVM model.\n",
    "\n",
    "ANS:\n",
    "\n",
    "A support vector machine (SVM) is a supervised machine learning model that uses classification algorithms for two-group classification problems. After giving an SVM model sets of labeled training data for each category, they're able to categorize new text."
   ]
  },
  {
   "cell_type": "markdown",
   "id": "9d431dc3",
   "metadata": {},
   "source": [
    "Q7. In SVM, what is the cost of misclassification?\n",
    "\n",
    "ANS:\n",
    "\n",
    "In cost-sensitive learning instead of each instance being either correctly or incorrectly classified, each class (or instance) is given a misclassification cost. Thus, instead of trying to optimize the accuracy, the problem is then to minimize the total misclassification cost."
   ]
  },
  {
   "cell_type": "markdown",
   "id": "aa8ba05b",
   "metadata": {},
   "source": [
    "Q8. In the SVM model, define Support Vectors.\n",
    "\n",
    "ANS:\n",
    "\n",
    "Support vectors are data points that are closer to the hyperplane and influence the position and orientation of the hyperplane. Using these support vectors, we maximize the margin of the classifier. Deleting the support vectors will change the position of the hyperplane. These are the points that help us build our SVM."
   ]
  },
  {
   "cell_type": "markdown",
   "id": "47fca3ce",
   "metadata": {},
   "source": [
    "Q9. In the SVM model, define the kernel.\n",
    "\n",
    "ANS:\n",
    "\n",
    "SVM algorithms use a set of mathematical functions that are defined as the kernel. The function of kernel is to take data as input and transform it into the required form. These functions can be different types. For example linear, nonlinear, polynomial, radial basis function (RBF), and sigmoid."
   ]
  },
  {
   "cell_type": "markdown",
   "id": "680c743f",
   "metadata": {},
   "source": [
    "Q10. What are the factors that influence SVM's effectiveness?\n",
    "\n",
    "ANS:\n",
    "\n",
    "SVM or Support Vector Machine is a linear model for classification and regression problems. It can solve linear and non-linear problems and work well for many practical problems. The idea of SVM is simple: The algorithm creates a line or a hyperplane which separates the data into classes."
   ]
  },
  {
   "cell_type": "markdown",
   "id": "d18b0246",
   "metadata": {},
   "source": [
    "Q11. What are the benefits of using the SVM model?\n",
    "\n",
    "ANS:\n",
    "\n",
    "SVM works relatively well when there is a clear margin of separation between classes. SVM is more effective in high dimensional spaces. SVM is effective in cases where the number of dimensions is greater than the number of samples.SVM is relatively memory efficient."
   ]
  },
  {
   "cell_type": "markdown",
   "id": "3441d9e0",
   "metadata": {},
   "source": [
    "Q12.  What are the drawbacks of using the SVM model?\n",
    "\n",
    "ANS:\n",
    "\n",
    "SVM algorithm is not suitable for large data sets. SVM does not perform very well when the data set has more noise i.e. target classes are overlapping. In cases where the number of features for each data point exceeds the number of training data samples, the SVM will underperform."
   ]
  },
  {
   "cell_type": "markdown",
   "id": "33f673d9",
   "metadata": {},
   "source": [
    "Q13. Notes should be written on\n",
    "    1. The kNN algorithm has a validation flaw.\n",
    "    2. In the kNN algorithm, the k value is chosen.\n",
    "    3. A decision tree with inductive bias\n",
    "\n",
    "ANS:\n",
    "\n",
    "The Short notes on below topics is:\n",
    "\n",
    "1. The kNN algorithm has a validation flaw. The relatively low accuracy of kNN is caused by several factors. One of them is that every characteristic of the method has the same result on calculating distance. The solution of this problem is to give weight to each data characteristic.\n",
    "2. In the kNN algorithm, the k value is chosen. The optimal K value usually found is the square root of N, where N is the total number of samples. Use an error plot or accuracy plot to find the most favorable K value. KNN performs well with multi-label classes, but you must be aware of the outliers.\n",
    "3. A decision tree with inductive bias Shorter trees are preferred over longer ones. Trees that place high information gain attributes close to the root are preferred over those that do not."
   ]
  },
  {
   "cell_type": "markdown",
   "id": "2cf94a8e",
   "metadata": {},
   "source": [
    "Q14. What are some of the benefits of the kNN algorithm?\n",
    "\n",
    "ANS:\n",
    "\n",
    "Some Advantages of KNN are:\n",
    "\n",
    "1. Quick calculation time.\n",
    "2. Simple algorithm – to interpret.\n",
    "3. Versatile – useful for regression and classification.\n",
    "4. High accuracy – you do not need to compare with better-supervised learning models."
   ]
  },
  {
   "cell_type": "markdown",
   "id": "0753addb",
   "metadata": {},
   "source": [
    "Q15. What are some of the kNN algorithm's drawbacks?\n",
    "\n",
    "ANS:\n",
    "\n",
    "Some Disadvantages of KNN are:\n",
    "\n",
    "1. Accuracy depends on the quality of the data.\n",
    "2. With large data, the prediction stage might be slow.\n",
    "3. Sensitive to the scale of the data and irrelevant features.\n",
    "4. Require high memory – need to store all of the training data.\n",
    "5. Given that it stores all of the training, it can be computationally expensive."
   ]
  },
  {
   "cell_type": "markdown",
   "id": "e56bac08",
   "metadata": {},
   "source": [
    "Q16. Explain the decision tree algorithm in a few words.\n",
    "\n",
    "ANS:\n",
    "\n",
    "A decision tree is a graphical representation of all the possible solutions to a decision based on certain conditions. Tree models where the target variable can take a finite set of values are called classification trees and target variable can take continuous values (numbers) are called regression trees."
   ]
  },
  {
   "cell_type": "markdown",
   "id": "bce534c4",
   "metadata": {},
   "source": [
    "Q17. What is the difference between a node and a leaf in a decision tree?\n",
    "\n",
    "ANS:\n",
    "\n",
    "A decision tree is a flowchart-like structure in which each internal node represents a \"test\" on an attribute (e.g. whether a coin flip comes up heads or tails), each branch represents the outcome of the test, and each leaf node represents a class label (decision taken after computing all attributes)."
   ]
  },
  {
   "cell_type": "markdown",
   "id": "63057424",
   "metadata": {},
   "source": [
    "Q18. What is a decision tree's entropy?\n",
    "\n",
    "ANS:\n",
    "\n",
    "Entropy helps us to build an appropriate decision tree for selecting the best splitter. Entropy can be defined as a measure of the purity of the sub split. Entropy always lies between 0 to 1. The entropy of any split can be calculate by this formula."
   ]
  },
  {
   "cell_type": "markdown",
   "id": "28fa99c9",
   "metadata": {},
   "source": [
    "Q19. In a decision tree, define knowledge gain.\n",
    "\n",
    "ANS:\n",
    "\n",
    "Information gain is the reduction in entropy or surprise by transforming a dataset and is often used in training decision trees.Information gain is calculated by comparing the entropy of the dataset before and after a transformation."
   ]
  },
  {
   "cell_type": "markdown",
   "id": "728cb3ae",
   "metadata": {},
   "source": [
    "Q20. Choose three advantages of the decision tree approach and write them down.\n",
    "\n",
    "ANS:\n",
    "\n",
    "Advantages of Decision Trees :\n",
    "\n",
    "1. Easy to read and interpret. One of the advantages of decision trees is that their outputs are easy to read and interpret without requiring statistical knowledge.\n",
    "2. Easy to prepare.\n",
    "3. Less data cleaning required."
   ]
  },
  {
   "cell_type": "markdown",
   "id": "aea9e14b",
   "metadata": {},
   "source": [
    "Q21. Make a list of three flaws in the decision tree process.\n",
    "\n",
    "ANS:\n",
    "\n",
    "Issues in Decision Tree Learning :\n",
    "\n",
    "1. Overfitting the data.\n",
    "2. Guarding against bad attribute choices.\n",
    "3. Handling continuous valued attributes.\n",
    "4. Handling missing attribute values.\n",
    "5. Handling attributes with differing costs."
   ]
  },
  {
   "cell_type": "markdown",
   "id": "37e3929d",
   "metadata": {},
   "source": [
    "Q22. Briefly describe the random forest model.\n",
    "\n",
    "ANS:\n",
    "\n",
    "The random forest is a classification algorithm consisting of many decisions trees. It uses bagging and feature randomness when building each individual tree to try to create an uncorrelated forest of trees whose prediction by committee is more accurate than that of any individual tree."
   ]
  }
 ],
 "metadata": {
  "kernelspec": {
   "display_name": "Python 3",
   "language": "python",
   "name": "python3"
  },
  "language_info": {
   "codemirror_mode": {
    "name": "ipython",
    "version": 3
   },
   "file_extension": ".py",
   "mimetype": "text/x-python",
   "name": "python",
   "nbconvert_exporter": "python",
   "pygments_lexer": "ipython3",
   "version": "3.8.8"
  }
 },
 "nbformat": 4,
 "nbformat_minor": 5
}
