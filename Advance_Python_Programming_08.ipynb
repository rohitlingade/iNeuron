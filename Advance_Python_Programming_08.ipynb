{
 "cells": [
  {
   "cell_type": "code",
   "execution_count": 29,
   "id": "b8026b7c",
   "metadata": {},
   "outputs": [
    {
     "name": "stdout",
     "output_type": "stream",
     "text": [
      "Enter a string: a sudden applause\n"
     ]
    },
    {
     "data": {
      "text/plain": [
       "False"
      ]
     },
     "execution_count": 29,
     "metadata": {},
     "output_type": "execute_result"
    }
   ],
   "source": [
    "# 1. Given a sentence as txt, return True if any two adjacent words have this property: One word ends with a vowel, \n",
    "# while the word immediately after begins with a vowel (a e i o u).\n",
    "# Examples\n",
    "# vowel_links(\"a very large appliance\") ➞ True\n",
    "# vowel_links(\"go to edabit\") ➞ True\n",
    "# vowel_links(\"an open fire\") ➞ False\n",
    "# vowel_links(\"a sudden applause\") ➞ False\n",
    "\n",
    "str1=input(\"Enter a string: \")\n",
    "def vowel_links(str1):\n",
    "    vowels=\"aeiou\"\n",
    "    lst=str1.split()\n",
    "    for i in range(len(lst)-1):\n",
    "        if lst[i][-1] in vowels and lst[i+1][0] in vowels:\n",
    "            return True\n",
    "    return False\n",
    "vowel_links(str1)"
   ]
  },
  {
   "cell_type": "code",
   "execution_count": 35,
   "id": "f9d904ab",
   "metadata": {},
   "outputs": [
    {
     "name": "stdout",
     "output_type": "stream",
     "text": [
      "Enter comma seperated strings: precarious kangaroos,k,a\n"
     ]
    },
    {
     "data": {
      "text/plain": [
       "False"
      ]
     },
     "execution_count": 35,
     "metadata": {},
     "output_type": "execute_result"
    }
   ],
   "source": [
    "# 2. You are given three inputs: a string, one letter, and a second letter.\n",
    "# Write a function that returns True if every instance of the first letter occurs before every instance of \n",
    "# the second letter.\n",
    "# Examples\n",
    "# first_before_second(\"a rabbit jumps joyfully\", \"a\", \"j\") ➞ True\n",
    "# # Every instance of \"a\" occurs before every instance of \"j\".\n",
    "# first_before_second(\"knaves knew about waterfalls\", \"k\", \"w\") ➞  True\n",
    "# first_before_second(\"happy birthday\", \"a\", \"y\") ➞ False\n",
    "# # The \"a\" in \"birthday\" occurs after the \"y\" in \"happy\".\n",
    "# first_before_second(\"precarious kangaroos\", \"k\", \"a\") ➞ False\n",
    "\n",
    "str1,a,b=input(\"Enter comma seperated strings: \").split(\",\")\n",
    "def first_before_second(str1,a,b):\n",
    "    a_ind,b_ind=[],[]\n",
    "    for i in range(len(str1)):\n",
    "        if str1[i]==a:\n",
    "            a_ind.append(i)\n",
    "        elif str1[i]==b:\n",
    "            b_ind.append(i)\n",
    "    a_ind.extend(b_ind)\n",
    "    return all(a_ind[i]<=a_ind[i+1] for i in range(len(a_ind)-1))\n",
    "first_before_second(str1,a,b)"
   ]
  },
  {
   "cell_type": "code",
   "execution_count": 5,
   "id": "ddd31942",
   "metadata": {},
   "outputs": [
    {
     "data": {
      "text/plain": [
       "['A', 'B', 'T', 'A', 'I', 'Y']"
      ]
     },
     "execution_count": 5,
     "metadata": {},
     "output_type": "execute_result"
    }
   ],
   "source": [
    "# 3. Create a function that returns the characters from a list or string r on odd or even positions, \n",
    "# depending on the specifier s. The specifier will be \"odd\" for items on odd positions (1, 3, 5, ...) \n",
    "# and \"even\" for items on even positions (2, 4, 6, ...).\n",
    "# Examples\n",
    "# char_at_pos([2, 4, 6, 8, 10], \"even\") ➞ [4, 8]\n",
    "# # 4 & 8 occupy the 2nd & 4th positions\n",
    "# char_at_pos(\"EDABIT\", \"odd\") ➞ \"EAI\"\n",
    "# # \"E\", \"A\" and \"I\" occupy the 1st, 3rd and 5th positions\n",
    "# char_at_pos([\"A\", \"R\", \"B\", \"I\", \"T\", \"R\", \"A\", \"R\", \"I\", \"L\", \"Y\"], \"odd\") ➞ [\"A\", \"B\", \"T\", \"A\", \"I\", \"Y\"]\n",
    "\n",
    "\n",
    "def char_at_pos(itr,pos):\n",
    "    return itr[pos == 'even'::2]\n",
    "            \n",
    "char_at_pos([\"A\", \"R\", \"B\", \"I\", \"T\", \"R\", \"A\", \"R\", \"I\", \"L\", \"Y\"],\"odd\")"
   ]
  },
  {
   "cell_type": "code",
   "execution_count": 45,
   "id": "e2b235f0",
   "metadata": {},
   "outputs": [
    {
     "name": "stdout",
     "output_type": "stream",
     "text": [
      "Enter a list: [1024, 192, 2048, 512]\n"
     ]
    },
    {
     "data": {
      "text/plain": [
       "64"
      ]
     },
     "execution_count": 45,
     "metadata": {},
     "output_type": "execute_result"
    }
   ],
   "source": [
    "# 4. Write a function that returns the greatest common divisor of all list elements. \n",
    "# If the greatest common divisor is 1, return 1.\n",
    "# Examples\n",
    "# GCD([10, 20, 40]) ➞ 10\n",
    "# GCD([1, 2, 3, 100]) ➞ 1\n",
    "# GCD([1024, 192, 2048, 512]) ➞ 64\n",
    "\n",
    "lst=eval(input(\"Enter a list: \"))\n",
    "def GCD(lst):\n",
    "    minNum=min(lst)\n",
    "    nums=[]\n",
    "    for i in range(1,minNum+1):\n",
    "        count=0\n",
    "        for j in lst:\n",
    "            if j%i==0:\n",
    "                count+=1\n",
    "        if count==len(lst):\n",
    "            nums.append(i)\n",
    "    return max(nums)\n",
    "GCD(lst)"
   ]
  },
  {
   "cell_type": "code",
   "execution_count": 40,
   "id": "892f7238",
   "metadata": {},
   "outputs": [
    {
     "name": "stdout",
     "output_type": "stream",
     "text": [
      "Enter a number: 934\n"
     ]
    },
    {
     "data": {
      "text/plain": [
       "'Neither!'"
      ]
     },
     "execution_count": 40,
     "metadata": {},
     "output_type": "execute_result"
    }
   ],
   "source": [
    "# 5. A number/string is a palindrome if the digits/characters are the same when read both forward and backward. \n",
    "# Examples include \"racecar\" and 12321. Given a positive number n, check if n or the binary representation of n \n",
    "# is palindromic. Return the following:\n",
    "# - \"Decimal only.\" if only n is a palindrome.\n",
    "# - \"Binary only.\" if only the binary representation of n is a palindrome.\n",
    "# - \"Decimal and binary.\" if both are palindromes.\n",
    "# - \"Neither!\" if neither are palindromes.\n",
    "# Examples\n",
    "# palindrome_type(1306031) ➞ \"Decimal only.\"\n",
    "# # decimal = 1306031\n",
    "# # binary  = \"100111110110110101111\"\n",
    "# palindrome_type(427787) ➞ \"Binary only.\"\n",
    "# # decimal = 427787\n",
    "# # binary  = \"1101000011100001011\"\n",
    "# palindrome_type(313) ➞ \"Decimal and binary.\"\n",
    "# # decimal = 313\n",
    "# # binary  = 100111001\n",
    "# palindrome_type(934) ➞ \"Neither!\"\n",
    "# # decimal = 934\n",
    "# # binary  = \"1110100110\"\n",
    "\n",
    "num=int(input(\"Enter a number: \"))\n",
    "def palindrome_type(num):\n",
    "    strNum=str(num)\n",
    "    binNum=bin(num)[2:]\n",
    "    if strNum==strNum[::-1] and binNum==binNum[::-1]:\n",
    "        return \"Decimal and binary.\"\n",
    "    elif strNum==strNum[::-1]:\n",
    "        return \"Decimal only.\"\n",
    "    elif binNum==binNum[::-1]:\n",
    "        return \"Binary only.\"\n",
    "    else:return \"Neither!\"\n",
    "palindrome_type(num)"
   ]
  }
 ],
 "metadata": {
  "kernelspec": {
   "display_name": "Python 3",
   "language": "python",
   "name": "python3"
  },
  "language_info": {
   "codemirror_mode": {
    "name": "ipython",
    "version": 3
   },
   "file_extension": ".py",
   "mimetype": "text/x-python",
   "name": "python",
   "nbconvert_exporter": "python",
   "pygments_lexer": "ipython3",
   "version": "3.8.8"
  }
 },
 "nbformat": 4,
 "nbformat_minor": 5
}
