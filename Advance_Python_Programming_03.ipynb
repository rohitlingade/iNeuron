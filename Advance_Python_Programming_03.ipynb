{
 "cells": [
  {
   "cell_type": "code",
   "execution_count": 34,
   "id": "a0794d71",
   "metadata": {},
   "outputs": [
    {
     "name": "stdout",
     "output_type": "stream",
     "text": [
      "Enter an expression: 12 // 0\n"
     ]
    },
    {
     "data": {
      "text/plain": [
       "-1"
      ]
     },
     "execution_count": 34,
     "metadata": {},
     "output_type": "execute_result"
    }
   ],
   "source": [
    "# 1. Create a function to perform basic arithmetic operations that includes addition, subtraction, multiplication \n",
    "# and division on a string number (e.g. \"12 + 24\" or \"23 - 21\" or \"12 // 12\" or \"12 * 21\").\n",
    "# Here, we have 1 followed by a space, operator followed by another space and 2. For the challenge, we are going to \n",
    "# have only two numbers between 1 valid operator. The return value should be a number.\n",
    "# eval() is not allowed. In case of division, whenever the second number equals \"0\" return -1.\n",
    "\n",
    "# For example:\n",
    "# \"15 // 0\"  ➞ -1\n",
    "# Examples\n",
    "# arithmetic_operation(\"12 + 12\") ➞ 24 // 12 + 12 = 24\n",
    "# arithmetic_operation(\"12 - 12\") ➞ 24 // 12 - 12 = 0\n",
    "# arithmetic_operation(\"12 * 12\") ➞ 144 // 12 * 12 = 144\n",
    "# arithmetic_operation(\"12 // 0\") ➞ -1 // 12 / 0 = -1\n",
    "\n",
    "def arithmetic_operation(exp):\n",
    "    try:\n",
    "        if \"+\" in exp:\n",
    "            lst1=exp.split(\"+\")\n",
    "            return int(lst1[0])+int(lst1[1])\n",
    "        elif \"-\" in exp:\n",
    "            lst1=exp.split(\"-\")\n",
    "            return int(lst1[0])-int(lst1[1])\n",
    "        elif \"*\" in exp:\n",
    "            lst1=exp.split(\"*\")\n",
    "            return int(lst1[0])*int(lst1[1])\n",
    "        elif \"//\" in exp:\n",
    "            lst1=exp.split(\"//\")\n",
    "            return int(lst1[0])//int(lst1[1])\n",
    "    except:\n",
    "        return -1\n",
    "arithmetic_operation(input(\"Enter an expression: \"))"
   ]
  },
  {
   "cell_type": "code",
   "execution_count": 22,
   "id": "ff1d71aa",
   "metadata": {},
   "outputs": [
    {
     "name": "stdout",
     "output_type": "stream",
     "text": [
      "Enter a list: [ [-10, -10], [10, 10 ], [-10, 10] ]\n"
     ]
    },
    {
     "data": {
      "text/plain": [
       "68.28"
      ]
     },
     "execution_count": 22,
     "metadata": {},
     "output_type": "execute_result"
    }
   ],
   "source": [
    "# 2. Write a function that takes the coordinates of three points in the form of a 2d array and \n",
    "# returns the perimeter of the triangle. The given points are the vertices of a triangle on a two-dimensional plane.\n",
    "# Examples\n",
    "# perimeter( [ [15, 7], [5, 22], [11, 1] ] ) ➞ 47.08\n",
    "# perimeter( [ [0, 0], [0, 1], [1, 0] ] ) ➞ 3.42\n",
    "# perimeter( [ [-10, -10], [10, 10 ], [-10, 10] ] ) ➞ 68.28\n",
    "\n",
    "lst1=eval(input(\"Enter a list: \"))\n",
    "def distBetPoints(pt1,pt2):\n",
    "    return ((((pt1[0] - pt2[0] )**2) + ((pt1[1]-pt2[1])**2) )**0.5)\n",
    "\n",
    "def perimeter(lst1):\n",
    "    return round(distBetPoints(lst1[0],lst1[1])+distBetPoints(lst1[0],lst1[2])+distBetPoints(lst1[2],lst1[1]),2)\n",
    "perimeter(lst1)"
   ]
  },
  {
   "cell_type": "code",
   "execution_count": 43,
   "id": "33508533",
   "metadata": {},
   "outputs": [
    {
     "name": "stdout",
     "output_type": "stream",
     "text": [
      "Enter the City matrix: [ [0, 0, 0, 0], [0, 0, 0, 0], [1, 1, 1, 0], [1, 1, 1, 1]]\n"
     ]
    },
    {
     "data": {
      "text/plain": [
       "2"
      ]
     },
     "execution_count": 43,
     "metadata": {},
     "output_type": "execute_result"
    }
   ],
   "source": [
    "# 3. A city skyline can be represented as a 2-D list with 1s representing buildings. In the example below, \n",
    "# the height of the tallest building is 4 (second-most right column).\n",
    "\n",
    "# [[0, 0, 0, 0, 0, 0],\n",
    "# [0, 0, 0, 0, 1, 0],\n",
    "# [0, 0, 1, 0, 1, 0],\n",
    "# [0, 1, 1, 1, 1, 0],\n",
    "# [1, 1, 1, 1, 1, 1]]\n",
    "\n",
    "# Create a function that takes a skyline (2-D list of 0's and 1's) and returns the height of the tallest skyscraper.\n",
    "\n",
    "# Examples\n",
    "\n",
    "# tallest_skyscraper([\n",
    "#   [0, 0, 0, 0],\n",
    "#   [0, 1, 0, 0],\n",
    "#   [0, 1, 1, 0],\n",
    "#   [1, 1, 1, 1]\n",
    "# ]) ➞ 3\n",
    "\n",
    "# tallest_skyscraper([\n",
    "#   [0, 1, 0, 0],\n",
    "#   [0, 1, 0, 0],\n",
    "#   [0, 1, 1, 0],\n",
    "#   [1, 1, 1, 1]\n",
    "# ]) ➞ 4\n",
    "\n",
    "# tallest_skyscraper([\n",
    "#   [0, 0, 0, 0],\n",
    "#   [0, 0, 0, 0],\n",
    "#   [1, 1, 1, 0],\n",
    "#   [1, 1, 1, 1]\n",
    "# ]) ➞ 2\n",
    "\n",
    "skyscraper=eval(input(\"Enter the City matrix: \"))\n",
    "def tallest_skyscraper(skyscraper):\n",
    "    high=0\n",
    "    for i in range(len(skyscraper[0])):\n",
    "        height=0\n",
    "        for j in skyscraper:\n",
    "            height+=j[i]\n",
    "        if high<height:\n",
    "            high=height\n",
    "    return high\n",
    "tallest_skyscraper(skyscraper)"
   ]
  },
  {
   "cell_type": "code",
   "execution_count": 37,
   "id": "be35784a",
   "metadata": {},
   "outputs": [
    {
     "name": "stdout",
     "output_type": "stream",
     "text": [
      "Enter number of days: 50\n"
     ]
    },
    {
     "data": {
      "text/plain": [
       "8200"
      ]
     },
     "execution_count": 37,
     "metadata": {},
     "output_type": "execute_result"
    }
   ],
   "source": [
    "# 4. A financial institution provides professional services to banks and claims charges from the customers \n",
    "# based on the number of man-days provided. Internally, it has set a scheme to motivate and reward staff to meet \n",
    "# and exceed targeted billable utilization and revenues by paying a bonus for each day claimed from customers in \n",
    "# excess of a threshold target.\n",
    "\n",
    "# This quarterly scheme is calculated with a threshold target of 32 days per quarter, and the incentive payment \n",
    "# for each billable day in excess of such threshold target is shown as follows:\n",
    "\n",
    "# Days\t                             Bonus\n",
    "# 0 to 32 days\t                   Zero\n",
    "# 33 to 40 days\t         SGD$325 per billable day\n",
    "# 41 to 48 days\t         SGD$550 per billable day\n",
    "# Greater than 48 days      SGD$600 per billable day\n",
    "\n",
    "# Please note that incentive payment is calculated progressively. As an example, if an employee reached total \n",
    "# billable days of 45 in a quarter, his/her incentive payment is computed as follows:\n",
    "\n",
    "# 32*0 + 8*325 + 5*550 = 5350\n",
    "\n",
    "# Write a function to read the billable days of an employee and return the bonus he/she has obtained in that quarter.\n",
    "\n",
    "# Examples\n",
    "\n",
    "# bonus(15) ➞ 0\n",
    "\n",
    "# bonus(37) ➞ 1625\n",
    "\n",
    "# bonus(50) ➞ 8200\n",
    "\n",
    "days=int(input(\"Enter number of days: \"))\n",
    "def bonus(days):\n",
    "    if days<=32:\n",
    "        return 0\n",
    "    elif days<=40:\n",
    "        return (days-32)*325\n",
    "    elif days<=48:\n",
    "        return 8*325+(days-40)*550\n",
    "    elif days>40:\n",
    "        return 8*325+8*550+(days-48)*600\n",
    "bonus(days)"
   ]
  },
  {
   "cell_type": "code",
   "execution_count": 6,
   "id": "bef240ae",
   "metadata": {},
   "outputs": [
    {
     "name": "stdout",
     "output_type": "stream",
     "text": [
      "Enter a number: 8\n"
     ]
    },
    {
     "data": {
      "text/plain": [
       "True"
      ]
     },
     "execution_count": 6,
     "metadata": {},
     "output_type": "execute_result"
    }
   ],
   "source": [
    "# 5. A number is said to be Disarium if the sum of its digits raised to their respective positions is the number \n",
    "# itself.\n",
    "# Create a function that determines whether a number is a Disarium or not.\n",
    "# Examples\n",
    "# is_disarium(75) ➞ False\n",
    "# # 7^1 + 5^2 = 7 + 25 = 32\n",
    "# is_disarium(135) ➞ True\n",
    "# # 1^1 + 3^2 + 5^3 = 1 + 9 + 125 = 135\n",
    "# is_disarium(544) ➞ False\n",
    "# is_disarium(518) ➞ True\n",
    "# is_disarium(466) ➞ False\n",
    "# is_disarium(8) ➞ True\n",
    "\n",
    "num=int(input(\"Enter a number: \"))\n",
    "def is_disarium(num):\n",
    "    strNum=str(num)\n",
    "    pwdSum=0\n",
    "    for i in range(len(strNum)):\n",
    "        pwdSum+=int(strNum[i])**(i+1)\n",
    "    return num==pwdSum\n",
    "is_disarium(num)"
   ]
  }
 ],
 "metadata": {
  "kernelspec": {
   "display_name": "Python 3",
   "language": "python",
   "name": "python3"
  },
  "language_info": {
   "codemirror_mode": {
    "name": "ipython",
    "version": 3
   },
   "file_extension": ".py",
   "mimetype": "text/x-python",
   "name": "python",
   "nbconvert_exporter": "python",
   "pygments_lexer": "ipython3",
   "version": "3.8.8"
  }
 },
 "nbformat": 4,
 "nbformat_minor": 5
}
