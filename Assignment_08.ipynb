{
 "cells": [
  {
   "cell_type": "markdown",
   "id": "ab2ebad7",
   "metadata": {},
   "source": [
    "Q1. What exactly is a feature? Give an example to illustrate your point.\n",
    "\n",
    "ANS:\n",
    "\n",
    "Features are the basic building blocks of datasets. The quality of the features in your dataset has a major impact on the quality of the insights you will gain when you use that dataset for machine learning.\n",
    "\n",
    "Additionally, different business problems within the same industry do not necessarily require the same features, which is why it is important to have a strong understanding of the business goals of your data science project."
   ]
  },
  {
   "cell_type": "markdown",
   "id": "754bdced",
   "metadata": {},
   "source": [
    "Q2. What are the various circumstances in which feature construction is required?\n",
    "\n",
    "ANS:\n",
    "\n",
    "The features in your data will directly influence the predictive models you use and the results you can achieve. Your results are dependent on many inter-dependent properties. You need great features that describe the structures inherent in your data. Better features means flexibility."
   ]
  },
  {
   "cell_type": "markdown",
   "id": "756e4780",
   "metadata": {},
   "source": [
    "Q3. Describe how nominal variables are encoded.\n",
    "\n",
    "ANS:\n",
    "\n",
    "Nominal data is made of discrete values with no numerical relationship between the different categories — mean and median are meaningless. Animal species is one example. For example, pig is not higher than bird and lower than fish."
   ]
  },
  {
   "cell_type": "markdown",
   "id": "a4496414",
   "metadata": {},
   "source": [
    "Q4. Describe how numeric features are converted to categorical features.\n",
    "\n",
    "ANS:\n",
    "\n",
    "Converting categorical features into numeric features using domain knowledge. For example, we are given a list of countries and say we know the distance to these countries from India then we can replace it with distance from India. So, every country can be represented as its distance from India."
   ]
  },
  {
   "cell_type": "markdown",
   "id": "72050d33",
   "metadata": {},
   "source": [
    "Q5. Describe the feature selection wrapper approach. State the advantages and disadvantages of this approach?\n",
    "\n",
    "ANS:\n",
    "\n",
    "Wrapper methods measure the “usefulness” of features based on the classifier performance. In contrast, the filter methods pick up the intrinsic properties of the features (i.e., the “relevance” of the features) measured via univariate statistics instead of cross-validation performance.\n",
    "The wrapper classification algorithms with joint dimensionality reduction and classification can also be used but these methods have high computation cost, lower discriminative power. Moreover, these methods depend on the efficient selection of classifiers for obtaining high accuracy"
   ]
  },
  {
   "cell_type": "markdown",
   "id": "8711ae1d",
   "metadata": {},
   "source": [
    "Q6. When is a feature considered irrelevant? What can be said to quantify it?\n",
    "\n",
    "ANS:\n",
    "\n",
    "Features are considered relevant if they are either strongly or weakly relevant, and are considered irrelevant otherwise.\n",
    "\n",
    "Irrelevant features can never contribute to prediction accuracy, by definition. Also to quantify it we need to first check the list of features, There are three types of feature selection:\n",
    "\n",
    "1. Wrapper methods (forward, backward, and stepwise selection)\n",
    "2. Filter methods (ANOVA, Pearson correlation, variance thresholding)\n",
    "3. Embedded methods (Lasso, Ridge, Decision Tree)."
   ]
  },
  {
   "cell_type": "markdown",
   "id": "5c8086c6",
   "metadata": {},
   "source": [
    "Q7. When is a function considered redundant? What criteria are used to identify features that could be redundant?\n",
    "\n",
    "ANS:\n",
    "\n",
    "If two features {X1, X2} are highly correlated, then the two features become redundant features since they have same information in terms of correlation measure. In other words, the correlation measure provides statistical association between any given a pair of features.\n",
    "\n",
    "Minimum redundancy feature selection is an algorithm frequently used in a method to accurately identify characteristics of genes and phenotypes"
   ]
  },
  {
   "cell_type": "markdown",
   "id": "13e39156",
   "metadata": {},
   "source": [
    "Q8. What are the various distance measurements used to determine feature similarity?\n",
    "\n",
    "ANS:\n",
    "\n",
    "Four of the most commonly used distance measures in machine learning are as follows:\n",
    "\n",
    "1. Hamming Distance.\n",
    "2. Euclidean Distance\n",
    "3. Manhattan Distance."
   ]
  },
  {
   "cell_type": "markdown",
   "id": "e9976e7e",
   "metadata": {},
   "source": [
    "Q9. State difference between Euclidean and Manhattan distances?\n",
    "\n",
    "ANS:\n",
    "\n",
    "Euclidean & Hamming distances are used to measure similarity or dissimilarity between two sequences. Euclidean distance is extensively applied in analysis of convolutional codes and Trellis codes.\n",
    "\n",
    "Hamming distance is frequently encountered in the analysis of block codes."
   ]
  },
  {
   "cell_type": "markdown",
   "id": "18bf042c",
   "metadata": {},
   "source": [
    "Q10. Distinguish between feature transformation and feature selection.\n",
    "\n",
    "ANS:\n",
    "\n",
    "Feature selection is for filtering irrelevant or redundant features from your dataset. The key difference between feature selection and extraction is that feature selection keeps a subset of the original features while feature extraction creates brand new ones."
   ]
  },
  {
   "cell_type": "markdown",
   "id": "63f0ff56",
   "metadata": {},
   "source": [
    "Q11. Make brief notes on any two of the following:\n",
    "          1. SVD (Standard Variable Diameter Diameter)\n",
    "          2. Collection of features using a hybrid approach\n",
    "          3. The width of the silhouette\n",
    "          4. Receiver operating characteristic curve\n",
    "          \n",
    "ANS:\n",
    "\n",
    "1. SVD (Standard Variable Diameter Diameter): The singular value decomposition (SVD) provides another way to factorize a matrix, into singular vectors and singular values. The SVD allows us to discover some of the same kind of information as the eigendecomposition.\n",
    "\n",
    "2. Collection of features using a hybrid approach: Feature Selection (FS) is a strategy that aims at making text document classifiers more efficient and accurate. ... We proposed a hybrid approach for feature selection called based on genetic algorithms (GAs) that employs a target learning algorithm to evaluate features, a wrapper method.\n",
    "\n",
    "3. The width of the silhouette: The Average Silhouette Width (ASW) is a popular cluster validation index to estimate the number of clusters. The question whether it also is suitable as a general objective function to be optimized for finding a clustering is addressed. Two algorithms (the standard version OSil and a fast version FOSil) are proposed, and they are compared with existing clustering methods in an extensive simulation study covering known and unknown numbers of clusters. Real data sets are analysed, partly exploring the use of the new methods with non-Euclidean distances. The ASW will be shown to satisfy some axioms that have been proposed for cluster quality functions. The new methods prove useful and sensible in many cases, but some weaknesses are also highlighted. These also concern the use of the ASW for estimating the number of clusters together with other methods, which is of general interest due to the popularity of the ASW for this task.\n",
    "\n",
    "4. Receiver operating characteristic curve: A receiver operating characteristic curve, or ROC curve, is a graphical plot that illustrates the diagnostic ability of a binary classifier system as its discrimination threshold is varied."
   ]
  }
 ],
 "metadata": {
  "kernelspec": {
   "display_name": "Python 3",
   "language": "python",
   "name": "python3"
  },
  "language_info": {
   "codemirror_mode": {
    "name": "ipython",
    "version": 3
   },
   "file_extension": ".py",
   "mimetype": "text/x-python",
   "name": "python",
   "nbconvert_exporter": "python",
   "pygments_lexer": "ipython3",
   "version": "3.8.8"
  }
 },
 "nbformat": 4,
 "nbformat_minor": 5
}
