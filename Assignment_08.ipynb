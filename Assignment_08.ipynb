{
 "cells": [
  {
   "cell_type": "markdown",
   "id": "a414b0b5",
   "metadata": {},
   "source": [
    "Q1. Write an SQL query to fetch intersecting records of two tables.\n",
    "\n",
    "ANS:\n",
    "    \n",
    "SELECT * FROM TABLE1 JOIN TABLE2 ON TABLE1.ID=TABLE2.ID"
   ]
  },
  {
   "cell_type": "markdown",
   "id": "fa3013da",
   "metadata": {},
   "source": [
    "Q2. Write an SQL query to show records from one table that another table does not have.\n",
    "\n",
    "ANS:\n",
    "\n",
    "SELECT * FROM TABLE1 LEFT OUTER JOIN TABLE2 ON TABLE1.ID=TABLE2.ID"
   ]
  }
 ],
 "metadata": {
  "kernelspec": {
   "display_name": "Python 3",
   "language": "python",
   "name": "python3"
  },
  "language_info": {
   "codemirror_mode": {
    "name": "ipython",
    "version": 3
   },
   "file_extension": ".py",
   "mimetype": "text/x-python",
   "name": "python",
   "nbconvert_exporter": "python",
   "pygments_lexer": "ipython3",
   "version": "3.8.8"
  }
 },
 "nbformat": 4,
 "nbformat_minor": 5
}
