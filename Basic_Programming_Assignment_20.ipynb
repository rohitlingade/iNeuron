{
 "cells": [
  {
   "cell_type": "code",
   "execution_count": 4,
   "id": "37fac1f4",
   "metadata": {},
   "outputs": [
    {
     "name": "stdout",
     "output_type": "stream",
     "text": [
      "Enter a list: [\"Nothing\", \"here\"]\n"
     ]
    },
    {
     "data": {
      "text/plain": [
       "[]"
      ]
     },
     "execution_count": 4,
     "metadata": {},
     "output_type": "execute_result"
    }
   ],
   "source": [
    "# Question1\n",
    "# Create a function that takes a list of strings and integers, and filters out the list so that it returns a \n",
    "# list of integers only.\n",
    "# Examples\n",
    "# filter_list([1, 2, 3, \"a\", \"b\", 4]) ➞ [1, 2, 3, 4]\n",
    "# filter_list([\"A\", 0, \"Edabit\", 1729, \"Python\", \"1729\"]) ➞ [0, 1729]\n",
    "# filter_list([\"Nothing\", \"here\"]) ➞ []\n",
    "\n",
    "\n",
    "lst=eval(input(\"Enter a list: \"))\n",
    "def filter_list(lst):\n",
    "    return [i for i in lst if type(i)==int]\n",
    "filter_list(lst)"
   ]
  },
  {
   "cell_type": "code",
   "execution_count": 7,
   "id": "a74c8319",
   "metadata": {},
   "outputs": [
    {
     "name": "stdout",
     "output_type": "stream",
     "text": [
      "Enter a list of integers: [5, 4, 3, 2, 1]\n"
     ]
    },
    {
     "data": {
      "text/plain": [
       "[5, 5, 5, 5, 5]"
      ]
     },
     "execution_count": 7,
     "metadata": {},
     "output_type": "execute_result"
    }
   ],
   "source": [
    "# Question2\n",
    "# Given a list of numbers, create a function which returns the list but with each element's \n",
    "# index in the list added to itself. This means you add 0 to the number at index 0, add 1 to the number at index 1, \n",
    "# etc...\n",
    "# Examples\n",
    "# add_indexes([0, 0, 0, 0, 0]) ➞ [0, 1, 2, 3, 4]\n",
    "# add_indexes([1, 2, 3, 4, 5]) ➞ [1, 3, 5, 7, 9]\n",
    "# add_indexes([5, 4, 3, 2, 1]) ➞ [5, 5, 5, 5, 5]\n",
    "\n",
    "lst=eval(input(\"Enter a list of integers: \"))\n",
    "def add_indexes(lst):\n",
    "    return [i+lst[i] for i in range(len(lst))]\n",
    "add_indexes(lst)"
   ]
  },
  {
   "cell_type": "code",
   "execution_count": 12,
   "id": "2eb3c707",
   "metadata": {},
   "outputs": [
    {
     "name": "stdout",
     "output_type": "stream",
     "text": [
      "Enter height and radius, comma seperated: 18,0\n"
     ]
    },
    {
     "data": {
      "text/plain": [
       "0"
      ]
     },
     "execution_count": 12,
     "metadata": {},
     "output_type": "execute_result"
    }
   ],
   "source": [
    "# Question3\n",
    "# Create a function that takes the height and radius of a cone as arguments and returns the volume of \n",
    "# the cone rounded to the nearest hundredth. See the resources tab for the formula.\n",
    "# Examples\n",
    "# cone_volume(3, 2) ➞ 12.57\n",
    "# cone_volume(15, 6) ➞ 565.49\n",
    "# cone_volume(18, 0) ➞ 0\n",
    "\n",
    "import math\n",
    "height,radius=tuple(map(int,input(\"Enter height and radius, comma seperated: \").split(\",\")))\n",
    "def cone_volume(height,radius):\n",
    "    if height==0 or radius==0:return 0\n",
    "    return round((math.pi*radius**2*height)/3,2)\n",
    "cone_volume(height,radius)"
   ]
  },
  {
   "cell_type": "code",
   "execution_count": 21,
   "id": "45bbbdc5",
   "metadata": {},
   "outputs": [
    {
     "name": "stdout",
     "output_type": "stream",
     "text": [
      "Enter a number: 215\n"
     ]
    },
    {
     "data": {
      "text/plain": [
       "23220"
      ]
     },
     "execution_count": 21,
     "metadata": {},
     "output_type": "execute_result"
    }
   ],
   "source": [
    "# Question4\n",
    "# This Triangular Number Sequence is generated from a pattern of dots that form a triangle. \n",
    "# The first 5 numbers of the sequence, or dots, are: \n",
    "# 1, 3, 6, 10, 15\n",
    "# This means that the first triangle has just one dot, the second one has three dots, \n",
    "# the third one has 6 dots and so on.\n",
    "# Write a function that gives the number of dots with its corresponding triangle number of the sequence.\n",
    "# Examples\n",
    "# triangle(1) ➞ 1\n",
    "# triangle(6) ➞ 21\n",
    "# triangle(215) ➞ 23220\n",
    "\n",
    "num=int(input(\"Enter a number: \"))\n",
    "def fib(num):\n",
    "    if num==1 or num==0:\n",
    "        return num\n",
    "    return num+fib(num-1)\n",
    "\n",
    "def triangle(num):\n",
    "    return num**2-fib(num-1)\n",
    "\n",
    "triangle(num)"
   ]
  },
  {
   "cell_type": "code",
   "execution_count": 28,
   "id": "038dbfd2",
   "metadata": {},
   "outputs": [
    {
     "name": "stdout",
     "output_type": "stream",
     "text": [
      "Enter a list: [10, 5, 1, 2, 4, 6, 8, 3, 9]\n"
     ]
    },
    {
     "data": {
      "text/plain": [
       "7"
      ]
     },
     "execution_count": 28,
     "metadata": {},
     "output_type": "execute_result"
    }
   ],
   "source": [
    "# Question5\n",
    "# Create a function that takes a list of numbers between 1 and 10 (excluding one number) and \n",
    "# returns the missing number.\n",
    "# Examples\n",
    "# missing_num([1, 2, 3, 4, 6, 7, 8, 9, 10]) ➞ 5\n",
    "# missing_num([7, 2, 3, 6, 5, 9, 1, 4, 8]) ➞ 10\n",
    "# missing_num([10, 5, 1, 2, 4, 6, 8, 3, 9]) ➞ 7\n",
    "\n",
    "lst=eval(input(\"Enter a list: \"))\n",
    "def missing_num(lst):\n",
    "    return [i for i in range(1,11) if i not in lst]\n",
    "missing_num(lst)[0]"
   ]
  }
 ],
 "metadata": {
  "kernelspec": {
   "display_name": "Python 3",
   "language": "python",
   "name": "python3"
  },
  "language_info": {
   "codemirror_mode": {
    "name": "ipython",
    "version": 3
   },
   "file_extension": ".py",
   "mimetype": "text/x-python",
   "name": "python",
   "nbconvert_exporter": "python",
   "pygments_lexer": "ipython3",
   "version": "3.8.8"
  }
 },
 "nbformat": 4,
 "nbformat_minor": 5
}
