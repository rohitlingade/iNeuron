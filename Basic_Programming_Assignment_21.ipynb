{
 "cells": [
  {
   "cell_type": "code",
   "execution_count": 9,
   "id": "1824c4bb",
   "metadata": {},
   "outputs": [
    {
     "name": "stdout",
     "output_type": "stream",
     "text": [
      "Enter a list: []\n",
      "Enter a number: 6\n"
     ]
    },
    {
     "data": {
      "text/plain": [
       "'No list has been selected'"
      ]
     },
     "execution_count": 9,
     "metadata": {},
     "output_type": "execute_result"
    }
   ],
   "source": [
    "# Question1\n",
    "# Write a function that takes a list and a number as arguments. Add the number to the end of the list, \n",
    "# then remove the first element of the list. The function should then return the updated list.\n",
    "# Examples\n",
    "# next_in_line([5, 6, 7, 8, 9], 1) ➞ [6, 7, 8, 9, 1]\n",
    "# next_in_line([7, 6, 3, 23, 17], 10) ➞ [6, 3, 23, 17, 10]\n",
    "# next_in_line([1, 10, 20, 42 ], 6) ➞ [10, 20, 42, 6]\n",
    "# next_in_line([], 6) ➞ \"No list has been selected\"\n",
    "\n",
    "lst=eval(input(\"Enter a list: \"))\n",
    "num=int(input(\"Enter a number: \"))\n",
    "def next_in_line(lst,num):\n",
    "    if lst==[]:return \"No list has been selected\"\n",
    "    lst.append(num)\n",
    "    lst.pop(0)\n",
    "    return lst\n",
    "next_in_line(lst,num)"
   ]
  },
  {
   "cell_type": "code",
   "execution_count": 11,
   "id": "393e4c11",
   "metadata": {},
   "outputs": [
    {
     "name": "stdout",
     "output_type": "stream",
     "text": [
      "Enter a list: [ { \"name\": \"John\",  \"age\": 21, \"budget\": 29000 }, { \"name\": \"Steve\",  \"age\": 32, \"budget\": 32000 }, { \"name\": \"Martin\",  \"age\": 16, \"budget\": 1600 }]\n"
     ]
    },
    {
     "data": {
      "text/plain": [
       "62600"
      ]
     },
     "execution_count": 11,
     "metadata": {},
     "output_type": "execute_result"
    }
   ],
   "source": [
    "# Question2\n",
    "# Create the function that takes a list of dictionaries and returns the sum of people's budgets.\n",
    "# Examples\n",
    "# get_budgets([\n",
    "#   { \"name\": \"John\", \"age\": 21, \"budget\": 23000 },\n",
    "#   { \"name\": \"Steve\",  \"age\": 32, \"budget\": 40000 },\n",
    "#   { \"name\": \"Martin\",  \"age\": 16, \"budget\": 2700 }\n",
    "# ]) ➞ 65700\n",
    "\n",
    "# get_budgets([\n",
    "#   { \"name\": \"John\",  \"age\": 21, \"budget\": 29000 },\n",
    "#   { \"name\": \"Steve\",  \"age\": 32, \"budget\": 32000 },\n",
    "#   { \"name\": \"Martin\",  \"age\": 16, \"budget\": 1600 }\n",
    "# ]) ➞ 62600\n",
    "\n",
    "lst=eval(input(\"Enter a list: \"))\n",
    "def get_budgets(lst):\n",
    "    budget=0\n",
    "    for i in lst:\n",
    "        budget+=i[\"budget\"]\n",
    "    return budget\n",
    "get_budgets(lst)"
   ]
  },
  {
   "cell_type": "code",
   "execution_count": 17,
   "id": "b58736d7",
   "metadata": {},
   "outputs": [
    {
     "name": "stdout",
     "output_type": "stream",
     "text": [
      "Enter a string: javascript\n"
     ]
    },
    {
     "data": {
      "text/plain": [
       "'aacijprstv'"
      ]
     },
     "execution_count": 17,
     "metadata": {},
     "output_type": "execute_result"
    }
   ],
   "source": [
    "# Question3\n",
    "# Create a function that takes a string and returns a string with its letters in alphabetical order.\n",
    "# Examples\n",
    "# alphabet_soup(\"hello\") ➞ \"ehllo\"\n",
    "# alphabet_soup(\"edabit\") ➞ \"abdeit\"\n",
    "# alphabet_soup(\"hacker\") ➞ \"acehkr\"\n",
    "# alphabet_soup(\"geek\") ➞ \"eegk\"\n",
    "# alphabet_soup(\"javascript\") ➞ \"aacijprstv\"\n",
    "\n",
    "str1=input(\"Enter a string: \")\n",
    "def alphabet_soup(str1):\n",
    "    return ''.join(sorted(str1))\n",
    "alphabet_soup(str1)"
   ]
  },
  {
   "cell_type": "code",
   "execution_count": 28,
   "id": "82932de9",
   "metadata": {},
   "outputs": [
    {
     "name": "stdout",
     "output_type": "stream",
     "text": [
      "Enter comma seperated values of principal,years,interest and periods per year: 100000, 20, 0.15, 365\n"
     ]
    },
    {
     "data": {
      "text/plain": [
       "2007316.2632325366"
      ]
     },
     "execution_count": 28,
     "metadata": {},
     "output_type": "execute_result"
    }
   ],
   "source": [
    "# Question4\n",
    "# Suppose that you invest $10,000 for 10 years at an interest rate of 6% compounded monthly. \n",
    "# What will be the value of your investment at the end of the 10 year period?\n",
    "# Create a function that accepts the principal p, the term in years t, the interest rate r, \n",
    "# and the number of compounding periods per year n. The function returns the value at the end of \n",
    "# term rounded to the nearest cent.\n",
    "# For the example above:\n",
    "# compound_interest(10000, 10, 0.06, 12) ➞ 18193.97\n",
    "# Note that the interest rate is given as a decimal and n=12 because with monthly compounding \n",
    "# there are 12 periods per year. Compounding can also be done annually, quarterly, weekly, or daily.\n",
    "# Examples\n",
    "# compound_interest(100, 1, 0.05, 1) ➞ 105.0\n",
    "# compound_interest(3500, 15, 0.1, 4) ➞ 15399.26\n",
    "# compound_interest(100000, 20, 0.15, 365) ➞ 2007316.26\n",
    "\n",
    "principal,years,interest,periods_per_year = \\\n",
    "    tuple(map(eval,input(\"Enter comma seperated values of principal,years,interest and periods per year: \").split(\",\")))\n",
    "def compound_interest(principal,years,interest,periods_per_year):\n",
    "    return principal*(1+interest/periods_per_year)**(years*periods_per_year)\n",
    "compound_interest(principal,years,interest,periods_per_year)"
   ]
  },
  {
   "cell_type": "code",
   "execution_count": 32,
   "id": "ec553cb1",
   "metadata": {},
   "outputs": [
    {
     "name": "stdout",
     "output_type": "stream",
     "text": [
      "Enter a list: [\"String\",  True,  3.3,  1]\n"
     ]
    },
    {
     "data": {
      "text/plain": [
       "[1]"
      ]
     },
     "execution_count": 32,
     "metadata": {},
     "output_type": "execute_result"
    }
   ],
   "source": [
    "# Question5\n",
    "# Write a function that takes a list of elements and returns only the integers.\n",
    "# Examples\n",
    "# return_only_integer([9, 2, \"space\", \"car\", \"lion\", 16]) ➞ [9, 2, 16]\n",
    "# return_only_integer([\"hello\", 81, \"basketball\", 123, \"fox\"]) ➞ [81, 123]\n",
    "# return_only_integer([10, \"121\", 56, 20, \"car\", 3, \"lion\"]) ➞ [10, 56, 20, 3]\n",
    "# return_only_integer([\"String\",  True,  3.3,  1]) ➞ [1]\n",
    "\n",
    "lst=eval(input(\"Enter a list: \"))\n",
    "def return_only_integer(lst):\n",
    "    return [i for i in lst if type(i)==int]\n",
    "return_only_integer(lst)"
   ]
  }
 ],
 "metadata": {
  "kernelspec": {
   "display_name": "Python 3",
   "language": "python",
   "name": "python3"
  },
  "language_info": {
   "codemirror_mode": {
    "name": "ipython",
    "version": 3
   },
   "file_extension": ".py",
   "mimetype": "text/x-python",
   "name": "python",
   "nbconvert_exporter": "python",
   "pygments_lexer": "ipython3",
   "version": "3.8.8"
  }
 },
 "nbformat": 4,
 "nbformat_minor": 5
}
