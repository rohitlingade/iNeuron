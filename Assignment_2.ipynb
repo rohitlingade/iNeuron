{
 "cells": [
  {
   "cell_type": "raw",
   "id": "d11e111c",
   "metadata": {},
   "source": [
    "1.What are the two values of the Boolean data type? How do you write them?\n",
    "\n",
    "ANS:\n",
    "\n",
    "    Two types of Boolean data type are Truthy and Falsy values, and are generally identified as True and False. "
   ]
  },
  {
   "cell_type": "raw",
   "id": "35ec3175",
   "metadata": {},
   "source": [
    "2. What are the three different types of Boolean operators?\n",
    "\n",
    "ANS:\n",
    "\n",
    "and, or and not are three Boolean operators."
   ]
  },
  {
   "cell_type": "raw",
   "id": "2f435fdf",
   "metadata": {},
   "source": [
    "3. Make a list of each Boolean operator's truth tables (i.e. every possible combination of Boolean values for the operator and what it evaluate ).\n",
    "\n",
    "ANS:\n",
    "\n",
    "Truth Table for AND:\n",
    "\n",
    "a     b    a and b\n",
    "0     0       0\n",
    "0     1       0\n",
    "1     0       0\n",
    "1     1       1\n",
    "\n",
    "Truth Table for OR:\n",
    "\n",
    "a     b    a and b\n",
    "0     0       0\n",
    "0     1       1\n",
    "1     0       1\n",
    "1     1       1\n",
    "\n",
    "Truth Table for NOT:\n",
    "\n",
    "a    NOT a\n",
    "\n",
    "1      0\n",
    "0      1"
   ]
  },
  {
   "cell_type": "raw",
   "id": "f8858409",
   "metadata": {},
   "source": [
    "4. What are the values of the following expressions?\n",
    "\n",
    "ANS:\n",
    "\n",
    "(5 > 4) and (3 == 5)                  ---> False\n",
    "not (5 > 4)                           ---> False\n",
    "(5 > 4) or (3 == 5)                   ---> True\n",
    "not ((5 > 4) or (3 == 5))             ---> False\n",
    "(True and True) and (True == False)   ---> False\n",
    "(not False) or (not True)             ---> True\n"
   ]
  },
  {
   "cell_type": "raw",
   "id": "655430e2",
   "metadata": {},
   "source": [
    "5. What are the six comparison operators?\n",
    "\n",
    "ANS:\n",
    "    \n",
    "    Comparison Operators are:\n",
    "        a. <\n",
    "        b. >\n",
    "        c. <=\n",
    "        d. >=\n",
    "        e. ==\n",
    "        f. != or <>"
   ]
  },
  {
   "cell_type": "raw",
   "id": "47bbb1a6",
   "metadata": {},
   "source": [
    "6. How do you tell the difference between the equal to and assignment operators?Describe a condition and when you would use one.\n",
    "\n",
    "ANS:\n",
    "\n",
    "=  ->Assignment Operator\n",
    "== ->Comparison Operator\n",
    "\n",
    "=  assigns value from right side to variable that is on left side of operator \n",
    "== checks the values on both side of the oprator are equal to or not"
   ]
  },
  {
   "cell_type": "raw",
   "id": "ffe5f22f",
   "metadata": {},
   "source": [
    "7. Identify the three blocks in this code:\n",
    "\n",
    "ANS: \n",
    "\n",
    "spam = 0\n",
    "if spam == 10:\n",
    "    print('eggs')\n",
    "if spam > 5:\n",
    "    print('bacon')\n",
    "else:\n",
    "    print('ham')\n",
    "print('spam')\n",
    "print('spam')\n"
   ]
  },
  {
   "cell_type": "raw",
   "id": "9a58ff35",
   "metadata": {},
   "source": [
    "8. Write code that prints Hello if 1 is stored in spam, prints Howdy if 2 is stored in spam, and prints Greetings! if anything else is stored in spam.\n",
    "\n",
    "ANS:\n",
    "\n",
    "if spam==1:\n",
    "    print(\"Hello\")\n",
    "elif spam==2:\n",
    "    print(\"Howdy\")\n",
    "else:\n",
    "    print(\"Greetings!\")"
   ]
  },
  {
   "cell_type": "raw",
   "id": "c7ae2f27",
   "metadata": {},
   "source": [
    "9.If your programme is stuck in an endless loop, what keys you’ll press?\n",
    "\n",
    "ANS:\n",
    "\n",
    "Interrupt the Kernel"
   ]
  },
  {
   "cell_type": "raw",
   "id": "c3f4cf65",
   "metadata": {},
   "source": [
    "10. How can you tell the difference between break and continue?\n",
    "\n",
    "ANS:\n",
    "\n",
    "Break    -> break, breaks the execution of the loop and it gets outside the loop.\n",
    "Continue -> continue, continues the execution to the next iterator and not goes outside the loop."
   ]
  },
  {
   "cell_type": "raw",
   "id": "75d67956",
   "metadata": {},
   "source": [
    "11. In a for loop, what is the difference between range(10), range(0, 10), and range(0, 10, 1)?\n",
    "\n",
    "ANS:\n",
    "\n",
    "There is no difference between range(10), range(0, 10), and range(0, 10, 1)"
   ]
  },
  {
   "cell_type": "raw",
   "id": "958e25e1",
   "metadata": {},
   "source": [
    "12. Write a short program that prints the numbers 1 to 10 using a for loop. Then write an equivalent program that prints the numbers 1 to 10 using a while loop.\n",
    "\n",
    "ANS:\n",
    "\n",
    "FOR LOOP:\n",
    "\n",
    "for i in range(1,11):\n",
    "    print(i,end=\" \")\n",
    "  \n",
    "WHILE LOOP:\n",
    "i=1\n",
    "while i<11:\n",
    "    print(i,end=\" \")\n",
    "    i+=1\n"
   ]
  },
  {
   "cell_type": "raw",
   "id": "59bee3d0",
   "metadata": {},
   "source": [
    "13. If you had a function named bacon() inside a module named spam, how would you call it after importing spam?\n",
    "\n",
    "ANS:\n",
    "\n",
    "import spam\n",
    "spam.bacon()\n",
    "\n",
    "or \n",
    "\n",
    "from spam import bacon\n",
    "bacon()"
   ]
  }
 ],
 "metadata": {
  "kernelspec": {
   "display_name": "Python 3",
   "language": "python",
   "name": "python3"
  },
  "language_info": {
   "codemirror_mode": {
    "name": "ipython",
    "version": 3
   },
   "file_extension": ".py",
   "mimetype": "text/x-python",
   "name": "python",
   "nbconvert_exporter": "python",
   "pygments_lexer": "ipython3",
   "version": "3.8.8"
  }
 },
 "nbformat": 4,
 "nbformat_minor": 5
}
