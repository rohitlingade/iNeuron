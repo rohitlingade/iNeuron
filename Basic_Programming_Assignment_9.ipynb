{
 "cells": [
  {
   "cell_type": "code",
   "execution_count": 5,
   "id": "44b0ceeb",
   "metadata": {},
   "outputs": [
    {
     "name": "stdout",
     "output_type": "stream",
     "text": [
      "Enter a Number: 175\n"
     ]
    },
    {
     "data": {
      "text/plain": [
       "True"
      ]
     },
     "execution_count": 5,
     "metadata": {},
     "output_type": "execute_result"
    }
   ],
   "source": [
    "# 1.\tWrite a Python program to check if the given number is a Disarium Number?\n",
    "\n",
    "num= int(input(\"Enter a Number: \"))\n",
    "def isDisarium(num):\n",
    "    strNum=str(num)\n",
    "    numLen=len(strNum)\n",
    "    total=0\n",
    "    for i in range (numLen):\n",
    "        total+=(int(strNum[i]))**(i+1)\n",
    "    if total==num:\n",
    "        return True\n",
    "    return False\n",
    "isDisarium(num)"
   ]
  },
  {
   "cell_type": "code",
   "execution_count": 6,
   "id": "b9ccff17",
   "metadata": {},
   "outputs": [
    {
     "name": "stdout",
     "output_type": "stream",
     "text": [
      "1 2 3 4 5 6 7 8 9 89 "
     ]
    }
   ],
   "source": [
    "# 2.\tWrite a Python program to print all disarium numbers between 1 to 100?\n",
    "\n",
    "for i in range(1,101):\n",
    "    if isDisarium(i):\n",
    "        print(i,end=\" \")"
   ]
  },
  {
   "cell_type": "code",
   "execution_count": 23,
   "id": "acd28725",
   "metadata": {},
   "outputs": [
    {
     "name": "stdout",
     "output_type": "stream",
     "text": [
      "Enter a Number: 100\n"
     ]
    },
    {
     "data": {
      "text/plain": [
       "True"
      ]
     },
     "execution_count": 23,
     "metadata": {},
     "output_type": "execute_result"
    }
   ],
   "source": [
    "# 3.\tWrite a Python program to check if the given number is Happy Number?\n",
    "\n",
    "num= int(input(\"Enter a Number: \"))\n",
    "\n",
    "def isHappy(num):\n",
    "    result=num \n",
    "    def sqSum(num):\n",
    "        total=0\n",
    "        strNum=str(num)\n",
    "        for i in range(len(strNum)):\n",
    "            total+=(int(strNum[i]))**2\n",
    "        return total\n",
    "    while (result!=1 and result!=4):\n",
    "        result=sqSum(result)    \n",
    "    if(result == 1):return True  \n",
    "    elif(result == 4):return False\n",
    "    \n",
    "isHappy(num)"
   ]
  },
  {
   "cell_type": "code",
   "execution_count": 24,
   "id": "df2c00d9",
   "metadata": {},
   "outputs": [
    {
     "name": "stdout",
     "output_type": "stream",
     "text": [
      "1 7 10 13 19 23 28 31 32 44 49 68 70 79 82 86 91 94 97 100 "
     ]
    }
   ],
   "source": [
    "# 4.\tWrite a Python program to print all happy numbers between 1 and 100?\n",
    "for i in range(1,101):\n",
    "    if isHappy(i):\n",
    "        print(i,end=\" \")"
   ]
  },
  {
   "cell_type": "code",
   "execution_count": 10,
   "id": "a979c7e6",
   "metadata": {},
   "outputs": [
    {
     "name": "stdout",
     "output_type": "stream",
     "text": [
      "Enter a Number: 156\n"
     ]
    },
    {
     "data": {
      "text/plain": [
       "True"
      ]
     },
     "execution_count": 10,
     "metadata": {},
     "output_type": "execute_result"
    }
   ],
   "source": [
    "# 5.\tWrite a Python program to determine whether the given number is a Harshad Number?\n",
    "\n",
    "num= int(input(\"Enter a Number: \"))\n",
    "def isHarshad(num):\n",
    "    strNum=str(num)\n",
    "    numSum=0\n",
    "    for i in range (len(strNum)):\n",
    "        numSum+=int(strNum[i])\n",
    "    if num%numSum==0:\n",
    "        return True\n",
    "    return False\n",
    "isHarshad(num)"
   ]
  },
  {
   "cell_type": "code",
   "execution_count": 11,
   "id": "06ad5101",
   "metadata": {},
   "outputs": [
    {
     "name": "stdout",
     "output_type": "stream",
     "text": [
      "1 2 3 4 5 6 7 8 9 10 12 18 20 21 24 27 30 36 40 42 45 48 50 54 60 63 70 72 80 81 84 90 100 "
     ]
    }
   ],
   "source": [
    "# 6.\tWrite a Python program to print all pronic numbers between 1 and 100?\n",
    "for i in range(1,101):\n",
    "    if isHarshad(i):\n",
    "        print(i,end=\" \")"
   ]
  }
 ],
 "metadata": {
  "kernelspec": {
   "display_name": "Python 3",
   "language": "python",
   "name": "python3"
  },
  "language_info": {
   "codemirror_mode": {
    "name": "ipython",
    "version": 3
   },
   "file_extension": ".py",
   "mimetype": "text/x-python",
   "name": "python",
   "nbconvert_exporter": "python",
   "pygments_lexer": "ipython3",
   "version": "3.8.8"
  }
 },
 "nbformat": 4,
 "nbformat_minor": 5
}
