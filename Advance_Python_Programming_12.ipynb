{
 "cells": [
  {
   "cell_type": "code",
   "execution_count": 11,
   "id": "44852559",
   "metadata": {},
   "outputs": [
    {
     "name": "stdout",
     "output_type": "stream",
     "text": [
      "Enter comma seperated two numbers: 1222,30277\n"
     ]
    },
    {
     "data": {
      "text/plain": [
       "31499"
      ]
     },
     "execution_count": 11,
     "metadata": {},
     "output_type": "execute_result"
    }
   ],
   "source": [
    "# 1. For this challenge, forget how to add two numbers together. \n",
    "# The best explanation on what to do for this function is this meme:\n",
    "# Examples\n",
    "# meme_sum(26, 39) ➞ 515\n",
    "# # 2+3 = 5, 6+9 = 15\n",
    "# # 26 + 39 = 515\n",
    "# meme_sum(122, 81) ➞ 1103\n",
    "# # 1+0 = 1, 2+8 = 10, 2+1 = 3\n",
    "# # 122 + 81 = 1103\n",
    "# meme_sum(1222, 30277) ➞ 31499\n",
    "\n",
    "num1,num2=input(\"Enter comma seperated two numbers: \").split(\",\")\n",
    "def meme_sum(num1,num2):\n",
    "    l=max(len(num1),len(num2))\n",
    "    num1,num2=num1.zfill(l),num2.zfill(l)\n",
    "    s=''\n",
    "    for i in range(l):\n",
    "         s+=str(int(num1[i])+int(num2[i]))\n",
    "    return int(s)\n",
    "meme_sum(num1,num2)"
   ]
  },
  {
   "cell_type": "code",
   "execution_count": 14,
   "id": "ce57bdf3",
   "metadata": {},
   "outputs": [
    {
     "name": "stdout",
     "output_type": "stream",
     "text": [
      "Enter a number: 11\n"
     ]
    },
    {
     "data": {
      "text/plain": [
       "11"
      ]
     },
     "execution_count": 14,
     "metadata": {},
     "output_type": "execute_result"
    }
   ],
   "source": [
    "# 2. Given an integer, create a function that returns the next prime. \n",
    "# If the number is prime, return the number itself.\n",
    "# Examples\n",
    "# next_prime(12) ➞ 13\n",
    "# next_prime(24) ➞ 29\n",
    "# next_prime(11) ➞ 11\n",
    "# 11 is a prime, so we return the number itself.\n",
    "\n",
    "num=int(input(\"Enter a number: \"))\n",
    "def is_prime(num):\n",
    "    count=0\n",
    "    if num==1:\n",
    "        return False\n",
    "    elif num==2:\n",
    "        return True\n",
    "    for i in range(2,num//2+1):\n",
    "        if num%i==0:\n",
    "            count+=1\n",
    "    if count==0:\n",
    "        return True\n",
    "    return False\n",
    "def next_prime(num):\n",
    "    while True:\n",
    "        if is_prime(num):\n",
    "            return num\n",
    "        num+=1      \n",
    "next_prime(num)"
   ]
  },
  {
   "cell_type": "code",
   "execution_count": 17,
   "id": "fb6551b9",
   "metadata": {},
   "outputs": [
    {
     "name": "stdout",
     "output_type": "stream",
     "text": [
      "Enter comma seperated time, up speed and down speed: 30,8,24\n"
     ]
    },
    {
     "data": {
      "text/plain": [
       "12.0"
      ]
     },
     "execution_count": 17,
     "metadata": {},
     "output_type": "execute_result"
    }
   ],
   "source": [
    "# 3. If a person traveled up a hill for 18mins at 20mph and then traveled back down the same path \n",
    "# at 60mph then their average speed traveled was 30mph.\n",
    "# Write a function that returns the average speed traveled given an uphill time, \n",
    "# uphill rate and a downhill rate. Uphill time is given in minutes. \n",
    "# Return the rate as an integer (mph). No rounding is necessary.\n",
    "# Examples\n",
    "# ave_spd(18, 20, 60) ➞ 30\n",
    "# ave_spd(30, 10, 30) ➞ 15\n",
    "# ave_spd(30, 8, 24) ➞ 12\n",
    "\n",
    "time,upspd,dnspd=map(int,input(\"Enter comma seperated time, up speed and down speed: \").split(\",\"))\n",
    "def ave_spd(time,upspd,dnspd):\n",
    "    dist=time*upspd/60\n",
    "    return (dist*2)/(time+dist*60/dnspd)*60\n",
    "ave_spd(time,upspd,dnspd)"
   ]
  },
  {
   "cell_type": "code",
   "execution_count": 25,
   "id": "bf98a0e8",
   "metadata": {},
   "outputs": [
    {
     "name": "stdout",
     "output_type": "stream",
     "text": [
      "Enter a number: 2\n"
     ]
    },
    {
     "data": {
      "text/plain": [
       "2"
      ]
     },
     "execution_count": 25,
     "metadata": {},
     "output_type": "execute_result"
    }
   ],
   "source": [
    "# 4. The Kempner Function, applied to a composite number, permits to find the smallest integer \n",
    "# greater than zero whose factorial is exactly divided by the number.\n",
    "# kempner(6) ➞ 3\n",
    "# 1! = 1 % 6 > 0\n",
    "# 2! = 2 % 6 > 0\n",
    "# 3! = 6 % 6 === 0\n",
    "# kempner(10) ➞ 5\n",
    "# 1! = 1 % 10 > 0\n",
    "# 2! = 2 % 10 > 0\n",
    "# 3! = 6 % 10 > 0\n",
    "# 4! = 24 % 10 > 0\n",
    "# 5! = 120 % 10 === 0\n",
    "# A Kempner Function applied to a prime will always return the prime itself.\n",
    "# kempner(2) ➞ 2\n",
    "# kempner(5) ➞ 5\n",
    "# Given an integer n, implement a Kempner Function.\n",
    "# Examples\n",
    "# kempner(6) ➞ 3\n",
    "# kempner(10) ➞ 5\n",
    "# kempner(2) ➞ 2\n",
    "\n",
    "num=int(input(\"Enter a number: \"))\n",
    "def fact(num):\n",
    "    if num==1:\n",
    "        return 1\n",
    "    return num*fact(num-1)\n",
    "def kempner(num):\n",
    "    for i in range(1,num+1):\n",
    "        if fact(i)%num==0:\n",
    "            return i\n",
    "kempner(num)"
   ]
  },
  {
   "cell_type": "code",
   "execution_count": 28,
   "id": "379ed448",
   "metadata": {},
   "outputs": [
    {
     "name": "stdout",
     "output_type": "stream",
     "text": [
      "Enter a list: [2, 1, 2, 5, 4, 3, 6, 1, 1, 9, 3, 2]\n"
     ]
    },
    {
     "data": {
      "text/plain": [
       "[[2, 1, 2, 5], [4, 3], [6, 1, 1], [9], [3, 2]]"
      ]
     },
     "execution_count": 28,
     "metadata": {},
     "output_type": "execute_result"
    }
   ],
   "source": [
    "# 5. You work in a factory, and your job is to take items from a conveyor belt and pack them into boxes. \n",
    "# Each box can hold a maximum of 10 kgs. Given a list containing the weight (in kg) of each item, \n",
    "# how many boxes would you need to pack all of the items?\n",
    "# Example\n",
    "# boxes([2, 1, 2, 5, 4, 3, 6, 1, 1, 9, 3, 2]) ➞ 5\n",
    "# Box 1 = [2, 1, 2, 5] (10kg)\n",
    "# Box 2 = [4, 3] (7kg)\n",
    "# Box 3 = [6, 1, 1] (8kg)\n",
    "# Box 4 = [9] (9kg)\n",
    "# Box 5 = [3, 2] (5kg)\n",
    "\n",
    "lst1=eval(input(\"Enter a list: \"))\n",
    "def boxes(lst1):\n",
    "    bxs,loc=[],[]\n",
    "    total=0\n",
    "    for i in lst1:\n",
    "        total+=i\n",
    "        if total>10:\n",
    "            bxs.append(loc)\n",
    "            total,loc=i,[i]\n",
    "        else:\n",
    "            loc.append(i)\n",
    "    bxs.append(loc)\n",
    "    return bxs\n",
    "        \n",
    "boxes(lst1)"
   ]
  }
 ],
 "metadata": {
  "kernelspec": {
   "display_name": "Python 3",
   "language": "python",
   "name": "python3"
  },
  "language_info": {
   "codemirror_mode": {
    "name": "ipython",
    "version": 3
   },
   "file_extension": ".py",
   "mimetype": "text/x-python",
   "name": "python",
   "nbconvert_exporter": "python",
   "pygments_lexer": "ipython3",
   "version": "3.8.8"
  }
 },
 "nbformat": 4,
 "nbformat_minor": 5
}
