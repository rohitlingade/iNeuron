{
 "cells": [
  {
   "cell_type": "markdown",
   "id": "23224c25",
   "metadata": {},
   "source": [
    "Q1. What distinguishes the Google Cloud Machine Learning Engine from others? \n",
    "\n",
    "ANS:\n",
    "\n",
    "1. Run your apps wherever you need them\n",
    "2. Make smarter decisions with the leading data platform\n",
    "3. Run on the cleanest cloud in the industry\n",
    "4. Operate confidently with advanced security tools"
   ]
  },
  {
   "cell_type": "markdown",
   "id": "bc6c4340",
   "metadata": {},
   "source": [
    "Q2. What are GCP's cloud storage libraries and tools?\n",
    "\n",
    "ANS:\n",
    "\n",
    "1. Google Cloud Platform Console, which performs fundamental tasks on objects and buckets.\n",
    "2. Cloud Storage Client Libraries, which give programming backing to different languages including Java, Ruby, and Python.\n",
    "3. GustilCommand-line Tool, which gives a command-line interface to the cloud storage."
   ]
  },
  {
   "cell_type": "markdown",
   "id": "d7ed4cc3",
   "metadata": {},
   "source": [
    "Q3. Define the Google Cloud pricing model.\n",
    "\n",
    "ANS:\n",
    "\n",
    "While working with Google Cloud Platform, the client is charged based on compute instance, network use, and storage by Google Compute Engine. At that point, the expense of storage is charged based on the measure of information that you store."
   ]
  },
  {
   "cell_type": "markdown",
   "id": "1858d6b9",
   "metadata": {},
   "source": [
    "Q4. The Google Compute Engine API has a variety of authentication mechanisms. \n",
    "\n",
    "ANS:\n",
    "\n",
    "Google Cloud APIs use the OAuth 2.0 protocol for authenticating both user accounts and service accounts. The OAuth 2.0 authentication process determines both the principal and the application. They use Google-provided authentication libraries that support a variety of authentication flows and runtime environments."
   ]
  },
  {
   "cell_type": "markdown",
   "id": "18fcca32",
   "metadata": {},
   "source": [
    "Q5. Create Google Cloud service accounts and explain how to use them.\n",
    "\n",
    "ANS:\n",
    "\n",
    "Service accounts do not have passwords, and cannot log in via browsers or cookies. Service accounts are associated with public/private RSA key pairs that are used for authentication to Google, and for signing data. You can let other users or service accounts impersonate a service account."
   ]
  },
  {
   "cell_type": "markdown",
   "id": "3a294f9e",
   "metadata": {},
   "source": [
    "Q6. How to make a Google Cloud Storage project?\n",
    "\n",
    "ANS:\n",
    "\n",
    "Set-up steps\n",
    "1. Sign in to your Google Cloud account.\n",
    "2. In the Google Cloud Console, on the project selector page, select or create a Google Cloud project.\n",
    "3. Make sure that billing is enabled for your Cloud project.\n",
    "4. Enable the Google Cloud Dataproc API.\n",
    "5. Install and initialize the Cloud SDK."
   ]
  }
 ],
 "metadata": {
  "kernelspec": {
   "display_name": "Python 3",
   "language": "python",
   "name": "python3"
  },
  "language_info": {
   "codemirror_mode": {
    "name": "ipython",
    "version": 3
   },
   "file_extension": ".py",
   "mimetype": "text/x-python",
   "name": "python",
   "nbconvert_exporter": "python",
   "pygments_lexer": "ipython3",
   "version": "3.8.8"
  }
 },
 "nbformat": 4,
 "nbformat_minor": 5
}
