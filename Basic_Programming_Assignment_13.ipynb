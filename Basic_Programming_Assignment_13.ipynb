{
 "cells": [
  {
   "cell_type": "code",
   "execution_count": 6,
   "id": "b9b1b955",
   "metadata": {},
   "outputs": [
    {
     "name": "stdout",
     "output_type": "stream",
     "text": [
      "Enter the values seperated by comma: 100,150,180\n",
      "[18, 22, 24]\n"
     ]
    }
   ],
   "source": [
    "# Question 1:\n",
    "\n",
    "# Write a program that calculates and prints the value according to the given formula:\n",
    "\n",
    "# Q = Square root of [(2 * C * D)/H]\n",
    "\n",
    "# Following are the fixed values of C and H:\n",
    "\n",
    "# C is 50. H is 30.\n",
    "\n",
    "# D is the variable whose values should be input to your program in a comma-separated sequence.\n",
    "\n",
    "# Example\n",
    "\n",
    "# Let us assume the following comma separated input sequence is given to the program:\n",
    "\n",
    "# 100,150,180\n",
    "\n",
    "# The output of the program should be:\n",
    "\n",
    "# 18,22,24\n",
    "\n",
    "import math\n",
    "def sqroot(D,C=50,H=30):\n",
    "    return [math.floor(math.sqrt((2 * C * d)/H)) for d in D]\n",
    "\n",
    "inputStr=input(\"Enter the values seperated by comma: \")\n",
    "lst=list(map(int,inputStr.split(\",\")))\n",
    "print(sqroot(lst))\n",
    "\n"
   ]
  },
  {
   "cell_type": "code",
   "execution_count": 8,
   "id": "fd0a3529",
   "metadata": {},
   "outputs": [
    {
     "name": "stdout",
     "output_type": "stream",
     "text": [
      "Enter a number: 3\n",
      "Enter another number: 5\n"
     ]
    },
    {
     "data": {
      "text/plain": [
       "[[0, 0, 0, 0, 0], [0, 1, 2, 3, 4], [0, 2, 4, 6, 8]]"
      ]
     },
     "execution_count": 8,
     "metadata": {},
     "output_type": "execute_result"
    }
   ],
   "source": [
    "# Question 2:\n",
    "# Write a program which takes 2 digits, X,Y as input and generates a 2-dimensional array.\n",
    "# The element value in the i-th row and j-th column of the array should be i*j.\n",
    "\n",
    "# Note: i=0,1.., X-1; j=0,1,¡¬Y-1.\n",
    "\n",
    "# Example\n",
    "\n",
    "# Suppose the following inputs are given to the program:\n",
    "\n",
    "# 3,5\n",
    "\n",
    "# Then, the output of the program should be:\n",
    "\n",
    "# [[0, 0, 0, 0, 0], [0, 1, 2, 3, 4], [0, 2, 4, 6, 8]] \n",
    "\n",
    "def genArray(X,Y):\n",
    "    lst=[]\n",
    "    for i in range(X):\n",
    "        lst1=[]\n",
    "        for j in range(Y):\n",
    "            lst1.append(i*j)\n",
    "        lst.append(lst1)\n",
    "    return lst\n",
    "X,Y=int(input(\"Enter a number: \")),int(input(\"Enter another number: \"))\n",
    "genArray(X,Y)"
   ]
  },
  {
   "cell_type": "code",
   "execution_count": 14,
   "id": "386fb6bd",
   "metadata": {},
   "outputs": [
    {
     "name": "stdout",
     "output_type": "stream",
     "text": [
      "Enter comma seperated words: without,hello,bag,world\n"
     ]
    },
    {
     "data": {
      "text/plain": [
       "'bag,hello,without,world'"
      ]
     },
     "execution_count": 14,
     "metadata": {},
     "output_type": "execute_result"
    }
   ],
   "source": [
    "# Question 3:\n",
    "# Write a program that accepts a comma separated sequence of words as input and prints the words \n",
    "# in a comma-separated sequence after sorting them alphabetically.\n",
    "\n",
    "# Suppose the following input is supplied to the program:\n",
    "\n",
    "# without,hello,bag,world\n",
    "\n",
    "# Then, the output should be:\n",
    "\n",
    "# bag,hello,without,world\n",
    "\n",
    "\n",
    "words=input(\"Enter comma seperated words: \")\n",
    "wordsList=words.split(\",\")\n",
    "sortedOp=\",\".join(sorted(wordsList))\n",
    "sortedOp"
   ]
  },
  {
   "cell_type": "code",
   "execution_count": 15,
   "id": "924ef808",
   "metadata": {},
   "outputs": [
    {
     "name": "stdout",
     "output_type": "stream",
     "text": [
      "Enter words: hello world and practice makes perfect and hello world again\n"
     ]
    },
    {
     "data": {
      "text/plain": [
       "'again and hello makes perfect practice world'"
      ]
     },
     "execution_count": 15,
     "metadata": {},
     "output_type": "execute_result"
    }
   ],
   "source": [
    "# Question 4:\n",
    "# Write a program that accepts a sequence of whitespace separated words as input and prints \n",
    "# the words after removing all duplicate words and sorting them alphanumerically.\n",
    "\n",
    "# Suppose the following input is supplied to the program:\n",
    "\n",
    "# hello world and practice makes perfect and hello world again\n",
    "\n",
    "# Then, the output should be:\n",
    "\n",
    "# again and hello makes perfect practice world\n",
    "\n",
    "words=input(\"Enter words: \")\n",
    "wordsList=words.split()\n",
    "sortedWords=\" \".join(sorted(set(wordsList)))\n",
    "sortedWords"
   ]
  },
  {
   "cell_type": "code",
   "execution_count": 17,
   "id": "9cda6c65",
   "metadata": {},
   "outputs": [
    {
     "name": "stdout",
     "output_type": "stream",
     "text": [
      "Enter sentence: hello world! 123\n",
      "LETTERS:  10\n",
      "DIGITS:  3\n"
     ]
    }
   ],
   "source": [
    "# Question 5:\n",
    "# Write a program that accepts a sentence and calculate the number of letters and digits.\n",
    "\n",
    "# Suppose the following input is supplied to the program:\n",
    "\n",
    "# hello world! 123\n",
    "\n",
    "# Then, the output should be:\n",
    "\n",
    "# LETTERS 10\n",
    "\n",
    "# DIGITS 3\n",
    "\n",
    "alphabets=\"abcdefghijklmnopqrstuvwxyzABCDEFGHIJKLMNOPQRSTUVWXYZ\"\n",
    "words=input(\"Enter sentence: \")\n",
    "letters,digits=0,0\n",
    "for i in words:\n",
    "    if i in alphabets:\n",
    "        letters+=1\n",
    "    elif i.isdigit():\n",
    "        digits+=1\n",
    "print(\"LETTERS: \",letters)\n",
    "print(\"DIGITS: \",digits)"
   ]
  },
  {
   "cell_type": "code",
   "execution_count": 22,
   "id": "f24923be",
   "metadata": {},
   "outputs": [
    {
     "name": "stdout",
     "output_type": "stream",
     "text": [
      "Enter comma seperated passwords: ABd1234@1,a F1#,2w3E*,2We3345\n"
     ]
    },
    {
     "data": {
      "text/plain": [
       "['ABd1234@1']"
      ]
     },
     "execution_count": 22,
     "metadata": {},
     "output_type": "execute_result"
    }
   ],
   "source": [
    "# Question 6:\n",
    "# A website requires the users to input username and password to register. Write a program to check the \n",
    "# validity of password input by users.\n",
    "\n",
    "# Following are the criteria for checking the password:\n",
    "\n",
    "# 1. At least 1 letter between [a-z]\n",
    "\n",
    "# 2. At least 1 number between [0-9]\n",
    "\n",
    "# 1. At least 1 letter between [A-Z]\n",
    "\n",
    "# 3. At least 1 character from [$#@]\n",
    "\n",
    "# 4. Minimum length of transaction password: 6\n",
    "\n",
    "# 5. Maximum length of transaction password: 12\n",
    "\n",
    "# Your program should accept a sequence of comma separated passwords and will check them according to \n",
    "# the above criteria. Passwords that match the criteria are to be printed, each separated by a comma.\n",
    "\n",
    "# Example\n",
    "\n",
    "# If the following passwords are given as input to the program:\n",
    "\n",
    "# ABd1234@1,a F1#,2w3E*,2We3345\n",
    "\n",
    "# Then, the output of the program should be:\n",
    "\n",
    "# ABd1234@1\n",
    "\n",
    "passwords=input(\"Enter comma seperated passwords: \")\n",
    "def validPasswords(passwords):\n",
    "    small=\"abcdefghijklmnopqrstuvwxyz\"\n",
    "    caps=\"ABCDEFGHIJKLMNOPQRSTUVWXYZ\"\n",
    "    nums=[0,1,2,3,4,5,6,7,8,9]\n",
    "    spclChars=\"$#@\"\n",
    "    passwords=[i for i in passwords if len(i)>=6 and len(i)<=12]\n",
    "    valid=[]\n",
    "    for i in passwords:\n",
    "        sCount,capsCount,numCount,splCount=0,0,0,0\n",
    "        for j in i:\n",
    "            if j in small:\n",
    "                sCount+=1\n",
    "            elif j in caps:\n",
    "                capsCount+=1\n",
    "            elif j.isdigit():\n",
    "                numCount+=1\n",
    "            elif j in spclChars:\n",
    "                splCount+=1\n",
    "            else:\n",
    "                continue\n",
    "        if sCount>=1 and capsCount>=1 and numCount>=1 and splCount>=1:\n",
    "            valid.append(i)\n",
    "    return valid\n",
    "passwords=passwords.split(\",\")\n",
    "validPass=validPasswords(passwords)\n",
    "validPass"
   ]
  },
  {
   "cell_type": "code",
   "execution_count": null,
   "id": "11032c16",
   "metadata": {},
   "outputs": [],
   "source": []
  }
 ],
 "metadata": {
  "kernelspec": {
   "display_name": "Python 3",
   "language": "python",
   "name": "python3"
  },
  "language_info": {
   "codemirror_mode": {
    "name": "ipython",
    "version": 3
   },
   "file_extension": ".py",
   "mimetype": "text/x-python",
   "name": "python",
   "nbconvert_exporter": "python",
   "pygments_lexer": "ipython3",
   "version": "3.8.8"
  }
 },
 "nbformat": 4,
 "nbformat_minor": 5
}
