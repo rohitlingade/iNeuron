{
 "cells": [
  {
   "cell_type": "code",
   "execution_count": 37,
   "id": "002348e9",
   "metadata": {},
   "outputs": [
    {
     "name": "stdout",
     "output_type": "stream",
     "text": [
      "Enter a matrix: [[5,5],[6,7],[9,1]]\n"
     ]
    },
    {
     "data": {
      "text/plain": [
       "[[5, 6, 9], [5, 7, 1]]"
      ]
     },
     "execution_count": 37,
     "metadata": {},
     "output_type": "execute_result"
    }
   ],
   "source": [
    "# 1. Create a function that transposes a 2D matrix.\n",
    "# Examples\n",
    "# transpose_matrix([\n",
    "#   [1, 1, 1],\n",
    "#   [2, 2, 2],\n",
    "#   [3, 3, 3]\n",
    "# ]) ➞ [\n",
    "#   [1, 2, 3],\n",
    "#   [1, 2, 3],\n",
    "#   [1, 2, 3]\n",
    "# ]\n",
    "# transpose_matrix([\n",
    "#   [5, 5],\n",
    "#   [6, 7],\n",
    "#   [9, 1]\n",
    "# ]) ➞ [\n",
    "#   [5, 6, 9],\n",
    "#   [5, 7, 1]\n",
    "# ]\n",
    "\n",
    "mat=eval(input(\"Enter a matrix: \"))\n",
    "def transpose_matrix(mat):\n",
    "    trans_mat=[]\n",
    "    for i in range(len(mat[0])):\n",
    "        row=[]\n",
    "        for j in range (len(mat)):\n",
    "            row.append(mat[j][i])\n",
    "        trans_mat.append(row)\n",
    "    return trans_mat\n",
    "transpose_matrix(mat)"
   ]
  },
  {
   "cell_type": "code",
   "execution_count": 24,
   "id": "0fc7aa9a",
   "metadata": {},
   "outputs": [
    {
     "name": "stdout",
     "output_type": "stream",
     "text": [
      "Enter hex code: CD5C5C\n"
     ]
    },
    {
     "data": {
      "text/plain": [
       "False"
      ]
     },
     "execution_count": 24,
     "metadata": {},
     "output_type": "execute_result"
    }
   ],
   "source": [
    "# 2. Create a function that determines whether a string is a valid hex code.\n",
    "# A hex code must begin with a pound key # and is exactly 6 characters in length. \n",
    "# Each character must be a digit from 0-9 or an alphabetic character from A-F. \n",
    "# All alphabetic characters may be uppercase or lowercase.\n",
    "# Examples\n",
    "# is_valid_hex_code(\"#CD5C5C\") ➞ True\n",
    "# is_valid_hex_code(\"#EAECEE\") ➞ True\n",
    "# is_valid_hex_code(\"#eaecee\") ➞ True\n",
    "# is_valid_hex_code(\"#CD5C58C\") ➞ False\n",
    "# # Length exceeds 6\n",
    "# is_valid_hex_code(\"#CD5C5Z\") ➞ False\n",
    "# # Not all alphabetic characters in A-F\n",
    "# is_valid_hex_code(\"#CD5C&C\") ➞ False\n",
    "# # Contains unacceptable character\n",
    "# is_valid_hex_code(\"CD5C5C\") ➞ False\n",
    "# # Missing #\n",
    "\n",
    "hexCode=input(\"Enter hex code: \")\n",
    "def is_valid_hex_code(hexCode):\n",
    "    digits,chars=\"0123456789\",\"ABCDEF\"\n",
    "    if hexCode[0]!=\"#\" or len(hexCode[1:])!=6:\n",
    "        return False\n",
    "    for i in hexCode[1:]:\n",
    "        if i not in digits and i.lower() not in chars.lower():\n",
    "            return False\n",
    "    return True\n",
    "is_valid_hex_code(hexCode)"
   ]
  },
  {
   "cell_type": "code",
   "execution_count": 12,
   "id": "a6ba2780",
   "metadata": {},
   "outputs": [
    {
     "name": "stdout",
     "output_type": "stream",
     "text": [
      "Enter a list: [\"2+2=4\", \"3+2=5\", \"10-3=3\", \"5+5=10\"]\n"
     ]
    },
    {
     "data": {
      "text/plain": [
       "'75%'"
      ]
     },
     "execution_count": 12,
     "metadata": {},
     "output_type": "execute_result"
    }
   ],
   "source": [
    "# 3. Given a list of math equations (given as strings), return the percentage of correct answers as a string. \n",
    "# Round to the nearest whole number.\n",
    "# Examples\n",
    "# mark_maths([\"2+2=4\", \"3+2=5\", \"10-3=3\", \"5+5=10\"]) ➞ \"75%\"\n",
    "# mark_maths([\"1-2=-2\"]), \"0%\"\n",
    "# mark_maths([\"2+3=5\", \"4+4=9\", \"3-1=2\"]) ➞ \"67%\"\n",
    "import math\n",
    "lst=eval(input(\"Enter a list: \"))\n",
    "def mark_maths(lst):\n",
    "    for i in range(len(lst)):\n",
    "        if \"=\" in lst[i]:\n",
    "            lst[i]=lst[i].replace(\"=\",\"==\")\n",
    "    lst=[eval(i) for i in lst]\n",
    "    return str(math.ceil(lst.count(True)/len(lst)*100))+\"%\"\n",
    "mark_maths(lst)"
   ]
  },
  {
   "cell_type": "code",
   "execution_count": 35,
   "id": "6383ed01",
   "metadata": {},
   "outputs": [
    {
     "name": "stdout",
     "output_type": "stream",
     "text": [
      "Enter Alice's move: [1, \"010\"]\n",
      "Enter Bob's move: [3, \"101\"]\n"
     ]
    },
    {
     "data": {
      "text/plain": [
       "False"
      ]
     },
     "execution_count": 35,
     "metadata": {},
     "output_type": "execute_result"
    }
   ],
   "source": [
    "# 4. There are two players, Alice and Bob, each with a 3-by-3 grid. A referee tells Alice to fill out \n",
    "# one particular row in the grid (say the second row) by putting either a 1 or a 0 in each box, \n",
    "# such that the sum of the numbers in that row is odd. The referee tells Bob to fill out one column \n",
    "# in the grid (say the first column) by putting either a 1 or a 0 in each box, such that the sum \n",
    "# of the numbers in that column is even.\n",
    "# Alice and Bob win the game if Alice’s numbers give an odd sum, Bob’s give an even sum, and (most important) \n",
    "# they’ve each written down the same number in the one square where their row and column intersect.\n",
    "# Examples\n",
    "# magic_square_game([2, \"100\"], [1, \"101\"]) ➞ False\n",
    "# magic_square_game([2, \"001\"], [1, \"101\"]) ➞ True\n",
    "# magic_square_game([3, \"111\"], [2, \"011\"]) ➞ True\n",
    "# magic_square_game([1, \"010\"], [3, \"101\"]) ➞ False\n",
    "# # Two lists, Alice [row, \"her choice\"], Bob [column, \"his choice\"]\n",
    "\n",
    "lst1,lst2=eval(input(\"Enter Alice's move: \")),eval(input(\"Enter Bob's move: \"))\n",
    "def magic_square_game(lst1,lst2):\n",
    "    sum1,sum2=sum([eval(i) for i in list(lst1[1])]),sum([eval(i) for i in list(lst2[1])])\n",
    "    if sum1%2!=1 or sum2%2!=0 or lst1[1][lst2[0]-1] != lst2[1][lst1[0]-1]:\n",
    "        return False\n",
    "    return True\n",
    "magic_square_game(lst1,lst2)"
   ]
  },
  {
   "cell_type": "code",
   "execution_count": 46,
   "id": "0bcd33ae",
   "metadata": {},
   "outputs": [
    {
     "name": "stdout",
     "output_type": "stream",
     "text": [
      "Enter comma seperated distance, A's speed amd B's speed: 90,75,65\n"
     ]
    },
    {
     "data": {
      "text/plain": [
       "'0h 38min 34s'"
      ]
     },
     "execution_count": 46,
     "metadata": {},
     "output_type": "execute_result"
    }
   ],
   "source": [
    "# 5. From point A, an object is moving towards point B at constant velocity va (in km/hr). From point B, \n",
    "# another object is moving towards point A at constant velocity vb (in km/hr). Knowing this and the \n",
    "# distance between point A and B (in km), write a function that returns how much time passes until \n",
    "# both objects meet.\n",
    "# Format the output like this:\n",
    "# \"2h 23min 34s\"\n",
    "# Examples\n",
    "# lets_meet(100, 10, 30) ➞ \"2h 30min 0s\"\n",
    "# lets_meet(280, 70, 80) ➞ \"1h 52min 0s\"\n",
    "# lets_meet(90, 75, 65) ➞ \"0h 38min 34s\"\n",
    "\n",
    "dist,aSpd,bSpd=map(int,input(\"Enter comma seperated distance, A's speed amd B's speed: \").split(\",\"))\n",
    "def lets_meet(dist,aSpd,bSpd):\n",
    "    timeInMin=(dist/(aSpd+bSpd))*60\n",
    "    hr=int(timeInMin//60)\n",
    "    minu=int(timeInMin-hr*60)\n",
    "    sec=int((timeInMin-hr*60-minu)*60)\n",
    "    return \"{}h {}min {}s\".format(hr,minu,sec)\n",
    "lets_meet(dist,aSpd,bSpd)"
   ]
  }
 ],
 "metadata": {
  "kernelspec": {
   "display_name": "Python 3",
   "language": "python",
   "name": "python3"
  }
 },
 "nbformat": 4,
 "nbformat_minor": 5
}
