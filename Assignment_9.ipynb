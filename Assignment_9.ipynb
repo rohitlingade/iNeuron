{
 "cells": [
  {
   "cell_type": "markdown",
   "id": "4af5c8e0",
   "metadata": {},
   "source": [
    "Q1. To what does a relative path refer?\n",
    "\n",
    "ANS:\n",
    "\n",
    "Relative path is the path to some file with respect to current working directory (pwd).\n",
    "\n",
    "eg.\n",
    "\n",
    "Absolute path : \"/Users/rohitshridharlingade/Desktop/iNeuron/Regular_Batch\"\n",
    "\n",
    "PWD           : \"/Users/rohitshridharlingade/Desktop/\"\n",
    "\n",
    "Relative path : \"iNeuron/Regular_Batch\""
   ]
  },
  {
   "cell_type": "markdown",
   "id": "a7270179",
   "metadata": {},
   "source": [
    "Q2. What does an absolute path start with your operating system?\n",
    "\n",
    "ANS:\n",
    "\n",
    "Absolute path : \"/Users/rohitshridharlingade/Desktop/iNeuron/Regular_Batch\""
   ]
  },
  {
   "cell_type": "markdown",
   "id": "63701205",
   "metadata": {},
   "source": [
    "Q3. What do the functions os.getcwd() and os.chdir() do?\n",
    "\n",
    "ANS:\n",
    "\n",
    "os.getcwd() : It gives the current working directory.\n",
    "\n",
    "os.chdir()  : It changes the directory from current working directory to the specified path."
   ]
  },
  {
   "cell_type": "markdown",
   "id": "2078feeb",
   "metadata": {},
   "source": [
    "Q4. What are the . and .. folders?\n",
    "\n",
    "ANS:\n",
    "\n",
    "When a directory B is created, it is added as a new entry to another directory A (its parent directory), and in B, two entries are added: one called . as a hard link to itself, and one called .. as a hard link to A."
   ]
  },
  {
   "cell_type": "markdown",
   "id": "73387b2a",
   "metadata": {},
   "source": [
    "Q5. In C:\\bacon\\eggs\\spam.txt, which part is the dir name, and which part is the base name?\n",
    "\n",
    "ANS:\n",
    "\n",
    "directory name : \"C:\\bacon\\eggs\\\"\n",
    "base name      : \"spam.txt\""
   ]
  },
  {
   "cell_type": "markdown",
   "id": "934e939d",
   "metadata": {},
   "source": [
    "Q6. What are the three “mode” arguments that can be passed to the open() function?\n",
    "\n",
    "ANS:\n",
    "\n",
    "'r' : This is a read mode in which we can only read the file. If file does not exist, it will throw the error.\n",
    "\n",
    "'w' : This is the write mode in which we can write data to the file. If file does not exist, it creates the file         and then write to it and if file is there it will erase the data and then write in the file\n",
    "\n",
    "'a' : This is a append mode, in this it append the data to the current file and if the file is not present then it       will create it and then write into it."
   ]
  },
  {
   "cell_type": "markdown",
   "id": "96cf228a",
   "metadata": {},
   "source": [
    "Q7. What happens if an existing file is opened in write mode?\n",
    "\n",
    "ANS:\n",
    "\n",
    "If an existing file is opened in write mode then the data that is present in the file is gets erased and then write the file again."
   ]
  },
  {
   "cell_type": "markdown",
   "id": "b187706c",
   "metadata": {},
   "source": [
    "Q8. How do you tell the difference between read() and readlines()?\n",
    "\n",
    "ANS:\n",
    "\n",
    "read()      : This function will read all the data from the file.\n",
    "\n",
    "readlines() : This function will read the data line wise from the file."
   ]
  },
  {
   "cell_type": "markdown",
   "id": "9f4156d2",
   "metadata": {},
   "source": [
    "Q9. What data structure does a shelf value resemble?\n",
    "\n",
    "ANS:\n",
    "\n",
    "A shelf value resembles a dictionary value; it has keys and values, along with keys() and values() methods that work similarly to the dictionary methods of the same names."
   ]
  }
 ],
 "metadata": {
  "kernelspec": {
   "display_name": "Python 3",
   "language": "python",
   "name": "python3"
  },
  "language_info": {
   "codemirror_mode": {
    "name": "ipython",
    "version": 3
   },
   "file_extension": ".py",
   "mimetype": "text/x-python",
   "name": "python",
   "nbconvert_exporter": "python",
   "pygments_lexer": "ipython3",
   "version": "3.8.8"
  }
 },
 "nbformat": 4,
 "nbformat_minor": 5
}
