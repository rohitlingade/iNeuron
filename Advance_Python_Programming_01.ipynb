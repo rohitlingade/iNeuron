{
 "cells": [
  {
   "cell_type": "code",
   "execution_count": 5,
   "id": "e06c3ff7",
   "metadata": {},
   "outputs": [
    {
     "name": "stdout",
     "output_type": "stream",
     "text": [
      "Enter a list: [[\"!!!\", \"O\", \"!\"],[\"X\", \"#\", \"!!!\"],[\"!!\", \"X\", \"O\"]]\n"
     ]
    },
    {
     "data": {
      "text/plain": [
       "0"
      ]
     },
     "execution_count": 5,
     "metadata": {},
     "output_type": "execute_result"
    }
   ],
   "source": [
    "# 1. Write a function that takes a list of lists and returns the value of all of the symbols in it, \n",
    "# where each symbol adds or takes something from the total score. Symbol values:\n",
    "\n",
    "# # = 5\n",
    "# O = 3\n",
    "# X = 1\n",
    "# ! = -1\n",
    "# !! = -3\n",
    "# !!! = -5\n",
    "\n",
    "# A list of lists containing 2 #s, a O, and a !!! would equal (0 + 5 + 5 + 3 - 5) 8.\n",
    "\n",
    "# If the final score is negative, return 0 \n",
    "# (e.g. 3 #s, 3 !!s, 2 !!!s and a X would be (0 + 5 + 5 + 5 - 3 - 3 - 3 - 5 - 5 + 1) -3, so return 0.\n",
    "\n",
    "# Examples\n",
    "\n",
    "# check_score([[\"#\", \"!\"],[\"!!\", \"X\"]]) ➞ 2\n",
    "\n",
    "# check_score([[\"!!!\", \"O\", \"!\"],[\"X\", \"#\", \"!!!\"],[\"!!\", \"X\", \"O\"]]) ➞ 0\n",
    "\n",
    "symbol_dict={\"#\":5,\"O\":3,\"X\":1,\"!\":-1,\"!!\":-3,\"!!!\":-5}\n",
    "lst1=eval(input(\"Enter a list: \"))\n",
    "\n",
    "def check_score(lst1):\n",
    "    total=0\n",
    "    for i in lst1:\n",
    "        for j in i:\n",
    "            total+=symbol_dict[j]\n",
    "    return total if total>0 else 0\n",
    "check_score(lst1)"
   ]
  },
  {
   "cell_type": "code",
   "execution_count": 8,
   "id": "3d29a444",
   "metadata": {},
   "outputs": [
    {
     "name": "stdout",
     "output_type": "stream",
     "text": [
      "Enter comma seperated numbers: 2,3,4,5\n"
     ]
    },
    {
     "data": {
      "text/plain": [
       "120"
      ]
     },
     "execution_count": 8,
     "metadata": {},
     "output_type": "execute_result"
    }
   ],
   "source": [
    "# 2. Create a function that takes a variable number of arguments, each argument representing the number of items \n",
    "# in a group, and returns the number of permutations (combinations) of items that you could get by taking one item \n",
    "# from each group.\n",
    "# Examples\n",
    "# combinations(2, 3) ➞ 6\n",
    "# combinations(3, 7, 4) ➞ 84\n",
    "# combinations(2, 3, 4, 5) ➞ 120\n",
    "\n",
    "from functools import reduce\n",
    "lst1=list(map(int,input(\"Enter comma seperated numbers: \").split(\",\")))\n",
    "def combinations(lst1):\n",
    "    return reduce(lambda x,y:x*y , lst1)\n",
    "combinations(lst1)"
   ]
  },
  {
   "cell_type": "code",
   "execution_count": 11,
   "id": "07820390",
   "metadata": {},
   "outputs": [
    {
     "name": "stdout",
     "output_type": "stream",
     "text": [
      "Enter a string in CAPS: HELP ME !\n"
     ]
    },
    {
     "data": {
      "text/plain": [
       "'.... . .-.. .--.   -- .   -.-.--'"
      ]
     },
     "execution_count": 11,
     "metadata": {},
     "output_type": "execute_result"
    }
   ],
   "source": [
    "# 3. Create a function that takes a string as an argument and returns the Morse code equivalent.\n",
    "# Examples\n",
    "# encode_morse(\"EDABBIT CHALLENGE\") ➞ \". -.. .- -... -... .. -   -.-. .... .- .-.. .-.. . -. --. .\"\n",
    "# encode_morse(\"HELP ME !\") ➞ \".... . .-.. .--.   -- .   -.-.--\"\n",
    "# This dictionary can be used for coding:\n",
    "char_to_dots = {\n",
    "  'A': '.-', 'B': '-...', 'C': '-.-.', 'D': '-..', 'E': '.', 'F': '..-.',\n",
    "  'G': '--.', 'H': '....', 'I': '..', 'J': '.---', 'K': '-.-', 'L': '.-..',\n",
    "  'M': '--', 'N': '-.', 'O': '---', 'P': '.--.', 'Q': '--.-', 'R': '.-.',\n",
    "  'S': '...', 'T': '-', 'U': '..-', 'V': '...-', 'W': '.--', 'X': '-..-',\n",
    "  'Y': '-.--', 'Z': '--..', ' ': ' ', '0': '-----',\n",
    "  '1': '.----', '2': '..---', '3': '...--', '4': '....-', '5': '.....',\n",
    "  '6': '-....', '7': '--...', '8': '---..', '9': '----.',\n",
    "  '&': '.-...', \"'\": '.----.', '@': '.--.-.', ')': '-.--.-', '(': '-.--.',\n",
    "  ':': '---...', ',': '--..--', '=': '-...-', '!': '-.-.--', '.': '.-.-.-',\n",
    "  '-': '-....-', '+': '.-.-.', '\"': '.-..-.', '?': '..--..', '/': '-..-.'\n",
    "}\n",
    "\n",
    "str1=input(\"Enter a string in CAPS: \")\n",
    "def encode_morse(str1):\n",
    "    encoded_string=\"\"\n",
    "    for i in str1:\n",
    "        encoded_string+=char_to_dots[i]+\" \"\n",
    "    return encoded_string.rstrip()\n",
    "encode_morse(str1)"
   ]
  },
  {
   "cell_type": "code",
   "execution_count": 18,
   "id": "933be2b7",
   "metadata": {},
   "outputs": [
    {
     "name": "stdout",
     "output_type": "stream",
     "text": [
      "Enter a number: 5151512515524\n"
     ]
    },
    {
     "data": {
      "text/plain": [
       "False"
      ]
     },
     "execution_count": 18,
     "metadata": {},
     "output_type": "execute_result"
    }
   ],
   "source": [
    "# 4.  Write a function that takes a number and returns True if it's a prime; False otherwise. \n",
    "# The number can be 2^64-1 (2 to the power of 63, not XOR). With the standard technique it would be O(2^64-1), \n",
    "# which is much too large for the 10 second time limit.\n",
    "# Examples\n",
    "# prime(7) ➞ True\n",
    "# prime(56963) ➞ True\n",
    "# prime(5151512515524) ➞ False\n",
    "\n",
    "num=int(input(\"Enter a number: \"))\n",
    "def isPrime(num):\n",
    "    if num > 1:\n",
    "        for i in range(2, int(num/2)+1):\n",
    "            if (num % i) == 0:\n",
    "                return False\n",
    "        else:\n",
    "            return True  \n",
    "    else:\n",
    "        return False\n",
    "    \n",
    "isPrime(num)"
   ]
  },
  {
   "cell_type": "code",
   "execution_count": 14,
   "id": "99562da2",
   "metadata": {},
   "outputs": [
    {
     "name": "stdout",
     "output_type": "stream",
     "text": [
      "Enter a string: tesh\n"
     ]
    },
    {
     "data": {
      "text/plain": [
       "[False, True, True, False]"
      ]
     },
     "execution_count": 14,
     "metadata": {},
     "output_type": "execute_result"
    }
   ],
   "source": [
    "# 5.  Create a function that converts a word to a bitstring and then to a boolean list based on the following \n",
    "# criteria:\n",
    "#     1. Locate the position of the letter in the English alphabet (from 1 to 26).\n",
    "#     2. Odd positions will be represented as 1 and 0 otherwise.\n",
    "#     3. Convert the represented positions to boolean values, 1 for True and 0 for False.\n",
    "#     4. Store the conversions into an array.\n",
    "#  Examples\n",
    "# to_boolean_list(\"deep\") ➞ [False, True, True, False]\n",
    "# # deep converts to 0110\n",
    "# # d is the 4th alphabet - 0\n",
    "# # e is the 5th alphabet - 1\n",
    "# # e is the 5th alphabet - 1\n",
    "# # p is the 16th alphabet - 0\n",
    "# to_boolean_list(\"loves\") ➞ [False, True, False, True, True]\n",
    "# to_boolean_list(\"tesh\") ➞ [False, True, True, False]\n",
    "\n",
    "str1=input(\"Enter a string: \")\n",
    "alpha=\"abcdefghijklmnopqrstuvwxyz\"\n",
    "def to_boolean_list(str1):\n",
    "    lst1=[]\n",
    "    for i in str1:\n",
    "        if (alpha.index(i)+1)%2==0:\n",
    "            lst1.append(False)\n",
    "        else:lst1.append(True)\n",
    "    return lst1\n",
    "to_boolean_list(str1)"
   ]
  }
 ],
 "metadata": {
  "kernelspec": {
   "display_name": "Python 3",
   "language": "python",
   "name": "python3"
  },
  "language_info": {
   "codemirror_mode": {
    "name": "ipython",
    "version": 3
   },
   "file_extension": ".py",
   "mimetype": "text/x-python",
   "name": "python",
   "nbconvert_exporter": "python",
   "pygments_lexer": "ipython3",
   "version": "3.8.8"
  }
 },
 "nbformat": 4,
 "nbformat_minor": 5
}
