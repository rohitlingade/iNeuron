{
 "cells": [
  {
   "cell_type": "markdown",
   "id": "12554606",
   "metadata": {},
   "source": [
    "Q1.  Write an SQL query to show the top n (say 10) records of a table.\n",
    "\n",
    "ANS:\n",
    "\n",
    "SELECT TOP 10 * FROM WORKERS\n",
    "OR\n",
    "SELECT * FROM WORKERS LIMIT 10"
   ]
  },
  {
   "cell_type": "markdown",
   "id": "c0cf828a",
   "metadata": {},
   "source": [
    "Q2. Write an SQL query to determine the nth (say n=5) highest salary from a table.\n",
    "\n",
    "ANS:\n",
    "\n",
    "SELECT * FROM(SELECT FIRST_NAME, SALARY OVER(ORDER BY SALARY DESC)R FROM WORKERS) WHERE R=&5;"
   ]
  }
 ],
 "metadata": {
  "kernelspec": {
   "display_name": "Python 3",
   "language": "python",
   "name": "python3"
  },
  "language_info": {
   "codemirror_mode": {
    "name": "ipython",
    "version": 3
   },
   "file_extension": ".py",
   "mimetype": "text/x-python",
   "name": "python",
   "nbconvert_exporter": "python",
   "pygments_lexer": "ipython3",
   "version": "3.8.8"
  }
 },
 "nbformat": 4,
 "nbformat_minor": 5
}
