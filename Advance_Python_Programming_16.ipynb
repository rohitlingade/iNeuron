{
 "cells": [
  {
   "cell_type": "code",
   "execution_count": 6,
   "id": "0e27be0a",
   "metadata": {},
   "outputs": [
    {
     "name": "stdout",
     "output_type": "stream",
     "text": [
      "Enter a string: A\n"
     ]
    },
    {
     "data": {
      "text/plain": [
       "False"
      ]
     },
     "execution_count": 6,
     "metadata": {},
     "output_type": "execute_result"
    }
   ],
   "source": [
    "# 1. Rondo Form is a type of musical structure, in which there is a recurring theme/refrain, notated as A. \n",
    "# Here are the rules for valid rondo forms:\n",
    "#    - Rondo forms always start and end with an A section.\n",
    "#    - In between the A sections, there should be contrasting sections notated as B, then C, then D, etc... \n",
    "#      No letter should be skipped.\n",
    "#    - There shouldn't be any repeats in the sequence (such as ABBACCA).\n",
    "# Create a function which validates whether a given string is a valid Rondo Form.\n",
    "# Examples\n",
    "# valid_rondo(\"ABACADAEAFAGAHAIAJA\") ➞ True\n",
    "# valid_rondo(\"ABA\") ➞ True\n",
    "# valid_rondo(\"ABBACCA\") ➞ False\n",
    "# valid_rondo(\"ACAC\") ➞ False\n",
    "# valid_rondo(\"A\") ➞ False\n",
    "\n",
    "str1=input(\"Enter a string: \")\n",
    "def valid_rondo(str1):\n",
    "    if str1[0]!='A' or str1[-1]!='A'or len(str1)==1:\n",
    "        return False\n",
    "    for i in range(1,len(str1)-1):\n",
    "        if str1[i]==str1[i+1]:\n",
    "            return False\n",
    "    return True\n",
    "valid_rondo(str1)"
   ]
  },
  {
   "cell_type": "code",
   "execution_count": 14,
   "id": "26eb2f9a",
   "metadata": {},
   "outputs": [
    {
     "name": "stdout",
     "output_type": "stream",
     "text": [
      "Enter a sentence: I have a cat. I have a mat. Things are going swell.\n",
      "Enter a string: flat\n"
     ]
    },
    {
     "data": {
      "text/plain": [
       "''"
      ]
     },
     "execution_count": 14,
     "metadata": {},
     "output_type": "execute_result"
    }
   ],
   "source": [
    "# 2. Create a function that returns the whole of the first sentence which contains a specific word. \n",
    "# Include the full stop at the end of the sentence.\n",
    "# Examples\n",
    "# txt = \"I have a cat. I have a mat. Things are going swell.\"\n",
    "# sentence_searcher(txt, \"have\") ➞ \"I have a cat.\"\n",
    "# sentence_searcher(txt, \"MAT\") ➞ \"I have a mat.\"\n",
    "# sentence_searcher(txt, \"things\") ➞ \"Things are going swell.\"\n",
    "# sentence_searcher(txt, \"flat\") ➞ \"\"\n",
    "\n",
    "txt=input(\"Enter a sentence: \")\n",
    "str1=input(\"Enter a string: \")\n",
    "def sentence_searcher(txt,str1):\n",
    "    txtLst=txt.split(\".\")\n",
    "    for i in txtLst:\n",
    "        if str1.lower() in i.lower():\n",
    "            return i.strip()+'.'\n",
    "    return ''\n",
    "sentence_searcher(txt,str1)"
   ]
  },
  {
   "cell_type": "code",
   "execution_count": 47,
   "id": "7cae9da4",
   "metadata": {},
   "outputs": [
    {
     "name": "stdout",
     "output_type": "stream",
     "text": [
      "Enter a number: 54210\n"
     ]
    },
    {
     "data": {
      "text/plain": [
       "'10 200 4000 50000'"
      ]
     },
     "execution_count": 47,
     "metadata": {},
     "output_type": "execute_result"
    }
   ],
   "source": [
    "# 3. Given a number, find the \"round \"of each digit of the number. An integer is called \"round\" if all \n",
    "# its digits except the leftmost (most significant) are equal to zero.\n",
    "#     - Round numbers: 4000, 1, 9, 800, 90\n",
    "#     - Not round numbers: 110, 707, 222, 1001\n",
    "# Create a function that takes a number and returns the \"round\" of each digit (except if the digit is zero) \n",
    "# as a string. Check out the following examples for more clarification.\n",
    "# Examples\n",
    "# sum_round(101) ➞ \"1 100\"\n",
    "# sum_round(1234) ➞ \"4 30 200 1000\"\n",
    "# sum_round(54210) ➞ \"10 200 4000 50000\"\n",
    "\n",
    "num=int(input(\"Enter a number: \"))\n",
    "def sum_round(num):\n",
    "    lst=[]\n",
    "    temp=num\n",
    "    while temp>0:\n",
    "        rem=temp%10\n",
    "        lst.append(rem)\n",
    "        temp=temp//10\n",
    "    lst=lst[::-1]\n",
    "    for i in range(len(lst)):\n",
    "        lst[-(i+1)]=lst[-(i+1)]*10**i\n",
    "    return ' '.join([str(i) for i in lst if i!=0][::-1])\n",
    "sum_round(num)"
   ]
  },
  {
   "cell_type": "code",
   "execution_count": 24,
   "id": "7b292794",
   "metadata": {},
   "outputs": [
    {
     "name": "stdout",
     "output_type": "stream",
     "text": [
      "Enter a number: 3\n"
     ]
    },
    {
     "data": {
      "text/plain": [
       "[[1, 2, 3], [2, 4, 6], [3, 6, 9]]"
      ]
     },
     "execution_count": 24,
     "metadata": {},
     "output_type": "execute_result"
    }
   ],
   "source": [
    "# 4. Your task, is to create N x N multiplication table, of size n provided in parameter.\n",
    "# For example, when n is 5, the multiplication table is:\n",
    "#    - 1, 2, 3, 4, 5\n",
    "#    - 2, 4, 6, 8, 10\n",
    "#    - 3, 6, 9, 12, 15\n",
    "#    - 4, 8, 12, 16, 20\n",
    "#    - 5, 10, 15, 20, 25\n",
    "# This example will result in:\n",
    "# [[1, 2, 3, 4, 5], [2, 4, 6, 8, 10], [3, 6, 9, 12, 15], [4, 8, 12, 16, 20], [5, 10, 15, 20, 25]]\n",
    "# Examples\n",
    "# multiplication_table(1) ➞ [[1]]\n",
    "# multiplication_table(3) ➞ [[1, 2, 3], [2, 4, 6], [3, 6, 9]]\n",
    "\n",
    "num=int(input(\"Enter a number: \"))\n",
    "def multiplication_table(num):\n",
    "    table=[]\n",
    "    for i in range(1,num+1):\n",
    "        innerLst=[]\n",
    "        for j in range(1,num+1):\n",
    "            innerLst.append(i*j)\n",
    "        table.append(innerLst)\n",
    "    return table\n",
    "multiplication_table(num)"
   ]
  },
  {
   "cell_type": "code",
   "execution_count": 32,
   "id": "f1d8f805",
   "metadata": {},
   "outputs": [
    {
     "name": "stdout",
     "output_type": "stream",
     "text": [
      "Enter comma seperated two strings: and frequently do?,you gotta move.\n"
     ]
    },
    {
     "data": {
      "text/plain": [
       "False"
      ]
     },
     "execution_count": 32,
     "metadata": {},
     "output_type": "execute_result"
    }
   ],
   "source": [
    "# 5. Create a function that returns True if two lines rhyme and False otherwise. For the purposes of this exercise, \n",
    "# two lines rhyme if the last word from each sentence contains the same vowels.\n",
    "# Examples\n",
    "# does_rhyme(\"Sam I am!\", \"Green eggs and ham.\") ➞ True\n",
    "# does_rhyme(\"Sam I am!\", \"Green eggs and HAM.\") ➞ True\n",
    "# # Capitalization and punctuation should not matter.\n",
    "# does_rhyme(\"You are off to the races\", \"a splendid day.\") ➞ False\n",
    "# does_rhyme(\"and frequently do?\", \"you gotta move.\") ➞ False\n",
    "\n",
    "str1,str2=input(\"Enter comma seperated two strings: \").split(\",\")\n",
    "def does_rhyme(str1,str2):\n",
    "    vowels='aeiou'\n",
    "    subStr1,subStr2=str1.split()[-1],str2.split()[-1]\n",
    "    return [i.lower() for i in subStr1 if i.lower() in vowels] == [i.lower() for i in subStr2 if i.lower() in vowels]\n",
    "does_rhyme(str1,str2)"
   ]
  }
 ],
 "metadata": {
  "kernelspec": {
   "display_name": "Python 3",
   "language": "python",
   "name": "python3"
  },
  "language_info": {
   "codemirror_mode": {
    "name": "ipython",
    "version": 3
   },
   "file_extension": ".py",
   "mimetype": "text/x-python",
   "name": "python",
   "nbconvert_exporter": "python",
   "pygments_lexer": "ipython3",
   "version": "3.8.8"
  }
 },
 "nbformat": 4,
 "nbformat_minor": 5
}
