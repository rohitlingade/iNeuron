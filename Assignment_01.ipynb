{
 "cells": [
  {
   "cell_type": "markdown",
   "id": "bde5ce9d",
   "metadata": {},
   "source": [
    "Q1. Describe how to link numerous sites to a VPC?\n",
    "\n",
    "ANS:\n",
    "\n",
    "Complete the steps below to establish network connectivity between resources in multiple VPCs so that:\n",
    "\n",
    "On-premises users can access resources from all VPCs across the VPN\n",
    "VPC resources cannot access resources in the other VPCs\n",
    "Resolution\n",
    "\n",
    "Create a transit gateway, and then attach your VPCs and a site-to-site VPN\n",
    "\n",
    "Create a transit gateway. \n",
    "Attach your VPCs to your transit gateway.\n",
    "Create a site-to-site VPN connection and attach it to your transit gateway.\n",
    "Notes:\n",
    "\n",
    "Disable the Default association route table setting when creating your transit gateway.\n",
    "To automatically propagate VPN routes to the transit gateway route table, choose Dynamic (requires Border Gateway Protocol) for Routing option."
   ]
  },
  {
   "cell_type": "markdown",
   "id": "9a8b181e",
   "metadata": {},
   "source": [
    "Q2. What is the difference between EBS and Instance Store, and how do you explain it?\n",
    "\n",
    "ANS:\n",
    "\n",
    "EBS volume is network attached drive which results in slow performance but data is persistent meaning even if you reboot the instance data will be there. Instance store instance store provides temporary block-level storage for your instance."
   ]
  },
  {
   "cell_type": "markdown",
   "id": "45321ad4",
   "metadata": {},
   "source": [
    "Q3. What are the different types of load balancers available in AWS?\n",
    "\n",
    "ANS:\n",
    "\n",
    "Elastic Load Balancing supports the following types of load balancers: Application Load Balancers, Network Load Balancers, and Classic Load Balancers. Amazon ECS services can use these types of load balancer."
   ]
  },
  {
   "cell_type": "markdown",
   "id": "e53ae63f",
   "metadata": {},
   "source": [
    "Q4. How does AWS IAM make a profit?\n",
    "\n",
    "ANS:\n",
    "\n",
    "Any AWS customer can use IAM. The service is offered at no additional charge. You will be charged only for the use of other AWS services by your users..You are charged only when you access other AWS services using your IAM users or AWS STS temporary security credentials. For information about the pricing of other AWS products, see the Amazon Web Services pricing page ."
   ]
  },
  {
   "cell_type": "markdown",
   "id": "a1667c9e",
   "metadata": {},
   "source": [
    "Q5. Demonstrate the DynamoDB support mechanism.\n",
    "\n",
    "ANS:\n",
    "\n",
    "DynamoDB uses hashing and B-trees to manage data. Upon entry, data is first distributed into different partitions by hashing on the partition key. Each partition can store up to 10GB of data and handle by default 1,000 write capacity units (WCU) and 3,000 read capacity units (RCU)."
   ]
  }
 ],
 "metadata": {
  "kernelspec": {
   "display_name": "Python 3",
   "language": "python",
   "name": "python3"
  },
  "language_info": {
   "codemirror_mode": {
    "name": "ipython",
    "version": 3
   },
   "file_extension": ".py",
   "mimetype": "text/x-python",
   "name": "python",
   "nbconvert_exporter": "python",
   "pygments_lexer": "ipython3",
   "version": "3.8.8"
  }
 },
 "nbformat": 4,
 "nbformat_minor": 5
}
