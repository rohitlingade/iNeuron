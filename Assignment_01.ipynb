{
 "cells": [
  {
   "cell_type": "markdown",
   "id": "d2e56cb9",
   "metadata": {},
   "source": [
    "Q1. What is cloud computing? What is Azure?\n",
    "\n",
    "ANS:\n",
    "\n",
    "Microsoft Azure is a cloud computing service from Microsoft. Azure offers a range of software as a service (SaaS), platform as a service (PaaS) and infrastructure as a service (IaaS) options for deploying applications and services on Microsoft-managed data center infrastructure."
   ]
  },
  {
   "cell_type": "markdown",
   "id": "b2521931",
   "metadata": {},
   "source": [
    "Q2. How to create an Azure account list the steps and requirements?\n",
    "\n",
    "ANS:\n",
    "\n",
    "1. Go to https://www.azure.com and click the green “Start free” button.\n",
    "2. Next, click another “Start free” button.\n",
    "3. If you already have an account with Microsoft, for example, Microsoft 365, you'll be prompted to log in.\n",
    "4. When you log in, some of your details may already be there."
   ]
  },
  {
   "cell_type": "markdown",
   "id": "fcbc02da",
   "metadata": {},
   "source": [
    "Q3. Describe different types of cloud models.\n",
    "\n",
    "ANS:\n",
    "\n",
    "There are 3 types of cloud computing: Infrastructure as a Service (IaaS), Platform as a Service (PaaS), and Software as a Service (SaaS). With IaaS, companies control their own computing, networking, and storing components without having to manage them on-premises physically."
   ]
  },
  {
   "cell_type": "markdown",
   "id": "a42bf37d",
   "metadata": {},
   "source": [
    "Q4. Describe different cloud services.\n",
    "\n",
    "ANS:\n",
    "\n",
    "There are 4 main types of cloud computing: private clouds, public clouds, hybrid clouds, and multiclouds. There are also 3 main types of cloud computing services: Infrastructure-as-a-Service (IaaS), Platforms-as-a-Service (PaaS), and Software-as-a-Service (SaaS)."
   ]
  },
  {
   "cell_type": "markdown",
   "id": "f277c862",
   "metadata": {},
   "source": [
    "Q5. What are some cloud computing advantages?\n",
    "\n",
    "ANS:\n",
    "\n",
    "Benefits of cloud computing: \n",
    "1. Reduced IT costs. Moving to cloud computing may reduce the cost of managing and maintaining your IT systems.\n",
    "2. Scalability.\n",
    "3. Business continuity.\n",
    "4. Collaboration efficiency.\n",
    "5. Flexibility of work practices.\n",
    "6. Access to automatic updates."
   ]
  },
  {
   "cell_type": "markdown",
   "id": "d28db190",
   "metadata": {},
   "source": [
    "Q6. Differentiate Capital expenses vs. operating expenses\n",
    "\n",
    "ANS:\n",
    "\n",
    "An operating expense (OpEx) is an expense required for the day-to-day functioning of a business. A capital expense (CapEx), on the other hand, is incurred to create a benefit in the future. They are long-term in nature and are generally used to acquire things like property, equipment, and technology."
   ]
  }
 ],
 "metadata": {
  "kernelspec": {
   "display_name": "Python 3",
   "language": "python",
   "name": "python3"
  },
  "language_info": {
   "codemirror_mode": {
    "name": "ipython",
    "version": 3
   },
   "file_extension": ".py",
   "mimetype": "text/x-python",
   "name": "python",
   "nbconvert_exporter": "python",
   "pygments_lexer": "ipython3",
   "version": "3.8.8"
  }
 },
 "nbformat": 4,
 "nbformat_minor": 5
}
