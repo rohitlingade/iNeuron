{
 "cells": [
  {
   "cell_type": "markdown",
   "id": "d4014b52",
   "metadata": {},
   "source": [
    "Q1. Write an SQL query to fetch “FIRST_NAME” from Worker table using the alias name as <WORKER_NAME>.\n",
    "\n",
    "ANS: SELECT FIRST_NAME AS WORKER_NAME FROM WORKER."
   ]
  },
  {
   "cell_type": "markdown",
   "id": "01ab48aa",
   "metadata": {},
   "source": [
    "Q2. Write an SQL query to fetch unique values of DEPARTMENT from Worker table.\n",
    "\n",
    "ANS: SELECT DISTINCT(DEPARTMENT) AS DEPARTMENTS FROM WORKER"
   ]
  },
  {
   "cell_type": "markdown",
   "id": "5f61dc10",
   "metadata": {},
   "source": [
    "Q3. Write an SQL query to show the last 5 record from a table.\n",
    "\n",
    "ANS: SELECT * FROM (SELECT TOP 5 * from TABLE ORDER BY ID DESC)ORDER BY ID ASC"
   ]
  }
 ],
 "metadata": {
  "kernelspec": {
   "display_name": "Python 3",
   "language": "python",
   "name": "python3"
  },
  "language_info": {
   "codemirror_mode": {
    "name": "ipython",
    "version": 3
   },
   "file_extension": ".py",
   "mimetype": "text/x-python",
   "name": "python",
   "nbconvert_exporter": "python",
   "pygments_lexer": "ipython3",
   "version": "3.8.8"
  }
 },
 "nbformat": 4,
 "nbformat_minor": 5
}
