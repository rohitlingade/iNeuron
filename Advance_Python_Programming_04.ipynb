{
 "cells": [
  {
   "cell_type": "code",
   "execution_count": 22,
   "id": "a3882f07",
   "metadata": {},
   "outputs": [
    {
     "name": "stdout",
     "output_type": "stream",
     "text": [
      "Enter a number: 50\n"
     ]
    },
    {
     "data": {
      "text/plain": [
       "12586269025"
      ]
     },
     "execution_count": 22,
     "metadata": {},
     "output_type": "execute_result"
    }
   ],
   "source": [
    "# 1. In mathematics, the Fibonacci numbers, commonly denoted Fn, form a sequence, called the Fibonacci sequence, \n",
    "# such that each number is the sum of the two preceding ones, starting from 0 and 1:\n",
    "# The beginning of the sequence is this:\n",
    "# 0, 1, 1, 2, 3, 5, 8, 13, 21, 34, 55, 89, 144, ...\n",
    "# The function fastFib(num) returns the fibonacci number Fn, of the given num as an argument.\n",
    "# Examples\n",
    "# fib_fast(5) ➞ 5\n",
    "# fib_fast(10) ➞ 55\n",
    "# fib_fast(20) ➞ 6765\n",
    "# fib_fast(50) ➞ 12586269025\n",
    "\n",
    "num=int(input(\"Enter a number: \"))\n",
    "def fib_fast(num):\n",
    "    a,b=0,1\n",
    "    if num==1 or num==2:\n",
    "        return 1\n",
    "    for i in range(num):\n",
    "        a,b=b,a+b\n",
    "    return a\n",
    "        \n",
    "fib_fast(num)"
   ]
  },
  {
   "cell_type": "code",
   "execution_count": 31,
   "id": "65100e79",
   "metadata": {},
   "outputs": [
    {
     "name": "stdout",
     "output_type": "stream",
     "text": [
      "Enter a string: Marty Poppinson\n"
     ]
    },
    {
     "data": {
      "text/plain": [
       "'4d 61 72 74 79 20 50 6f 70 70 69 6e 73 6f 6e'"
      ]
     },
     "execution_count": 31,
     "metadata": {},
     "output_type": "execute_result"
    }
   ],
   "source": [
    "# 2. Create a function that takes a strings characters as ASCII and returns each characters hexadecimal value as \n",
    "# a string.\n",
    "# Examples\n",
    "# convert_to_hex(\"hello world\") ➞ \"68 65 6c 6c 6f 20 77 6f 72 6c 64\"\n",
    "# convert_to_hex(\"Big Boi\") ➞ \"42 69 67 20 42 6f 69\"\n",
    "# convert_to_hex(\"Marty Poppinson\") ➞ \"4d 61 72 74 79 20 50 6f 70 70 69 6e 73 6f 6e\"\n",
    "\n",
    "str1=input(\"Enter a string: \")\n",
    "def convert_to_hex(str1):\n",
    "    hexStr=\"\"\n",
    "    for i in str1:\n",
    "        hexStr+=hex(ord(i))[2:]+\" \"\n",
    "    return hexStr.rstrip()\n",
    "convert_to_hex(str1)"
   ]
  },
  {
   "cell_type": "code",
   "execution_count": 40,
   "id": "a586d11c",
   "metadata": {},
   "outputs": [
    {
     "name": "stdout",
     "output_type": "stream",
     "text": [
      "Enter comma seperated strings: *PP*RC*S*,UEAE\n"
     ]
    },
    {
     "data": {
      "text/plain": [
       "'UPPERCASE'"
      ]
     },
     "execution_count": 40,
     "metadata": {},
     "output_type": "execute_result"
    }
   ],
   "source": [
    "# 3. Someone has attempted to censor my strings by replacing every vowel with a *, l*k* th*s. Luckily, \n",
    "# I've been able to find the vowels that were removed.\n",
    "# Given a censored string and a string of the censored vowels, return the original uncensored string.\n",
    "# Example\n",
    "# uncensor(\"Wh*r* d*d my v*w*ls g*?\", \"eeioeo\") ➞ \"Where did my vowels go?\"\n",
    "# uncensor(\"abcd\", \"\") ➞ \"abcd\"\n",
    "# uncensor(\"*PP*RC*S*\", \"UEAE\") ➞ \"UPPERCASE\"\n",
    "\n",
    "str1,str2=tuple(input(\"Enter comma seperated strings: \").split(\",\"))\n",
    "def uncensor(str1,str2):\n",
    "    j=0\n",
    "    uncensorStr=\"\"\n",
    "    for i in str1:\n",
    "        if i == \"*\":\n",
    "            uncensorStr+=str2[j]\n",
    "            j+=1\n",
    "        else:uncensorStr+=i\n",
    "    return uncensorStr\n",
    "uncensor(str1,str2)"
   ]
  },
  {
   "cell_type": "code",
   "execution_count": 9,
   "id": "f8537688",
   "metadata": {},
   "outputs": [
    {
     "name": "stdout",
     "output_type": "stream",
     "text": [
      "Enter IP Address: 8.8.4.4\n"
     ]
    },
    {
     "data": {
      "text/plain": [
       "'dns.google'"
      ]
     },
     "execution_count": 9,
     "metadata": {},
     "output_type": "execute_result"
    }
   ],
   "source": [
    "# 4. Write a function that takes an IP address and returns the domain name using PTR DNS records.\n",
    "# Example\n",
    "# get_domain(\"8.8.8.8\") ➞ \"dns.google\"\n",
    "# get_domain(\"8.8.4.4\") ➞ \"dns.google\"\n",
    "import socket\n",
    "ipadd=input(\"Enter IP Address: \")\n",
    "def get_domain(ip_address):\n",
    "    return list(socket.gethostbyaddr(ip_address))[0]\n",
    "get_domain(ipadd)"
   ]
  },
  {
   "cell_type": "code",
   "execution_count": 5,
   "id": "f382c113",
   "metadata": {},
   "outputs": [
    {
     "name": "stdout",
     "output_type": "stream",
     "text": [
      "Enter a number: 6\n"
     ]
    },
    {
     "data": {
      "text/plain": [
       "24883200"
      ]
     },
     "execution_count": 5,
     "metadata": {},
     "output_type": "execute_result"
    }
   ],
   "source": [
    "# 5. Create a function that takes an integer n and returns the factorial of factorials. \n",
    "# See below examples for a better understanding:\n",
    "# Examples\n",
    "# fact_of_fact(4) ➞ 288\n",
    "# # 4! * 3! * 2! * 1! = 288\n",
    "# fact_of_fact(5) ➞ 34560\n",
    "# fact_of_fact(6) ➞ 24883200\n",
    "\n",
    "num=int(input(\"Enter a number: \"))\n",
    "def fact(num):\n",
    "    if num==0 or num==1:\n",
    "        return 1\n",
    "    return num*fact(num-1)\n",
    "\n",
    "def fact_of_fact(num):\n",
    "    factOfFact=1\n",
    "    for i in range(1,num+1):\n",
    "        factOfFact*=fact(i)\n",
    "    return factOfFact.\n",
    "fact_of_fact(num)"
   ]
  }
 ],
 "metadata": {
  "kernelspec": {
   "display_name": "Python 3",
   "language": "python",
   "name": "python3"
  },
  "language_info": {
   "codemirror_mode": {
    "name": "ipython",
    "version": 3
   },
   "file_extension": ".py",
   "mimetype": "text/x-python",
   "name": "python",
   "nbconvert_exporter": "python",
   "pygments_lexer": "ipython3",
   "version": "3.8.8"
  }
 },
 "nbformat": 4,
 "nbformat_minor": 5
}
