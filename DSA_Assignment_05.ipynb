{
 "cells": [
  {
   "cell_type": "markdown",
   "id": "fae06226",
   "metadata": {},
   "source": [
    "Q1. What exactly is an application tree?\n",
    "\n",
    "ANS:\n",
    "    \n",
    "K-D Tree: A space partitioning tree used to organize points in K dimensional space. \n",
    "Tree : Used to implement dictionaries with prefix lookup. \n",
    "Suffix Tree : For quick pattern searching in a fixed text. \n",
    "Spanning Trees and shortest path trees are used in routers and bridges respectively in computer networks."
   ]
  },
  {
   "cell_type": "markdown",
   "id": "848a9743",
   "metadata": {},
   "source": [
    "Q2. What is pre-order tree traversal and how does it work?\n",
    "\n",
    "ANS:\n",
    "\n",
    "For example, we might wish to make sure that we visit any given node before we visit its children. This is called a preorder traversal.The first node printed is the root. Then all nodes of the left subtree are printed (in preorder) before any node of the right subtree."
   ]
  },
  {
   "cell_type": "markdown",
   "id": "460a19f7",
   "metadata": {},
   "source": [
    "Q3. What is the problem with the Hanoi Tower?\n",
    "\n",
    "ANS:\n",
    "\n",
    "The Tower of Hanoi is a famous problem which was posed by a French mathematician in 1883. What you need to do is move all the disks from the left hand post to the right hand post. You can only move the disks one at a time and you can never place a bigger disk on a smaller disk."
   ]
  },
  {
   "cell_type": "markdown",
   "id": "860a04a6",
   "metadata": {},
   "source": [
    "Q4. Can you explain the distinction between linear and nonlinear data structures?\n",
    "\n",
    "ANS:\n",
    "\n",
    "In a linear data structure, data elements are arranged in a linear order where each and every elements are attached to its previous and next adjacent. In a non-linear data structure, data elements are attached in hierarchically manner."
   ]
  },
  {
   "cell_type": "markdown",
   "id": "dfc6aaeb",
   "metadata": {},
   "source": [
    "Q5. What is the distinction between a list and an array?\n",
    "\n",
    "ANS:\n",
    "\n",
    "The main difference between these two data types is the operation you can perform on them. Also lists are containers for elements having differing data types but arrays are used as containers for elements of the same data type."
   ]
  }
 ],
 "metadata": {
  "kernelspec": {
   "display_name": "Python 3",
   "language": "python",
   "name": "python3"
  },
  "language_info": {
   "codemirror_mode": {
    "name": "ipython",
    "version": 3
   },
   "file_extension": ".py",
   "mimetype": "text/x-python",
   "name": "python",
   "nbconvert_exporter": "python",
   "pygments_lexer": "ipython3",
   "version": "3.8.8"
  }
 },
 "nbformat": 4,
 "nbformat_minor": 5
}
