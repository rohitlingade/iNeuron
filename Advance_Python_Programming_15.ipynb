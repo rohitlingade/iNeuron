{
 "cells": [
  {
   "cell_type": "code",
   "execution_count": 5,
   "id": "ee440b91",
   "metadata": {},
   "outputs": [
    {
     "name": "stdout",
     "output_type": "stream",
     "text": [
      "Enter a name: Jeff Goldblum\n",
      "Enter a list: [\"jog\", \"meld\", \"bluffs\"]\n"
     ]
    },
    {
     "data": {
      "text/plain": [
       "False"
      ]
     },
     "execution_count": 5,
     "metadata": {},
     "output_type": "execute_result"
    }
   ],
   "source": [
    "# 1. Write a function that returns True if a given name can generate an array of words.\n",
    "# Examples\n",
    "# anagram(\"Justin Bieber\", [\"injures\", \"ebb\", \"it\"]) ➞ True\n",
    "# anagram(\"Natalie Portman\", [\"ornamental\", \"pita\"]) ➞ True\n",
    "# anagram(\"Chris Pratt\", [\"chirps\", \"rat\"]) ➞ False\n",
    "# # Not all letters are used\n",
    "# anagram(\"Jeff Goldblum\", [\"jog\", \"meld\", \"bluffs\"]) ➞ False\n",
    "# # \"s\" does not exist in the original name\n",
    "\n",
    "name=input(\"Enter a name: \")\n",
    "lst=eval(input(\"Enter a list: \"))\n",
    "def anagram(name,lst1):\n",
    "    for i in lst1:\n",
    "        for j in i:\n",
    "            if j.lower() not in name.lower():\n",
    "                return False\n",
    "    return True\n",
    "anagram(name,lst)"
   ]
  },
  {
   "cell_type": "code",
   "execution_count": 8,
   "id": "d0fcc218",
   "metadata": {},
   "outputs": [
    {
     "name": "stdout",
     "output_type": "stream",
     "text": [
      "Enter a dictionery: [ { \"name\": \"a\", \"score\": 100, \"reputation\": 20 },  { \"name\": \"b\", \"score\": 90, \"reputation\": 40 },  { \"name\": \"c\", \"score\": 115, \"reputation\": 30 } ]\n"
     ]
    },
    {
     "data": {
      "text/plain": [
       "[{'name': 'c', 'score': 115, 'reputation': 30},\n",
       " {'name': 'b', 'score': 90, 'reputation': 40},\n",
       " {'name': 'a', 'score': 100, 'reputation': 20}]"
      ]
     },
     "execution_count": 8,
     "metadata": {},
     "output_type": "execute_result"
    }
   ],
   "source": [
    "# 2. Given an array of users, each defined by an object with the following properties: name, score, \n",
    "# reputation create a function that sorts the array to form the correct leaderboard.\n",
    "# The leaderboard takes into consideration the score of each user of course, but an emphasis is put \n",
    "# on their reputation in the community, so to get the trueScore, you should add the reputation multiplied by 2 \n",
    "# to the score.\n",
    "# Once you know the trueScore of each user, sort the array according to it in descending order.\n",
    "# Examples\n",
    "# leaderboards([\n",
    "#   { \"name\": \"a\", \"score\": 100, \"reputation\": 20 },\n",
    "#   { \"name\": \"b\", \"score\": 90, \"reputation\": 40 },\n",
    "#   { \"name\": \"c\", \"score\": 115, \"reputation\": 30 }\n",
    "# ]) ➞ [\n",
    "#   { \"name\": \"c\", \"score\": 115, \"reputation\": 30 },  # trueScore = 175\n",
    "#   { \"name\": \"b\", \"score\": 90, \"reputation\": 40 },   # trueScore = 170\n",
    "#   { \"name\": \"a\", \"score\": 100, \"reputation\": 20 }   # trueScore = 140\n",
    "# ]\n",
    "\n",
    "listofDicts=eval(input(\"Enter a dictionery: \"))\n",
    "def leaderboards(listofDicts):\n",
    "    listofDicts=sorted(listofDicts,key=lambda a:a['score']+a['reputation']*2,reverse=True)\n",
    "    return listofDicts\n",
    "leaderboards(listofDicts)"
   ]
  },
  {
   "cell_type": "code",
   "execution_count": 32,
   "id": "66147daa",
   "metadata": {},
   "outputs": [
    {
     "name": "stdout",
     "output_type": "stream",
     "text": [
      "Enter a string: He\"s a very naughty boy!\n",
      "Enter a list: [\"e\", \"a\", \"y\"]\n"
     ]
    },
    {
     "data": {
      "text/plain": [
       "'-e\"- a -e-y -a----y --y!'"
      ]
     },
     "execution_count": 32,
     "metadata": {},
     "output_type": "execute_result"
    }
   ],
   "source": [
    "# 3. Create a function that, given a phrase and a number of letters guessed, returns a string with \n",
    "# hyphens - for every letter of the phrase not guessed, and each letter guessed in place.\n",
    "# Examples\n",
    "# hangman(\"helicopter\", [\"o\", \"e\", \"s\"]) ➞ \"-e---o--e-\"\n",
    "# hangman(\"tree\", [\"r\", \"t\", \"e\"]) ➞ \"tree\"\n",
    "# hangman(\"Python rules\", [\"a\", \"n\", \"p\", \"r\", \"z\"]) ➞ \"P----n r----\"\n",
    "# hangman(\"He\"s a very naughty boy!\", [\"e\", \"a\", \"y\"]) ➞ \"-e\"- a -e-y -a----y –y!\"\n",
    "\n",
    "str1=input(\"Enter a string: \")\n",
    "lst1=eval(input(\"Enter a list: \"))\n",
    "def hangman(str1,lst1):\n",
    "    op=''\n",
    "    strLst=str1.split()\n",
    "    for i in range(len(strLst)):\n",
    "        for j in strLst[i]:\n",
    "            if j in \"'!@#$%\" or j in '\"' or j in ' ':\n",
    "                continue\n",
    "            elif j.lower() in lst1:\n",
    "                continue\n",
    "            else:\n",
    "                strLst[i]=strLst[i].replace(j,'-')\n",
    "    return ' '.join(strLst)\n",
    "hangman(str1,lst1)"
   ]
  },
  {
   "cell_type": "code",
   "execution_count": 11,
   "id": "f9dc7e1c",
   "metadata": {},
   "outputs": [
    {
     "name": "stdout",
     "output_type": "stream",
     "text": [
      "Enter a number: 85\n"
     ]
    },
    {
     "data": {
      "text/plain": [
       "[85, 256, 128, 64, 32, 16, 8, 4, 2, 1]"
      ]
     },
     "execution_count": 11,
     "metadata": {},
     "output_type": "execute_result"
    }
   ],
   "source": [
    "# 4. The Collatz sequence is as follows:\n",
    "#   - Start with some given integer n.\n",
    "#   - If it is even, the next number will be n divided by 2.\n",
    "#   - If it is odd, multiply it by 3 and add 1 to make the next number.\n",
    "#   - The sequence stops when it reaches 1.\n",
    "# According to the Collatz conjecture, it will always reach 1. If that's true, you can construct \n",
    "# a finite sequence following the aforementioned method for any given integer.\n",
    "# Write a function that takes in an integer n and returns the highest integer in the corresponding Collatz sequence.\n",
    "# Examples\n",
    "# max_collatz(10) ➞ 16\n",
    "# # Collatz sequence: 10, 5, 16, 8, 4, 2, 1\n",
    "# max_collatz(32) ➞ 32\n",
    "# # Collatz sequence: 32, 16, 8, 4, 2, 1\n",
    "# max_collatz(85) ➞ 256\n",
    "# # Collatz sequence: 85, 256, 128, 64, 32, 16, 8, 4, 2, 1\n",
    "\n",
    "num=int(input(\"Enter a number: \"))\n",
    "def max_collatz(num):\n",
    "    lst=[num]\n",
    "    while num!=1:\n",
    "        if num%2==0:\n",
    "            num//=2\n",
    "            lst.append(num)\n",
    "        else:\n",
    "            num=num*3+1\n",
    "            lst.append(num)\n",
    "    return lst\n",
    "max_collatz(num)"
   ]
  },
  {
   "cell_type": "code",
   "execution_count": 47,
   "id": "411e5c61",
   "metadata": {},
   "outputs": [
    {
     "name": "stdout",
     "output_type": "stream",
     "text": [
      "Enter a list of numbers: [53219, 3772, 564, 32, 1]\n"
     ]
    },
    {
     "data": {
      "text/plain": [
       "[53219, 3772, 564, 32, 1]"
      ]
     },
     "execution_count": 47,
     "metadata": {},
     "output_type": "execute_result"
    }
   ],
   "source": [
    "# 5. Write a function that sorts a list of integers by their digit length in descending order, \n",
    "# then settles ties by sorting numbers with the same digit length in ascending order.\n",
    "# Examples\n",
    "# digit_sort([77, 23, 5, 7, 101])\n",
    "# ➞ [101, 23, 77, 5, 7]\n",
    "# digit_sort([1, 5, 9, 2, 789, 563, 444])\n",
    "# ➞ [444, 563, 789, 1, 2, 5, 9]\n",
    "# digit_sort([53219, 3772, 564, 32, 1])\n",
    "# ➞ [53219, 3772, 564, 32, 1]\n",
    "lst=eval(input(\"Enter a list of numbers: \"))\n",
    "def digit_sort(lst):\n",
    "    lst=sorted(lst,key=lambda a: len(str(a)),reverse=True)\n",
    "    for i in range(len(lst)):\n",
    "        for i in range(len(lst)-1):\n",
    "            if len(str(lst[i]))==len(str(lst[i+1])) and lst[i]>lst[i+1]:\n",
    "                lst[i],lst[i+1]=lst[i+1],lst[i]\n",
    "    return lst\n",
    "digit_sort(lst)"
   ]
  }
 ],
 "metadata": {
  "kernelspec": {
   "display_name": "Python 3",
   "language": "python",
   "name": "python3"
  },
  "language_info": {
   "codemirror_mode": {
    "name": "ipython",
    "version": 3
   },
   "file_extension": ".py",
   "mimetype": "text/x-python",
   "name": "python",
   "nbconvert_exporter": "python",
   "pygments_lexer": "ipython3",
   "version": "3.8.8"
  }
 },
 "nbformat": 4,
 "nbformat_minor": 5
}
