{
 "cells": [
  {
   "cell_type": "markdown",
   "id": "886c5094",
   "metadata": {},
   "source": [
    "Q1. Why are functions advantageous to have in your programs?\n",
    "\n",
    "ANS:\n",
    "\n",
    "Functions are group of statement or code that performs specific task repetatively if needed. It reduces the redundency of code and reduces the length of the code also."
   ]
  },
  {
   "cell_type": "markdown",
   "id": "eec6d362",
   "metadata": {},
   "source": [
    "Q2. When does the code in a function run: when it's specified or when it's called?\n",
    "\n",
    "ANS:\n",
    "\n",
    "Code in the function run when its called. In function definition it the function is specified. Functions are called by functionName(). "
   ]
  },
  {
   "cell_type": "markdown",
   "id": "07dd6af3",
   "metadata": {},
   "source": [
    "Q3. What statement creates a function?\n",
    "\n",
    "ANS:\n",
    "\n",
    "Function blocks begin with the keyword def followed by the function name and parentheses ( ) and :"
   ]
  },
  {
   "cell_type": "markdown",
   "id": "c5a77414",
   "metadata": {},
   "source": [
    "Q4. What is the difference between a function and a function call?\n",
    "\n",
    "ANS:\n",
    "\n",
    "function      : here comes the definition of the function which includes actual code of the function.\n",
    "function call : defined function is called here, in order to performs the task specified in the function."
   ]
  },
  {
   "cell_type": "markdown",
   "id": "170e56a2",
   "metadata": {},
   "source": [
    "Q5. How many global scopes are there in a Python program? How many local scopes?\n",
    "\n",
    "ANS:\n",
    "\n",
    "There are four different scopes in the python: local, enclosing, global and built-in.\n",
    "eg.\n",
    "#Global scope\n",
    "x=0\n",
    "def outer():\n",
    "    #Enclosed Scope\n",
    "    x=1\n",
    "    def inner():\n",
    "        #Local Scope\n",
    "        x=2"
   ]
  },
  {
   "cell_type": "markdown",
   "id": "c2cb747f",
   "metadata": {},
   "source": [
    "Q6. What happens to variables in a local scope when the function call returns?\n",
    "\n",
    "ANS:\n",
    "\n",
    "\n",
    "When the execution of the function returns, the local variables are destroyed."
   ]
  },
  {
   "cell_type": "markdown",
   "id": "b0fa1039",
   "metadata": {},
   "source": [
    "Q7. What is the concept of a return value? Is it possible to have a return value in an expression?\n",
    "\n",
    "ANS:\n",
    "\n",
    "Return, terminates the function returning a value to the variable where it is called."
   ]
  },
  {
   "cell_type": "markdown",
   "id": "01d454b6",
   "metadata": {},
   "source": [
    "Q8. If a function does not have a return statement, what is the return value of a call to that function?\n",
    "\n",
    "ANS:\n",
    "\n",
    "If a function does not have return sattement then the return type is None type."
   ]
  },
  {
   "cell_type": "markdown",
   "id": "2d7290ec",
   "metadata": {},
   "source": [
    "Q9. How do you make a function variable refer to the global variable?\n",
    "\n",
    "ANS:\n",
    "\n",
    "by specifying the variable as a global variable.\n",
    "eg.\n",
    "global varaible_name"
   ]
  },
  {
   "cell_type": "markdown",
   "id": "3f7501f0",
   "metadata": {},
   "source": [
    "Q10. What is the data type of None?\n",
    "\n",
    "ANS:\n",
    "\n",
    "In Python, None keyword is an object, and it is a data type of the class NoneType"
   ]
  },
  {
   "cell_type": "markdown",
   "id": "c2811f8f",
   "metadata": {},
   "source": [
    "Q11. What does the sentence import areallyourpetsnamederic do?\n",
    "\n",
    "ANS:\n",
    "\n",
    "import areallyourpetsnamederic --> It imports the library areallyourpetsnamederic to the current file."
   ]
  },
  {
   "cell_type": "markdown",
   "id": "b877d390",
   "metadata": {},
   "source": [
    "Q12. If you had a bacon() feature in a spam module, what would you call it after importing spam?\n",
    "\n",
    "\n",
    "ANS:\n",
    "\n",
    "-from spam import bacon\n",
    "-import spam\n",
    " spam.bacon()"
   ]
  },
  {
   "cell_type": "markdown",
   "id": "8010272d",
   "metadata": {},
   "source": [
    "Q13. What can you do to save a programme from crashing if it encounters an error?\n",
    "\n",
    "ANS:\n",
    "\n",
    "we can use try-except block to handle the errors."
   ]
  },
  {
   "cell_type": "markdown",
   "id": "0531fb37",
   "metadata": {},
   "source": [
    "Q14. What is the purpose of the try clause? What is the purpose of the except clause?\n",
    "\n",
    "ANS:\n",
    "\n",
    "try clause()   : it executes the code which we have to test.\n",
    "except clause(): if there is any error in the try block, it will goes to the except clause"
   ]
  }
 ],
 "metadata": {
  "kernelspec": {
   "display_name": "Python 3",
   "language": "python",
   "name": "python3"
  },
  "language_info": {
   "codemirror_mode": {
    "name": "ipython",
    "version": 3
   },
   "file_extension": ".py",
   "mimetype": "text/x-python",
   "name": "python",
   "nbconvert_exporter": "python",
   "pygments_lexer": "ipython3",
   "version": "3.8.8"
  }
 },
 "nbformat": 4,
 "nbformat_minor": 5
}
