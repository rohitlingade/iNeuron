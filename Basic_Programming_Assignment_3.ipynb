{
 "cells": [
  {
   "cell_type": "raw",
   "id": "5e7ae460",
   "metadata": {},
   "source": [
    "1.\tWrite a Python Program to Check if a Number is Positive, Negative or Zero?"
   ]
  },
  {
   "cell_type": "code",
   "execution_count": 3,
   "id": "1aa4fa1c",
   "metadata": {},
   "outputs": [
    {
     "name": "stdout",
     "output_type": "stream",
     "text": [
      "Enter any number: 0\n",
      "The number is zero.\n"
     ]
    }
   ],
   "source": [
    "num= int(input(\"Enter any number: \"))\n",
    "if num==0:\n",
    "    print(\"The number is Zero.\")\n",
    "elif num<0:\n",
    "    print(\"The number is Negative.\")\n",
    "else:\n",
    "    print(\"The number is Positive.\")"
   ]
  },
  {
   "cell_type": "raw",
   "id": "3ac52a68",
   "metadata": {},
   "source": [
    "2.\tWrite a Python Program to Check if a Number is Odd or Even?"
   ]
  },
  {
   "cell_type": "code",
   "execution_count": 6,
   "id": "a42a0a13",
   "metadata": {},
   "outputs": [
    {
     "name": "stdout",
     "output_type": "stream",
     "text": [
      "Enter any number: 1\n",
      "The number is Odd.\n"
     ]
    }
   ],
   "source": [
    "num= int(input(\"Enter any number: \"))\n",
    "if num%2==0:\n",
    "    print(\"The number is Even.\")\n",
    "else:\n",
    "    print(\"The number is Odd.\")"
   ]
  },
  {
   "cell_type": "raw",
   "id": "d7ae1626",
   "metadata": {},
   "source": [
    "3.\tWrite a Python Program to Check Leap Year?"
   ]
  },
  {
   "cell_type": "code",
   "execution_count": 21,
   "id": "bd35d59f",
   "metadata": {},
   "outputs": [
    {
     "data": {
      "text/plain": [
       "False"
      ]
     },
     "execution_count": 21,
     "metadata": {},
     "output_type": "execute_result"
    }
   ],
   "source": [
    "def isLeap(yr):\n",
    "    if yr%400==0:\n",
    "        return True\n",
    "    elif yr%100==0:\n",
    "        return False\n",
    "    else:\n",
    "        if yr%4==0:\n",
    "            return True\n",
    "        return False\n",
    "    \n",
    "isLeap(2100)"
   ]
  },
  {
   "cell_type": "raw",
   "id": "fdc697b0",
   "metadata": {},
   "source": [
    "4.\tWrite a Python Program to Check Prime Number?"
   ]
  },
  {
   "cell_type": "code",
   "execution_count": 14,
   "id": "e193d35e",
   "metadata": {},
   "outputs": [
    {
     "data": {
      "text/plain": [
       "False"
      ]
     },
     "execution_count": 14,
     "metadata": {},
     "output_type": "execute_result"
    }
   ],
   "source": [
    "def isPrimeNumber(num):\n",
    "    if num==2:\n",
    "        return True\n",
    "    count=0\n",
    "    for i in range(1,num//2+1):\n",
    "        if num%i==0:\n",
    "            count+=1\n",
    "    if count==1:\n",
    "        return True\n",
    "    return False\n",
    "isPrimeNumber(4)"
   ]
  },
  {
   "cell_type": "raw",
   "id": "c036876c",
   "metadata": {},
   "source": [
    "5.\tWrite a Python Program to Print all Prime Numbers in an Interval of 1-10000?"
   ]
  },
  {
   "cell_type": "code",
   "execution_count": 16,
   "id": "d5492fe7",
   "metadata": {},
   "outputs": [
    {
     "data": {
      "text/plain": [
       "1229"
      ]
     },
     "execution_count": 16,
     "metadata": {},
     "output_type": "execute_result"
    }
   ],
   "source": [
    "prime_list=[]\n",
    "for i in range(1,10001):\n",
    "    if isPrimeNumber(i):\n",
    "        prime_list.append(i)\n",
    "prime_list\n",
    "len(prime_list)"
   ]
  },
  {
   "cell_type": "code",
   "execution_count": null,
   "id": "a6267ddf",
   "metadata": {},
   "outputs": [],
   "source": []
  }
 ],
 "metadata": {
  "kernelspec": {
   "display_name": "Python 3",
   "language": "python",
   "name": "python3"
  },
  "language_info": {
   "codemirror_mode": {
    "name": "ipython",
    "version": 3
   },
   "file_extension": ".py",
   "mimetype": "text/x-python",
   "name": "python",
   "nbconvert_exporter": "python",
   "pygments_lexer": "ipython3",
   "version": "3.8.8"
  }
 },
 "nbformat": 4,
 "nbformat_minor": 5
}
