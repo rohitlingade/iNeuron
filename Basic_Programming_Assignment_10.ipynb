{
 "cells": [
  {
   "cell_type": "code",
   "execution_count": 1,
   "id": "a16b4beb",
   "metadata": {},
   "outputs": [
    {
     "data": {
      "text/plain": [
       "1015"
      ]
     },
     "execution_count": 1,
     "metadata": {},
     "output_type": "execute_result"
    }
   ],
   "source": [
    "# 1.\tWrite a Python program to find sum of elements in list?\n",
    "\n",
    "lst=[34,25,345,546,65]\n",
    "sum(lst)"
   ]
  },
  {
   "cell_type": "code",
   "execution_count": 2,
   "id": "09f2abf8",
   "metadata": {},
   "outputs": [
    {
     "data": {
      "text/plain": [
       "10407442500"
      ]
     },
     "execution_count": 2,
     "metadata": {},
     "output_type": "execute_result"
    }
   ],
   "source": [
    "# 2.\tWrite a Python program to  Multiply all numbers in the list?\n",
    "lst=[3,2,5,6,5]\n",
    "mul=1\n",
    "for i in lst:\n",
    "    mul*=i\n",
    "mul"
   ]
  },
  {
   "cell_type": "code",
   "execution_count": 3,
   "id": "727eef8f",
   "metadata": {},
   "outputs": [
    {
     "data": {
      "text/plain": [
       "25"
      ]
     },
     "execution_count": 3,
     "metadata": {},
     "output_type": "execute_result"
    }
   ],
   "source": [
    "# 3.\tWrite a Python program to find smallest number in a list?\n",
    "lst=[34,25,345,546,65]\n",
    "min(lst)"
   ]
  },
  {
   "cell_type": "code",
   "execution_count": 4,
   "id": "bc000c5b",
   "metadata": {},
   "outputs": [
    {
     "data": {
      "text/plain": [
       "546"
      ]
     },
     "execution_count": 4,
     "metadata": {},
     "output_type": "execute_result"
    }
   ],
   "source": [
    "# 4.\tWrite a Python program to find largest number in a list?\n",
    "lst=[34,25,345,546,65]\n",
    "max(lst)"
   ]
  },
  {
   "cell_type": "code",
   "execution_count": 11,
   "id": "c8b0cd73",
   "metadata": {},
   "outputs": [
    {
     "data": {
      "text/plain": [
       "345"
      ]
     },
     "execution_count": 11,
     "metadata": {},
     "output_type": "execute_result"
    }
   ],
   "source": [
    "# 5.\tWrite a Python program to find second largest number in a list?\n",
    "lst=[34,25,345,546,65]\n",
    "lst.sort(reverse=True)\n",
    "lst[1]"
   ]
  },
  {
   "cell_type": "code",
   "execution_count": 14,
   "id": "1d4b0dac",
   "metadata": {},
   "outputs": [
    {
     "name": "stdout",
     "output_type": "stream",
     "text": [
      "Enter number less than or equal to length of list: 3\n"
     ]
    },
    {
     "data": {
      "text/plain": [
       "[546, 345, 65]"
      ]
     },
     "execution_count": 14,
     "metadata": {},
     "output_type": "execute_result"
    }
   ],
   "source": [
    "# 6.\tWrite a Python program to find N largest elements from a list?\n",
    "nth=int(input(\"Enter number less than or equal to length of list: \"))\n",
    "lst=[34,25,345,546,65]\n",
    "lst.sort(reverse=True)\n",
    "lst[:nth]"
   ]
  },
  {
   "cell_type": "code",
   "execution_count": 5,
   "id": "ebf13121",
   "metadata": {},
   "outputs": [
    {
     "name": "stdout",
     "output_type": "stream",
     "text": [
      "34 546 "
     ]
    }
   ],
   "source": [
    "# 7.\tWrite a Python program to print even numbers in a list?\n",
    "lst=[34,25,345,546,65]\n",
    "for i in lst:\n",
    "    if i%2==0:\n",
    "        print(i,end=\" \")"
   ]
  },
  {
   "cell_type": "code",
   "execution_count": 6,
   "id": "416cef02",
   "metadata": {},
   "outputs": [
    {
     "name": "stdout",
     "output_type": "stream",
     "text": [
      "25 345 65 "
     ]
    }
   ],
   "source": [
    "# 8.\tWrite a Python program to print odd numbers in a List?\n",
    "lst=[34,25,345,546,65]\n",
    "for i in lst:\n",
    "    if i%2!=0:\n",
    "        print(i,end=\" \")"
   ]
  },
  {
   "cell_type": "code",
   "execution_count": 8,
   "id": "229257cc",
   "metadata": {},
   "outputs": [
    {
     "data": {
      "text/plain": [
       "[34, 25, 345, 546, [65]]"
      ]
     },
     "execution_count": 8,
     "metadata": {},
     "output_type": "execute_result"
    }
   ],
   "source": [
    "# 9.\tWrite a Python program to Remove empty List from List?\n",
    "lst=[34,25,345,[],546,[65]]\n",
    "for i in lst:\n",
    "    if type(i) is list:\n",
    "        if len(i)==0:\n",
    "            lst.remove(i)\n",
    "lst    "
   ]
  },
  {
   "cell_type": "code",
   "execution_count": 13,
   "id": "b7dbc27a",
   "metadata": {},
   "outputs": [
    {
     "data": {
      "text/plain": [
       "([34, 25, 345, 546, 65], [34, 25, 345, 546, 65])"
      ]
     },
     "execution_count": 13,
     "metadata": {},
     "output_type": "execute_result"
    }
   ],
   "source": [
    "# 10.\tWrite a Python program to Cloning or Copying a list?\n",
    "\n",
    "#There is copy and deep copy function which again works differently in case of multi dimentional lists.\n",
    "lst=[34,25,345,546,65]\n",
    "lst2=lst[:]\n",
    "lst3=lst.copy()\n",
    "lst2,lst3"
   ]
  },
  {
   "cell_type": "code",
   "execution_count": 9,
   "id": "f2beab56",
   "metadata": {},
   "outputs": [
    {
     "data": {
      "text/plain": [
       "1"
      ]
     },
     "execution_count": 9,
     "metadata": {},
     "output_type": "execute_result"
    }
   ],
   "source": [
    "# 11.\tWrite a Python program to Count occurrences of an element in a list?\n",
    "\n",
    "lst=[34,25,345,[],546,[65],\"pune\",\"bengalore\",\"mumbai\",\"delhi\",\"kolkata\"]\n",
    "lst.count(\"pune\")"
   ]
  }
 ],
 "metadata": {
  "kernelspec": {
   "display_name": "Python 3",
   "language": "python",
   "name": "python3"
  },
  "language_info": {
   "codemirror_mode": {
    "name": "ipython",
    "version": 3
   },
   "file_extension": ".py",
   "mimetype": "text/x-python",
   "name": "python",
   "nbconvert_exporter": "python",
   "pygments_lexer": "ipython3",
   "version": "3.8.8"
  }
 },
 "nbformat": 4,
 "nbformat_minor": 5
}
