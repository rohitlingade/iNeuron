{
 "cells": [
  {
   "cell_type": "code",
   "execution_count": 2,
   "id": "95bc2273",
   "metadata": {},
   "outputs": [
    {
     "name": "stdout",
     "output_type": "stream",
     "text": [
      "Enter the length: 4\n"
     ]
    },
    {
     "data": {
      "text/plain": [
       "['Hello', 'Ineuron', 'Stack', 'Science', 'Program']"
      ]
     },
     "execution_count": 2,
     "metadata": {},
     "output_type": "execute_result"
    }
   ],
   "source": [
    "# 1.\tWrite a Python program to find words which are greater than given length k?\n",
    "\n",
    "num=int(input(\"Enter the length: \"))\n",
    "str1=\"Hello, this is Ineuron Full Stack Data Science Program.\"\n",
    "str2=\"\"\n",
    "for i in str1:\n",
    "    if i not in (\",\",\".\"):\n",
    "        str2+=i\n",
    "lst1=str2.split()\n",
    "[i for i in lst1 if len(i)>num]"
   ]
  },
  {
   "cell_type": "code",
   "execution_count": 3,
   "id": "2d2b3e44",
   "metadata": {},
   "outputs": [
    {
     "name": "stdout",
     "output_type": "stream",
     "text": [
      "Enter the position: 8\n"
     ]
    },
    {
     "data": {
      "text/plain": [
       "'Hello, his is Ineuron Full Stack Data Science Program.'"
      ]
     },
     "execution_count": 3,
     "metadata": {},
     "output_type": "execute_result"
    }
   ],
   "source": [
    "# 2.\tWrite a Python program for removing i-th character from a string?\n",
    "ind=int(input(\"Enter the position: \"))\n",
    "str1=\"Hello, this is Ineuron Full Stack Data Science Program.\"\n",
    "new_str=''\n",
    "for i in range(len(str1)):\n",
    "    if i==ind-1:\n",
    "        continue\n",
    "    new_str+=str1[i]\n",
    "new_str"
   ]
  },
  {
   "cell_type": "code",
   "execution_count": 4,
   "id": "f3d0a043",
   "metadata": {},
   "outputs": [
    {
     "data": {
      "text/plain": [
       "'Hello,-this-is-Ineuron-Full-Stack-Data-Science-Program.'"
      ]
     },
     "execution_count": 4,
     "metadata": {},
     "output_type": "execute_result"
    }
   ],
   "source": [
    "# 3.\tWrite a Python program to split and join a string?\n",
    "str1=\"Hello, this is Ineuron Full Stack Data Science Program.\"\n",
    "\"-\".join(str1.split())"
   ]
  },
  {
   "cell_type": "code",
   "execution_count": 13,
   "id": "62e02566",
   "metadata": {},
   "outputs": [
    {
     "name": "stdout",
     "output_type": "stream",
     "text": [
      "Binary String\n"
     ]
    }
   ],
   "source": [
    "# 4.\tWrite a Python program to check if a given string is binary string or not?\n",
    "str1=\"101010010110\"\n",
    "for i in str1:\n",
    "    if i in (\"1\",\"0\"):continue\n",
    "    else:\n",
    "        print(\"Not a binary string.\")\n",
    "        break\n",
    "else:print(\"Binary String\")"
   ]
  },
  {
   "cell_type": "code",
   "execution_count": 5,
   "id": "3032f172",
   "metadata": {},
   "outputs": [
    {
     "data": {
      "text/plain": [
       "['Ineuron', 'Full', 'Stack', 'Data', 'Science', 'Program', 'Rohit']"
      ]
     },
     "execution_count": 5,
     "metadata": {},
     "output_type": "execute_result"
    }
   ],
   "source": [
    "# 5.\tWrite a Python program to find uncommon words from two Strings?\n",
    "str1=\"Hello this is Ineuron Full Stack Data Science Program\"\n",
    "str2=\"Hello this is Rohit\"\n",
    "def uncommonWords(str1,str2):\n",
    "    counts={}\n",
    "    for word in str1.split():\n",
    "        counts[word]=counts.get(word,0)+1\n",
    "    for word in str2.split():\n",
    "        counts[word]=counts.get(word,0)+1\n",
    "    return [word for word in counts if counts[word]==1]\n",
    "uncommonWords(str1,str2)"
   ]
  },
  {
   "cell_type": "code",
   "execution_count": 6,
   "id": "da12c5c6",
   "metadata": {},
   "outputs": [
    {
     "data": {
      "text/plain": [
       "['l', 'o', 't', 'h', 'i', 's']"
      ]
     },
     "execution_count": 6,
     "metadata": {},
     "output_type": "execute_result"
    }
   ],
   "source": [
    "# 6.\tWrite a Python program to find all duplicate characters in string?\n",
    "str1=\"Hello this is Rohit\"\n",
    "def duplicateChars(str1):\n",
    "    duplicate={}\n",
    "    for i in list(str1):\n",
    "        if i != \" \":\n",
    "            duplicate[i]=duplicate.get(i,0)+1\n",
    "    return [char for char in duplicate if duplicate[char]>1]\n",
    "duplicateChars(str1)"
   ]
  },
  {
   "cell_type": "code",
   "execution_count": 11,
   "id": "cec6f971",
   "metadata": {},
   "outputs": [
    {
     "name": "stdout",
     "output_type": "stream",
     "text": [
      "Contains special Character.\n"
     ]
    }
   ],
   "source": [
    "# 7.\tWrite a Python Program to check if a string contains any special character?\n",
    "splChars=\"[@_!#$%^&*()<>?/|}{~:]\"\n",
    "str1=\"Hello! this is Rohit\"\n",
    "for i in str1:\n",
    "    if i in splChars:\n",
    "        print(\"Contains special Character.\")\n",
    "        break\n",
    "else:print(\"Does not Contains special Character.\")"
   ]
  }
 ],
 "metadata": {
  "kernelspec": {
   "display_name": "Python 3",
   "language": "python",
   "name": "python3"
  },
  "language_info": {
   "codemirror_mode": {
    "name": "ipython",
    "version": 3
   },
   "file_extension": ".py",
   "mimetype": "text/x-python",
   "name": "python",
   "nbconvert_exporter": "python",
   "pygments_lexer": "ipython3",
   "version": "3.8.8"
  }
 },
 "nbformat": 4,
 "nbformat_minor": 5
}
