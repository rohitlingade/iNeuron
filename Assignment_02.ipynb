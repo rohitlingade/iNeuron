{
 "cells": [
  {
   "cell_type": "markdown",
   "id": "af7df959",
   "metadata": {},
   "source": [
    "Q1. What is serverless computing?\n",
    "\n",
    "ANS:\n",
    "\n",
    "Serverless computing is a method of providing backend services on an as-used basis. A serverless provider allows users to write and deploy code without the hassle of worrying about the underlying infrastructure. A company that gets backend services from a serverless vendor is charged based on their computation and do not have to reserve and pay for a fixed amount of bandwidth or number of servers, as the service is auto-scaling. Note that despite the name serverless, physical servers are still used but developers do not need to be aware of them."
   ]
  },
  {
   "cell_type": "markdown",
   "id": "065b973e",
   "metadata": {},
   "source": [
    "Q2. Explain Azure subscriptions, management groups and resources.\n",
    "\n",
    "ANS:\n",
    "\n",
    "Azure management groups help you manage your Azure subscriptions by grouping them together. If your organization has many subscriptions, you might need a way to efficiently manage access, policies, and compliance for those subscriptions. A resource group includes those resources that you want to manage as a group."
   ]
  },
  {
   "cell_type": "markdown",
   "id": "0abf8d32",
   "metadata": {},
   "source": [
    "Q3. Explain Azure regions, availability zones, and region pairs.\n",
    "\n",
    "ANS:\n",
    "\n",
    "An Availability Zone is made up of one or more datacenters. So the point is, an Azure region contains one or more datacenters or 3 or more availability zones if enabled. Most regions in a geography are paired to ensure business continuity and disaster recovery (BCDR)."
   ]
  },
  {
   "cell_type": "markdown",
   "id": "db6a8d66",
   "metadata": {},
   "source": [
    "Q4. Explain Azure Resource Manager, Azure subscription and management group.\n",
    "\n",
    "ANS:\n",
    "\n",
    "Resource Manager groups are containers that hold related resources for an Azure solution. A resource group includes those resources that you want to manage as a group. You decide which resources belong in a resource group based on what makes the most sense for your organization.\n",
    "\n",
    "Azure subscriptions help you organize access to Azure resources and determine how resource usage is reported, billed, and paid for. Each subscription can have a different billing and payment setup, so you can have different subscriptions and plans by office, department, project, and so on.\n",
    "\n",
    "Azure management groups help you manage your Azure subscriptions by grouping them together. If your organization has many subscriptions, you might need a way to efficiently manage access, policies, and compliance for those subscriptions. Azure management groups provide a level of scope above subscriptions."
   ]
  },
  {
   "cell_type": "markdown",
   "id": "7fc49785",
   "metadata": {},
   "source": [
    "Q5. Provide overview of Azure Compute Services.\n",
    "\n",
    "ANS:\n",
    "\n",
    "Azure compute services are the hosting services responsible for hosting and running the application workloads. These include Azure Virtual Machines (VMs), Azure Container Service, Azure App Services, Azure Batch, and Azure ServiceFabric."
   ]
  },
  {
   "cell_type": "markdown",
   "id": "9a4331a0",
   "metadata": {},
   "source": [
    "Q6. What is an Azure virtual machine and when to opt for an Azure virtual machine?\n",
    "\n",
    "ANS:\n",
    "\n",
    "Azure Virtual Machines (VM) is one of several types of on-demand, scalable computing resources that Azure offers. Typically, you choose a VM when you need more control over the computing environment than the other choices offer. Azure virtual machines can be used in various ways."
   ]
  }
 ],
 "metadata": {
  "kernelspec": {
   "display_name": "Python 3",
   "language": "python",
   "name": "python3"
  },
  "language_info": {
   "codemirror_mode": {
    "name": "ipython",
    "version": 3
   },
   "file_extension": ".py",
   "mimetype": "text/x-python",
   "name": "python",
   "nbconvert_exporter": "python",
   "pygments_lexer": "ipython3",
   "version": "3.8.8"
  }
 },
 "nbformat": 4,
 "nbformat_minor": 5
}
