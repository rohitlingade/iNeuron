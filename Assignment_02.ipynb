{
 "cells": [
  {
   "cell_type": "markdown",
   "id": "f77d7a71",
   "metadata": {},
   "source": [
    "Q-1. Write an SQL query to print the first three characters of  FIRST_NAME from Worker table.\n",
    "\n",
    "ANS:\n",
    "\n",
    "SELECT SUBSTR(FIRST_NAME,1,3) AS SHORT_NAME FROM WORKER"
   ]
  },
  {
   "cell_type": "markdown",
   "id": "5ca2371c",
   "metadata": {},
   "source": [
    "Q-2. Write an SQL query to find the position of the alphabet (‘a’) in the first name column ‘Amitabh’ from Worker table.\n",
    "\n",
    "ANS:\n",
    "\n",
    "SELECT CHARINDEX('a', 'Amitabh') AS IDEX;"
   ]
  },
  {
   "cell_type": "markdown",
   "id": "a85539b2",
   "metadata": {},
   "source": [
    "Q-3. Write an SQL query to print the name of employees having the highest salary in each department.\n",
    "\n",
    "ANS:\n",
    "\n",
    "SELECT FIRST_NAME FROM WORKER WHERE SALARY=MAX(SALARY) GROUP BY DEPERTMENT\n"
   ]
  }
 ],
 "metadata": {
  "kernelspec": {
   "display_name": "Python 3",
   "language": "python",
   "name": "python3"
  },
  "language_info": {
   "codemirror_mode": {
    "name": "ipython",
    "version": 3
   },
   "file_extension": ".py",
   "mimetype": "text/x-python",
   "name": "python",
   "nbconvert_exporter": "python",
   "pygments_lexer": "ipython3",
   "version": "3.8.8"
  }
 },
 "nbformat": 4,
 "nbformat_minor": 5
}
