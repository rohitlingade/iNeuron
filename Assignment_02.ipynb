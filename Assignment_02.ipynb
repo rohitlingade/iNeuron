{
 "cells": [
  {
   "cell_type": "markdown",
   "id": "c1fbe9bf",
   "metadata": {},
   "source": [
    "Q1. Describe the significance of AWS.\n",
    "\n",
    "ANS:\n",
    "    \n",
    "AWS enables you to select the operating system, programming language, web application platform, database, and other services you need. With AWS, you receive a virtual environment that lets you load the software and services your application requires.    "
   ]
  },
  {
   "cell_type": "markdown",
   "id": "0908c346",
   "metadata": {},
   "source": [
    "Q2. Explain what EC2 is?\n",
    "\n",
    "ANS:\n",
    "    \n",
    "Amazon Elastic Compute Cloud (Amazon EC2) provides scalable computing capacity in the Amazon Web Services (AWS) Cloud. You can use Amazon EC2 to launch as many or as few virtual servers as you need, configure security and networking, and manage storage."
   ]
  },
  {
   "cell_type": "markdown",
   "id": "6009a46d",
   "metadata": {},
   "source": [
    "Q3. Explain the working of S3 and list various types of instances. \n",
    "\n",
    "ANS:\n",
    "    \n",
    "How does S3 Storage work? Within the S3 service, users create 'Buckets'. Buckets are used to store object based files and can be thought of as folders. Each object uploaded to an S3 bucket is independent in terms of its properties and associated permissions (who can and cannot access the file(s) for example)."
   ]
  },
  {
   "cell_type": "markdown",
   "id": "367aa7f4",
   "metadata": {},
   "source": [
    "Q4. Explain the importance of IAM in AWS.\n",
    "\n",
    "ANS:\n",
    "    \n",
    "IAM roles allow you to delegate access with defined permissions to trusted entities without having to share long-term access keys. You can use IAM roles to delegate access to IAM users managed within your account, to IAM users under a different AWS account, or to an AWS service such as EC2."
   ]
  }
 ],
 "metadata": {
  "kernelspec": {
   "display_name": "Python 3",
   "language": "python",
   "name": "python3"
  },
  "language_info": {
   "codemirror_mode": {
    "name": "ipython",
    "version": 3
   },
   "file_extension": ".py",
   "mimetype": "text/x-python",
   "name": "python",
   "nbconvert_exporter": "python",
   "pygments_lexer": "ipython3",
   "version": "3.8.8"
  }
 },
 "nbformat": 4,
 "nbformat_minor": 5
}
