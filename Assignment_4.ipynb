{
 "cells": [
  {
   "cell_type": "raw",
   "id": "db1e9d46",
   "metadata": {},
   "source": [
    "1. What exactly is []?\n",
    "\n",
    "ANS:\n",
    "\n",
    "[] ---> It is an empty list"
   ]
  },
  {
   "cell_type": "raw",
   "id": "9dba2ef9",
   "metadata": {},
   "source": [
    "2. In a list of values stored in a variable called spam, how would you assign the value 'hello' as the third value?\n",
    "(Assume [2, 4, 6, 8, 10] are in spam.)\n",
    "Let's pretend the spam includes the list ['a', 'b', 'c', 'd'] for the next three queries.\n",
    "\n",
    "ANS:\n",
    "\n",
    "spam = [2, 4, 6, 8, 10]\n",
    "spam.insert(2,'hello')  ---> [2, 4, 'hello', 6, 8, 10]"
   ]
  },
  {
   "cell_type": "raw",
   "id": "75981d6d",
   "metadata": {},
   "source": [
    "3. What is the value of spam[int(int('3' * 2) / 11)]?\n",
    "\n",
    "ANS:\n",
    "spam = ['a', 'b', 'c', 'd']\n",
    "spam[int(int('3' * 2) / 11)] ---> spam [3] ---> 'd'"
   ]
  },
  {
   "cell_type": "raw",
   "id": "fa2654bc",
   "metadata": {},
   "source": [
    "4. What is the value of spam[-1]?\n",
    "\n",
    "ANS:\n",
    "    \n",
    "spam = ['a', 'b', 'c', 'd']\n",
    "spam[-1] ---> 'd'"
   ]
  },
  {
   "cell_type": "raw",
   "id": "87eae689",
   "metadata": {},
   "source": [
    "5. What is the value of spam[:2]?\n",
    "Let's pretend bacon has the list [3.14, 'cat,' 11, 'cat,' True] for the next three questions.\n",
    "\n",
    "ANS:\n",
    "\n",
    "spam = ['a', 'b', 'c', 'd']\n",
    "spam[:2] ---> ['a', 'b']"
   ]
  },
  {
   "cell_type": "raw",
   "id": "4c164499",
   "metadata": {},
   "source": [
    "6. What is the value of bacon.index('cat')?\n",
    "\n",
    "ANS:\n",
    "\n",
    "bacon = [3.14, 'cat', 11, 'cat', True]\n",
    "bacon.index('cat') ---> 1"
   ]
  },
  {
   "cell_type": "raw",
   "id": "124c5607",
   "metadata": {},
   "source": [
    "7. How does bacon.append(99) change the look of the list value in bacon?\n",
    "\n",
    "ANS:\n",
    "\n",
    "bacon = [3.14, 'cat', 11, 'cat', True]\n",
    "bacon.append(99) ---> 3.14, 'cat', 11, 'cat', True, 99]"
   ]
  },
  {
   "cell_type": "raw",
   "id": "205df3ad",
   "metadata": {},
   "source": [
    "8. How does bacon.remove('cat') change the look of the list in bacon?\n",
    "\n",
    "ANS:\n",
    "\n",
    "bacon = [3.14, 'cat', 11, 'cat', True]\n",
    "bacon.remove('cat') ---> [3.14, 11, 'cat', True]"
   ]
  },
  {
   "cell_type": "raw",
   "id": "48ac69bd",
   "metadata": {},
   "source": [
    "9. What are the list concatenation and list replication operators?\n",
    "\n",
    "ANS:\n",
    "\n",
    "list concatenation ---> adds elements from one list to the another\n",
    "                        eg. [1,2]+[3,4] ---> [1,2,3,4]\n",
    "                        \n",
    "list replication   ---> replicates the elements in list by x times.\n",
    "                        eg. [1,2]*3 ---> [1,2,1,2,1,2]"
   ]
  },
  {
   "cell_type": "raw",
   "id": "02e44f5e",
   "metadata": {},
   "source": [
    "10. What is difference between the list methods append() and insert()?\n",
    "\n",
    "ANS:\n",
    "\n",
    "append() ---> adds the element at the end of the list.\n",
    "              eg. [1,2].append(3) ---> [1,2,3]\n",
    "insert() ---> takes 2 parameters and insert an element at a particular index in the list.\n",
    "              eg. [1,2,3].insert(2,4) ---> [1,2,4,3]"
   ]
  },
  {
   "cell_type": "raw",
   "id": "92ae5643",
   "metadata": {},
   "source": [
    "11. What are the two methods for removing items from a list?\n",
    "\n",
    "ANS:\n",
    "\n",
    "pop() ---> by default, it returns last element but can give index at which we want to return the element.\n",
    "           eg. [1,2,3].pop() ---> 3 ---> [1,2]\n",
    "               [1,2,3].pop(1) ---> 2 ---> [1,3]\n",
    "remove() ---> takes the element as an input and removes the fist occurence of the element.\n",
    "              eg. [1,2,3,2].remove(2) ---> [1,3,2]"
   ]
  },
  {
   "cell_type": "raw",
   "id": "56a2c777",
   "metadata": {},
   "source": [
    "12. Describe how list values and string values are identical.\n",
    "\n",
    "ANS:\n",
    "\n",
    "List and String values are iterable ie. we can get the elements in list and string with the help of indices of that elements."
   ]
  },
  {
   "cell_type": "raw",
   "id": "03d89109",
   "metadata": {},
   "source": [
    "13. What's the difference between tuples and lists?\n",
    "\n",
    "ANS:\n",
    "\n",
    "Tuples are immutable whereas Lists are mutable ie. we cannot change the values of tuple but we can change the values of list."
   ]
  },
  {
   "cell_type": "raw",
   "id": "b7661ddf",
   "metadata": {},
   "source": [
    "14. How do you type a tuple value that only contains the integer 42?\n",
    "\n",
    "ANS:\n",
    "\n",
    "(42,)"
   ]
  },
  {
   "cell_type": "raw",
   "id": "2b63d44f",
   "metadata": {},
   "source": [
    "15. How do you get a list value's tuple form? How do you get a tuple value's list form?\n",
    "\n",
    "ANS:\n",
    "\n",
    "lst=[1,2,3]\n",
    "tup=(5,6,7)\n",
    "\n",
    "list(tup)  --->[5,6,7]\n",
    "tuple(lst) --->(1,2,3)"
   ]
  },
  {
   "cell_type": "raw",
   "id": "95ba6085",
   "metadata": {},
   "source": [
    "16. Variables that \"contain\" list values are not necessarily lists themselves. Instead, what do they contain?\n",
    "\n",
    "ANS:\n",
    "\n",
    "Variables will contain references to list values rather than list values themselves. But for strings and integer values, variables simply contain the string or integer value."
   ]
  },
  {
   "cell_type": "raw",
   "id": "160cac1c",
   "metadata": {},
   "source": [
    "17. How do you distinguish between copy.copy() and copy.deepcopy()?\n",
    "\n",
    "ANS:\n",
    "\n",
    "In the above program, we made changes to old_list i.e old_list[1][1] = 'AA'. Both sublists of old_list and new_list at index [1][1] were modified. This is because, both lists share the reference of same nested objects.\n",
    "\n",
    "import copy\n",
    "\n",
    "old_list = [[1, 1, 1], [2, 2, 2], [3, 3, 3]]\n",
    "new_list = copy.copy(old_list)\n",
    "\n",
    "old_list[1][1] = 'AA'\n",
    "\n",
    "print(\"Old list:\", old_list)  ---> [[1, 1, 1], [2, 'AA', 2], [3, 3, 3]]\n",
    "print(\"New list:\", new_list)  ---> [[1, 1, 1], [2, 'AA', 2], [3, 3, 3]]\n",
    "\n",
    "However, if you make changes to any nested objects in original object old_list, you’ll see no changes to the copy new_list.\n",
    "\n",
    "import copy\n",
    "\n",
    "old_list = [[1, 1, 1], [2, 2, 2], [3, 3, 3]]\n",
    "new_list = copy.deepcopy(old_list)\n",
    "\n",
    "old_list[1][0] = 'BB'\n",
    "\n",
    "print(\"Old list:\", old_list) ---> [[1, 1, 1], ['BB', 2, 2], [3, 3, 3]]\n",
    "print(\"New list:\", new_list) ---> [[1, 1, 1], [2, 2, 2], [3, 3, 3]]"
   ]
  }
 ],
 "metadata": {
  "kernelspec": {
   "display_name": "Python 3",
   "language": "python",
   "name": "python3"
  },
  "language_info": {
   "codemirror_mode": {
    "name": "ipython",
    "version": 3
   },
   "file_extension": ".py",
   "mimetype": "text/x-python",
   "name": "python",
   "nbconvert_exporter": "python",
   "pygments_lexer": "ipython3",
   "version": "3.8.8"
  }
 },
 "nbformat": 4,
 "nbformat_minor": 5
}
