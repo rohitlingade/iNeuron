{
 "cells": [
  {
   "cell_type": "markdown",
   "id": "c90f06d4",
   "metadata": {},
   "source": [
    "Q1. Is the Python Standard Library included with PyInputPlus?\n",
    "\n",
    "ANS:\n",
    "\n",
    "No. We have to install it with pip install PyInputPlus."
   ]
  },
  {
   "cell_type": "markdown",
   "id": "0f234e1e",
   "metadata": {},
   "source": [
    "Q2. Why is PyInputPlus commonly imported with import pyinputplus as pypi?\n",
    "\n",
    "ANS:\n",
    "\n",
    "pyinputplus is a Python module used for taking inputs with additional validation features. PyInputPlus will keep asking the user for text until they enter valid input."
   ]
  },
  {
   "cell_type": "markdown",
   "id": "377feb9b",
   "metadata": {},
   "source": [
    "Q3. How do you distinguish between inputInt() and inputFloat()?\n",
    "\n",
    "ANS:\n",
    "\n",
    "inputInt() : Accepts an integer value. This also takes additional parameters min, max, greaterThan and lessThan  for bounds. Returns an int.\n",
    "\n",
    "inputFloat() : Accepts a floating-point numeric value. Also takes additional min, max, greaterThan and lessThan  parameters. Returns a float."
   ]
  },
  {
   "cell_type": "markdown",
   "id": "332f074c",
   "metadata": {},
   "source": [
    "Q4. Using PyInputPlus, how do you ensure that the user enters a whole number between 0 and 99?\n",
    "\n",
    "ANS:\n",
    "\n",
    "We can use inputInt(), to ensure that the number is whole number and can use another condition to make sure that the number is between 0 to 99.\n",
    "\n",
    "inp = pyip.inputInt(prompt = \"Enter an Integer... \",min = 0, lessThan = 100 )"
   ]
  },
  {
   "cell_type": "markdown",
   "id": "199d3821",
   "metadata": {},
   "source": [
    "Q5. What is transferred to the keyword arguments allowRegexes and blockRegexes?\n",
    "\n",
    "ANS:\n",
    "\n",
    "allowRegexes() :only inputs that match the regex in allowRegexes will pass validation\n",
    "blockRegexes() :it allows all the values except that are in the blockRegexes"
   ]
  },
  {
   "cell_type": "markdown",
   "id": "2359e31b",
   "metadata": {},
   "source": [
    "Q6. If a blank input is entered three times, what does inputStr(limit=3) do?\n",
    "\n",
    "ANS:\n",
    "\n",
    "It throws ValidationException. As the limit to enter the wrong input is three times."
   ]
  },
  {
   "cell_type": "markdown",
   "id": "9f6c9dc8",
   "metadata": {},
   "source": [
    "Q7. If blank input is entered three times, what does inputStr(limit=3, default='hello') do?\n",
    "\n",
    "ANS:\n",
    "\n",
    "It will not throw the ValidationException. Instead it prints the default value which is 'hello'."
   ]
  }
 ],
 "metadata": {
  "kernelspec": {
   "display_name": "Python 3",
   "language": "python",
   "name": "python3"
  },
  "language_info": {
   "codemirror_mode": {
    "name": "ipython",
    "version": 3
   },
   "file_extension": ".py",
   "mimetype": "text/x-python",
   "name": "python",
   "nbconvert_exporter": "python",
   "pygments_lexer": "ipython3",
   "version": "3.8.8"
  }
 },
 "nbformat": 4,
 "nbformat_minor": 5
}
